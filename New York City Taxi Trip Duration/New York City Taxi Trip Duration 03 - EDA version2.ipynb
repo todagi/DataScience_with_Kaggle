{
 "cells": [
  {
   "cell_type": "markdown",
   "metadata": {},
   "source": [
    "# New York City Taxi Trip Duration 03 - EDA version2"
   ]
  },
  {
   "cell_type": "markdown",
   "metadata": {},
   "source": [
    "###   \n",
    "### 목표 : 예측 모델의 성능을 높이기 위해 EDA를 추가로 수행한다.\n",
    "###   \n",
    "###   "
   ]
  },
  {
   "cell_type": "markdown",
   "metadata": {},
   "source": [
    "### ● 위도와 경도를 이용해 이동거리를 계산한다.\n",
    "### ● 새로운 날씨데이터를 가져와 추가한다.\n",
    "###   \n",
    "###   "
   ]
  },
  {
   "cell_type": "markdown",
   "metadata": {},
   "source": [
    "## 1. 기존 데이터 전처리"
   ]
  },
  {
   "cell_type": "code",
   "execution_count": 1,
   "metadata": {},
   "outputs": [
    {
     "name": "stdout",
     "output_type": "stream",
     "text": [
      "완료!\n"
     ]
    }
   ],
   "source": [
    "import pandas as pd\n",
    "import numpy as np\n",
    "\n",
    "train = pd.read_csv(\"train.csv\", parse_dates = ['pickup_datetime', 'dropoff_datetime'])\n",
    "test = pd.read_csv(\"test.csv\", parse_dates = ['pickup_datetime'])\n",
    "submission = pd.read_csv(\"sample_submission.csv\")\n",
    "\n",
    "train['pickup_year'] = train['pickup_datetime'].dt.year  \n",
    "train['pickup_month'] = train['pickup_datetime'].dt.month\n",
    "train['pickup_day'] = train['pickup_datetime'].dt.day\n",
    "train['pickup_hour'] = train['pickup_datetime'].dt.hour\n",
    "train['pickup_minute'] = train['pickup_datetime'].dt.minute\n",
    "train['pickup_second'] = train['pickup_datetime'].dt.second\n",
    "train[\"pickup_dayofweek\"] = train[\"pickup_datetime\"].dt.dayofweek \n",
    "\n",
    "test['pickup_year'] = test['pickup_datetime'].dt.year  \n",
    "test['pickup_month'] = test['pickup_datetime'].dt.month\n",
    "test['pickup_day'] = test['pickup_datetime'].dt.day\n",
    "test['pickup_hour'] = test['pickup_datetime'].dt.hour\n",
    "test['pickup_minute'] = test['pickup_datetime'].dt.minute\n",
    "test['pickup_second'] = test['pickup_datetime'].dt.second\n",
    "test[\"pickup_dayofweek\"] = test[\"pickup_datetime\"].dt.dayofweek \n",
    "\n",
    "\n",
    "train['store_and_fwd_flag_Y'] = train['store_and_fwd_flag'] == 'Y'\n",
    "train['store_and_fwd_flag_N'] = train['store_and_fwd_flag'] == 'N'\n",
    "\n",
    "test['store_and_fwd_flag_Y'] = test['store_and_fwd_flag'] == 'Y'\n",
    "test['store_and_fwd_flag_N'] = test['store_and_fwd_flag'] == 'N'\n",
    "\n",
    "\n",
    "train['vendor_1'] = train['vendor_id'] == 1\n",
    "train['vendor_2'] = train['vendor_id'] == 2\n",
    "\n",
    "test['vendor_1'] = test['vendor_id'] == 1\n",
    "test['vendor_2'] = test['vendor_id'] == 2\n",
    "\n",
    "\n",
    "train['passenger_0'] = train['passenger_count'] == 0\n",
    "train['passenger_1'] = train['passenger_count'] == 1\n",
    "train['passenger_2'] = train['passenger_count'] == 2\n",
    "train['passenger_3'] = train['passenger_count'] == 3\n",
    "train['passenger_4'] = train['passenger_count'] == 4\n",
    "train['passenger_5'] = train['passenger_count'] == 5\n",
    "train['passenger_6'] = train['passenger_count'] == 6\n",
    "train['passenger_7'] = train['passenger_count'] == 7\n",
    "train['passenger_8'] = train['passenger_count'] == 8\n",
    "train['passenger_9'] = train['passenger_count'] == 9\n",
    "\n",
    "test['passenger_0'] = test['passenger_count'] == 0\n",
    "test['passenger_1'] = test['passenger_count'] == 1\n",
    "test['passenger_2'] = test['passenger_count'] == 2\n",
    "test['passenger_3'] = test['passenger_count'] == 3\n",
    "test['passenger_4'] = test['passenger_count'] == 4\n",
    "test['passenger_5'] = test['passenger_count'] == 5\n",
    "test['passenger_6'] = test['passenger_count'] == 6\n",
    "test['passenger_7'] = test['passenger_count'] == 7\n",
    "test['passenger_8'] = test['passenger_count'] == 8\n",
    "test['passenger_9'] = test['passenger_count'] == 9\n",
    "\n",
    "print(\"완료!\")"
   ]
  },
  {
   "cell_type": "markdown",
   "metadata": {},
   "source": [
    "####     \n",
    "####     "
   ]
  },
  {
   "cell_type": "markdown",
   "metadata": {},
   "source": [
    "## 2. 이동거리 구하기"
   ]
  },
  {
   "cell_type": "markdown",
   "metadata": {},
   "source": [
    "### 1) 하버사인 공식(Haversine formula)"
   ]
  },
  {
   "cell_type": "markdown",
   "metadata": {},
   "source": [
    "#### 구에서 두 점 사이의 거리 구하는 공식. 위도와 경도 좌표를 가지고 구인 지구에서의 좌표사이의 거리를 구한다.\n",
    "#### 참고 : https://gist.github.com/rochacbruno/2883505"
   ]
  },
  {
   "cell_type": "code",
   "execution_count": 3,
   "metadata": {},
   "outputs": [
    {
     "name": "stdout",
     "output_type": "stream",
     "text": [
      "Running Time : 189.10초\n"
     ]
    },
    {
     "data": {
      "text/plain": [
       "0    1.497580\n",
       "1    1.804374\n",
       "2    6.381090\n",
       "3    1.484566\n",
       "4    1.187842\n",
       "Name: haversine_distance, dtype: float64"
      ]
     },
     "execution_count": 3,
     "metadata": {},
     "output_type": "execute_result"
    }
   ],
   "source": [
    "import time\n",
    "start = time.time()\n",
    "\n",
    "from math import sin, cos, sqrt, atan2, radians \n",
    "import numpy as np\n",
    "def haversine(train):\n",
    "    lon1 = train['pickup_longitude']\n",
    "    lat1 = train['pickup_latitude']\n",
    "    lon2 = train['dropoff_longitude']\n",
    "    lat2 = train['dropoff_latitude']\n",
    "    lon1, lat1, lon2, lat2 = map(radians, [lon1, lat1, lon2, lat2])\n",
    "    dlon = lon2 - lon1 \n",
    "    dlat = lat2 - lat1 \n",
    "    a = sin(dlat/2)**2 + cos(lat1) * cos(lat2) * sin(dlon/2)**2\n",
    "    c = 2 * np.arcsin(sqrt(a)) \n",
    "    haversine_km = 6367 * c\n",
    "    return haversine_km\n",
    "\n",
    "train['haversine_distance'] = train.apply(lambda train: haversine(train), axis=1)\n",
    "\n",
    "print('Running Time : %.02f초' % (time.time() - start))\n",
    "train['haversine_distance'].head()"
   ]
  },
  {
   "cell_type": "code",
   "execution_count": 4,
   "metadata": {},
   "outputs": [
    {
     "name": "stdout",
     "output_type": "stream",
     "text": [
      "Running Time : 78.99초\n"
     ]
    },
    {
     "data": {
      "text/plain": [
       "0    2.744701\n",
       "1    2.757507\n",
       "2    1.305335\n",
       "3    5.265780\n",
       "4    0.960239\n",
       "Name: haversine_distance, dtype: float64"
      ]
     },
     "execution_count": 4,
     "metadata": {},
     "output_type": "execute_result"
    }
   ],
   "source": [
    "import time\n",
    "start = time.time()\n",
    "\n",
    "import numpy as np\n",
    "def haversine(test):\n",
    "    lon1 = test['pickup_longitude']\n",
    "    lat1 = test['pickup_latitude']\n",
    "    lon2 = test['dropoff_longitude']\n",
    "    lat2 = test['dropoff_latitude']\n",
    "    lon1, lat1, lon2, lat2 = map(radians, [lon1, lat1, lon2, lat2])\n",
    "    dlon = lon2 - lon1 \n",
    "    dlat = lat2 - lat1 \n",
    "    a = sin(dlat/2)**2 + cos(lat1) * cos(lat2) * sin(dlon/2)**2\n",
    "    c = 2 * np.arcsin(sqrt(a)) \n",
    "    haversine_km = 6367 * c\n",
    "    return haversine_km\n",
    "\n",
    "test['haversine_distance'] = test.apply(lambda test: haversine(test), axis=1)\n",
    "\n",
    "\n",
    "print('Running Time : %.02f초' % (time.time() - start))\n",
    "test['haversine_distance'].head()"
   ]
  },
  {
   "cell_type": "markdown",
   "metadata": {},
   "source": [
    "### 2) 맨하탄 거리(Manhattan Distance)"
   ]
  },
  {
   "cell_type": "markdown",
   "metadata": {},
   "source": [
    "#### 택시거리 혹은 시가지 거리라고도 한다. 도로 사정 상 두 좌표 사이를 바로 잇는 선이 아닌 도로를 따라 이동하는 최단거리를 측정한다.\n",
    "#### d = |x1 - x2| + |y1 - y2|\n",
    "#### 경도 1도는 88.8km, 1분 1.48km  위도 1도 111km "
   ]
  },
  {
   "cell_type": "code",
   "execution_count": 6,
   "metadata": {},
   "outputs": [
    {
     "name": "stdout",
     "output_type": "stream",
     "text": [
      "Running Time : 174.18초\n"
     ]
    },
    {
     "data": {
      "text/plain": [
       "0    2.144611\n",
       "1    2.749269\n",
       "2    7.518789\n",
       "3    1.378987\n",
       "4    0.927187\n",
       "Name: manhattan_distance, dtype: float64"
      ]
     },
     "execution_count": 6,
     "metadata": {},
     "output_type": "execute_result"
    }
   ],
   "source": [
    "import time\n",
    "start = time.time()\n",
    "\n",
    "def manhattan_distance(train):\n",
    "    lon1 = train['pickup_longitude']\n",
    "    lat1 = train['pickup_latitude']\n",
    "    lon2 = train['dropoff_longitude']\n",
    "    lat2 = train['dropoff_latitude']\n",
    "    manhattan_km = (abs(lon1 - lon2)*111) + (abs(lat1 - lat2)*85.397)\n",
    "    return manhattan_km\n",
    "\n",
    "train['manhattan_distance'] = train.apply(lambda train: manhattan_distance(train), axis=1)\n",
    "\n",
    "print('Running Time : %.02f초' % (time.time() - start))\n",
    "train['manhattan_distance'].head()"
   ]
  },
  {
   "cell_type": "code",
   "execution_count": 7,
   "metadata": {},
   "outputs": [
    {
     "name": "stdout",
     "output_type": "stream",
     "text": [
      "Running Time : 73.13초\n"
     ]
    },
    {
     "data": {
      "text/plain": [
       "0    2.332044\n",
       "1    2.587666\n",
       "2    1.940002\n",
       "3    6.907787\n",
       "4    1.443189\n",
       "Name: manhattan_distance, dtype: float64"
      ]
     },
     "execution_count": 7,
     "metadata": {},
     "output_type": "execute_result"
    }
   ],
   "source": [
    "import time\n",
    "start = time.time()\n",
    "\n",
    "def manhattan_distance(test):\n",
    "    lon1 = test['pickup_longitude']\n",
    "    lat1 = test['pickup_latitude']\n",
    "    lon2 = test['dropoff_longitude']\n",
    "    lat2 = test['dropoff_latitude']\n",
    "    km = (abs(lon1 - lon2)*111) + (abs(lat1 - lat2)*85.397)\n",
    "    return km\n",
    "\n",
    "test['manhattan_distance'] = test.apply(lambda test: manhattan_distance(test), axis=1)\n",
    "\n",
    "print('Running Time : %.02f초' % (time.time() - start))\n",
    "test['manhattan_distance'].head()"
   ]
  },
  {
   "cell_type": "markdown",
   "metadata": {
    "collapsed": true
   },
   "source": [
    "####   \n",
    "####   "
   ]
  },
  {
   "cell_type": "markdown",
   "metadata": {},
   "source": [
    "## 3. 날씨 데이터 추가하기"
   ]
  },
  {
   "cell_type": "code",
   "execution_count": null,
   "metadata": {
    "collapsed": true
   },
   "outputs": [],
   "source": []
  }
 ],
 "metadata": {
  "kernelspec": {
   "display_name": "Python 3",
   "language": "python",
   "name": "python3"
  },
  "language_info": {
   "codemirror_mode": {
    "name": "ipython",
    "version": 3
   },
   "file_extension": ".py",
   "mimetype": "text/x-python",
   "name": "python",
   "nbconvert_exporter": "python",
   "pygments_lexer": "ipython3",
   "version": "3.6.1"
  }
 },
 "nbformat": 4,
 "nbformat_minor": 2
}
