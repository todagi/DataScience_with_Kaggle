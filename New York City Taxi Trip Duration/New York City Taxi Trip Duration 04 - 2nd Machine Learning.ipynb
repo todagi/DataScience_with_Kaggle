{
 "cells": [
  {
   "cell_type": "markdown",
   "metadata": {},
   "source": [
    "# New York City Taxi Trip Duration 04 - Machine Learning with new variables"
   ]
  },
  {
   "cell_type": "markdown",
   "metadata": {},
   "source": [
    "###   \n",
    "### 목표 : 추가로 수행한 EDA를 통해서 나온 새로운 변수들을 추가해 예측모델의 성능을 높인다.\n",
    "###   \n",
    "###   "
   ]
  },
  {
   "cell_type": "markdown",
   "metadata": {},
   "source": [
    "### ● 이동거리와 날씨데이터를 조합해 모델링한다.\n",
    "###   \n",
    "###   "
   ]
  },
  {
   "cell_type": "markdown",
   "metadata": {},
   "source": [
    "## 1.  데이터 전처리"
   ]
  },
  {
   "cell_type": "code",
   "execution_count": 1,
   "metadata": {},
   "outputs": [
    {
     "name": "stdout",
     "output_type": "stream",
     "text": [
      "완료!\n",
      "Running Time : 516.45초\n"
     ]
    }
   ],
   "source": [
    "import pandas as pd\n",
    "import numpy as np\n",
    "from math import sin, cos, sqrt, atan2, radians \n",
    "import time\n",
    "start = time.time()\n",
    "\n",
    "train = pd.read_csv(\"train.csv\", parse_dates = ['pickup_datetime', 'dropoff_datetime'])\n",
    "test = pd.read_csv(\"test.csv\", parse_dates = ['pickup_datetime'])\n",
    "weather = pd.read_csv(\"weather.csv\", parse_dates = ['datetime'])  # 데이터 전처리한 파일\n",
    "submission = pd.read_csv(\"sample_submission.csv\")\n",
    "\n",
    "# 날짜데이터 분할\n",
    "\n",
    "train['pickup_year'] = train['pickup_datetime'].dt.year  \n",
    "train['pickup_month'] = train['pickup_datetime'].dt.month\n",
    "train['pickup_day'] = train['pickup_datetime'].dt.day\n",
    "train['pickup_hour'] = train['pickup_datetime'].dt.hour\n",
    "train['pickup_minute'] = train['pickup_datetime'].dt.minute\n",
    "train['pickup_second'] = train['pickup_datetime'].dt.second\n",
    "train[\"pickup_dayofweek\"] = train[\"pickup_datetime\"].dt.dayofweek \n",
    "\n",
    "test['pickup_year'] = test['pickup_datetime'].dt.year  \n",
    "test['pickup_month'] = test['pickup_datetime'].dt.month\n",
    "test['pickup_day'] = test['pickup_datetime'].dt.day\n",
    "test['pickup_hour'] = test['pickup_datetime'].dt.hour\n",
    "test['pickup_minute'] = test['pickup_datetime'].dt.minute\n",
    "test['pickup_second'] = test['pickup_datetime'].dt.second\n",
    "test[\"pickup_dayofweek\"] = test[\"pickup_datetime\"].dt.dayofweek \n",
    "\n",
    "# 원핫인코딩\n",
    "\n",
    "train['store_and_fwd_flag_Y'] = train['store_and_fwd_flag'] == 'Y'\n",
    "train['store_and_fwd_flag_N'] = train['store_and_fwd_flag'] == 'N'\n",
    "\n",
    "test['store_and_fwd_flag_Y'] = test['store_and_fwd_flag'] == 'Y'\n",
    "test['store_and_fwd_flag_N'] = test['store_and_fwd_flag'] == 'N'\n",
    "\n",
    "\n",
    "train['vendor_1'] = train['vendor_id'] == 1\n",
    "train['vendor_2'] = train['vendor_id'] == 2\n",
    "\n",
    "test['vendor_1'] = test['vendor_id'] == 1\n",
    "test['vendor_2'] = test['vendor_id'] == 2\n",
    "\n",
    "\n",
    "train['passenger_0'] = train['passenger_count'] == 0\n",
    "train['passenger_1'] = train['passenger_count'] == 1\n",
    "train['passenger_2'] = train['passenger_count'] == 2\n",
    "train['passenger_3'] = train['passenger_count'] == 3\n",
    "train['passenger_4'] = train['passenger_count'] == 4\n",
    "train['passenger_5'] = train['passenger_count'] == 5\n",
    "train['passenger_6'] = train['passenger_count'] == 6\n",
    "train['passenger_7'] = train['passenger_count'] == 7\n",
    "train['passenger_8'] = train['passenger_count'] == 8\n",
    "train['passenger_9'] = train['passenger_count'] == 9\n",
    "\n",
    "test['passenger_0'] = test['passenger_count'] == 0\n",
    "test['passenger_1'] = test['passenger_count'] == 1\n",
    "test['passenger_2'] = test['passenger_count'] == 2\n",
    "test['passenger_3'] = test['passenger_count'] == 3\n",
    "test['passenger_4'] = test['passenger_count'] == 4\n",
    "test['passenger_5'] = test['passenger_count'] == 5\n",
    "test['passenger_6'] = test['passenger_count'] == 6\n",
    "test['passenger_7'] = test['passenger_count'] == 7\n",
    "test['passenger_8'] = test['passenger_count'] == 8\n",
    "test['passenger_9'] = test['passenger_count'] == 9\n",
    "\n",
    "# 이동거리 추가(하버사인 + 맨하탄)\n",
    "\n",
    "def haversine(train):\n",
    "    lon1 = train['pickup_longitude']\n",
    "    lat1 = train['pickup_latitude']\n",
    "    lon2 = train['dropoff_longitude']\n",
    "    lat2 = train['dropoff_latitude']\n",
    "    lon1, lat1, lon2, lat2 = map(radians, [lon1, lat1, lon2, lat2])\n",
    "    dlon = lon2 - lon1 \n",
    "    dlat = lat2 - lat1 \n",
    "    a = sin(dlat/2)**2 + cos(lat1) * cos(lat2) * sin(dlon/2)**2\n",
    "    c = 2 * np.arcsin(sqrt(a)) \n",
    "    haversine_km = 6367 * c\n",
    "    return haversine_km\n",
    "\n",
    "def haversine(test):\n",
    "    lon1 = test['pickup_longitude']\n",
    "    lat1 = test['pickup_latitude']\n",
    "    lon2 = test['dropoff_longitude']\n",
    "    lat2 = test['dropoff_latitude']\n",
    "    lon1, lat1, lon2, lat2 = map(radians, [lon1, lat1, lon2, lat2])\n",
    "    dlon = lon2 - lon1 \n",
    "    dlat = lat2 - lat1 \n",
    "    a = sin(dlat/2)**2 + cos(lat1) * cos(lat2) * sin(dlon/2)**2\n",
    "    c = 2 * np.arcsin(sqrt(a)) \n",
    "    haversine_km = 6367 * c\n",
    "    return haversine_km\n",
    "\n",
    "def manhattan_distance(train):\n",
    "    lon1 = train['pickup_longitude']\n",
    "    lat1 = train['pickup_latitude']\n",
    "    lon2 = train['dropoff_longitude']\n",
    "    lat2 = train['dropoff_latitude']\n",
    "    manhattan_km = (abs(lon1 - lon2)*111) + (abs(lat1 - lat2)*85.397)\n",
    "    return manhattan_km\n",
    "\n",
    "def manhattan_distance(test):\n",
    "    lon1 = test['pickup_longitude']\n",
    "    lat1 = test['pickup_latitude']\n",
    "    lon2 = test['dropoff_longitude']\n",
    "    lat2 = test['dropoff_latitude']\n",
    "    km = (abs(lon1 - lon2)*111) + (abs(lat1 - lat2)*85.397)\n",
    "    return km\n",
    "\n",
    "train['haversine_distance'] = train.apply(lambda train: haversine(train), axis=1)\n",
    "test['haversine_distance'] = test.apply(lambda test: haversine(test), axis=1)\n",
    "train['manhattan_distance'] = train.apply(lambda train: manhattan_distance(train), axis=1)\n",
    "test['manhattan_distance'] = test.apply(lambda test: manhattan_distance(test), axis=1)\n",
    "\n",
    "\n",
    "# 날씨데이터 추가\n",
    "\n",
    "weather['year'] = weather['datetime'].dt.year  \n",
    "weather['month'] = weather['datetime'].dt.month\n",
    "weather['day'] = weather['datetime'].dt.day\n",
    "\n",
    "weather = weather.rename(columns = {'year' : 'pickup_year', 'month' : 'pickup_month', 'day' : 'pickup_day'})\n",
    "\n",
    "train = pd.merge(train, weather)\n",
    "test = pd.merge(test, weather)\n",
    "\n",
    "\n",
    "\n",
    "\n",
    "print(\"완료!\")\n",
    "print('Running Time : %.02f초' % (time.time() - start))\n",
    "\n"
   ]
  },
  {
   "cell_type": "markdown",
   "metadata": {},
   "source": [
    "####  \n",
    "####  "
   ]
  },
  {
   "cell_type": "markdown",
   "metadata": {},
   "source": [
    "## 2. 변수 선택 및 데이터 조정"
   ]
  },
  {
   "cell_type": "markdown",
   "metadata": {},
   "source": [
    "### 1) 변수 선택"
   ]
  },
  {
   "cell_type": "code",
   "execution_count": 2,
   "metadata": {},
   "outputs": [
    {
     "name": "stdout",
     "output_type": "stream",
     "text": [
      "(1458644, 57)\n"
     ]
    },
    {
     "data": {
      "text/plain": [
       "Index(['id', 'vendor_id', 'pickup_datetime', 'dropoff_datetime',\n",
       "       'passenger_count', 'pickup_longitude', 'pickup_latitude',\n",
       "       'dropoff_longitude', 'dropoff_latitude', 'store_and_fwd_flag',\n",
       "       'trip_duration', 'pickup_year', 'pickup_month', 'pickup_day',\n",
       "       'pickup_hour', 'pickup_minute', 'pickup_second', 'pickup_dayofweek',\n",
       "       'store_and_fwd_flag_Y', 'store_and_fwd_flag_N', 'vendor_1', 'vendor_2',\n",
       "       'passenger_0', 'passenger_1', 'passenger_2', 'passenger_3',\n",
       "       'passenger_4', 'passenger_5', 'passenger_6', 'passenger_7',\n",
       "       'passenger_8', 'passenger_9', 'haversine_distance',\n",
       "       'manhattan_distance', 'datetime', 'T_high', 'T_avg', 'T_low', 'D_high',\n",
       "       'D_avg', 'D_low', 'H_high', 'H_avg', 'H_low', 'S_high', 'S_avg',\n",
       "       'S_low', 'V_high', 'V_avg', 'V_low', 'W_high', 'W_avg', 'W_high.1',\n",
       "       'Precip. (mm)', 'rain', 'snow', 'fog'],\n",
       "      dtype='object')"
      ]
     },
     "execution_count": 2,
     "metadata": {},
     "output_type": "execute_result"
    }
   ],
   "source": [
    "print(train.shape)\n",
    "train.columns"
   ]
  },
  {
   "cell_type": "code",
   "execution_count": 3,
   "metadata": {},
   "outputs": [
    {
     "name": "stdout",
     "output_type": "stream",
     "text": [
      "(625134, 55)\n"
     ]
    },
    {
     "data": {
      "text/plain": [
       "Index(['id', 'vendor_id', 'pickup_datetime', 'passenger_count',\n",
       "       'pickup_longitude', 'pickup_latitude', 'dropoff_longitude',\n",
       "       'dropoff_latitude', 'store_and_fwd_flag', 'pickup_year', 'pickup_month',\n",
       "       'pickup_day', 'pickup_hour', 'pickup_minute', 'pickup_second',\n",
       "       'pickup_dayofweek', 'store_and_fwd_flag_Y', 'store_and_fwd_flag_N',\n",
       "       'vendor_1', 'vendor_2', 'passenger_0', 'passenger_1', 'passenger_2',\n",
       "       'passenger_3', 'passenger_4', 'passenger_5', 'passenger_6',\n",
       "       'passenger_7', 'passenger_8', 'passenger_9', 'haversine_distance',\n",
       "       'manhattan_distance', 'datetime', 'T_high', 'T_avg', 'T_low', 'D_high',\n",
       "       'D_avg', 'D_low', 'H_high', 'H_avg', 'H_low', 'S_high', 'S_avg',\n",
       "       'S_low', 'V_high', 'V_avg', 'V_low', 'W_high', 'W_avg', 'W_high.1',\n",
       "       'Precip. (mm)', 'rain', 'snow', 'fog'],\n",
       "      dtype='object')"
      ]
     },
     "execution_count": 3,
     "metadata": {},
     "output_type": "execute_result"
    }
   ],
   "source": [
    "print(test.shape)\n",
    "test.columns"
   ]
  },
  {
   "cell_type": "markdown",
   "metadata": {},
   "source": [
    "#### 전체 변수"
   ]
  },
  {
   "cell_type": "code",
   "execution_count": 4,
   "metadata": {
    "collapsed": true
   },
   "outputs": [],
   "source": [
    "feature_names = [  'pickup_longitude', 'pickup_latitude',\n",
    "                 \n",
    "                   'pickup_year', 'pickup_month', 'pickup_day',\n",
    "                   'pickup_hour', 'pickup_minute', 'pickup_second', 'pickup_dayofweek',\n",
    "                 \n",
    "                   'store_and_fwd_flag_Y', 'store_and_fwd_flag_N', \n",
    "                   \n",
    "                   'vendor_id', 'vendor_1', 'vendor_2',\n",
    "                  \n",
    "                   'passenger_count', 'passenger_0', 'passenger_1', 'passenger_2', \n",
    "                   'passenger_3', 'passenger_4', 'passenger_5', 'passenger_6', \n",
    "                   'passenger_7', 'passenger_8', 'passenger_9', \n",
    "                 \n",
    "                   'haversine_distance', 'manhattan_distance', \n",
    "                 \n",
    "                   'T_high', 'T_avg', 'T_low', 'D_high', 'D_avg', 'D_low', \n",
    "                   'H_high', 'H_avg', 'H_low', 'S_high', 'S_avg', 'S_low', \n",
    "                   'V_high', 'V_avg', 'V_low', 'W_high', 'W_avg', 'W_high.1',\n",
    "                   'Precip. (mm)', 'rain', 'snow', 'fog']"
   ]
  },
  {
   "cell_type": "code",
   "execution_count": 5,
   "metadata": {
    "collapsed": true
   },
   "outputs": [],
   "source": [
    "basic_features = ['pickup_longitude', 'pickup_latitude',\n",
    "                  'pickup_year', 'pickup_month', 'pickup_day',\n",
    "                  'pickup_hour', 'pickup_minute', 'pickup_second', 'pickup_dayofweek',\n",
    "                  'store_and_fwd_flag_Y', 'store_and_fwd_flag_N', \n",
    "                  'vendor_id', 'vendor_1', 'vendor_2',\n",
    "                  'passenger_count', 'passenger_0', 'passenger_1', 'passenger_2', \n",
    "                  'passenger_3', 'passenger_4', 'passenger_5', 'passenger_6', \n",
    "                  'passenger_7', 'passenger_8', 'passenger_9', \n",
    "                  'haversine_distance', 'manhattan_distance', \n",
    "                  'T_high', 'T_avg', 'T_low', 'D_high', 'D_avg', 'D_low', \n",
    "                  'H_high', 'H_avg', 'H_low', 'S_high', 'S_avg', 'S_low', \n",
    "                  'V_high', 'V_avg', 'V_low', 'W_high', 'W_avg', 'W_high.1',\n",
    "                  'Precip. (mm)', 'rain', 'snow', 'fog']\n",
    "\n",
    "features_1  : 날씨데이터 제외\n",
    "features_1 = [ 'pickup_longitude', 'pickup_latitude',\n",
    "               'pickup_year', 'pickup_month', 'pickup_day',\n",
    "               'pickup_hour', 'pickup_minute', 'pickup_second', 'pickup_dayofweek',\n",
    "               'store_and_fwd_flag_Y', 'store_and_fwd_flag_N', \n",
    "               'vendor_id', 'vendor_1', 'vendor_2',\n",
    "               'passenger_count', 'passenger_0', 'passenger_1', 'passenger_2', \n",
    "               'passenger_3', 'passenger_4', 'passenger_5', 'passenger_6', \n",
    "               'passenger_7', 'passenger_8', 'passenger_9', \n",
    "               'haversine_distance', 'manhattan_distance']\n",
    "\n",
    "features_2  : 거리 데이터 제외\n",
    "features_2 = [ 'pickup_longitude', 'pickup_latitude',\n",
    "               'pickup_year', 'pickup_month', 'pickup_day',\n",
    "               'pickup_hour', 'pickup_minute', 'pickup_second', 'pickup_dayofweek',\n",
    "               'store_and_fwd_flag_Y', 'store_and_fwd_flag_N', \n",
    "               'vendor_id', 'vendor_1', 'vendor_2',\n",
    "               'passenger_count', 'passenger_0', 'passenger_1', 'passenger_2', \n",
    "               'passenger_3', 'passenger_4', 'passenger_5', 'passenger_6', \n",
    "               'passenger_7', 'passenger_8', 'passenger_9', \n",
    "               'T_high', 'T_avg', 'T_low', 'D_high', 'D_avg', 'D_low', \n",
    "               'H_high', 'H_avg', 'H_low', 'S_high', 'S_avg', 'S_low', \n",
    "               'V_high', 'V_avg', 'V_low', 'W_high', 'W_avg', 'W_high.1',\n",
    "               'Precip. (mm)', 'rain', 'snow', 'fog']\n",
    "\n",
    "features_3  : 날씨데이터 비, 눈, 안개만 적용\n",
    "features_3 =['pickup_longitude', 'pickup_latitude',\n",
    "             'pickup_year', 'pickup_month', 'pickup_day',\n",
    "             'pickup_hour', 'pickup_minute', 'pickup_second', 'pickup_dayofweek',\n",
    "             'store_and_fwd_flag_Y', 'store_and_fwd_flag_N', \n",
    "             'vendor_id', 'vendor_1', 'vendor_2',\n",
    "             'passenger_count', 'passenger_0', 'passenger_1', 'passenger_2', \n",
    "             'passenger_3', 'passenger_4', 'passenger_5', 'passenger_6', \n",
    "             'passenger_7', 'passenger_8', 'passenger_9', \n",
    "             'haversine_distance', 'manhattan_distance', \n",
    "             'rain', 'snow', 'fog']\n",
    "\n",
    "features_4  : 원핫인코딩 제거\n",
    "features_4 = ['pickup_longitude', 'pickup_latitude',\n",
    "              'pickup_year', 'pickup_month', 'pickup_day',\n",
    "              'pickup_hour', 'pickup_minute', 'pickup_second', 'pickup_dayofweek',\n",
    "              'store_and_fwd_flag_Y', 'store_and_fwd_flag_N', \n",
    "              'vendor_id', 'passenger_count', \n",
    "              'haversine_distance', 'manhattan_distance', \n",
    "              'T_high', 'T_avg', 'T_low', 'D_high', 'D_avg', 'D_low', \n",
    "              'H_high', 'H_avg', 'H_low', 'S_high', 'S_avg', 'S_low', \n",
    "              'V_high', 'V_avg', 'V_low', 'W_high', 'W_avg', 'W_high.1',\n",
    "              'Precip. (mm)', 'rain', 'snow', 'fog']"
   ]
  },
  {
   "cell_type": "code",
   "execution_count": 32,
   "metadata": {
    "collapsed": true
   },
   "outputs": [],
   "source": [
    "feature_names = features_1 = [ 'pickup_longitude', 'pickup_latitude',\n",
    "               'pickup_year', 'pickup_month', 'pickup_day',\n",
    "               'pickup_hour', 'pickup_minute', 'pickup_second', 'pickup_dayofweek',\n",
    "               'store_and_fwd_flag_Y', 'store_and_fwd_flag_N', \n",
    "               'vendor_id', 'vendor_1', 'vendor_2',\n",
    "               'passenger_count', 'passenger_0', 'passenger_1', 'passenger_2', \n",
    "               'passenger_3', 'passenger_4', 'passenger_5', 'passenger_6', \n",
    "               'passenger_7', 'passenger_8', 'passenger_9', \n",
    "               'haversine_distance', 'manhattan_distance']\n",
    "\n",
    "# f1"
   ]
  },
  {
   "cell_type": "markdown",
   "metadata": {},
   "source": [
    "### 2) 데이터 조정"
   ]
  },
  {
   "cell_type": "code",
   "execution_count": 33,
   "metadata": {},
   "outputs": [
    {
     "name": "stdout",
     "output_type": "stream",
     "text": [
      "(1458644, 27)\n"
     ]
    },
    {
     "data": {
      "text/html": [
       "<div>\n",
       "<style>\n",
       "    .dataframe thead tr:only-child th {\n",
       "        text-align: right;\n",
       "    }\n",
       "\n",
       "    .dataframe thead th {\n",
       "        text-align: left;\n",
       "    }\n",
       "\n",
       "    .dataframe tbody tr th {\n",
       "        vertical-align: top;\n",
       "    }\n",
       "</style>\n",
       "<table border=\"1\" class=\"dataframe\">\n",
       "  <thead>\n",
       "    <tr style=\"text-align: right;\">\n",
       "      <th></th>\n",
       "      <th>pickup_longitude</th>\n",
       "      <th>pickup_latitude</th>\n",
       "      <th>pickup_year</th>\n",
       "      <th>pickup_month</th>\n",
       "      <th>pickup_day</th>\n",
       "      <th>pickup_hour</th>\n",
       "      <th>pickup_minute</th>\n",
       "      <th>pickup_second</th>\n",
       "      <th>pickup_dayofweek</th>\n",
       "      <th>store_and_fwd_flag_Y</th>\n",
       "      <th>...</th>\n",
       "      <th>passenger_2</th>\n",
       "      <th>passenger_3</th>\n",
       "      <th>passenger_4</th>\n",
       "      <th>passenger_5</th>\n",
       "      <th>passenger_6</th>\n",
       "      <th>passenger_7</th>\n",
       "      <th>passenger_8</th>\n",
       "      <th>passenger_9</th>\n",
       "      <th>haversine_distance</th>\n",
       "      <th>manhattan_distance</th>\n",
       "    </tr>\n",
       "  </thead>\n",
       "  <tbody>\n",
       "    <tr>\n",
       "      <th>0</th>\n",
       "      <td>-73.982155</td>\n",
       "      <td>40.767937</td>\n",
       "      <td>2016</td>\n",
       "      <td>3</td>\n",
       "      <td>14</td>\n",
       "      <td>17</td>\n",
       "      <td>24</td>\n",
       "      <td>55</td>\n",
       "      <td>0</td>\n",
       "      <td>False</td>\n",
       "      <td>...</td>\n",
       "      <td>False</td>\n",
       "      <td>False</td>\n",
       "      <td>False</td>\n",
       "      <td>False</td>\n",
       "      <td>False</td>\n",
       "      <td>False</td>\n",
       "      <td>False</td>\n",
       "      <td>False</td>\n",
       "      <td>1.497580</td>\n",
       "      <td>2.144611</td>\n",
       "    </tr>\n",
       "    <tr>\n",
       "      <th>1</th>\n",
       "      <td>-73.975090</td>\n",
       "      <td>40.758766</td>\n",
       "      <td>2016</td>\n",
       "      <td>3</td>\n",
       "      <td>14</td>\n",
       "      <td>14</td>\n",
       "      <td>5</td>\n",
       "      <td>39</td>\n",
       "      <td>0</td>\n",
       "      <td>False</td>\n",
       "      <td>...</td>\n",
       "      <td>False</td>\n",
       "      <td>False</td>\n",
       "      <td>False</td>\n",
       "      <td>False</td>\n",
       "      <td>False</td>\n",
       "      <td>False</td>\n",
       "      <td>False</td>\n",
       "      <td>False</td>\n",
       "      <td>1.970967</td>\n",
       "      <td>2.967811</td>\n",
       "    </tr>\n",
       "    <tr>\n",
       "      <th>2</th>\n",
       "      <td>-73.994484</td>\n",
       "      <td>40.745087</td>\n",
       "      <td>2016</td>\n",
       "      <td>3</td>\n",
       "      <td>14</td>\n",
       "      <td>15</td>\n",
       "      <td>4</td>\n",
       "      <td>38</td>\n",
       "      <td>0</td>\n",
       "      <td>False</td>\n",
       "      <td>...</td>\n",
       "      <td>False</td>\n",
       "      <td>False</td>\n",
       "      <td>False</td>\n",
       "      <td>False</td>\n",
       "      <td>False</td>\n",
       "      <td>False</td>\n",
       "      <td>False</td>\n",
       "      <td>False</td>\n",
       "      <td>2.515467</td>\n",
       "      <td>2.411426</td>\n",
       "    </tr>\n",
       "    <tr>\n",
       "      <th>3</th>\n",
       "      <td>-73.944359</td>\n",
       "      <td>40.714489</td>\n",
       "      <td>2016</td>\n",
       "      <td>3</td>\n",
       "      <td>14</td>\n",
       "      <td>4</td>\n",
       "      <td>24</td>\n",
       "      <td>36</td>\n",
       "      <td>0</td>\n",
       "      <td>False</td>\n",
       "      <td>...</td>\n",
       "      <td>False</td>\n",
       "      <td>True</td>\n",
       "      <td>False</td>\n",
       "      <td>False</td>\n",
       "      <td>False</td>\n",
       "      <td>False</td>\n",
       "      <td>False</td>\n",
       "      <td>False</td>\n",
       "      <td>2.903090</td>\n",
       "      <td>4.181740</td>\n",
       "    </tr>\n",
       "    <tr>\n",
       "      <th>4</th>\n",
       "      <td>-73.952881</td>\n",
       "      <td>40.766468</td>\n",
       "      <td>2016</td>\n",
       "      <td>3</td>\n",
       "      <td>14</td>\n",
       "      <td>14</td>\n",
       "      <td>57</td>\n",
       "      <td>56</td>\n",
       "      <td>0</td>\n",
       "      <td>False</td>\n",
       "      <td>...</td>\n",
       "      <td>False</td>\n",
       "      <td>False</td>\n",
       "      <td>False</td>\n",
       "      <td>False</td>\n",
       "      <td>False</td>\n",
       "      <td>False</td>\n",
       "      <td>False</td>\n",
       "      <td>False</td>\n",
       "      <td>2.225348</td>\n",
       "      <td>3.246472</td>\n",
       "    </tr>\n",
       "  </tbody>\n",
       "</table>\n",
       "<p>5 rows × 27 columns</p>\n",
       "</div>"
      ],
      "text/plain": [
       "   pickup_longitude  pickup_latitude  pickup_year  pickup_month  pickup_day  \\\n",
       "0        -73.982155        40.767937         2016             3          14   \n",
       "1        -73.975090        40.758766         2016             3          14   \n",
       "2        -73.994484        40.745087         2016             3          14   \n",
       "3        -73.944359        40.714489         2016             3          14   \n",
       "4        -73.952881        40.766468         2016             3          14   \n",
       "\n",
       "   pickup_hour  pickup_minute  pickup_second  pickup_dayofweek  \\\n",
       "0           17             24             55                 0   \n",
       "1           14              5             39                 0   \n",
       "2           15              4             38                 0   \n",
       "3            4             24             36                 0   \n",
       "4           14             57             56                 0   \n",
       "\n",
       "   store_and_fwd_flag_Y         ...          passenger_2  passenger_3  \\\n",
       "0                 False         ...                False        False   \n",
       "1                 False         ...                False        False   \n",
       "2                 False         ...                False        False   \n",
       "3                 False         ...                False         True   \n",
       "4                 False         ...                False        False   \n",
       "\n",
       "   passenger_4  passenger_5  passenger_6  passenger_7  passenger_8  \\\n",
       "0        False        False        False        False        False   \n",
       "1        False        False        False        False        False   \n",
       "2        False        False        False        False        False   \n",
       "3        False        False        False        False        False   \n",
       "4        False        False        False        False        False   \n",
       "\n",
       "   passenger_9  haversine_distance  manhattan_distance  \n",
       "0        False            1.497580            2.144611  \n",
       "1        False            1.970967            2.967811  \n",
       "2        False            2.515467            2.411426  \n",
       "3        False            2.903090            4.181740  \n",
       "4        False            2.225348            3.246472  \n",
       "\n",
       "[5 rows x 27 columns]"
      ]
     },
     "execution_count": 33,
     "metadata": {},
     "output_type": "execute_result"
    }
   ],
   "source": [
    "x_train = train[feature_names]\n",
    "print(x_train.shape)\n",
    "x_train.head()"
   ]
  },
  {
   "cell_type": "code",
   "execution_count": 34,
   "metadata": {},
   "outputs": [
    {
     "name": "stdout",
     "output_type": "stream",
     "text": [
      "(625134, 27)\n"
     ]
    },
    {
     "data": {
      "text/html": [
       "<div>\n",
       "<style>\n",
       "    .dataframe thead tr:only-child th {\n",
       "        text-align: right;\n",
       "    }\n",
       "\n",
       "    .dataframe thead th {\n",
       "        text-align: left;\n",
       "    }\n",
       "\n",
       "    .dataframe tbody tr th {\n",
       "        vertical-align: top;\n",
       "    }\n",
       "</style>\n",
       "<table border=\"1\" class=\"dataframe\">\n",
       "  <thead>\n",
       "    <tr style=\"text-align: right;\">\n",
       "      <th></th>\n",
       "      <th>pickup_longitude</th>\n",
       "      <th>pickup_latitude</th>\n",
       "      <th>pickup_year</th>\n",
       "      <th>pickup_month</th>\n",
       "      <th>pickup_day</th>\n",
       "      <th>pickup_hour</th>\n",
       "      <th>pickup_minute</th>\n",
       "      <th>pickup_second</th>\n",
       "      <th>pickup_dayofweek</th>\n",
       "      <th>store_and_fwd_flag_Y</th>\n",
       "      <th>...</th>\n",
       "      <th>passenger_2</th>\n",
       "      <th>passenger_3</th>\n",
       "      <th>passenger_4</th>\n",
       "      <th>passenger_5</th>\n",
       "      <th>passenger_6</th>\n",
       "      <th>passenger_7</th>\n",
       "      <th>passenger_8</th>\n",
       "      <th>passenger_9</th>\n",
       "      <th>haversine_distance</th>\n",
       "      <th>manhattan_distance</th>\n",
       "    </tr>\n",
       "  </thead>\n",
       "  <tbody>\n",
       "    <tr>\n",
       "      <th>0</th>\n",
       "      <td>-73.988129</td>\n",
       "      <td>40.732029</td>\n",
       "      <td>2016</td>\n",
       "      <td>6</td>\n",
       "      <td>30</td>\n",
       "      <td>23</td>\n",
       "      <td>59</td>\n",
       "      <td>58</td>\n",
       "      <td>3</td>\n",
       "      <td>False</td>\n",
       "      <td>...</td>\n",
       "      <td>False</td>\n",
       "      <td>False</td>\n",
       "      <td>False</td>\n",
       "      <td>False</td>\n",
       "      <td>False</td>\n",
       "      <td>False</td>\n",
       "      <td>False</td>\n",
       "      <td>False</td>\n",
       "      <td>2.744701</td>\n",
       "      <td>2.332044</td>\n",
       "    </tr>\n",
       "    <tr>\n",
       "      <th>1</th>\n",
       "      <td>-73.964203</td>\n",
       "      <td>40.679993</td>\n",
       "      <td>2016</td>\n",
       "      <td>6</td>\n",
       "      <td>30</td>\n",
       "      <td>23</td>\n",
       "      <td>59</td>\n",
       "      <td>53</td>\n",
       "      <td>3</td>\n",
       "      <td>False</td>\n",
       "      <td>...</td>\n",
       "      <td>False</td>\n",
       "      <td>False</td>\n",
       "      <td>False</td>\n",
       "      <td>False</td>\n",
       "      <td>False</td>\n",
       "      <td>False</td>\n",
       "      <td>False</td>\n",
       "      <td>False</td>\n",
       "      <td>2.757507</td>\n",
       "      <td>2.587666</td>\n",
       "    </tr>\n",
       "    <tr>\n",
       "      <th>2</th>\n",
       "      <td>-73.997437</td>\n",
       "      <td>40.737583</td>\n",
       "      <td>2016</td>\n",
       "      <td>6</td>\n",
       "      <td>30</td>\n",
       "      <td>23</td>\n",
       "      <td>59</td>\n",
       "      <td>47</td>\n",
       "      <td>3</td>\n",
       "      <td>False</td>\n",
       "      <td>...</td>\n",
       "      <td>False</td>\n",
       "      <td>False</td>\n",
       "      <td>False</td>\n",
       "      <td>False</td>\n",
       "      <td>False</td>\n",
       "      <td>False</td>\n",
       "      <td>False</td>\n",
       "      <td>False</td>\n",
       "      <td>1.305335</td>\n",
       "      <td>1.940002</td>\n",
       "    </tr>\n",
       "    <tr>\n",
       "      <th>3</th>\n",
       "      <td>-73.956070</td>\n",
       "      <td>40.771900</td>\n",
       "      <td>2016</td>\n",
       "      <td>6</td>\n",
       "      <td>30</td>\n",
       "      <td>23</td>\n",
       "      <td>59</td>\n",
       "      <td>41</td>\n",
       "      <td>3</td>\n",
       "      <td>False</td>\n",
       "      <td>...</td>\n",
       "      <td>False</td>\n",
       "      <td>False</td>\n",
       "      <td>False</td>\n",
       "      <td>False</td>\n",
       "      <td>False</td>\n",
       "      <td>False</td>\n",
       "      <td>False</td>\n",
       "      <td>False</td>\n",
       "      <td>5.265780</td>\n",
       "      <td>6.907787</td>\n",
       "    </tr>\n",
       "    <tr>\n",
       "      <th>4</th>\n",
       "      <td>-73.970215</td>\n",
       "      <td>40.761475</td>\n",
       "      <td>2016</td>\n",
       "      <td>6</td>\n",
       "      <td>30</td>\n",
       "      <td>23</td>\n",
       "      <td>59</td>\n",
       "      <td>33</td>\n",
       "      <td>3</td>\n",
       "      <td>False</td>\n",
       "      <td>...</td>\n",
       "      <td>False</td>\n",
       "      <td>False</td>\n",
       "      <td>False</td>\n",
       "      <td>False</td>\n",
       "      <td>False</td>\n",
       "      <td>False</td>\n",
       "      <td>False</td>\n",
       "      <td>False</td>\n",
       "      <td>0.960239</td>\n",
       "      <td>1.443189</td>\n",
       "    </tr>\n",
       "  </tbody>\n",
       "</table>\n",
       "<p>5 rows × 27 columns</p>\n",
       "</div>"
      ],
      "text/plain": [
       "   pickup_longitude  pickup_latitude  pickup_year  pickup_month  pickup_day  \\\n",
       "0        -73.988129        40.732029         2016             6          30   \n",
       "1        -73.964203        40.679993         2016             6          30   \n",
       "2        -73.997437        40.737583         2016             6          30   \n",
       "3        -73.956070        40.771900         2016             6          30   \n",
       "4        -73.970215        40.761475         2016             6          30   \n",
       "\n",
       "   pickup_hour  pickup_minute  pickup_second  pickup_dayofweek  \\\n",
       "0           23             59             58                 3   \n",
       "1           23             59             53                 3   \n",
       "2           23             59             47                 3   \n",
       "3           23             59             41                 3   \n",
       "4           23             59             33                 3   \n",
       "\n",
       "   store_and_fwd_flag_Y         ...          passenger_2  passenger_3  \\\n",
       "0                 False         ...                False        False   \n",
       "1                 False         ...                False        False   \n",
       "2                 False         ...                False        False   \n",
       "3                 False         ...                False        False   \n",
       "4                 False         ...                False        False   \n",
       "\n",
       "   passenger_4  passenger_5  passenger_6  passenger_7  passenger_8  \\\n",
       "0        False        False        False        False        False   \n",
       "1        False        False        False        False        False   \n",
       "2        False        False        False        False        False   \n",
       "3        False        False        False        False        False   \n",
       "4        False        False        False        False        False   \n",
       "\n",
       "   passenger_9  haversine_distance  manhattan_distance  \n",
       "0        False            2.744701            2.332044  \n",
       "1        False            2.757507            2.587666  \n",
       "2        False            1.305335            1.940002  \n",
       "3        False            5.265780            6.907787  \n",
       "4        False            0.960239            1.443189  \n",
       "\n",
       "[5 rows x 27 columns]"
      ]
     },
     "execution_count": 34,
     "metadata": {},
     "output_type": "execute_result"
    }
   ],
   "source": [
    "x_test = test[feature_names]\n",
    "print(x_test.shape)\n",
    "x_test.head()"
   ]
  },
  {
   "cell_type": "code",
   "execution_count": 35,
   "metadata": {},
   "outputs": [
    {
     "name": "stdout",
     "output_type": "stream",
     "text": [
      "(1458644,)\n"
     ]
    },
    {
     "data": {
      "text/plain": [
       "0     455\n",
       "1    1346\n",
       "2     695\n",
       "3     755\n",
       "4    1050\n",
       "Name: trip_duration, dtype: int64"
      ]
     },
     "execution_count": 35,
     "metadata": {},
     "output_type": "execute_result"
    }
   ],
   "source": [
    "label_name = \"trip_duration\"\n",
    "\n",
    "y_train = train[label_name]\n",
    "print(y_train.shape)\n",
    "y_train.head()"
   ]
  },
  {
   "cell_type": "code",
   "execution_count": 36,
   "metadata": {},
   "outputs": [
    {
     "data": {
      "text/plain": [
       "0    6.122493\n",
       "1    7.205635\n",
       "2    6.545350\n",
       "3    6.628041\n",
       "4    6.957497\n",
       "Name: trip_duration, dtype: float64"
      ]
     },
     "execution_count": 36,
     "metadata": {},
     "output_type": "execute_result"
    }
   ],
   "source": [
    "y_train = np.log1p(y_train)\n",
    "y_train.head()"
   ]
  },
  {
   "cell_type": "markdown",
   "metadata": {},
   "source": [
    "####     \n",
    "####       \n",
    "####   "
   ]
  },
  {
   "cell_type": "markdown",
   "metadata": {},
   "source": [
    "## 3. Linear Regression"
   ]
  },
  {
   "cell_type": "markdown",
   "metadata": {},
   "source": [
    "#### 모델 돌리기"
   ]
  },
  {
   "cell_type": "code",
   "execution_count": 14,
   "metadata": {},
   "outputs": [
    {
     "data": {
      "text/plain": [
       "array([ 685.07408975,  702.87255708,  564.03686909,  853.14454653,\n",
       "        528.57905577,  789.90883246,  707.14854398,  700.36404714,\n",
       "       3877.86642006,  602.12794563])"
      ]
     },
     "execution_count": 14,
     "metadata": {},
     "output_type": "execute_result"
    }
   ],
   "source": [
    "from sklearn import linear_model\n",
    "\n",
    "LR_model = linear_model.LinearRegression()\n",
    "LR_model.fit(x_train, y_train)\n",
    "\n",
    "predictions = LR_model.predict(x_test)\n",
    "predictions = np.expm1(predictions)\n",
    "predictions[0:10]"
   ]
  },
  {
   "cell_type": "markdown",
   "metadata": {},
   "source": [
    "#### 제출"
   ]
  },
  {
   "cell_type": "code",
   "execution_count": 15,
   "metadata": {
    "collapsed": true
   },
   "outputs": [],
   "source": [
    "submission['trip_duration'] = predictions\n",
    "submission.to_csv('LR14.csv', index = False)"
   ]
  },
  {
   "cell_type": "markdown",
   "metadata": {},
   "source": [
    "#### LinearRegression 결과보고서"
   ]
  },
  {
   "cell_type": "code",
   "execution_count": null,
   "metadata": {
    "collapsed": true
   },
   "outputs": [],
   "source": [
    "basic_features : 0.64015\n",
    "features_1     : 0.64069\n",
    "features_2     : 0.77631 \n",
    "features_3     : 0.64048\n",
    "features_4     : 0.64039"
   ]
  },
  {
   "cell_type": "markdown",
   "metadata": {},
   "source": [
    "#### 날씨와 거리 데이터 중 거리 데이터의 중요성이 더 높다\n",
    "#### 하지만 날씨와 거리데이터 둘 다 있을 때의 모델 성능이 더 좋다"
   ]
  },
  {
   "cell_type": "markdown",
   "metadata": {},
   "source": [
    "####     \n",
    "####    \n",
    "## 4. Decision Tree Regressor"
   ]
  },
  {
   "cell_type": "markdown",
   "metadata": {},
   "source": [
    "#### 모델 돌리기 "
   ]
  },
  {
   "cell_type": "code",
   "execution_count": 45,
   "metadata": {},
   "outputs": [
    {
     "data": {
      "text/plain": [
       "array([ 820.48587235,  626.61969549,  497.69934466, 1236.69622674,\n",
       "        341.09250067, 1235.0757096 ,  788.51670979,  820.48587235,\n",
       "       2242.52379527,  594.44304042])"
      ]
     },
     "execution_count": 45,
     "metadata": {},
     "output_type": "execute_result"
    }
   ],
   "source": [
    "from sklearn.tree import DecisionTreeRegressor\n",
    "\n",
    "DT_model = DecisionTreeRegressor(max_depth = 10, random_state = 50)\n",
    "DT_model.fit(x_train, y_train)\n",
    "\n",
    "predictions = DT_model.predict(x_test)\n",
    "predictions = np.expm1(predictions)\n",
    "predictions[0:10]"
   ]
  },
  {
   "cell_type": "markdown",
   "metadata": {},
   "source": [
    "#### 제출"
   ]
  },
  {
   "cell_type": "code",
   "execution_count": 46,
   "metadata": {
    "collapsed": true
   },
   "outputs": [],
   "source": [
    "submission['trip_duration'] = predictions\n",
    "submission.to_csv('DC24.csv', index = False)"
   ]
  },
  {
   "cell_type": "markdown",
   "metadata": {},
   "source": [
    "#### DecisionTree 결과보고서"
   ]
  },
  {
   "cell_type": "code",
   "execution_count": null,
   "metadata": {
    "collapsed": true
   },
   "outputs": [],
   "source": [
    "basic_features / max_depth = 10, random_state = 50  : 0.46417\n",
    "features_1 / max_depth = 10, random_state = 50      : 0.46269\n",
    "features_2 / max_depth = 10, random_state = 50      : 0.74402 \n",
    "features_3 / max_depth = 10, random_state = 50      : 0.46275\n",
    "features_4 / max_depth = 10, random_state = 50      : 0.46328"
   ]
  },
  {
   "cell_type": "markdown",
   "metadata": {},
   "source": [
    "####    \n",
    "####    \n",
    "## 5. Random Forest Regressor"
   ]
  },
  {
   "cell_type": "markdown",
   "metadata": {},
   "source": [
    "#### 모델 돌리기 "
   ]
  },
  {
   "cell_type": "code",
   "execution_count": 37,
   "metadata": {},
   "outputs": [
    {
     "data": {
      "text/plain": [
       "array([ 911.08038877,  643.82961961,  397.08810958, 1145.33889608,\n",
       "        383.0246682 , 1038.53909387,  867.82991521,  840.3426754 ,\n",
       "       2257.58109259,  523.66529026])"
      ]
     },
     "execution_count": 37,
     "metadata": {},
     "output_type": "execute_result"
    }
   ],
   "source": [
    "from sklearn.ensemble import RandomForestRegressor\n",
    "\n",
    "RF_model = RandomForestRegressor(n_estimators = 100, random_state =  50, \n",
    "                                 max_depth = 20, max_features = 12)\n",
    "RF_model.fit(x_train, y_train)\n",
    "\n",
    "predictions = RF_model.predict(x_test)\n",
    "predictions = np.expm1(predictions)\n",
    "predictions[0:10]"
   ]
  },
  {
   "cell_type": "markdown",
   "metadata": {},
   "source": [
    "#### 제출"
   ]
  },
  {
   "cell_type": "code",
   "execution_count": 38,
   "metadata": {
    "collapsed": true
   },
   "outputs": [],
   "source": [
    "submission['trip_duration'] = predictions\n",
    "submission.to_csv('RF35.csv', index = False)"
   ]
  },
  {
   "cell_type": "markdown",
   "metadata": {},
   "source": [
    "#### Random Forest 결과보고서"
   ]
  },
  {
   "cell_type": "code",
   "execution_count": null,
   "metadata": {
    "collapsed": true
   },
   "outputs": [],
   "source": [
    "basic_features / n_estimators = 75 random_state =  50 max_depth = 20 max_features = 12 : 0.44136\n",
    "features_1    /  n_estimators = 75 random_state =  50 max_depth = 20 max_features = 12 : 0.43559\n",
    "features_2    /  n_estimators = 75 random_state =  50 max_depth = 20 max_features = 12 : 0.73843\n",
    "features_3    /  n_estimators = 75 random_state =  50 max_depth = 20 max_features = 12 : 0.43655\n",
    "    \n",
    "features_3    /  n_estimators = 100 random_state =  50 max_depth = 20 max_features = 12 : 0.43614\n",
    "features_1    /  n_estimators = 100 random_state =  50 max_depth = 20 max_features = 12 : 0.43525\n",
    "    "
   ]
  }
 ],
 "metadata": {
  "kernelspec": {
   "display_name": "Python 3",
   "language": "python",
   "name": "python3"
  },
  "language_info": {
   "codemirror_mode": {
    "name": "ipython",
    "version": 3
   },
   "file_extension": ".py",
   "mimetype": "text/x-python",
   "name": "python",
   "nbconvert_exporter": "python",
   "pygments_lexer": "ipython3",
   "version": "3.6.1"
  }
 },
 "nbformat": 4,
 "nbformat_minor": 2
}
