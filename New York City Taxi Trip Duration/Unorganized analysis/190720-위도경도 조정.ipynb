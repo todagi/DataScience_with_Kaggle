{
 "cells": [
  {
   "cell_type": "code",
   "execution_count": 1,
   "metadata": {},
   "outputs": [
    {
     "name": "stdout",
     "output_type": "stream",
     "text": [
      "시작\n",
      "완료!\n",
      "Running Time : 197.03초\n"
     ]
    }
   ],
   "source": [
    "import pandas as pd\n",
    "import numpy as np\n",
    "from math import sin, cos, sqrt, atan2, radians \n",
    "import time\n",
    "start = time.time()\n",
    "print(\"시작\")\n",
    "\n",
    "train = pd.read_csv(\"train.csv\", parse_dates = ['pickup_datetime', 'dropoff_datetime'])\n",
    "test = pd.read_csv(\"test.csv\", parse_dates = ['pickup_datetime'])\n",
    "weather = pd.read_csv(\"weather.csv\", parse_dates = ['datetime'])  # 데이터 전처리한 파일\n",
    "submission = pd.read_csv(\"sample_submission.csv\")\n",
    "\n",
    "# 날짜데이터 분할\n",
    "\n",
    "train['pickup_year'] = train['pickup_datetime'].dt.year  \n",
    "train['pickup_month'] = train['pickup_datetime'].dt.month\n",
    "train['pickup_day'] = train['pickup_datetime'].dt.day\n",
    "train['pickup_hour'] = train['pickup_datetime'].dt.hour\n",
    "train['pickup_minute'] = train['pickup_datetime'].dt.minute\n",
    "train['pickup_second'] = train['pickup_datetime'].dt.second\n",
    "train[\"pickup_dayofweek\"] = train[\"pickup_datetime\"].dt.dayofweek \n",
    "\n",
    "test['pickup_year'] = test['pickup_datetime'].dt.year  \n",
    "test['pickup_month'] = test['pickup_datetime'].dt.month\n",
    "test['pickup_day'] = test['pickup_datetime'].dt.day\n",
    "test['pickup_hour'] = test['pickup_datetime'].dt.hour\n",
    "test['pickup_minute'] = test['pickup_datetime'].dt.minute\n",
    "test['pickup_second'] = test['pickup_datetime'].dt.second\n",
    "test[\"pickup_dayofweek\"] = test[\"pickup_datetime\"].dt.dayofweek \n",
    "\n",
    "# 원핫인코딩\n",
    "\n",
    "train['store_and_fwd_flag_Y'] = train['store_and_fwd_flag'] == 'Y'\n",
    "train['store_and_fwd_flag_N'] = train['store_and_fwd_flag'] == 'N'\n",
    "\n",
    "test['store_and_fwd_flag_Y'] = test['store_and_fwd_flag'] == 'Y'\n",
    "test['store_and_fwd_flag_N'] = test['store_and_fwd_flag'] == 'N'\n",
    "\n",
    "\n",
    "train['vendor_1'] = train['vendor_id'] == 1\n",
    "train['vendor_2'] = train['vendor_id'] == 2\n",
    "\n",
    "test['vendor_1'] = test['vendor_id'] == 1\n",
    "test['vendor_2'] = test['vendor_id'] == 2\n",
    "\n",
    "\n",
    "train['passenger_0'] = train['passenger_count'] == 0\n",
    "train['passenger_1'] = train['passenger_count'] == 1\n",
    "train['passenger_2'] = train['passenger_count'] == 2\n",
    "train['passenger_3'] = train['passenger_count'] == 3\n",
    "train['passenger_4'] = train['passenger_count'] == 4\n",
    "train['passenger_5'] = train['passenger_count'] == 5\n",
    "train['passenger_6'] = train['passenger_count'] == 6\n",
    "train['passenger_7'] = train['passenger_count'] == 7\n",
    "train['passenger_8'] = train['passenger_count'] == 8\n",
    "train['passenger_9'] = train['passenger_count'] == 9\n",
    "\n",
    "test['passenger_0'] = test['passenger_count'] == 0\n",
    "test['passenger_1'] = test['passenger_count'] == 1\n",
    "test['passenger_2'] = test['passenger_count'] == 2\n",
    "test['passenger_3'] = test['passenger_count'] == 3\n",
    "test['passenger_4'] = test['passenger_count'] == 4\n",
    "test['passenger_5'] = test['passenger_count'] == 5\n",
    "test['passenger_6'] = test['passenger_count'] == 6\n",
    "test['passenger_7'] = test['passenger_count'] == 7\n",
    "test['passenger_8'] = test['passenger_count'] == 8\n",
    "test['passenger_9'] = test['passenger_count'] == 9\n",
    "\n",
    "# 요일 원핫인코딩 추가\n",
    "\n",
    "train[\"mon\"] = train[\"pickup_dayofweek\"] == 0\n",
    "train[\"tue\"] = train[\"pickup_dayofweek\"] == 1\n",
    "train[\"wed\"] = train[\"pickup_dayofweek\"] == 2\n",
    "train[\"thu\"] = train[\"pickup_dayofweek\"] == 3\n",
    "train[\"fri\"] = train[\"pickup_dayofweek\"] == 4\n",
    "train[\"sat\"] = train[\"pickup_dayofweek\"] == 5\n",
    "train[\"sun\"] = train[\"pickup_dayofweek\"] == 6\n",
    "\n",
    "test[\"mon\"] = test[\"pickup_dayofweek\"] == 0\n",
    "test[\"tue\"] = test[\"pickup_dayofweek\"] == 1\n",
    "test[\"wed\"] = test[\"pickup_dayofweek\"] == 2\n",
    "test[\"thu\"] = test[\"pickup_dayofweek\"] == 3\n",
    "test[\"fri\"] = test[\"pickup_dayofweek\"] == 4\n",
    "test[\"sat\"] = test[\"pickup_dayofweek\"] == 5\n",
    "test[\"sun\"] = test[\"pickup_dayofweek\"] == 6\n",
    "\n",
    "# 이동거리 추가(하버사인 + 맨하탄)\n",
    "\n",
    "def haversine(train):\n",
    "    lon1 = train['pickup_longitude']\n",
    "    lat1 = train['pickup_latitude']\n",
    "    lon2 = train['dropoff_longitude']\n",
    "    lat2 = train['dropoff_latitude']\n",
    "    lon1, lat1, lon2, lat2 = map(radians, [lon1, lat1, lon2, lat2])\n",
    "    dlon = lon2 - lon1 \n",
    "    dlat = lat2 - lat1 \n",
    "    a = sin(dlat/2)**2 + cos(lat1) * cos(lat2) * sin(dlon/2)**2\n",
    "    c = 2 * np.arcsin(sqrt(a)) \n",
    "    haversine_km = 6367 * c\n",
    "    return haversine_km\n",
    "\n",
    "def haversine(test):\n",
    "    lon1 = test['pickup_longitude']\n",
    "    lat1 = test['pickup_latitude']\n",
    "    lon2 = test['dropoff_longitude']\n",
    "    lat2 = test['dropoff_latitude']\n",
    "    lon1, lat1, lon2, lat2 = map(radians, [lon1, lat1, lon2, lat2])\n",
    "    dlon = lon2 - lon1 \n",
    "    dlat = lat2 - lat1 \n",
    "    a = sin(dlat/2)**2 + cos(lat1) * cos(lat2) * sin(dlon/2)**2\n",
    "    c = 2 * np.arcsin(sqrt(a)) \n",
    "    haversine_km = 6367 * c\n",
    "    return haversine_km\n",
    "\n",
    "def manhattan_distance(train):\n",
    "    lon1 = train['pickup_longitude']\n",
    "    lat1 = train['pickup_latitude']\n",
    "    lon2 = train['dropoff_longitude']\n",
    "    lat2 = train['dropoff_latitude']\n",
    "    manhattan_km = (abs(lon1 - lon2)*111) + (abs(lat1 - lat2)*85.397)\n",
    "    return manhattan_km\n",
    "\n",
    "def manhattan_distance(test):\n",
    "    lon1 = test['pickup_longitude']\n",
    "    lat1 = test['pickup_latitude']\n",
    "    lon2 = test['dropoff_longitude']\n",
    "    lat2 = test['dropoff_latitude']\n",
    "    km = (abs(lon1 - lon2)*111) + (abs(lat1 - lat2)*85.397)\n",
    "    return km\n",
    "\n",
    "train['haversine_distance'] = train.apply(lambda train: haversine(train), axis=1)\n",
    "test['haversine_distance'] = test.apply(lambda test: haversine(test), axis=1)\n",
    "train['manhattan_distance'] = train.apply(lambda train: manhattan_distance(train), axis=1)\n",
    "test['manhattan_distance'] = test.apply(lambda test: manhattan_distance(test), axis=1)\n",
    "\n",
    "\n",
    "# 날씨데이터 추가\n",
    "\n",
    "weather['year'] = weather['datetime'].dt.year  \n",
    "weather['month'] = weather['datetime'].dt.month\n",
    "weather['day'] = weather['datetime'].dt.day\n",
    "\n",
    "weather = weather.rename(columns = {'year' : 'pickup_year', 'month' : 'pickup_month', 'day' : 'pickup_day'})\n",
    "\n",
    "train = pd.merge(train, weather)\n",
    "test = pd.merge(test, weather)\n",
    "\n",
    "\n",
    "print(\"완료!\")\n",
    "print('Running Time : %.02f초' % (time.time() - start))\n"
   ]
  },
  {
   "cell_type": "code",
   "execution_count": 2,
   "metadata": {},
   "outputs": [
    {
     "name": "stderr",
     "output_type": "stream",
     "text": [
      "C:\\Users\\Jeong\\Anaconda3\\lib\\site-packages\\ipykernel_launcher.py:1: FutureWarning: Sorting because non-concatenation axis is not aligned. A future version\n",
      "of pandas will change to not sort by default.\n",
      "\n",
      "To accept the future behavior, pass 'sort=True'.\n",
      "\n",
      "To retain the current behavior and silence the warning, pass sort=False\n",
      "\n",
      "  \"\"\"Entry point for launching an IPython kernel.\n"
     ]
    },
    {
     "name": "stdout",
     "output_type": "stream",
     "text": [
      "(1458644, 64)\n",
      "(625134, 62)\n",
      "(2083778, 64)\n"
     ]
    }
   ],
   "source": [
    "all = pd.concat([train, test], ignore_index = True)\n",
    "print(train.shape)\n",
    "print(test.shape)\n",
    "print(all.shape)"
   ]
  },
  {
   "cell_type": "markdown",
   "metadata": {},
   "source": [
    "### 뉴욕주\n",
    "\n",
    "#### 위도 \t40°29'40\"N - 45°0'42\"N( 40.494444 ~ 45.011667 )\n",
    "#### 경도 \t71°47'25\"W - 79°45'54\"W( -71.790278 ~ -79.765 )\n",
    "\n",
    "\n",
    "### 뉴욕시(1)   40.664167   ,  -73.938611\n",
    "### 뉴욕시(2)   40.71250     ,  -740.00000\n",
    "### 뉴욕시(3)   40.6643       ,  -73.9385  \n",
    "### 뉴욕시(4)   40.7569545 ,  -73.990494"
   ]
  },
  {
   "cell_type": "markdown",
   "metadata": {},
   "source": [
    "##  \n",
    "##  \n",
    "##  \n",
    "### 뉴욕주 기준 "
   ]
  },
  {
   "cell_type": "code",
   "execution_count": null,
   "metadata": {},
   "outputs": [],
   "source": [
    "'pickup_latitude'\n",
    "'pickup_longitude'\n",
    "'dropoff_longitude'\n",
    "'dropoff_latitude'"
   ]
  },
  {
   "cell_type": "code",
   "execution_count": 11,
   "metadata": {},
   "outputs": [],
   "source": [
    "all_1 = all[all['pickup_latitude'] >= 40.494444] \n",
    "all_1 = all[all['pickup_latitude'] <= 45.011667] \n",
    "all_1 = all[all['dropoff_latitude'] >= 40.494444] \n",
    "all_1 = all[all['dropoff_latitude'] <= 45.011667] \n",
    "\n",
    "all_1 = all[all['pickup_longitude'] <= -71.790278] \n",
    "all_1 = all[all['pickup_longitude'] >= -79.765 ] \n",
    "all_1 = all[all['dropoff_longitude'] <= -71.790278] \n",
    "all_1 = all[all['dropoff_longitude'] >= -79.765 ] "
   ]
  },
  {
   "cell_type": "code",
   "execution_count": 15,
   "metadata": {},
   "outputs": [],
   "source": [
    "train1 = train[train['pickup_latitude'] >= 40.494444] \n",
    "train1 = train[train['pickup_latitude'] <= 45.011667] \n",
    "train1 = train[train['dropoff_latitude'] >= 40.494444] \n",
    "train1 = train[train['dropoff_latitude'] <= 45.011667] \n",
    "\n",
    "train1 = train[train['pickup_longitude'] <= -71.790278] \n",
    "train1 = train[train['pickup_longitude'] >= -79.765 ] \n",
    "train1 = train[train['dropoff_longitude'] <= -71.790278] \n",
    "train1 = train[train['dropoff_longitude'] >= -79.765 ] "
   ]
  },
  {
   "cell_type": "code",
   "execution_count": 16,
   "metadata": {},
   "outputs": [],
   "source": [
    "test1 = test[test['pickup_latitude'] >= 40.494444] \n",
    "test1 = test[test['pickup_latitude'] <= 45.011667] \n",
    "test1 = test[test['dropoff_latitude'] >= 40.494444] \n",
    "test1 = test[test['dropoff_latitude'] <= 45.011667] \n",
    "\n",
    "test1 = test[test['pickup_longitude'] <= -71.790278] \n",
    "test1 = test[test['pickup_longitude'] >= -79.765 ] \n",
    "test1 = test[test['dropoff_longitude'] <= -71.790278] \n",
    "test1 = test[test['dropoff_longitude'] >= -79.765 ] "
   ]
  },
  {
   "cell_type": "code",
   "execution_count": 12,
   "metadata": {},
   "outputs": [
    {
     "name": "stdout",
     "output_type": "stream",
     "text": [
      "dropoff 위도(lat) 최고\n"
     ]
    },
    {
     "name": "stderr",
     "output_type": "stream",
     "text": [
      "C:\\Users\\Jeong\\Anaconda3\\lib\\site-packages\\ipykernel_launcher.py:3: UserWarning: Boolean Series key will be reindexed to match DataFrame index.\n",
      "  This is separate from the ipykernel package so we can avoid doing imports until\n"
     ]
    },
    {
     "data": {
      "text/html": [
       "<div>\n",
       "<style scoped>\n",
       "    .dataframe tbody tr th:only-of-type {\n",
       "        vertical-align: middle;\n",
       "    }\n",
       "\n",
       "    .dataframe tbody tr th {\n",
       "        vertical-align: top;\n",
       "    }\n",
       "\n",
       "    .dataframe thead th {\n",
       "        text-align: right;\n",
       "    }\n",
       "</style>\n",
       "<table border=\"1\" class=\"dataframe\">\n",
       "  <thead>\n",
       "    <tr style=\"text-align: right;\">\n",
       "      <th></th>\n",
       "      <th>pickup_longitude</th>\n",
       "      <th>pickup_latitude</th>\n",
       "      <th>dropoff_longitude</th>\n",
       "      <th>dropoff_latitude</th>\n",
       "      <th>haversine_distance</th>\n",
       "      <th>manhattan_distance</th>\n",
       "    </tr>\n",
       "  </thead>\n",
       "  <tbody>\n",
       "    <tr>\n",
       "      <th>1970990</th>\n",
       "      <td>-73.981995</td>\n",
       "      <td>40.746468</td>\n",
       "      <td>-67.496796</td>\n",
       "      <td>48.857597</td>\n",
       "      <td>1035.392995</td>\n",
       "      <td>1412.523234</td>\n",
       "    </tr>\n",
       "  </tbody>\n",
       "</table>\n",
       "</div>"
      ],
      "text/plain": [
       "         pickup_longitude  pickup_latitude  dropoff_longitude  \\\n",
       "1970990        -73.981995        40.746468         -67.496796   \n",
       "\n",
       "         dropoff_latitude  haversine_distance  manhattan_distance  \n",
       "1970990         48.857597         1035.392995         1412.523234  "
      ]
     },
     "execution_count": 12,
     "metadata": {},
     "output_type": "execute_result"
    }
   ],
   "source": [
    "print('dropoff 위도(lat) 최고')\n",
    "\n",
    "all_1[['pickup_longitude', 'pickup_latitude', 'dropoff_longitude', 'dropoff_latitude', 'haversine_distance', 'manhattan_distance']][all['dropoff_latitude'] == all['dropoff_latitude'].max()] "
   ]
  },
  {
   "cell_type": "code",
   "execution_count": 10,
   "metadata": {},
   "outputs": [
    {
     "name": "stdout",
     "output_type": "stream",
     "text": [
      "(2083778, 64)\n",
      "(2083772, 64)\n"
     ]
    }
   ],
   "source": [
    "print(all.shape)\n",
    "print(all_1.shape)"
   ]
  },
  {
   "cell_type": "code",
   "execution_count": 20,
   "metadata": {},
   "outputs": [],
   "source": [
    "# features_4  : 초 제거\n",
    "feature_names = ['pickup_longitude', 'pickup_latitude',\n",
    "                  'dropoff_longitude', 'dropoff_latitude',\n",
    "                  'pickup_year', 'pickup_month', 'pickup_day',\n",
    "                  'pickup_hour', 'pickup_minute', 'pickup_dayofweek',\n",
    "                  'mon', 'tue', 'wed', 'thu', 'fri', 'sat', 'sun',\n",
    "                  'store_and_fwd_flag_Y', 'store_and_fwd_flag_N', \n",
    "                  'vendor_id', 'vendor_1', 'vendor_2',\n",
    "                  'passenger_count', 'passenger_0', 'passenger_1', 'passenger_2', \n",
    "                  'passenger_3', 'passenger_4', 'passenger_5', 'passenger_6', \n",
    "                  'passenger_7', 'passenger_8', 'passenger_9', \n",
    "                  'haversine_distance', 'manhattan_distance', \n",
    "                  'T_high', 'T_avg', 'T_low', 'D_high', 'D_avg', 'D_low', \n",
    "                  'H_high', 'H_avg', 'H_low', 'S_high', 'S_avg', 'S_low', \n",
    "                  'V_high', 'V_avg', 'V_low', 'W_high', 'W_avg', 'W_high.1',\n",
    "                  'Precip. (mm)', 'rain', 'snow', 'fog']\n"
   ]
  },
  {
   "cell_type": "code",
   "execution_count": null,
   "metadata": {},
   "outputs": [],
   "source": []
  },
  {
   "cell_type": "code",
   "execution_count": 28,
   "metadata": {},
   "outputs": [],
   "source": [
    "x_train = train1[feature_names]\n",
    "x_test = test[feature_names]\n",
    "label_name = \"trip_duration\"\n",
    "y_train = train1[label_name]\n",
    "y_train = np.log1p(y_train)"
   ]
  },
  {
   "cell_type": "code",
   "execution_count": 29,
   "metadata": {},
   "outputs": [
    {
     "name": "stdout",
     "output_type": "stream",
     "text": [
      "(1458639, 57)\n",
      "(625134, 57)\n",
      "(1458639,)\n"
     ]
    }
   ],
   "source": [
    "print(x_train.shape)\n",
    "print(x_test.shape)\n",
    "print(y_train.shape)"
   ]
  },
  {
   "cell_type": "code",
   "execution_count": 30,
   "metadata": {},
   "outputs": [
    {
     "name": "stdout",
     "output_type": "stream",
     "text": [
      "시작\n",
      "완료\n",
      "학습 및 예측시간 : 20495.47초\n"
     ]
    },
    {
     "data": {
      "text/plain": [
       "array([ 839.2719 ,  577.2296 ,  394.98343,  975.8435 ,  347.4576 ,\n",
       "        899.0211 , 1270.925  , 1084.2709 , 2846.2808 ,  499.62845],\n",
       "      dtype=float32)"
      ]
     },
     "execution_count": 30,
     "metadata": {},
     "output_type": "execute_result"
    }
   ],
   "source": [
    "start = time.time()\n",
    "print(\"시작\")\n",
    "import xgboost as xgb\n",
    "\n",
    "XGB_model = xgb.XGBRegressor(max_depth = 12, n_estimators = 2000, min_child_weight = 1, gamma = 0.1,\n",
    "                             colsample_bytree = 1, seed = 36, learning_rate = 0.02, subsample = 0.9).fit(x_train, y_train)\n",
    "\n",
    "predictions = XGB_model.predict(x_test)\n",
    "predictions = np.expm1(predictions)\n",
    "print(\"완료\")\n",
    "print('학습 및 예측시간 : %.02f초' % (time.time() - start))\n",
    "predictions[0:10]"
   ]
  },
  {
   "cell_type": "code",
   "execution_count": 31,
   "metadata": {},
   "outputs": [],
   "source": [
    "submission['trip_duration'] = predictions\n",
    "submission.to_csv('XGB127.csv', index = False)"
   ]
  },
  {
   "cell_type": "code",
   "execution_count": null,
   "metadata": {},
   "outputs": [],
   "source": [
    "# 0.38494  -> 가장 좋았던 파라미터 조건에서 0.00002가 더 오름"
   ]
  }
 ],
 "metadata": {
  "kernelspec": {
   "display_name": "Python 3",
   "language": "python",
   "name": "python3"
  },
  "language_info": {
   "codemirror_mode": {
    "name": "ipython",
    "version": 3
   },
   "file_extension": ".py",
   "mimetype": "text/x-python",
   "name": "python",
   "nbconvert_exporter": "python",
   "pygments_lexer": "ipython3",
   "version": "3.6.5"
  }
 },
 "nbformat": 4,
 "nbformat_minor": 2
}
