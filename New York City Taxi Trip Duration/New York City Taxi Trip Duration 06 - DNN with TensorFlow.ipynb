{
 "cells": [
  {
   "cell_type": "markdown",
   "metadata": {},
   "source": [
    "# New York City Taxi Trip Duration 06 - DNN with TensorFlow\n"
   ]
  },
  {
   "cell_type": "markdown",
   "metadata": {},
   "source": [
    "###   \n",
    "### 목표 : 추가로 수행한 EDA를 통해서 나온 새로운 변수들을 추가해 예측모델의 성능을 높인다.\n",
    "###   \n",
    "###   "
   ]
  },
  {
   "cell_type": "markdown",
   "metadata": {},
   "source": [
    "### ● TensorFlow를 이용해 심층신경망(DNN)을 활용한 모델을 만든다.\n",
    "###   \n",
    "###   "
   ]
  },
  {
   "cell_type": "markdown",
   "metadata": {},
   "source": [
    "## 1.  데이터 전처리"
   ]
  },
  {
   "cell_type": "code",
   "execution_count": 1,
   "metadata": {},
   "outputs": [
    {
     "name": "stdout",
     "output_type": "stream",
     "text": [
      "시작\n",
      "완료!\n",
      "Running Time : 519.65초\n"
     ]
    }
   ],
   "source": [
    "import pandas as pd\n",
    "import numpy as np\n",
    "from math import sin, cos, sqrt, atan2, radians \n",
    "import time\n",
    "start = time.time()\n",
    "print(\"시작\")\n",
    "\n",
    "train = pd.read_csv(\"train.csv\", parse_dates = ['pickup_datetime', 'dropoff_datetime'])\n",
    "test = pd.read_csv(\"test.csv\", parse_dates = ['pickup_datetime'])\n",
    "weather = pd.read_csv(\"weather.csv\", parse_dates = ['datetime'])  # 데이터 전처리한 파일\n",
    "submission = pd.read_csv(\"sample_submission.csv\")\n",
    "\n",
    "# 날짜데이터 분할\n",
    "\n",
    "train['pickup_year'] = train['pickup_datetime'].dt.year  \n",
    "train['pickup_month'] = train['pickup_datetime'].dt.month\n",
    "train['pickup_day'] = train['pickup_datetime'].dt.day\n",
    "train['pickup_hour'] = train['pickup_datetime'].dt.hour\n",
    "train['pickup_minute'] = train['pickup_datetime'].dt.minute\n",
    "train['pickup_second'] = train['pickup_datetime'].dt.second\n",
    "train[\"pickup_dayofweek\"] = train[\"pickup_datetime\"].dt.dayofweek \n",
    "\n",
    "test['pickup_year'] = test['pickup_datetime'].dt.year  \n",
    "test['pickup_month'] = test['pickup_datetime'].dt.month\n",
    "test['pickup_day'] = test['pickup_datetime'].dt.day\n",
    "test['pickup_hour'] = test['pickup_datetime'].dt.hour\n",
    "test['pickup_minute'] = test['pickup_datetime'].dt.minute\n",
    "test['pickup_second'] = test['pickup_datetime'].dt.second\n",
    "test[\"pickup_dayofweek\"] = test[\"pickup_datetime\"].dt.dayofweek \n",
    "\n",
    "# 원핫인코딩\n",
    "\n",
    "train['store_and_fwd_flag_Y'] = train['store_and_fwd_flag'] == 'Y'\n",
    "train['store_and_fwd_flag_N'] = train['store_and_fwd_flag'] == 'N'\n",
    "\n",
    "test['store_and_fwd_flag_Y'] = test['store_and_fwd_flag'] == 'Y'\n",
    "test['store_and_fwd_flag_N'] = test['store_and_fwd_flag'] == 'N'\n",
    "\n",
    "\n",
    "train['vendor_1'] = train['vendor_id'] == 1\n",
    "train['vendor_2'] = train['vendor_id'] == 2\n",
    "\n",
    "test['vendor_1'] = test['vendor_id'] == 1\n",
    "test['vendor_2'] = test['vendor_id'] == 2\n",
    "\n",
    "\n",
    "train['passenger_0'] = train['passenger_count'] == 0\n",
    "train['passenger_1'] = train['passenger_count'] == 1\n",
    "train['passenger_2'] = train['passenger_count'] == 2\n",
    "train['passenger_3'] = train['passenger_count'] == 3\n",
    "train['passenger_4'] = train['passenger_count'] == 4\n",
    "train['passenger_5'] = train['passenger_count'] == 5\n",
    "train['passenger_6'] = train['passenger_count'] == 6\n",
    "train['passenger_7'] = train['passenger_count'] == 7\n",
    "train['passenger_8'] = train['passenger_count'] == 8\n",
    "train['passenger_9'] = train['passenger_count'] == 9\n",
    "\n",
    "test['passenger_0'] = test['passenger_count'] == 0\n",
    "test['passenger_1'] = test['passenger_count'] == 1\n",
    "test['passenger_2'] = test['passenger_count'] == 2\n",
    "test['passenger_3'] = test['passenger_count'] == 3\n",
    "test['passenger_4'] = test['passenger_count'] == 4\n",
    "test['passenger_5'] = test['passenger_count'] == 5\n",
    "test['passenger_6'] = test['passenger_count'] == 6\n",
    "test['passenger_7'] = test['passenger_count'] == 7\n",
    "test['passenger_8'] = test['passenger_count'] == 8\n",
    "test['passenger_9'] = test['passenger_count'] == 9\n",
    "\n",
    "# 요일 원핫인코딩 추가\n",
    "\n",
    "train[\"mon\"] = train[\"pickup_dayofweek\"] == 0\n",
    "train[\"tue\"] = train[\"pickup_dayofweek\"] == 1\n",
    "train[\"wed\"] = train[\"pickup_dayofweek\"] == 2\n",
    "train[\"thu\"] = train[\"pickup_dayofweek\"] == 3\n",
    "train[\"fri\"] = train[\"pickup_dayofweek\"] == 4\n",
    "train[\"sat\"] = train[\"pickup_dayofweek\"] == 5\n",
    "train[\"sun\"] = train[\"pickup_dayofweek\"] == 6\n",
    "\n",
    "test[\"mon\"] = test[\"pickup_dayofweek\"] == 0\n",
    "test[\"tue\"] = test[\"pickup_dayofweek\"] == 1\n",
    "test[\"wed\"] = test[\"pickup_dayofweek\"] == 2\n",
    "test[\"thu\"] = test[\"pickup_dayofweek\"] == 3\n",
    "test[\"fri\"] = test[\"pickup_dayofweek\"] == 4\n",
    "test[\"sat\"] = test[\"pickup_dayofweek\"] == 5\n",
    "test[\"sun\"] = test[\"pickup_dayofweek\"] == 6\n",
    "\n",
    "# 이동거리 추가(하버사인 + 맨하탄)\n",
    "\n",
    "def haversine(train):\n",
    "    lon1 = train['pickup_longitude']\n",
    "    lat1 = train['pickup_latitude']\n",
    "    lon2 = train['dropoff_longitude']\n",
    "    lat2 = train['dropoff_latitude']\n",
    "    lon1, lat1, lon2, lat2 = map(radians, [lon1, lat1, lon2, lat2])\n",
    "    dlon = lon2 - lon1 \n",
    "    dlat = lat2 - lat1 \n",
    "    a = sin(dlat/2)**2 + cos(lat1) * cos(lat2) * sin(dlon/2)**2\n",
    "    c = 2 * np.arcsin(sqrt(a)) \n",
    "    haversine_km = 6367 * c\n",
    "    return haversine_km\n",
    "\n",
    "def haversine(test):\n",
    "    lon1 = test['pickup_longitude']\n",
    "    lat1 = test['pickup_latitude']\n",
    "    lon2 = test['dropoff_longitude']\n",
    "    lat2 = test['dropoff_latitude']\n",
    "    lon1, lat1, lon2, lat2 = map(radians, [lon1, lat1, lon2, lat2])\n",
    "    dlon = lon2 - lon1 \n",
    "    dlat = lat2 - lat1 \n",
    "    a = sin(dlat/2)**2 + cos(lat1) * cos(lat2) * sin(dlon/2)**2\n",
    "    c = 2 * np.arcsin(sqrt(a)) \n",
    "    haversine_km = 6367 * c\n",
    "    return haversine_km\n",
    "\n",
    "def manhattan_distance(train):\n",
    "    lon1 = train['pickup_longitude']\n",
    "    lat1 = train['pickup_latitude']\n",
    "    lon2 = train['dropoff_longitude']\n",
    "    lat2 = train['dropoff_latitude']\n",
    "    manhattan_km = (abs(lon1 - lon2)*111) + (abs(lat1 - lat2)*85.397)\n",
    "    return manhattan_km\n",
    "\n",
    "def manhattan_distance(test):\n",
    "    lon1 = test['pickup_longitude']\n",
    "    lat1 = test['pickup_latitude']\n",
    "    lon2 = test['dropoff_longitude']\n",
    "    lat2 = test['dropoff_latitude']\n",
    "    km = (abs(lon1 - lon2)*111) + (abs(lat1 - lat2)*85.397)\n",
    "    return km\n",
    "\n",
    "train['haversine_distance'] = train.apply(lambda train: haversine(train), axis=1)\n",
    "test['haversine_distance'] = test.apply(lambda test: haversine(test), axis=1)\n",
    "train['manhattan_distance'] = train.apply(lambda train: manhattan_distance(train), axis=1)\n",
    "test['manhattan_distance'] = test.apply(lambda test: manhattan_distance(test), axis=1)\n",
    "\n",
    "\n",
    "# 날씨데이터 추가\n",
    "\n",
    "weather['year'] = weather['datetime'].dt.year  \n",
    "weather['month'] = weather['datetime'].dt.month\n",
    "weather['day'] = weather['datetime'].dt.day\n",
    "\n",
    "weather = weather.rename(columns = {'year' : 'pickup_year', 'month' : 'pickup_month', 'day' : 'pickup_day'})\n",
    "\n",
    "train = pd.merge(train, weather)\n",
    "test = pd.merge(test, weather)\n",
    "\n",
    "feature_names  = ['pickup_longitude', 'pickup_latitude',\n",
    "                  'dropoff_longitude', 'dropoff_latitude',\n",
    "                  'pickup_year', 'pickup_month', 'pickup_day',\n",
    "                  'pickup_hour', 'pickup_minute', 'pickup_second', 'pickup_dayofweek',\n",
    "                  'mon', 'tue', 'wed', 'thu', 'fri', 'sat', 'sun',\n",
    "                  'store_and_fwd_flag_Y', 'store_and_fwd_flag_N', \n",
    "                  'vendor_id', 'vendor_1', 'vendor_2',\n",
    "                  'passenger_count', 'passenger_0', 'passenger_1', 'passenger_2', \n",
    "                  'passenger_3', 'passenger_4', 'passenger_5', 'passenger_6', \n",
    "                  'passenger_7', 'passenger_8', 'passenger_9', \n",
    "                  'haversine_distance', 'manhattan_distance', \n",
    "                  'T_high', 'T_avg', 'T_low', 'D_high', 'D_avg', 'D_low', \n",
    "                  'H_high', 'H_avg', 'H_low', 'S_high', 'S_avg', 'S_low', \n",
    "                  'V_high', 'V_avg', 'V_low', 'W_high', 'W_avg', 'W_high.1',\n",
    "                  'Precip. (mm)', 'rain', 'snow', 'fog']\n",
    "\n",
    "x_train = train[feature_names]\n",
    "x_test = test[feature_names]\n",
    "label_name = \"trip_duration\"\n",
    "y_train = train[label_name]\n",
    "y_train = np.log1p(y_train)\n",
    "\n",
    "print(\"완료!\")\n",
    "print('Running Time : %.02f초' % (time.time() - start))\n"
   ]
  },
  {
   "cell_type": "markdown",
   "metadata": {},
   "source": [
    "#### 대체적으로 좋은 결과를 보여주었단 basic_features를 사용\n",
    "#### 텐서플로에는 행렬형태로 들어가고, placeholder에 넣을 때 컬럼 갯수를 조절할 수 있다.\n",
    "#### 전처리가 완료된 pandas DataFrame 형태의 데이터를 TensorFlow의 Tensor로 변환한다."
   ]
  },
  {
   "cell_type": "code",
   "execution_count": 2,
   "metadata": {},
   "outputs": [
    {
     "name": "stdout",
     "output_type": "stream",
     "text": [
      "(1458644, 58)\n",
      "(625134, 58)\n",
      "(1458644,)\n"
     ]
    }
   ],
   "source": [
    "print(x_train.shape)\n",
    "print(x_test.shape)\n",
    "print(y_train.shape)"
   ]
  },
  {
   "cell_type": "markdown",
   "metadata": {},
   "source": [
    "#### 데이터 프레임을 행렬 형태로 변환"
   ]
  },
  {
   "cell_type": "code",
   "execution_count": 3,
   "metadata": {
    "collapsed": true
   },
   "outputs": [],
   "source": [
    "x_train = np.array(x_train, dtype=np.float32)\n",
    "y_train = np.array(y_train, dtype=np.float32)\n",
    "x_test = np.array(x_test, dtype=np.float32)"
   ]
  },
  {
   "cell_type": "markdown",
   "metadata": {},
   "source": [
    "#### y_train을 확실하게 (1458644 , 1) 형태로 변환"
   ]
  },
  {
   "cell_type": "code",
   "execution_count": 4,
   "metadata": {
    "collapsed": true
   },
   "outputs": [],
   "source": [
    "x_train = x_train.reshape(1458644, 58)\n",
    "y_train = y_train.reshape(1458644, 1)\n",
    "x_test = x_test.reshape(625134, 58)"
   ]
  },
  {
   "cell_type": "code",
   "execution_count": 5,
   "metadata": {},
   "outputs": [
    {
     "name": "stdout",
     "output_type": "stream",
     "text": [
      "(1458644, 58)\n",
      "(625134, 58)\n",
      "(1458644, 1)\n"
     ]
    }
   ],
   "source": [
    "print(x_train.shape)\n",
    "print(x_test.shape)\n",
    "print(y_train.shape)"
   ]
  },
  {
   "cell_type": "markdown",
   "metadata": {
    "collapsed": true
   },
   "source": [
    "####  \n",
    "####  "
   ]
  },
  {
   "cell_type": "markdown",
   "metadata": {},
   "source": [
    "## 2. TensorFlow 신경망 모델 구성"
   ]
  },
  {
   "cell_type": "markdown",
   "metadata": {},
   "source": [
    "### 텐서플로우 실행"
   ]
  },
  {
   "cell_type": "code",
   "execution_count": 6,
   "metadata": {},
   "outputs": [
    {
     "name": "stdout",
     "output_type": "stream",
     "text": [
      "Tensor(\"Const:0\", shape=(), dtype=string)\n",
      "b'hello, tensorflow!'\n"
     ]
    }
   ],
   "source": [
    "import tensorflow as tf\n",
    "\n",
    "hello = tf.constant('hello, tensorflow!')\n",
    "print(hello)\n",
    "sess = tf.Session()\n",
    "print(sess.run(hello))"
   ]
  },
  {
   "cell_type": "markdown",
   "metadata": {},
   "source": [
    "### 1) 입출력 정의"
   ]
  },
  {
   "cell_type": "code",
   "execution_count": 7,
   "metadata": {
    "collapsed": true
   },
   "outputs": [],
   "source": [
    "X = tf.placeholder(tf.float32, [None, 58]) \n",
    "Y = tf.placeholder(tf.float32, [None, 1])  \n",
    "keep_prob = tf.placeholder(tf.float32)"
   ]
  },
  {
   "cell_type": "markdown",
   "metadata": {},
   "source": [
    "### 2) 은닉층 구성"
   ]
  },
  {
   "cell_type": "markdown",
   "metadata": {},
   "source": [
    "#### (1) ReLU 함수"
   ]
  },
  {
   "cell_type": "code",
   "execution_count": 24,
   "metadata": {
    "collapsed": true
   },
   "outputs": [],
   "source": [
    "W1 = tf.Variable(tf.random_normal([58 ,256], stddev = 0.01))\n",
    "b1 = tf.Variable(tf.random_normal([256]))\n",
    "L1 = tf.add(tf.matmul(X, W1), b1)\n",
    "L1 = tf.nn.relu(L1)\n",
    "L1 = tf.nn.dropout(L1, keep_prob)\n",
    "\n",
    "\n",
    "W2 = tf.Variable(tf.random_normal([256, 256], stddev = 0.01))\n",
    "b2 = tf.Variable(tf.random_normal([256]))\n",
    "L2 = tf.add(tf.matmul(L1, W2), b2)\n",
    "L2 = tf.nn.relu(L2)\n",
    "L2 = tf.nn.dropout(L2, keep_prob)\n",
    "\n",
    "W3 = tf.Variable(tf.random_normal([256, 1], stddev = 0.01))\n",
    "b3 = tf.Variable(tf.random_normal([1]))\n",
    "model = tf.add(tf.matmul(L2, W3), b3)"
   ]
  },
  {
   "cell_type": "code",
   "execution_count": 11,
   "metadata": {
    "collapsed": true
   },
   "outputs": [],
   "source": [
    "W1 = tf.Variable(tf.random_normal([58 ,128], stddev = 0.01))\n",
    "b1 = tf.Variable(tf.random_normal([128]))\n",
    "L1 = tf.add(tf.matmul(X, W1), b1b\n",
    "L1 = tf.nn.relu(L1)\n",
    "L1 = tf.nn.dropout(L1, keep_prob)\n",
    "\n",
    "\n",
    "W2 = tf.Variable(tf.random_normal([128, 128], stddev = 0.01))\n",
    "b2 = tf.Variable(tf.random_normal([128]))\n",
    "L2 = tf.add(tf.matmul(L1, W2), b2)\n",
    "L2 = tf.nn.relu(L2)\n",
    "L2 = tf.nn.dropout(L2, keep_prob)\n",
    "\n",
    "W3 = tf.Variable(tf.random_normal([128, 1], stddev = 0.01))\n",
    "b3 = tf.Variable(tf.random_normal([1]))\n",
    "model = tf.add(tf.matmul(L2, W3), b3)"
   ]
  },
  {
   "cell_type": "markdown",
   "metadata": {},
   "source": [
    "#### (1) 활성화 함수 X "
   ]
  },
  {
   "cell_type": "code",
   "execution_count": 9,
   "metadata": {},
   "outputs": [],
   "source": [
    "# 렐루 함수 X \n",
    "\n",
    "W1 = tf.Variable(tf.random_normal([58 ,256], stddev = 0.01))\n",
    "b1 = tf.Variable(tf.random_normal([256]))\n",
    "L1 = tf.add(tf.matmul(X, W1), b1)\n",
    "L1 = tf.nn.dropout(L1, keep_prob)\n",
    "\n",
    "\n",
    "W2 = tf.Variable(tf.random_normal([256, 256], stddev = 0.01))\n",
    "b2 = tf.Variable(tf.random_normal([256]))\n",
    "L2 = tf.add(tf.matmul(L1, W2), b2)\n",
    "L2 = tf.nn.dropout(L2, keep_prob)\n",
    "\n",
    "W3 = tf.Variable(tf.random_normal([256, 1], stddev = 0.01))\n",
    "b3 = tf.Variable(tf.random_normal([1]))\n",
    "model = tf.add(tf.matmul(L2, W3), b3)"
   ]
  },
  {
   "cell_type": "markdown",
   "metadata": {
    "collapsed": true
   },
   "source": [
    "### 3) 손실함수 및 최적화"
   ]
  },
  {
   "cell_type": "markdown",
   "metadata": {},
   "source": [
    "#### (1) 손실함수"
   ]
  },
  {
   "cell_type": "code",
   "execution_count": 10,
   "metadata": {
    "collapsed": true
   },
   "outputs": [],
   "source": [
    "cost = tf.reduce_mean(tf.square(model - Y))"
   ]
  },
  {
   "cell_type": "markdown",
   "metadata": {},
   "source": [
    "#### (2) 최적화 함수"
   ]
  },
  {
   "cell_type": "code",
   "execution_count": 11,
   "metadata": {
    "collapsed": true
   },
   "outputs": [],
   "source": [
    "optimizer = tf.train.AdamOptimizer(0.001).minimize(cost)"
   ]
  },
  {
   "cell_type": "code",
   "execution_count": 33,
   "metadata": {
    "collapsed": true
   },
   "outputs": [],
   "source": [
    "optimizer = tf.train.GradientDescentOptimizer(0.001).minimize(cost) \n",
    "\n",
    "# NaN 값이 나와 사용 중지"
   ]
  },
  {
   "cell_type": "markdown",
   "metadata": {},
   "source": [
    "#### 4)세션 열기  \n",
    "#### 현재 GTX 1050으로는 약 140만 건의 데이터 처리를 못해 CPU로 학습"
   ]
  },
  {
   "cell_type": "markdown",
   "metadata": {},
   "source": [
    "##### (1) 기본 세션 "
   ]
  },
  {
   "cell_type": "code",
   "execution_count": 12,
   "metadata": {
    "collapsed": true
   },
   "outputs": [],
   "source": [
    "init = tf.global_variables_initializer()\n",
    "sess.run(init)"
   ]
  },
  {
   "cell_type": "markdown",
   "metadata": {},
   "source": [
    "##### (2) CPU 사용"
   ]
  },
  {
   "cell_type": "code",
   "execution_count": 29,
   "metadata": {
    "collapsed": true
   },
   "outputs": [],
   "source": [
    "init = tf.global_variables_initializer()\n",
    "config = tf.ConfigProto(device_count = {'GPU': 0})\n",
    "sess = tf.Session(config=config)\n",
    "sess.run(init)"
   ]
  },
  {
   "cell_type": "markdown",
   "metadata": {},
   "source": [
    "##### (3) GPU 사용"
   ]
  },
  {
   "cell_type": "code",
   "execution_count": 23,
   "metadata": {
    "collapsed": true
   },
   "outputs": [],
   "source": [
    "init = tf.global_variables_initializer()\n",
    "gpu_options = tf.GPUOptions(per_process_gpu_memory_fraction=0.33)\n",
    "sess = tf.Session(config=tf.ConfigProto(gpu_options=gpu_options))\n",
    "\n",
    "sess.run(init)"
   ]
  },
  {
   "cell_type": "markdown",
   "metadata": {},
   "source": [
    "##### (4) CPU와 GPU 성능 확인"
   ]
  },
  {
   "cell_type": "code",
   "execution_count": 21,
   "metadata": {},
   "outputs": [
    {
     "data": {
      "text/plain": [
       "[_DeviceAttributes(/job:localhost/replica:0/task:0/device:CPU:0, CPU, 268435456),\n",
       " _DeviceAttributes(/job:localhost/replica:0/task:0/device:GPU:0, GPU, 1425725849)]"
      ]
     },
     "execution_count": 21,
     "metadata": {},
     "output_type": "execute_result"
    }
   ],
   "source": [
    "sess = tf.Session(config=tf.ConfigProto(log_device_placement=True))\n",
    "sess.list_devices()"
   ]
  },
  {
   "cell_type": "code",
   "execution_count": 16,
   "metadata": {},
   "outputs": [
    {
     "data": {
      "text/plain": [
       "'1.10.0'"
      ]
     },
     "execution_count": 16,
     "metadata": {},
     "output_type": "execute_result"
    }
   ],
   "source": [
    "tf.__version__"
   ]
  },
  {
   "cell_type": "markdown",
   "metadata": {},
   "source": [
    "### 5) 학습"
   ]
  },
  {
   "cell_type": "code",
   "execution_count": 13,
   "metadata": {
    "scrolled": false
   },
   "outputs": [
    {
     "name": "stdout",
     "output_type": "stream",
     "text": [
      "10  번 :  5.30902\n",
      "Time  0:08:22\n",
      "최적화 완료\n",
      "\n",
      "\n",
      "예측값 :  [[ 8.03012562]\n",
      " [ 6.0846467 ]\n",
      " [ 8.27035809]\n",
      " ..., \n",
      " [ 7.02959538]\n",
      " [ 9.34763432]\n",
      " [ 8.17633533]]\n",
      "실제값 :  [[ 6.12249279]\n",
      " [ 7.20563507]\n",
      " [ 6.5453496 ]\n",
      " ..., \n",
      " [ 6.59441328]\n",
      " [ 6.66568375]\n",
      " [ 5.29330492]]\n",
      "최종 소요 시간  0:08:39\n"
     ]
    }
   ],
   "source": [
    "# 학습 10번\n",
    "\n",
    "print(\"시작\")\n",
    "start = time.time()\n",
    "\n",
    "for epoch in range(10):\n",
    "    sess.run(optimizer, feed_dict = {X : x_train, Y : y_train, keep_prob : 0.8})\n",
    "    \n",
    "    if (epoch+1) % 10 == 0:\n",
    "        print((epoch+1),\" 번 : \", sess.run(cost, feed_dict = {X : x_train, Y : y_train, keep_prob : 0.8}))\n",
    "        intime = time.time() - start\n",
    "        m, s = divmod(intime, 60)\n",
    "        h, m = divmod(m, 60)\n",
    "        print(\"Time \", \"%d:%02d:%02d\" % (h, m, s))\n",
    "        \n",
    "print(\"최적화 완료\")\n",
    "print(\"\")\n",
    "print(\"\")\n",
    "\n",
    "\n",
    "\n",
    "print(\"예측값 : \", sess.run(model, feed_dict = {X : x_train, Y : y_train, keep_prob : 0.8}))\n",
    "print(\"실제값 : \", sess.run(Y, feed_dict = {X : x_train, Y : y_train, keep_prob : 0.8}))\n",
    "\n",
    "end = time.time() - start\n",
    "m, s = divmod(end, 60)\n",
    "h, m = divmod(m, 60)\n",
    "print(\"최종 소요 시간 \", \"%d:%02d:%02d\" % (h, m, s)) "
   ]
  },
  {
   "cell_type": "markdown",
   "metadata": {
    "collapsed": true
   },
   "source": [
    "####  \n",
    "####  "
   ]
  },
  {
   "cell_type": "markdown",
   "metadata": {},
   "source": [
    "## 3. 예측 및 결과 확인"
   ]
  },
  {
   "cell_type": "markdown",
   "metadata": {},
   "source": [
    "### 1) 예측"
   ]
  },
  {
   "cell_type": "code",
   "execution_count": 14,
   "metadata": {},
   "outputs": [
    {
     "data": {
      "text/plain": [
       "array([[ 1349.14111328],\n",
       "       [  683.11120605],\n",
       "       [ 2508.55639648],\n",
       "       ..., \n",
       "       [ 3487.59448242],\n",
       "       [ 1471.28503418],\n",
       "       [ 3873.23339844]], dtype=float32)"
      ]
     },
     "execution_count": 14,
     "metadata": {},
     "output_type": "execute_result"
    }
   ],
   "source": [
    "predictions = sess.run(model, feed_dict = {X : x_test, keep_prob : 0.8})\n",
    "predictions = np.expm1(predictions)\n",
    "predictions"
   ]
  },
  {
   "cell_type": "markdown",
   "metadata": {},
   "source": [
    "#### 2) 결과 제출"
   ]
  },
  {
   "cell_type": "code",
   "execution_count": 15,
   "metadata": {
    "collapsed": true
   },
   "outputs": [],
   "source": [
    "submission['trip_duration'] = predictions\n",
    "submission.to_csv('TS10.csv', index = False)"
   ]
  },
  {
   "cell_type": "markdown",
   "metadata": {
    "collapsed": true
   },
   "source": [
    "####  \n",
    "####  \n",
    "## 4. 결과 보고서"
   ]
  },
  {
   "cell_type": "markdown",
   "metadata": {},
   "source": [
    "#### 은닉층 3개 : [None, 256] / [256 ,256] / [256, 1]    keep_prob : 0.8.  \n",
    "#### 손실함수 cost = tf.reduce_mean(tf.square(model - Y))\n",
    "#### AdamOptimizer(0.001)   ReLU 함수"
   ]
  },
  {
   "cell_type": "code",
   "execution_count": null,
   "metadata": {
    "collapsed": true
   },
   "outputs": [],
   "source": [
    "# 기본 변수(49)\n",
    "100번 학습 : 0.92080 \n",
    "    \n",
    "# 기본 변수 + dropoff 위도 경도 추가(51)\n",
    "10 번 학습 : 0.95022\n",
    "    \n",
    "# 기본 변수 + dropoff 위도 경도 추가(51)\n",
    "10 번 학습 : 0.90311\n",
    "           \n",
    "# 기본 변수 + dropoff 위도 경도 요일 추가(58)\n",
    "100번 학습 : 0.90646"
   ]
  },
  {
   "cell_type": "markdown",
   "metadata": {},
   "source": [
    "#### GradientDescentOptimizer(0.001)"
   ]
  },
  {
   "cell_type": "code",
   "execution_count": null,
   "metadata": {
    "collapsed": true
   },
   "outputs": [],
   "source": [
    "# 기본 변수 (49)\n",
    "10번 학습 : NAN값"
   ]
  },
  {
   "cell_type": "markdown",
   "metadata": {},
   "source": [
    "#### AdamOptimizer(0.01)   ReLU 함수"
   ]
  },
  {
   "cell_type": "code",
   "execution_count": null,
   "metadata": {
    "collapsed": true
   },
   "outputs": [],
   "source": [
    "# 기본 변수(49)\n",
    "10 번 학습 : 1.24397"
   ]
  },
  {
   "cell_type": "markdown",
   "metadata": {
    "collapsed": true
   },
   "source": [
    "#### 은닉층 3개 : [None, 128] / [128 ,128] / [128, 1]   keep_prob : 0.8\n",
    "#### AdamOptimizer(0.001) ReLU 함수"
   ]
  },
  {
   "cell_type": "code",
   "execution_count": null,
   "metadata": {
    "collapsed": true
   },
   "outputs": [],
   "source": [
    "# 기본 변수 + dropoff 위도 경도 요일 추가(58)\n",
    "10 번 학습 : 1.34005\n",
    "100번 학습 : 1.09061"
   ]
  },
  {
   "cell_type": "markdown",
   "metadata": {},
   "source": [
    "#### AdamOptimizer(0.001) ReLU 함수 X"
   ]
  },
  {
   "cell_type": "code",
   "execution_count": null,
   "metadata": {
    "collapsed": true
   },
   "outputs": [],
   "source": [
    "# 기본 변수 + dropoff 위도 경도 요일 추가(58)\n",
    "10 번 학습 : 2.30351"
   ]
  }
 ],
 "metadata": {
  "kernelspec": {
   "display_name": "Python 3",
   "language": "python",
   "name": "python3"
  },
  "language_info": {
   "codemirror_mode": {
    "name": "ipython",
    "version": 3
   },
   "file_extension": ".py",
   "mimetype": "text/x-python",
   "name": "python",
   "nbconvert_exporter": "python",
   "pygments_lexer": "ipython3",
   "version": "3.6.3"
  }
 },
 "nbformat": 4,
 "nbformat_minor": 2
}
