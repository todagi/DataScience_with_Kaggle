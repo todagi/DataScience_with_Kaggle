{
 "cells": [
  {
   "cell_type": "markdown",
   "metadata": {},
   "source": [
    "# New York City Taxi Trip Duration 01 - EDA"
   ]
  },
  {
   "cell_type": "markdown",
   "metadata": {},
   "source": [
    "### ※ 프로젝트 개요\n",
    "####   \n",
    "####   \n",
    "### ● 뉴욕시 의 택시 주행 시간을 예측하는 모델 만들기\n",
    "### ● 픽업 시간, 지리적 좌표, 승객 수 등의 변수가 포함된 NYC 택시 리무진 위원회에서 만든 데이터를 가공해서 사용"
   ]
  },
  {
   "cell_type": "markdown",
   "metadata": {},
   "source": [
    "###   \n",
    "### 목표 : 데이터에 대한 EDA(탐색적 데이터 분석)을 수행\n",
    "###   \n",
    "###   "
   ]
  },
  {
   "cell_type": "markdown",
   "metadata": {},
   "source": [
    "## 1. 데이터 불러오기"
   ]
  },
  {
   "cell_type": "code",
   "execution_count": 3,
   "metadata": {
    "collapsed": true
   },
   "outputs": [],
   "source": [
    "import pandas as pd"
   ]
  },
  {
   "cell_type": "markdown",
   "metadata": {},
   "source": [
    "#### train 데이터"
   ]
  },
  {
   "cell_type": "code",
   "execution_count": 4,
   "metadata": {},
   "outputs": [
    {
     "name": "stdout",
     "output_type": "stream",
     "text": [
      "(1458644, 11)\n"
     ]
    },
    {
     "data": {
      "text/html": [
       "<div>\n",
       "<style>\n",
       "    .dataframe thead tr:only-child th {\n",
       "        text-align: right;\n",
       "    }\n",
       "\n",
       "    .dataframe thead th {\n",
       "        text-align: left;\n",
       "    }\n",
       "\n",
       "    .dataframe tbody tr th {\n",
       "        vertical-align: top;\n",
       "    }\n",
       "</style>\n",
       "<table border=\"1\" class=\"dataframe\">\n",
       "  <thead>\n",
       "    <tr style=\"text-align: right;\">\n",
       "      <th></th>\n",
       "      <th>id</th>\n",
       "      <th>vendor_id</th>\n",
       "      <th>pickup_datetime</th>\n",
       "      <th>dropoff_datetime</th>\n",
       "      <th>passenger_count</th>\n",
       "      <th>pickup_longitude</th>\n",
       "      <th>pickup_latitude</th>\n",
       "      <th>dropoff_longitude</th>\n",
       "      <th>dropoff_latitude</th>\n",
       "      <th>store_and_fwd_flag</th>\n",
       "      <th>trip_duration</th>\n",
       "    </tr>\n",
       "  </thead>\n",
       "  <tbody>\n",
       "    <tr>\n",
       "      <th>0</th>\n",
       "      <td>id2875421</td>\n",
       "      <td>2</td>\n",
       "      <td>2016-03-14 17:24:55</td>\n",
       "      <td>2016-03-14 17:32:30</td>\n",
       "      <td>1</td>\n",
       "      <td>-73.982155</td>\n",
       "      <td>40.767937</td>\n",
       "      <td>-73.964630</td>\n",
       "      <td>40.765602</td>\n",
       "      <td>N</td>\n",
       "      <td>455</td>\n",
       "    </tr>\n",
       "    <tr>\n",
       "      <th>1</th>\n",
       "      <td>id2377394</td>\n",
       "      <td>1</td>\n",
       "      <td>2016-06-12 00:43:35</td>\n",
       "      <td>2016-06-12 00:54:38</td>\n",
       "      <td>1</td>\n",
       "      <td>-73.980415</td>\n",
       "      <td>40.738564</td>\n",
       "      <td>-73.999481</td>\n",
       "      <td>40.731152</td>\n",
       "      <td>N</td>\n",
       "      <td>663</td>\n",
       "    </tr>\n",
       "    <tr>\n",
       "      <th>2</th>\n",
       "      <td>id3858529</td>\n",
       "      <td>2</td>\n",
       "      <td>2016-01-19 11:35:24</td>\n",
       "      <td>2016-01-19 12:10:48</td>\n",
       "      <td>1</td>\n",
       "      <td>-73.979027</td>\n",
       "      <td>40.763939</td>\n",
       "      <td>-74.005333</td>\n",
       "      <td>40.710087</td>\n",
       "      <td>N</td>\n",
       "      <td>2124</td>\n",
       "    </tr>\n",
       "    <tr>\n",
       "      <th>3</th>\n",
       "      <td>id3504673</td>\n",
       "      <td>2</td>\n",
       "      <td>2016-04-06 19:32:31</td>\n",
       "      <td>2016-04-06 19:39:40</td>\n",
       "      <td>1</td>\n",
       "      <td>-74.010040</td>\n",
       "      <td>40.719971</td>\n",
       "      <td>-74.012268</td>\n",
       "      <td>40.706718</td>\n",
       "      <td>N</td>\n",
       "      <td>429</td>\n",
       "    </tr>\n",
       "    <tr>\n",
       "      <th>4</th>\n",
       "      <td>id2181028</td>\n",
       "      <td>2</td>\n",
       "      <td>2016-03-26 13:30:55</td>\n",
       "      <td>2016-03-26 13:38:10</td>\n",
       "      <td>1</td>\n",
       "      <td>-73.973053</td>\n",
       "      <td>40.793209</td>\n",
       "      <td>-73.972923</td>\n",
       "      <td>40.782520</td>\n",
       "      <td>N</td>\n",
       "      <td>435</td>\n",
       "    </tr>\n",
       "  </tbody>\n",
       "</table>\n",
       "</div>"
      ],
      "text/plain": [
       "          id  vendor_id     pickup_datetime    dropoff_datetime  \\\n",
       "0  id2875421          2 2016-03-14 17:24:55 2016-03-14 17:32:30   \n",
       "1  id2377394          1 2016-06-12 00:43:35 2016-06-12 00:54:38   \n",
       "2  id3858529          2 2016-01-19 11:35:24 2016-01-19 12:10:48   \n",
       "3  id3504673          2 2016-04-06 19:32:31 2016-04-06 19:39:40   \n",
       "4  id2181028          2 2016-03-26 13:30:55 2016-03-26 13:38:10   \n",
       "\n",
       "   passenger_count  pickup_longitude  pickup_latitude  dropoff_longitude  \\\n",
       "0                1        -73.982155        40.767937         -73.964630   \n",
       "1                1        -73.980415        40.738564         -73.999481   \n",
       "2                1        -73.979027        40.763939         -74.005333   \n",
       "3                1        -74.010040        40.719971         -74.012268   \n",
       "4                1        -73.973053        40.793209         -73.972923   \n",
       "\n",
       "   dropoff_latitude store_and_fwd_flag  trip_duration  \n",
       "0         40.765602                  N            455  \n",
       "1         40.731152                  N            663  \n",
       "2         40.710087                  N           2124  \n",
       "3         40.706718                  N            429  \n",
       "4         40.782520                  N            435  "
      ]
     },
     "execution_count": 4,
     "metadata": {},
     "output_type": "execute_result"
    }
   ],
   "source": [
    "train = pd.read_csv(\"train.csv\", parse_dates = ['pickup_datetime', 'dropoff_datetime'])\n",
    "print(train.shape)\n",
    "train.head()"
   ]
  },
  {
   "cell_type": "markdown",
   "metadata": {},
   "source": [
    "#### test 데이터"
   ]
  },
  {
   "cell_type": "code",
   "execution_count": 5,
   "metadata": {},
   "outputs": [
    {
     "name": "stdout",
     "output_type": "stream",
     "text": [
      "(625134, 9)\n"
     ]
    },
    {
     "data": {
      "text/html": [
       "<div>\n",
       "<style>\n",
       "    .dataframe thead tr:only-child th {\n",
       "        text-align: right;\n",
       "    }\n",
       "\n",
       "    .dataframe thead th {\n",
       "        text-align: left;\n",
       "    }\n",
       "\n",
       "    .dataframe tbody tr th {\n",
       "        vertical-align: top;\n",
       "    }\n",
       "</style>\n",
       "<table border=\"1\" class=\"dataframe\">\n",
       "  <thead>\n",
       "    <tr style=\"text-align: right;\">\n",
       "      <th></th>\n",
       "      <th>id</th>\n",
       "      <th>vendor_id</th>\n",
       "      <th>pickup_datetime</th>\n",
       "      <th>passenger_count</th>\n",
       "      <th>pickup_longitude</th>\n",
       "      <th>pickup_latitude</th>\n",
       "      <th>dropoff_longitude</th>\n",
       "      <th>dropoff_latitude</th>\n",
       "      <th>store_and_fwd_flag</th>\n",
       "    </tr>\n",
       "  </thead>\n",
       "  <tbody>\n",
       "    <tr>\n",
       "      <th>0</th>\n",
       "      <td>id3004672</td>\n",
       "      <td>1</td>\n",
       "      <td>2016-06-30 23:59:58</td>\n",
       "      <td>1</td>\n",
       "      <td>-73.988129</td>\n",
       "      <td>40.732029</td>\n",
       "      <td>-73.990173</td>\n",
       "      <td>40.756680</td>\n",
       "      <td>N</td>\n",
       "    </tr>\n",
       "    <tr>\n",
       "      <th>1</th>\n",
       "      <td>id3505355</td>\n",
       "      <td>1</td>\n",
       "      <td>2016-06-30 23:59:53</td>\n",
       "      <td>1</td>\n",
       "      <td>-73.964203</td>\n",
       "      <td>40.679993</td>\n",
       "      <td>-73.959808</td>\n",
       "      <td>40.655403</td>\n",
       "      <td>N</td>\n",
       "    </tr>\n",
       "    <tr>\n",
       "      <th>2</th>\n",
       "      <td>id1217141</td>\n",
       "      <td>1</td>\n",
       "      <td>2016-06-30 23:59:47</td>\n",
       "      <td>1</td>\n",
       "      <td>-73.997437</td>\n",
       "      <td>40.737583</td>\n",
       "      <td>-73.986160</td>\n",
       "      <td>40.729523</td>\n",
       "      <td>N</td>\n",
       "    </tr>\n",
       "    <tr>\n",
       "      <th>3</th>\n",
       "      <td>id2150126</td>\n",
       "      <td>2</td>\n",
       "      <td>2016-06-30 23:59:41</td>\n",
       "      <td>1</td>\n",
       "      <td>-73.956070</td>\n",
       "      <td>40.771900</td>\n",
       "      <td>-73.986427</td>\n",
       "      <td>40.730469</td>\n",
       "      <td>N</td>\n",
       "    </tr>\n",
       "    <tr>\n",
       "      <th>4</th>\n",
       "      <td>id1598245</td>\n",
       "      <td>1</td>\n",
       "      <td>2016-06-30 23:59:33</td>\n",
       "      <td>1</td>\n",
       "      <td>-73.970215</td>\n",
       "      <td>40.761475</td>\n",
       "      <td>-73.961510</td>\n",
       "      <td>40.755890</td>\n",
       "      <td>N</td>\n",
       "    </tr>\n",
       "  </tbody>\n",
       "</table>\n",
       "</div>"
      ],
      "text/plain": [
       "          id  vendor_id     pickup_datetime  passenger_count  \\\n",
       "0  id3004672          1 2016-06-30 23:59:58                1   \n",
       "1  id3505355          1 2016-06-30 23:59:53                1   \n",
       "2  id1217141          1 2016-06-30 23:59:47                1   \n",
       "3  id2150126          2 2016-06-30 23:59:41                1   \n",
       "4  id1598245          1 2016-06-30 23:59:33                1   \n",
       "\n",
       "   pickup_longitude  pickup_latitude  dropoff_longitude  dropoff_latitude  \\\n",
       "0        -73.988129        40.732029         -73.990173         40.756680   \n",
       "1        -73.964203        40.679993         -73.959808         40.655403   \n",
       "2        -73.997437        40.737583         -73.986160         40.729523   \n",
       "3        -73.956070        40.771900         -73.986427         40.730469   \n",
       "4        -73.970215        40.761475         -73.961510         40.755890   \n",
       "\n",
       "  store_and_fwd_flag  \n",
       "0                  N  \n",
       "1                  N  \n",
       "2                  N  \n",
       "3                  N  \n",
       "4                  N  "
      ]
     },
     "execution_count": 5,
     "metadata": {},
     "output_type": "execute_result"
    }
   ],
   "source": [
    "test = pd.read_csv(\"test.csv\", parse_dates = ['pickup_datetime'])\n",
    "print(test.shape)\n",
    "test.head()"
   ]
  },
  {
   "cell_type": "markdown",
   "metadata": {},
   "source": [
    "#### 제출양식"
   ]
  },
  {
   "cell_type": "code",
   "execution_count": 4,
   "metadata": {},
   "outputs": [
    {
     "name": "stdout",
     "output_type": "stream",
     "text": [
      "(625134, 2)\n"
     ]
    },
    {
     "data": {
      "text/html": [
       "<div>\n",
       "<style>\n",
       "    .dataframe thead tr:only-child th {\n",
       "        text-align: right;\n",
       "    }\n",
       "\n",
       "    .dataframe thead th {\n",
       "        text-align: left;\n",
       "    }\n",
       "\n",
       "    .dataframe tbody tr th {\n",
       "        vertical-align: top;\n",
       "    }\n",
       "</style>\n",
       "<table border=\"1\" class=\"dataframe\">\n",
       "  <thead>\n",
       "    <tr style=\"text-align: right;\">\n",
       "      <th></th>\n",
       "      <th>id</th>\n",
       "      <th>trip_duration</th>\n",
       "    </tr>\n",
       "  </thead>\n",
       "  <tbody>\n",
       "    <tr>\n",
       "      <th>0</th>\n",
       "      <td>id3004672</td>\n",
       "      <td>959</td>\n",
       "    </tr>\n",
       "    <tr>\n",
       "      <th>1</th>\n",
       "      <td>id3505355</td>\n",
       "      <td>959</td>\n",
       "    </tr>\n",
       "    <tr>\n",
       "      <th>2</th>\n",
       "      <td>id1217141</td>\n",
       "      <td>959</td>\n",
       "    </tr>\n",
       "    <tr>\n",
       "      <th>3</th>\n",
       "      <td>id2150126</td>\n",
       "      <td>959</td>\n",
       "    </tr>\n",
       "    <tr>\n",
       "      <th>4</th>\n",
       "      <td>id1598245</td>\n",
       "      <td>959</td>\n",
       "    </tr>\n",
       "  </tbody>\n",
       "</table>\n",
       "</div>"
      ],
      "text/plain": [
       "          id  trip_duration\n",
       "0  id3004672            959\n",
       "1  id3505355            959\n",
       "2  id1217141            959\n",
       "3  id2150126            959\n",
       "4  id1598245            959"
      ]
     },
     "execution_count": 4,
     "metadata": {},
     "output_type": "execute_result"
    }
   ],
   "source": [
    "predictions = pd.read_csv(\"sample_submission.csv\")\n",
    "print(predictions.shape)\n",
    "predictions.head()"
   ]
  },
  {
   "cell_type": "markdown",
   "metadata": {},
   "source": [
    "####   \n",
    "####   "
   ]
  },
  {
   "cell_type": "markdown",
   "metadata": {},
   "source": [
    "## 2. 데이터 탐색"
   ]
  },
  {
   "cell_type": "markdown",
   "metadata": {},
   "source": [
    "### 1) 변수 확인"
   ]
  },
  {
   "cell_type": "code",
   "execution_count": 5,
   "metadata": {},
   "outputs": [
    {
     "data": {
      "text/plain": [
       "Index(['id', 'vendor_id', 'pickup_datetime', 'dropoff_datetime',\n",
       "       'passenger_count', 'pickup_longitude', 'pickup_latitude',\n",
       "       'dropoff_longitude', 'dropoff_latitude', 'store_and_fwd_flag',\n",
       "       'trip_duration'],\n",
       "      dtype='object')"
      ]
     },
     "execution_count": 5,
     "metadata": {},
     "output_type": "execute_result"
    }
   ],
   "source": [
    "train.columns"
   ]
  },
  {
   "cell_type": "code",
   "execution_count": 6,
   "metadata": {},
   "outputs": [
    {
     "data": {
      "text/plain": [
       "Index(['id', 'vendor_id', 'pickup_datetime', 'passenger_count',\n",
       "       'pickup_longitude', 'pickup_latitude', 'dropoff_longitude',\n",
       "       'dropoff_latitude', 'store_and_fwd_flag'],\n",
       "      dtype='object')"
      ]
     },
     "execution_count": 6,
     "metadata": {},
     "output_type": "execute_result"
    }
   ],
   "source": [
    "test.columns"
   ]
  },
  {
   "cell_type": "markdown",
   "metadata": {},
   "source": [
    "#### id - 각 운행의 고유 식별자\n",
    "#### vendor_id - 여행 기록과 연결된 공급자를 나타내는 코드\n",
    "#### pickup_datetime - 미터기가 사용 된 날짜와 시간\n",
    "#### dropoff_datetime - 미터가 분리 된 날짜와 시간\n",
    "#### passenger_count - 차량에 탑승 한 승객 수 (운전자가 입력 한 값)\n",
    "#### pickup_longitude - 미터가 사용 된 경도\n",
    "#### pickup_latitude - 미터가 사용 된 위도\n",
    "#### dropoff_longitude - 미터가 분리 된 경도\n",
    "#### dropoff_latitude - 미터가 분리 된 위도\n",
    "#### store_and_fwd_flag -이 플래그는 자동차가 서버에 연결되어 있지 않아서 출장 기록이 차량 메모리에 보관되었는지 여부를 나타냅니다. - Y = 저장 및 전달; N = 상점 및 전방 여행 불가\n",
    "#### trip_duration - 여행 기간 (초)"
   ]
  },
  {
   "cell_type": "markdown",
   "metadata": {},
   "source": [
    "#### 목표는 id별 'trip_duration'\n",
    "#### ※ test데이터에는 'dropoff_datetime'이 존재하지 않음. 이유는 \"dropoff_datetime\"이 있으면  'trip_duration'을 구할 수 있기 때문"
   ]
  },
  {
   "cell_type": "markdown",
   "metadata": {},
   "source": [
    "### 2) factor형 변수 확인"
   ]
  },
  {
   "cell_type": "code",
   "execution_count": 7,
   "metadata": {},
   "outputs": [
    {
     "data": {
      "text/plain": [
       "array([2, 1], dtype=int64)"
      ]
     },
     "execution_count": 7,
     "metadata": {},
     "output_type": "execute_result"
    }
   ],
   "source": [
    "pd.unique(train['vendor_id'])"
   ]
  },
  {
   "cell_type": "markdown",
   "metadata": {},
   "source": [
    "#### 'vendor_id'는 단 두 가지만 존재한다. 뉴욕시의 택시가 'Green Cabs'과 'Yellow Cabs' 두 가지가 있는 데 이에 대한 정보 같다.  factor형 변수이다. "
   ]
  },
  {
   "cell_type": "code",
   "execution_count": 8,
   "metadata": {},
   "outputs": [
    {
     "data": {
      "text/plain": [
       "array([1, 6, 4, 2, 3, 5, 0, 7, 9, 8], dtype=int64)"
      ]
     },
     "execution_count": 8,
     "metadata": {},
     "output_type": "execute_result"
    }
   ],
   "source": [
    "pd.unique(train['passenger_count'])"
   ]
  },
  {
   "cell_type": "markdown",
   "metadata": {},
   "source": [
    "#### 승객수를 '0~9'명으로 표시하고 있다. 보통 택시가 승용차라서 5명 이상 승객은 잘못된 데이터일 수도 있다. 물론 벤 형태의 택시가 있을 수 있다.  factor형 변수"
   ]
  },
  {
   "cell_type": "code",
   "execution_count": 9,
   "metadata": {},
   "outputs": [
    {
     "data": {
      "text/plain": [
       "array([-73.98215485, -73.98041534, -73.97902679, ..., -73.84746552,\n",
       "       -73.89477539, -73.84131622])"
      ]
     },
     "execution_count": 9,
     "metadata": {},
     "output_type": "execute_result"
    }
   ],
   "source": [
    "pd.unique(train['pickup_longitude'])"
   ]
  },
  {
   "cell_type": "code",
   "execution_count": 10,
   "metadata": {},
   "outputs": [
    {
     "data": {
      "text/plain": [
       "array([40.76560211, 40.73115158, 40.71008682, ..., 40.65151978,\n",
       "       40.64244461, 40.62860489])"
      ]
     },
     "execution_count": 10,
     "metadata": {},
     "output_type": "execute_result"
    }
   ],
   "source": [
    "pd.unique(train['dropoff_latitude'])"
   ]
  },
  {
   "cell_type": "markdown",
   "metadata": {},
   "source": [
    "#### 위도(latitude) 경도(longitude)는 당연히 factor형 변수가 아니다."
   ]
  },
  {
   "cell_type": "code",
   "execution_count": 11,
   "metadata": {},
   "outputs": [
    {
     "data": {
      "text/plain": [
       "array(['N', 'Y'], dtype=object)"
      ]
     },
     "execution_count": 11,
     "metadata": {},
     "output_type": "execute_result"
    }
   ],
   "source": [
    "pd.unique(train['store_and_fwd_flag'])"
   ]
  },
  {
   "cell_type": "markdown",
   "metadata": {},
   "source": [
    "#### 출장기록 여부는 'Yes'와 'NO'인 factor형 변수이다"
   ]
  },
  {
   "cell_type": "markdown",
   "metadata": {},
   "source": [
    "### 3) 빈도수 확인"
   ]
  },
  {
   "cell_type": "code",
   "execution_count": 13,
   "metadata": {},
   "outputs": [
    {
     "data": {
      "text/plain": [
       "2    780302\n",
       "1    678342\n",
       "Name: vendor_id, dtype: int64"
      ]
     },
     "execution_count": 13,
     "metadata": {},
     "output_type": "execute_result"
    }
   ],
   "source": [
    "train['vendor_id'].value_counts()"
   ]
  },
  {
   "cell_type": "code",
   "execution_count": 29,
   "metadata": {},
   "outputs": [
    {
     "data": {
      "text/plain": [
       "2016-03-04 08:07:34    5\n",
       "2016-01-12 18:48:44    5\n",
       "2016-04-05 18:55:21    5\n",
       "2016-06-10 23:17:17    5\n",
       "2016-05-07 13:18:07    5\n",
       "2016-02-09 21:03:38    5\n",
       "2016-03-14 07:45:58    4\n",
       "2016-03-13 12:05:04    4\n",
       "2016-04-08 16:42:13    4\n",
       "2016-06-09 22:01:37    4\n",
       "2016-02-24 12:04:44    4\n",
       "2016-03-21 22:01:10    4\n",
       "2016-06-15 22:28:10    4\n",
       "2016-02-05 17:32:08    4\n",
       "2016-03-31 10:42:34    4\n",
       "2016-01-12 14:17:27    4\n",
       "2016-03-06 00:08:14    4\n",
       "2016-04-04 09:36:50    4\n",
       "2016-06-07 21:04:32    4\n",
       "2016-03-14 17:19:59    4\n",
       "2016-02-20 20:56:20    4\n",
       "2016-04-01 23:28:13    4\n",
       "2016-06-09 19:59:43    4\n",
       "2016-01-13 19:59:16    4\n",
       "2016-06-21 17:40:51    4\n",
       "2016-03-26 14:20:33    4\n",
       "2016-01-06 21:43:57    4\n",
       "2016-02-24 20:22:47    4\n",
       "2016-02-24 12:04:42    4\n",
       "2016-03-19 22:28:48    4\n",
       "                      ..\n",
       "2016-02-13 13:49:46    1\n",
       "2016-03-29 08:04:34    1\n",
       "2016-03-13 03:11:57    1\n",
       "2016-06-20 07:02:01    1\n",
       "2016-04-23 17:18:56    1\n",
       "2016-06-11 19:01:08    1\n",
       "2016-04-21 17:30:28    1\n",
       "2016-05-17 05:45:14    1\n",
       "2016-01-07 01:29:43    1\n",
       "2016-06-07 07:27:56    1\n",
       "2016-02-12 22:36:44    1\n",
       "2016-05-02 12:43:19    1\n",
       "2016-01-07 15:02:17    1\n",
       "2016-03-23 14:44:55    1\n",
       "2016-02-26 23:01:35    1\n",
       "2016-02-18 20:46:58    1\n",
       "2016-01-11 18:58:14    1\n",
       "2016-03-11 13:52:38    1\n",
       "2016-02-29 20:40:26    1\n",
       "2016-05-08 20:03:15    1\n",
       "2016-04-25 22:59:08    1\n",
       "2016-05-05 10:14:58    1\n",
       "2016-05-05 18:46:15    1\n",
       "2016-06-14 00:41:20    1\n",
       "2016-05-08 11:31:58    1\n",
       "2016-05-17 17:52:56    1\n",
       "2016-02-02 05:20:45    1\n",
       "2016-05-26 13:14:23    1\n",
       "2016-01-13 07:47:41    1\n",
       "2016-03-18 22:41:45    1\n",
       "Name: pickup_datetime, Length: 1380222, dtype: int64"
      ]
     },
     "execution_count": 29,
     "metadata": {},
     "output_type": "execute_result"
    }
   ],
   "source": [
    "train['pickup_datetime'].value_counts()"
   ]
  },
  {
   "cell_type": "code",
   "execution_count": 14,
   "metadata": {},
   "outputs": [
    {
     "data": {
      "text/plain": [
       "1    1033540\n",
       "2     210318\n",
       "5      78088\n",
       "3      59896\n",
       "6      48333\n",
       "4      28404\n",
       "0         60\n",
       "7          3\n",
       "9          1\n",
       "8          1\n",
       "Name: passenger_count, dtype: int64"
      ]
     },
     "execution_count": 14,
     "metadata": {},
     "output_type": "execute_result"
    }
   ],
   "source": [
    "train['passenger_count'].value_counts()"
   ]
  },
  {
   "cell_type": "code",
   "execution_count": 34,
   "metadata": {},
   "outputs": [
    {
     "data": {
      "text/plain": [
       "N    1450599\n",
       "Y       8045\n",
       "Name: store_and_fwd_flag, dtype: int64"
      ]
     },
     "execution_count": 34,
     "metadata": {},
     "output_type": "execute_result"
    }
   ],
   "source": [
    "train['store_and_fwd_flag'].value_counts()"
   ]
  },
  {
   "cell_type": "code",
   "execution_count": 27,
   "metadata": {},
   "outputs": [
    {
     "data": {
      "text/plain": [
       "Index(['id', 'vendor_id', 'pickup_datetime', 'dropoff_datetime',\n",
       "       'passenger_count', 'pickup_longitude', 'pickup_latitude',\n",
       "       'dropoff_longitude', 'dropoff_latitude', 'store_and_fwd_flag',\n",
       "       'trip_duration', 'store_and_fwd_flag_Y', 'store_and_fwd_flag_N',\n",
       "       'vendor_1', 'vendor_2', 'passenger_0', 'passenger_1', 'passenger_2',\n",
       "       'passenger_3', 'passenger_4', 'passenger_5', 'passenger_6',\n",
       "       'passenger_7', 'passenger_8', 'passenger_9'],\n",
       "      dtype='object')"
      ]
     },
     "execution_count": 27,
     "metadata": {},
     "output_type": "execute_result"
    }
   ],
   "source": [
    "train.columns"
   ]
  },
  {
   "cell_type": "markdown",
   "metadata": {},
   "source": [
    "#### datetime으로 파생변수 만든 이후 빈도수 확인"
   ]
  },
  {
   "cell_type": "code",
   "execution_count": 6,
   "metadata": {},
   "outputs": [
    {
     "data": {
      "text/plain": [
       "3    256189\n",
       "4    251645\n",
       "5    248487\n",
       "2    238300\n",
       "6    234316\n",
       "1    229707\n",
       "Name: pickup_month, dtype: int64"
      ]
     },
     "execution_count": 6,
     "metadata": {},
     "output_type": "execute_result"
    }
   ],
   "source": [
    "train['pickup_month'].value_counts()"
   ]
  },
  {
   "cell_type": "code",
   "execution_count": 7,
   "metadata": {},
   "outputs": [
    {
     "data": {
      "text/plain": [
       "3    256135\n",
       "4    251636\n",
       "5    248555\n",
       "2    238292\n",
       "6    234243\n",
       "1    229656\n",
       "7       127\n",
       "Name: dropoff_month, dtype: int64"
      ]
     },
     "execution_count": 7,
     "metadata": {},
     "output_type": "execute_result"
    }
   ],
   "source": [
    "train['dropoff_month'].value_counts()"
   ]
  },
  {
   "cell_type": "markdown",
   "metadata": {},
   "source": [
    "#### dropoff에 7월이 있는 것으로 보아 6월 30일에 택시를 타고 다음날 7월에 내린 경우가 127건"
   ]
  },
  {
   "cell_type": "code",
   "execution_count": 20,
   "metadata": {},
   "outputs": [
    {
     "data": {
      "text/html": [
       "<div>\n",
       "<style>\n",
       "    .dataframe thead tr:only-child th {\n",
       "        text-align: right;\n",
       "    }\n",
       "\n",
       "    .dataframe thead th {\n",
       "        text-align: left;\n",
       "    }\n",
       "\n",
       "    .dataframe tbody tr th {\n",
       "        vertical-align: top;\n",
       "    }\n",
       "</style>\n",
       "<table border=\"1\" class=\"dataframe\">\n",
       "  <thead>\n",
       "    <tr style=\"text-align: right;\">\n",
       "      <th></th>\n",
       "      <th>vendor_id</th>\n",
       "      <th>pickup_datetime</th>\n",
       "      <th>dropoff_datetime</th>\n",
       "      <th>passenger_count</th>\n",
       "      <th>pickup_longitude</th>\n",
       "      <th>pickup_latitude</th>\n",
       "      <th>dropoff_longitude</th>\n",
       "      <th>dropoff_latitude</th>\n",
       "      <th>store_and_fwd_flag</th>\n",
       "      <th>trip_duration</th>\n",
       "      <th>...</th>\n",
       "      <th>passenger_0</th>\n",
       "      <th>passenger_1</th>\n",
       "      <th>passenger_2</th>\n",
       "      <th>passenger_3</th>\n",
       "      <th>passenger_4</th>\n",
       "      <th>passenger_5</th>\n",
       "      <th>passenger_6</th>\n",
       "      <th>passenger_7</th>\n",
       "      <th>passenger_8</th>\n",
       "      <th>passenger_9</th>\n",
       "    </tr>\n",
       "    <tr>\n",
       "      <th>id</th>\n",
       "      <th></th>\n",
       "      <th></th>\n",
       "      <th></th>\n",
       "      <th></th>\n",
       "      <th></th>\n",
       "      <th></th>\n",
       "      <th></th>\n",
       "      <th></th>\n",
       "      <th></th>\n",
       "      <th></th>\n",
       "      <th></th>\n",
       "      <th></th>\n",
       "      <th></th>\n",
       "      <th></th>\n",
       "      <th></th>\n",
       "      <th></th>\n",
       "      <th></th>\n",
       "      <th></th>\n",
       "      <th></th>\n",
       "      <th></th>\n",
       "      <th></th>\n",
       "    </tr>\n",
       "  </thead>\n",
       "  <tbody>\n",
       "    <tr>\n",
       "      <th>id1230274</th>\n",
       "      <td>2</td>\n",
       "      <td>2016-06-30 08:00:53</td>\n",
       "      <td>2016-07-01 07:46:38</td>\n",
       "      <td>4</td>\n",
       "      <td>-73.922516</td>\n",
       "      <td>40.771847</td>\n",
       "      <td>-73.776398</td>\n",
       "      <td>40.645748</td>\n",
       "      <td>N</td>\n",
       "      <td>85545</td>\n",
       "      <td>...</td>\n",
       "      <td>False</td>\n",
       "      <td>False</td>\n",
       "      <td>False</td>\n",
       "      <td>False</td>\n",
       "      <td>True</td>\n",
       "      <td>False</td>\n",
       "      <td>False</td>\n",
       "      <td>False</td>\n",
       "      <td>False</td>\n",
       "      <td>False</td>\n",
       "    </tr>\n",
       "    <tr>\n",
       "      <th>id0462006</th>\n",
       "      <td>1</td>\n",
       "      <td>2016-06-30 23:42:19</td>\n",
       "      <td>2016-07-01 00:01:12</td>\n",
       "      <td>1</td>\n",
       "      <td>-73.994049</td>\n",
       "      <td>40.756538</td>\n",
       "      <td>-74.007645</td>\n",
       "      <td>40.708820</td>\n",
       "      <td>N</td>\n",
       "      <td>1133</td>\n",
       "      <td>...</td>\n",
       "      <td>False</td>\n",
       "      <td>True</td>\n",
       "      <td>False</td>\n",
       "      <td>False</td>\n",
       "      <td>False</td>\n",
       "      <td>False</td>\n",
       "      <td>False</td>\n",
       "      <td>False</td>\n",
       "      <td>False</td>\n",
       "      <td>False</td>\n",
       "    </tr>\n",
       "    <tr>\n",
       "      <th>id2837671</th>\n",
       "      <td>2</td>\n",
       "      <td>2016-06-30 16:37:52</td>\n",
       "      <td>2016-07-01 16:37:39</td>\n",
       "      <td>1</td>\n",
       "      <td>-73.992279</td>\n",
       "      <td>40.749729</td>\n",
       "      <td>-73.962524</td>\n",
       "      <td>40.800770</td>\n",
       "      <td>N</td>\n",
       "      <td>86387</td>\n",
       "      <td>...</td>\n",
       "      <td>False</td>\n",
       "      <td>True</td>\n",
       "      <td>False</td>\n",
       "      <td>False</td>\n",
       "      <td>False</td>\n",
       "      <td>False</td>\n",
       "      <td>False</td>\n",
       "      <td>False</td>\n",
       "      <td>False</td>\n",
       "      <td>False</td>\n",
       "    </tr>\n",
       "    <tr>\n",
       "      <th>id2787535</th>\n",
       "      <td>2</td>\n",
       "      <td>2016-06-30 23:51:36</td>\n",
       "      <td>2016-07-01 00:01:20</td>\n",
       "      <td>1</td>\n",
       "      <td>-73.971390</td>\n",
       "      <td>40.787788</td>\n",
       "      <td>-73.995918</td>\n",
       "      <td>40.762280</td>\n",
       "      <td>N</td>\n",
       "      <td>584</td>\n",
       "      <td>...</td>\n",
       "      <td>False</td>\n",
       "      <td>True</td>\n",
       "      <td>False</td>\n",
       "      <td>False</td>\n",
       "      <td>False</td>\n",
       "      <td>False</td>\n",
       "      <td>False</td>\n",
       "      <td>False</td>\n",
       "      <td>False</td>\n",
       "      <td>False</td>\n",
       "    </tr>\n",
       "    <tr>\n",
       "      <th>id2785585</th>\n",
       "      <td>2</td>\n",
       "      <td>2016-06-30 23:47:29</td>\n",
       "      <td>2016-07-01 00:08:00</td>\n",
       "      <td>1</td>\n",
       "      <td>-74.005623</td>\n",
       "      <td>40.750610</td>\n",
       "      <td>-73.962303</td>\n",
       "      <td>40.763119</td>\n",
       "      <td>N</td>\n",
       "      <td>1231</td>\n",
       "      <td>...</td>\n",
       "      <td>False</td>\n",
       "      <td>True</td>\n",
       "      <td>False</td>\n",
       "      <td>False</td>\n",
       "      <td>False</td>\n",
       "      <td>False</td>\n",
       "      <td>False</td>\n",
       "      <td>False</td>\n",
       "      <td>False</td>\n",
       "      <td>False</td>\n",
       "    </tr>\n",
       "  </tbody>\n",
       "</table>\n",
       "<p>5 rows × 38 columns</p>\n",
       "</div>"
      ],
      "text/plain": [
       "           vendor_id     pickup_datetime    dropoff_datetime  passenger_count  \\\n",
       "id                                                                              \n",
       "id1230274          2 2016-06-30 08:00:53 2016-07-01 07:46:38                4   \n",
       "id0462006          1 2016-06-30 23:42:19 2016-07-01 00:01:12                1   \n",
       "id2837671          2 2016-06-30 16:37:52 2016-07-01 16:37:39                1   \n",
       "id2787535          2 2016-06-30 23:51:36 2016-07-01 00:01:20                1   \n",
       "id2785585          2 2016-06-30 23:47:29 2016-07-01 00:08:00                1   \n",
       "\n",
       "           pickup_longitude  pickup_latitude  dropoff_longitude  \\\n",
       "id                                                                \n",
       "id1230274        -73.922516        40.771847         -73.776398   \n",
       "id0462006        -73.994049        40.756538         -74.007645   \n",
       "id2837671        -73.992279        40.749729         -73.962524   \n",
       "id2787535        -73.971390        40.787788         -73.995918   \n",
       "id2785585        -74.005623        40.750610         -73.962303   \n",
       "\n",
       "           dropoff_latitude store_and_fwd_flag  trip_duration     ...       \\\n",
       "id                                                                ...        \n",
       "id1230274         40.645748                  N          85545     ...        \n",
       "id0462006         40.708820                  N           1133     ...        \n",
       "id2837671         40.800770                  N          86387     ...        \n",
       "id2787535         40.762280                  N            584     ...        \n",
       "id2785585         40.763119                  N           1231     ...        \n",
       "\n",
       "           passenger_0  passenger_1  passenger_2  passenger_3  passenger_4  \\\n",
       "id                                                                           \n",
       "id1230274        False        False        False        False         True   \n",
       "id0462006        False         True        False        False        False   \n",
       "id2837671        False         True        False        False        False   \n",
       "id2787535        False         True        False        False        False   \n",
       "id2785585        False         True        False        False        False   \n",
       "\n",
       "           passenger_5  passenger_6  passenger_7  passenger_8  passenger_9  \n",
       "id                                                                          \n",
       "id1230274        False        False        False        False        False  \n",
       "id0462006        False        False        False        False        False  \n",
       "id2837671        False        False        False        False        False  \n",
       "id2787535        False        False        False        False        False  \n",
       "id2785585        False        False        False        False        False  \n",
       "\n",
       "[5 rows x 38 columns]"
      ]
     },
     "execution_count": 20,
     "metadata": {},
     "output_type": "execute_result"
    }
   ],
   "source": [
    "month_7 = train.loc[(train['dropoff_month'] == 7)]\n",
    "month_7.head()"
   ]
  },
  {
   "cell_type": "markdown",
   "metadata": {},
   "source": [
    "#### head함수로 앞부분만 봐도 밤에 출발에 새벽에 도착한 기록도 있으나 24시간 가까이 운영한 기록도 보인다."
   ]
  },
  {
   "cell_type": "code",
   "execution_count": 18,
   "metadata": {},
   "outputs": [
    {
     "data": {
      "text/plain": [
       "4    223533\n",
       "5    220868\n",
       "3    218574\n",
       "2    210136\n",
       "1    202749\n",
       "6    195366\n",
       "0    187418\n",
       "Name: pickup_dayofweek, dtype: int64"
      ]
     },
     "execution_count": 18,
     "metadata": {},
     "output_type": "execute_result"
    }
   ],
   "source": [
    "train['pickup_dayofweek'].value_counts()"
   ]
  },
  {
   "cell_type": "code",
   "execution_count": 17,
   "metadata": {},
   "outputs": [
    {
     "data": {
      "text/plain": [
       "4    223031\n",
       "5    220902\n",
       "3    217746\n",
       "2    209790\n",
       "1    202518\n",
       "6    197224\n",
       "0    187433\n",
       "Name: dropoff_dayofweek, dtype: int64"
      ]
     },
     "execution_count": 17,
     "metadata": {},
     "output_type": "execute_result"
    }
   ],
   "source": [
    "train['dropoff_dayofweek'].value_counts()"
   ]
  },
  {
   "cell_type": "markdown",
   "metadata": {},
   "source": [
    "#### 단순 택시 이용횟수는 금요일, 토요일 주말이 가장 많고 그 다음이 목요일이다. 월요일이 가장 적다"
   ]
  },
  {
   "cell_type": "markdown",
   "metadata": {},
   "source": [
    "### 4) 결측치 확인"
   ]
  },
  {
   "cell_type": "code",
   "execution_count": 12,
   "metadata": {},
   "outputs": [
    {
     "data": {
      "text/plain": [
       "id                    0\n",
       "vendor_id             0\n",
       "pickup_datetime       0\n",
       "dropoff_datetime      0\n",
       "passenger_count       0\n",
       "pickup_longitude      0\n",
       "pickup_latitude       0\n",
       "dropoff_longitude     0\n",
       "dropoff_latitude      0\n",
       "store_and_fwd_flag    0\n",
       "trip_duration         0\n",
       "dtype: int64"
      ]
     },
     "execution_count": 12,
     "metadata": {},
     "output_type": "execute_result"
    }
   ],
   "source": [
    "train.isnull().sum()"
   ]
  },
  {
   "cell_type": "code",
   "execution_count": 13,
   "metadata": {},
   "outputs": [
    {
     "data": {
      "text/plain": [
       "id                    0\n",
       "vendor_id             0\n",
       "pickup_datetime       0\n",
       "passenger_count       0\n",
       "pickup_longitude      0\n",
       "pickup_latitude       0\n",
       "dropoff_longitude     0\n",
       "dropoff_latitude      0\n",
       "store_and_fwd_flag    0\n",
       "dtype: int64"
      ]
     },
     "execution_count": 13,
     "metadata": {},
     "output_type": "execute_result"
    }
   ],
   "source": [
    "test.isnull().sum()"
   ]
  },
  {
   "cell_type": "markdown",
   "metadata": {},
   "source": [
    "#### 결측치는 보이지 않는다. 이를 missingno 패키지를 활용하여 시각화하여 다시 살펴본다."
   ]
  },
  {
   "cell_type": "code",
   "execution_count": 14,
   "metadata": {
    "collapsed": true
   },
   "outputs": [],
   "source": [
    "import missingno as msno"
   ]
  },
  {
   "cell_type": "code",
   "execution_count": 15,
   "metadata": {},
   "outputs": [
    {
     "data": {
      "image/png": "[encoded data removed]",
      "text/plain": [
       "<Figure size 1440x1008 with 2 Axes>"
      ]
     },
     "metadata": {},
     "output_type": "display_data"
    }
   ],
   "source": [
    "msno.matrix(df = train, figsize = (20, 14), color = (0.3, 0.4, 0.8))"
   ]
  },
  {
   "cell_type": "code",
   "execution_count": 16,
   "metadata": {},
   "outputs": [
    {
     "data": {
      "image/png": "[encoded data removed]",
      "text/plain": [
       "<Figure size 1440x1008 with 2 Axes>"
      ]
     },
     "metadata": {},
     "output_type": "display_data"
    }
   ],
   "source": [
    "msno.matrix(df = train, figsize = (20, 14))"
   ]
  },
  {
   "cell_type": "markdown",
   "metadata": {},
   "source": [
    "#### 데이터에 결측치는 없다"
   ]
  },
  {
   "cell_type": "markdown",
   "metadata": {},
   "source": [
    "### 4) 상관관계 확인"
   ]
  },
  {
   "cell_type": "markdown",
   "metadata": {},
   "source": [
    "#### 상관관계 매트릭스 가져오기\n",
    "#### pandas 패키지의  corr() 함수 사용\n",
    "#### heatmap : 다양한 정보를 일정 이미지 위에 열분포 형태의 비쥬얼한 그래픽으로 출력"
   ]
  },
  {
   "cell_type": "code",
   "execution_count": 17,
   "metadata": {
    "collapsed": true
   },
   "outputs": [],
   "source": [
    "import pandas as pd\n",
    "import matplotlib.pyplot as plt\n",
    "import seaborn as sns"
   ]
  },
  {
   "cell_type": "code",
   "execution_count": 18,
   "metadata": {
    "collapsed": true
   },
   "outputs": [],
   "source": [
    "cor_matrix = train.corr().round(2)"
   ]
  },
  {
   "cell_type": "code",
   "execution_count": 19,
   "metadata": {},
   "outputs": [
    {
     "data": {
      "image/png": "[encoded data removed]",
      "text/plain": [
       "<Figure size 1440x1440 with 2 Axes>"
      ]
     },
     "metadata": {},
     "output_type": "display_data"
    }
   ],
   "source": [
    "fig = plt.figure(figsize = (20, 20));\n",
    "sns.heatmap(cor_matrix, annot = True, center = 0,\n",
    "            cmap = sns.diverging_palette(250, 250, as_cmap = True),\n",
    "            ax = plt.subplot(111));\n",
    "plt.show()"
   ]
  },
  {
   "cell_type": "markdown",
   "metadata": {},
   "source": [
    "#### 탑승 위치 경도와 하차 위치 경도가 0.78로 상관관계가 매우 높다\n",
    "#### 탑승 위치 위도와 하차 위치 위도는 0.49의 상관관계를 갖는다.\n",
    "#### 여행기록 코드와 탑승 승객 수가 0.29의 상관관계를 갖는다.\n",
    "#### 그러나 목표값인 'trip_duration'과 큰 상관관계가 있는 변수는 보이지 않는다. "
   ]
  },
  {
   "cell_type": "markdown",
   "metadata": {},
   "source": [
    "####  \n",
    "####  "
   ]
  },
  {
   "cell_type": "markdown",
   "metadata": {},
   "source": [
    "## 3 데이터 변환"
   ]
  },
  {
   "cell_type": "markdown",
   "metadata": {},
   "source": [
    "### 1) 파생변수 만들기 : 'pickup_datetime' -  연,월,일,시,분,초, 요일 나누기"
   ]
  },
  {
   "cell_type": "code",
   "execution_count": 17,
   "metadata": {},
   "outputs": [
    {
     "data": {
      "text/plain": [
       "0   2016-03-14 17:24:55\n",
       "1   2016-06-12 00:43:35\n",
       "2   2016-01-19 11:35:24\n",
       "3   2016-04-06 19:32:31\n",
       "4   2016-03-26 13:30:55\n",
       "Name: pickup_datetime, dtype: datetime64[ns]"
      ]
     },
     "execution_count": 17,
     "metadata": {},
     "output_type": "execute_result"
    }
   ],
   "source": [
    "train['pickup_datetime'].head()"
   ]
  },
  {
   "cell_type": "code",
   "execution_count": 18,
   "metadata": {},
   "outputs": [
    {
     "data": {
      "text/plain": [
       "0   2016-03-14 17:32:30\n",
       "1   2016-06-12 00:54:38\n",
       "2   2016-01-19 12:10:48\n",
       "3   2016-04-06 19:39:40\n",
       "4   2016-03-26 13:38:10\n",
       "Name: dropoff_datetime, dtype: datetime64[ns]"
      ]
     },
     "execution_count": 18,
     "metadata": {},
     "output_type": "execute_result"
    }
   ],
   "source": [
    "train['dropoff_datetime'].head()"
   ]
  },
  {
   "cell_type": "markdown",
   "metadata": {},
   "source": [
    "#### 'pickup_datetime'"
   ]
  },
  {
   "cell_type": "code",
   "execution_count": 6,
   "metadata": {},
   "outputs": [
    {
     "data": {
      "text/html": [
       "<div>\n",
       "<style>\n",
       "    .dataframe thead tr:only-child th {\n",
       "        text-align: right;\n",
       "    }\n",
       "\n",
       "    .dataframe thead th {\n",
       "        text-align: left;\n",
       "    }\n",
       "\n",
       "    .dataframe tbody tr th {\n",
       "        vertical-align: top;\n",
       "    }\n",
       "</style>\n",
       "<table border=\"1\" class=\"dataframe\">\n",
       "  <thead>\n",
       "    <tr style=\"text-align: right;\">\n",
       "      <th></th>\n",
       "      <th>pickup_year</th>\n",
       "      <th>pickup_month</th>\n",
       "      <th>pickup_day</th>\n",
       "      <th>pickup_hour</th>\n",
       "      <th>pickup_minute</th>\n",
       "      <th>pickup_second</th>\n",
       "      <th>pickup_dayofweek</th>\n",
       "    </tr>\n",
       "  </thead>\n",
       "  <tbody>\n",
       "    <tr>\n",
       "      <th>0</th>\n",
       "      <td>2016</td>\n",
       "      <td>3</td>\n",
       "      <td>14</td>\n",
       "      <td>17</td>\n",
       "      <td>24</td>\n",
       "      <td>55</td>\n",
       "      <td>0</td>\n",
       "    </tr>\n",
       "    <tr>\n",
       "      <th>1</th>\n",
       "      <td>2016</td>\n",
       "      <td>6</td>\n",
       "      <td>12</td>\n",
       "      <td>0</td>\n",
       "      <td>43</td>\n",
       "      <td>35</td>\n",
       "      <td>6</td>\n",
       "    </tr>\n",
       "    <tr>\n",
       "      <th>2</th>\n",
       "      <td>2016</td>\n",
       "      <td>1</td>\n",
       "      <td>19</td>\n",
       "      <td>11</td>\n",
       "      <td>35</td>\n",
       "      <td>24</td>\n",
       "      <td>1</td>\n",
       "    </tr>\n",
       "    <tr>\n",
       "      <th>3</th>\n",
       "      <td>2016</td>\n",
       "      <td>4</td>\n",
       "      <td>6</td>\n",
       "      <td>19</td>\n",
       "      <td>32</td>\n",
       "      <td>31</td>\n",
       "      <td>2</td>\n",
       "    </tr>\n",
       "    <tr>\n",
       "      <th>4</th>\n",
       "      <td>2016</td>\n",
       "      <td>3</td>\n",
       "      <td>26</td>\n",
       "      <td>13</td>\n",
       "      <td>30</td>\n",
       "      <td>55</td>\n",
       "      <td>5</td>\n",
       "    </tr>\n",
       "  </tbody>\n",
       "</table>\n",
       "</div>"
      ],
      "text/plain": [
       "   pickup_year  pickup_month  pickup_day  pickup_hour  pickup_minute  \\\n",
       "0         2016             3          14           17             24   \n",
       "1         2016             6          12            0             43   \n",
       "2         2016             1          19           11             35   \n",
       "3         2016             4           6           19             32   \n",
       "4         2016             3          26           13             30   \n",
       "\n",
       "   pickup_second  pickup_dayofweek  \n",
       "0             55                 0  \n",
       "1             35                 6  \n",
       "2             24                 1  \n",
       "3             31                 2  \n",
       "4             55                 5  "
      ]
     },
     "execution_count": 6,
     "metadata": {},
     "output_type": "execute_result"
    }
   ],
   "source": [
    "train['pickup_year'] = train['pickup_datetime'].dt.year  \n",
    "train['pickup_month'] = train['pickup_datetime'].dt.month\n",
    "train['pickup_day'] = train['pickup_datetime'].dt.day\n",
    "train['pickup_hour'] = train['pickup_datetime'].dt.hour\n",
    "train['pickup_minute'] = train['pickup_datetime'].dt.minute\n",
    "train['pickup_second'] = train['pickup_datetime'].dt.second\n",
    "train[\"pickup_dayofweek\"] = train[\"pickup_datetime\"].dt.dayofweek \n",
    "\n",
    "train[['pickup_year','pickup_month', 'pickup_day','pickup_hour','pickup_minute','pickup_second', 'pickup_dayofweek']].head()"
   ]
  },
  {
   "cell_type": "code",
   "execution_count": 21,
   "metadata": {},
   "outputs": [
    {
     "data": {
      "text/plain": [
       "array([2016], dtype=int64)"
      ]
     },
     "execution_count": 21,
     "metadata": {},
     "output_type": "execute_result"
    }
   ],
   "source": [
    "pd.unique(train['pickup_year'])"
   ]
  },
  {
   "cell_type": "code",
   "execution_count": 23,
   "metadata": {},
   "outputs": [
    {
     "data": {
      "text/plain": [
       "array([3, 6, 1, 4, 5, 2], dtype=int64)"
      ]
     },
     "execution_count": 23,
     "metadata": {},
     "output_type": "execute_result"
    }
   ],
   "source": [
    "pd.unique(train['pickup_month'])`"
   ]
  },
  {
   "cell_type": "code",
   "execution_count": 7,
   "metadata": {
    "scrolled": false
   },
   "outputs": [
    {
     "data": {
      "text/html": [
       "<div>\n",
       "<style>\n",
       "    .dataframe thead tr:only-child th {\n",
       "        text-align: right;\n",
       "    }\n",
       "\n",
       "    .dataframe thead th {\n",
       "        text-align: left;\n",
       "    }\n",
       "\n",
       "    .dataframe tbody tr th {\n",
       "        vertical-align: top;\n",
       "    }\n",
       "</style>\n",
       "<table border=\"1\" class=\"dataframe\">\n",
       "  <thead>\n",
       "    <tr style=\"text-align: right;\">\n",
       "      <th></th>\n",
       "      <th>pickup_year</th>\n",
       "      <th>pickup_month</th>\n",
       "      <th>pickup_day</th>\n",
       "      <th>pickup_hour</th>\n",
       "      <th>pickup_minute</th>\n",
       "      <th>pickup_second</th>\n",
       "      <th>pickup_dayofweek</th>\n",
       "    </tr>\n",
       "  </thead>\n",
       "  <tbody>\n",
       "    <tr>\n",
       "      <th>0</th>\n",
       "      <td>2016</td>\n",
       "      <td>6</td>\n",
       "      <td>30</td>\n",
       "      <td>23</td>\n",
       "      <td>59</td>\n",
       "      <td>58</td>\n",
       "      <td>3</td>\n",
       "    </tr>\n",
       "    <tr>\n",
       "      <th>1</th>\n",
       "      <td>2016</td>\n",
       "      <td>6</td>\n",
       "      <td>30</td>\n",
       "      <td>23</td>\n",
       "      <td>59</td>\n",
       "      <td>53</td>\n",
       "      <td>3</td>\n",
       "    </tr>\n",
       "    <tr>\n",
       "      <th>2</th>\n",
       "      <td>2016</td>\n",
       "      <td>6</td>\n",
       "      <td>30</td>\n",
       "      <td>23</td>\n",
       "      <td>59</td>\n",
       "      <td>47</td>\n",
       "      <td>3</td>\n",
       "    </tr>\n",
       "    <tr>\n",
       "      <th>3</th>\n",
       "      <td>2016</td>\n",
       "      <td>6</td>\n",
       "      <td>30</td>\n",
       "      <td>23</td>\n",
       "      <td>59</td>\n",
       "      <td>41</td>\n",
       "      <td>3</td>\n",
       "    </tr>\n",
       "    <tr>\n",
       "      <th>4</th>\n",
       "      <td>2016</td>\n",
       "      <td>6</td>\n",
       "      <td>30</td>\n",
       "      <td>23</td>\n",
       "      <td>59</td>\n",
       "      <td>33</td>\n",
       "      <td>3</td>\n",
       "    </tr>\n",
       "  </tbody>\n",
       "</table>\n",
       "</div>"
      ],
      "text/plain": [
       "   pickup_year  pickup_month  pickup_day  pickup_hour  pickup_minute  \\\n",
       "0         2016             6          30           23             59   \n",
       "1         2016             6          30           23             59   \n",
       "2         2016             6          30           23             59   \n",
       "3         2016             6          30           23             59   \n",
       "4         2016             6          30           23             59   \n",
       "\n",
       "   pickup_second  pickup_dayofweek  \n",
       "0             58                 3  \n",
       "1             53                 3  \n",
       "2             47                 3  \n",
       "3             41                 3  \n",
       "4             33                 3  "
      ]
     },
     "execution_count": 7,
     "metadata": {},
     "output_type": "execute_result"
    }
   ],
   "source": [
    "test['pickup_year'] = test['pickup_datetime'].dt.year  \n",
    "test['pickup_month'] = test['pickup_datetime'].dt.month\n",
    "test['pickup_day'] = test['pickup_datetime'].dt.day\n",
    "test['pickup_hour'] = test['pickup_datetime'].dt.hour\n",
    "test['pickup_minute'] = test['pickup_datetime'].dt.minute\n",
    "test['pickup_second'] = test['pickup_datetime'].dt.second\n",
    "test[\"pickup_dayofweek\"] = test[\"pickup_datetime\"].dt.dayofweek \n",
    "\n",
    "test[['pickup_year','pickup_month', 'pickup_day','pickup_hour','pickup_minute','pickup_second', 'pickup_dayofweek']].head()"
   ]
  },
  {
   "cell_type": "markdown",
   "metadata": {},
   "source": [
    "#### 'dropoff_datetime' - test 데이터에는 없음"
   ]
  },
  {
   "cell_type": "markdown",
   "metadata": {},
   "source": [
    "### ※ Test 데이터에는 없지만 분석을 위해 'dropoff_datetime' 도 연,월,일,시,분,초, 요일로 나눈다."
   ]
  },
  {
   "cell_type": "code",
   "execution_count": 19,
   "metadata": {},
   "outputs": [
    {
     "data": {
      "text/html": [
       "<div>\n",
       "<style>\n",
       "    .dataframe thead tr:only-child th {\n",
       "        text-align: right;\n",
       "    }\n",
       "\n",
       "    .dataframe thead th {\n",
       "        text-align: left;\n",
       "    }\n",
       "\n",
       "    .dataframe tbody tr th {\n",
       "        vertical-align: top;\n",
       "    }\n",
       "</style>\n",
       "<table border=\"1\" class=\"dataframe\">\n",
       "  <thead>\n",
       "    <tr style=\"text-align: right;\">\n",
       "      <th></th>\n",
       "      <th>dropoff_year</th>\n",
       "      <th>dropoff_month</th>\n",
       "      <th>dropoff_day</th>\n",
       "      <th>dropoff_hour</th>\n",
       "      <th>dropoff_minute</th>\n",
       "      <th>dropoff_second</th>\n",
       "      <th>dropoff_dayofweek</th>\n",
       "    </tr>\n",
       "  </thead>\n",
       "  <tbody>\n",
       "    <tr>\n",
       "      <th>0</th>\n",
       "      <td>2016</td>\n",
       "      <td>3</td>\n",
       "      <td>14</td>\n",
       "      <td>17</td>\n",
       "      <td>32</td>\n",
       "      <td>30</td>\n",
       "      <td>0</td>\n",
       "    </tr>\n",
       "    <tr>\n",
       "      <th>1</th>\n",
       "      <td>2016</td>\n",
       "      <td>6</td>\n",
       "      <td>12</td>\n",
       "      <td>0</td>\n",
       "      <td>54</td>\n",
       "      <td>38</td>\n",
       "      <td>6</td>\n",
       "    </tr>\n",
       "    <tr>\n",
       "      <th>2</th>\n",
       "      <td>2016</td>\n",
       "      <td>1</td>\n",
       "      <td>19</td>\n",
       "      <td>12</td>\n",
       "      <td>10</td>\n",
       "      <td>48</td>\n",
       "      <td>1</td>\n",
       "    </tr>\n",
       "    <tr>\n",
       "      <th>3</th>\n",
       "      <td>2016</td>\n",
       "      <td>4</td>\n",
       "      <td>6</td>\n",
       "      <td>19</td>\n",
       "      <td>39</td>\n",
       "      <td>40</td>\n",
       "      <td>2</td>\n",
       "    </tr>\n",
       "    <tr>\n",
       "      <th>4</th>\n",
       "      <td>2016</td>\n",
       "      <td>3</td>\n",
       "      <td>26</td>\n",
       "      <td>13</td>\n",
       "      <td>38</td>\n",
       "      <td>10</td>\n",
       "      <td>5</td>\n",
       "    </tr>\n",
       "  </tbody>\n",
       "</table>\n",
       "</div>"
      ],
      "text/plain": [
       "   dropoff_year  dropoff_month  dropoff_day  dropoff_hour  dropoff_minute  \\\n",
       "0          2016              3           14            17              32   \n",
       "1          2016              6           12             0              54   \n",
       "2          2016              1           19            12              10   \n",
       "3          2016              4            6            19              39   \n",
       "4          2016              3           26            13              38   \n",
       "\n",
       "   dropoff_second  dropoff_dayofweek  \n",
       "0              30                  0  \n",
       "1              38                  6  \n",
       "2              48                  1  \n",
       "3              40                  2  \n",
       "4              10                  5  "
      ]
     },
     "execution_count": 19,
     "metadata": {},
     "output_type": "execute_result"
    }
   ],
   "source": [
    "train['dropoff_year'] = train['dropoff_datetime'].dt.year  \n",
    "train['dropoff_month'] = train['dropoff_datetime'].dt.month\n",
    "train['dropoff_day'] = train['dropoff_datetime'].dt.day\n",
    "train['dropoff_hour'] = train['dropoff_datetime'].dt.hour\n",
    "train['dropoff_minute'] = train['dropoff_datetime'].dt.minute\n",
    "train['dropoff_second'] = train['dropoff_datetime'].dt.second\n",
    "train[\"dropoff_dayofweek\"] = train[\"dropoff_datetime\"].dt.dayofweek \n",
    "\n",
    "train[['dropoff_year','dropoff_month', 'dropoff_day','dropoff_hour','dropoff_minute','dropoff_second', 'dropoff_dayofweek']].head()"
   ]
  },
  {
   "cell_type": "code",
   "execution_count": null,
   "metadata": {
    "collapsed": true
   },
   "outputs": [],
   "source": []
  },
  {
   "cell_type": "code",
   "execution_count": null,
   "metadata": {
    "collapsed": true
   },
   "outputs": [],
   "source": []
  },
  {
   "cell_type": "markdown",
   "metadata": {
    "collapsed": true
   },
   "source": [
    "### 2) 원핫인코딩(One-hot encoding) "
   ]
  },
  {
   "cell_type": "markdown",
   "metadata": {},
   "source": [
    "#### (1) store_and_fwd_flag - Y(Yes)와 N(No)을 string으로 인식하기에 원핫인코딩이 필요"
   ]
  },
  {
   "cell_type": "code",
   "execution_count": 8,
   "metadata": {},
   "outputs": [
    {
     "data": {
      "text/html": [
       "<div>\n",
       "<style>\n",
       "    .dataframe thead tr:only-child th {\n",
       "        text-align: right;\n",
       "    }\n",
       "\n",
       "    .dataframe thead th {\n",
       "        text-align: left;\n",
       "    }\n",
       "\n",
       "    .dataframe tbody tr th {\n",
       "        vertical-align: top;\n",
       "    }\n",
       "</style>\n",
       "<table border=\"1\" class=\"dataframe\">\n",
       "  <thead>\n",
       "    <tr style=\"text-align: right;\">\n",
       "      <th></th>\n",
       "      <th>store_and_fwd_flag</th>\n",
       "      <th>store_and_fwd_flag_Y</th>\n",
       "      <th>store_and_fwd_flag_N</th>\n",
       "    </tr>\n",
       "  </thead>\n",
       "  <tbody>\n",
       "    <tr>\n",
       "      <th>0</th>\n",
       "      <td>N</td>\n",
       "      <td>False</td>\n",
       "      <td>True</td>\n",
       "    </tr>\n",
       "    <tr>\n",
       "      <th>1</th>\n",
       "      <td>N</td>\n",
       "      <td>False</td>\n",
       "      <td>True</td>\n",
       "    </tr>\n",
       "    <tr>\n",
       "      <th>2</th>\n",
       "      <td>N</td>\n",
       "      <td>False</td>\n",
       "      <td>True</td>\n",
       "    </tr>\n",
       "    <tr>\n",
       "      <th>3</th>\n",
       "      <td>N</td>\n",
       "      <td>False</td>\n",
       "      <td>True</td>\n",
       "    </tr>\n",
       "    <tr>\n",
       "      <th>4</th>\n",
       "      <td>N</td>\n",
       "      <td>False</td>\n",
       "      <td>True</td>\n",
       "    </tr>\n",
       "  </tbody>\n",
       "</table>\n",
       "</div>"
      ],
      "text/plain": [
       "  store_and_fwd_flag  store_and_fwd_flag_Y  store_and_fwd_flag_N\n",
       "0                  N                 False                  True\n",
       "1                  N                 False                  True\n",
       "2                  N                 False                  True\n",
       "3                  N                 False                  True\n",
       "4                  N                 False                  True"
      ]
     },
     "execution_count": 8,
     "metadata": {},
     "output_type": "execute_result"
    }
   ],
   "source": [
    "train['store_and_fwd_flag_Y'] = train['store_and_fwd_flag'] == 'Y'\n",
    "train['store_and_fwd_flag_N'] = train['store_and_fwd_flag'] == 'N'\n",
    "\n",
    "train[['store_and_fwd_flag', 'store_and_fwd_flag_Y', 'store_and_fwd_flag_N' ]].head()"
   ]
  },
  {
   "cell_type": "code",
   "execution_count": 9,
   "metadata": {},
   "outputs": [
    {
     "data": {
      "text/html": [
       "<div>\n",
       "<style>\n",
       "    .dataframe thead tr:only-child th {\n",
       "        text-align: right;\n",
       "    }\n",
       "\n",
       "    .dataframe thead th {\n",
       "        text-align: left;\n",
       "    }\n",
       "\n",
       "    .dataframe tbody tr th {\n",
       "        vertical-align: top;\n",
       "    }\n",
       "</style>\n",
       "<table border=\"1\" class=\"dataframe\">\n",
       "  <thead>\n",
       "    <tr style=\"text-align: right;\">\n",
       "      <th></th>\n",
       "      <th>store_and_fwd_flag</th>\n",
       "      <th>store_and_fwd_flag_Y</th>\n",
       "      <th>store_and_fwd_flag_N</th>\n",
       "    </tr>\n",
       "  </thead>\n",
       "  <tbody>\n",
       "    <tr>\n",
       "      <th>0</th>\n",
       "      <td>N</td>\n",
       "      <td>False</td>\n",
       "      <td>True</td>\n",
       "    </tr>\n",
       "    <tr>\n",
       "      <th>1</th>\n",
       "      <td>N</td>\n",
       "      <td>False</td>\n",
       "      <td>True</td>\n",
       "    </tr>\n",
       "    <tr>\n",
       "      <th>2</th>\n",
       "      <td>N</td>\n",
       "      <td>False</td>\n",
       "      <td>True</td>\n",
       "    </tr>\n",
       "    <tr>\n",
       "      <th>3</th>\n",
       "      <td>N</td>\n",
       "      <td>False</td>\n",
       "      <td>True</td>\n",
       "    </tr>\n",
       "    <tr>\n",
       "      <th>4</th>\n",
       "      <td>N</td>\n",
       "      <td>False</td>\n",
       "      <td>True</td>\n",
       "    </tr>\n",
       "  </tbody>\n",
       "</table>\n",
       "</div>"
      ],
      "text/plain": [
       "  store_and_fwd_flag  store_and_fwd_flag_Y  store_and_fwd_flag_N\n",
       "0                  N                 False                  True\n",
       "1                  N                 False                  True\n",
       "2                  N                 False                  True\n",
       "3                  N                 False                  True\n",
       "4                  N                 False                  True"
      ]
     },
     "execution_count": 9,
     "metadata": {},
     "output_type": "execute_result"
    }
   ],
   "source": [
    "test['store_and_fwd_flag_Y'] = test['store_and_fwd_flag'] == 'Y'\n",
    "test['store_and_fwd_flag_N'] = test['store_and_fwd_flag'] == 'N'\n",
    "\n",
    "test[['store_and_fwd_flag', 'store_and_fwd_flag_Y', 'store_and_fwd_flag_N']].head()"
   ]
  },
  {
   "cell_type": "markdown",
   "metadata": {},
   "source": [
    "#### (2) vendor_id"
   ]
  },
  {
   "cell_type": "code",
   "execution_count": 10,
   "metadata": {},
   "outputs": [
    {
     "data": {
      "text/html": [
       "<div>\n",
       "<style>\n",
       "    .dataframe thead tr:only-child th {\n",
       "        text-align: right;\n",
       "    }\n",
       "\n",
       "    .dataframe thead th {\n",
       "        text-align: left;\n",
       "    }\n",
       "\n",
       "    .dataframe tbody tr th {\n",
       "        vertical-align: top;\n",
       "    }\n",
       "</style>\n",
       "<table border=\"1\" class=\"dataframe\">\n",
       "  <thead>\n",
       "    <tr style=\"text-align: right;\">\n",
       "      <th></th>\n",
       "      <th>vendor_id</th>\n",
       "      <th>vendor_1</th>\n",
       "      <th>vendor_2</th>\n",
       "    </tr>\n",
       "  </thead>\n",
       "  <tbody>\n",
       "    <tr>\n",
       "      <th>0</th>\n",
       "      <td>2</td>\n",
       "      <td>False</td>\n",
       "      <td>True</td>\n",
       "    </tr>\n",
       "    <tr>\n",
       "      <th>1</th>\n",
       "      <td>1</td>\n",
       "      <td>True</td>\n",
       "      <td>False</td>\n",
       "    </tr>\n",
       "    <tr>\n",
       "      <th>2</th>\n",
       "      <td>2</td>\n",
       "      <td>False</td>\n",
       "      <td>True</td>\n",
       "    </tr>\n",
       "    <tr>\n",
       "      <th>3</th>\n",
       "      <td>2</td>\n",
       "      <td>False</td>\n",
       "      <td>True</td>\n",
       "    </tr>\n",
       "    <tr>\n",
       "      <th>4</th>\n",
       "      <td>2</td>\n",
       "      <td>False</td>\n",
       "      <td>True</td>\n",
       "    </tr>\n",
       "  </tbody>\n",
       "</table>\n",
       "</div>"
      ],
      "text/plain": [
       "   vendor_id  vendor_1  vendor_2\n",
       "0          2     False      True\n",
       "1          1      True     False\n",
       "2          2     False      True\n",
       "3          2     False      True\n",
       "4          2     False      True"
      ]
     },
     "execution_count": 10,
     "metadata": {},
     "output_type": "execute_result"
    }
   ],
   "source": [
    "train['vendor_1'] = train['vendor_id'] == 1\n",
    "train['vendor_2'] = train['vendor_id'] == 2\n",
    "\n",
    "train[['vendor_id', 'vendor_1', 'vendor_2']].head()"
   ]
  },
  {
   "cell_type": "code",
   "execution_count": 11,
   "metadata": {},
   "outputs": [
    {
     "data": {
      "text/html": [
       "<div>\n",
       "<style>\n",
       "    .dataframe thead tr:only-child th {\n",
       "        text-align: right;\n",
       "    }\n",
       "\n",
       "    .dataframe thead th {\n",
       "        text-align: left;\n",
       "    }\n",
       "\n",
       "    .dataframe tbody tr th {\n",
       "        vertical-align: top;\n",
       "    }\n",
       "</style>\n",
       "<table border=\"1\" class=\"dataframe\">\n",
       "  <thead>\n",
       "    <tr style=\"text-align: right;\">\n",
       "      <th></th>\n",
       "      <th>vendor_id</th>\n",
       "      <th>vendor_1</th>\n",
       "      <th>vendor_2</th>\n",
       "    </tr>\n",
       "  </thead>\n",
       "  <tbody>\n",
       "    <tr>\n",
       "      <th>0</th>\n",
       "      <td>1</td>\n",
       "      <td>True</td>\n",
       "      <td>False</td>\n",
       "    </tr>\n",
       "    <tr>\n",
       "      <th>1</th>\n",
       "      <td>1</td>\n",
       "      <td>True</td>\n",
       "      <td>False</td>\n",
       "    </tr>\n",
       "    <tr>\n",
       "      <th>2</th>\n",
       "      <td>1</td>\n",
       "      <td>True</td>\n",
       "      <td>False</td>\n",
       "    </tr>\n",
       "    <tr>\n",
       "      <th>3</th>\n",
       "      <td>2</td>\n",
       "      <td>False</td>\n",
       "      <td>True</td>\n",
       "    </tr>\n",
       "    <tr>\n",
       "      <th>4</th>\n",
       "      <td>1</td>\n",
       "      <td>True</td>\n",
       "      <td>False</td>\n",
       "    </tr>\n",
       "  </tbody>\n",
       "</table>\n",
       "</div>"
      ],
      "text/plain": [
       "   vendor_id  vendor_1  vendor_2\n",
       "0          1      True     False\n",
       "1          1      True     False\n",
       "2          1      True     False\n",
       "3          2     False      True\n",
       "4          1      True     False"
      ]
     },
     "execution_count": 11,
     "metadata": {},
     "output_type": "execute_result"
    }
   ],
   "source": [
    "test['vendor_1'] = test['vendor_id'] == 1\n",
    "test['vendor_2'] = test['vendor_id'] == 2\n",
    "\n",
    "test[['vendor_id', 'vendor_1', 'vendor_2']].head()"
   ]
  },
  {
   "cell_type": "markdown",
   "metadata": {},
   "source": [
    "#### (3) passenger_count"
   ]
  },
  {
   "cell_type": "code",
   "execution_count": 12,
   "metadata": {},
   "outputs": [
    {
     "data": {
      "text/html": [
       "<div>\n",
       "<style>\n",
       "    .dataframe thead tr:only-child th {\n",
       "        text-align: right;\n",
       "    }\n",
       "\n",
       "    .dataframe thead th {\n",
       "        text-align: left;\n",
       "    }\n",
       "\n",
       "    .dataframe tbody tr th {\n",
       "        vertical-align: top;\n",
       "    }\n",
       "</style>\n",
       "<table border=\"1\" class=\"dataframe\">\n",
       "  <thead>\n",
       "    <tr style=\"text-align: right;\">\n",
       "      <th></th>\n",
       "      <th>passenger_count</th>\n",
       "      <th>passenger_0</th>\n",
       "      <th>passenger_1</th>\n",
       "      <th>passenger_2</th>\n",
       "      <th>passenger_3</th>\n",
       "      <th>passenger_4</th>\n",
       "      <th>passenger_5</th>\n",
       "      <th>passenger_6</th>\n",
       "      <th>passenger_7</th>\n",
       "      <th>passenger_8</th>\n",
       "      <th>passenger_9</th>\n",
       "    </tr>\n",
       "  </thead>\n",
       "  <tbody>\n",
       "    <tr>\n",
       "      <th>0</th>\n",
       "      <td>1</td>\n",
       "      <td>False</td>\n",
       "      <td>True</td>\n",
       "      <td>False</td>\n",
       "      <td>False</td>\n",
       "      <td>False</td>\n",
       "      <td>False</td>\n",
       "      <td>False</td>\n",
       "      <td>False</td>\n",
       "      <td>False</td>\n",
       "      <td>False</td>\n",
       "    </tr>\n",
       "    <tr>\n",
       "      <th>1</th>\n",
       "      <td>1</td>\n",
       "      <td>False</td>\n",
       "      <td>True</td>\n",
       "      <td>False</td>\n",
       "      <td>False</td>\n",
       "      <td>False</td>\n",
       "      <td>False</td>\n",
       "      <td>False</td>\n",
       "      <td>False</td>\n",
       "      <td>False</td>\n",
       "      <td>False</td>\n",
       "    </tr>\n",
       "    <tr>\n",
       "      <th>2</th>\n",
       "      <td>1</td>\n",
       "      <td>False</td>\n",
       "      <td>True</td>\n",
       "      <td>False</td>\n",
       "      <td>False</td>\n",
       "      <td>False</td>\n",
       "      <td>False</td>\n",
       "      <td>False</td>\n",
       "      <td>False</td>\n",
       "      <td>False</td>\n",
       "      <td>False</td>\n",
       "    </tr>\n",
       "    <tr>\n",
       "      <th>3</th>\n",
       "      <td>1</td>\n",
       "      <td>False</td>\n",
       "      <td>True</td>\n",
       "      <td>False</td>\n",
       "      <td>False</td>\n",
       "      <td>False</td>\n",
       "      <td>False</td>\n",
       "      <td>False</td>\n",
       "      <td>False</td>\n",
       "      <td>False</td>\n",
       "      <td>False</td>\n",
       "    </tr>\n",
       "    <tr>\n",
       "      <th>4</th>\n",
       "      <td>1</td>\n",
       "      <td>False</td>\n",
       "      <td>True</td>\n",
       "      <td>False</td>\n",
       "      <td>False</td>\n",
       "      <td>False</td>\n",
       "      <td>False</td>\n",
       "      <td>False</td>\n",
       "      <td>False</td>\n",
       "      <td>False</td>\n",
       "      <td>False</td>\n",
       "    </tr>\n",
       "  </tbody>\n",
       "</table>\n",
       "</div>"
      ],
      "text/plain": [
       "   passenger_count  passenger_0  passenger_1  passenger_2  passenger_3  \\\n",
       "0                1        False         True        False        False   \n",
       "1                1        False         True        False        False   \n",
       "2                1        False         True        False        False   \n",
       "3                1        False         True        False        False   \n",
       "4                1        False         True        False        False   \n",
       "\n",
       "   passenger_4  passenger_5  passenger_6  passenger_7  passenger_8  \\\n",
       "0        False        False        False        False        False   \n",
       "1        False        False        False        False        False   \n",
       "2        False        False        False        False        False   \n",
       "3        False        False        False        False        False   \n",
       "4        False        False        False        False        False   \n",
       "\n",
       "   passenger_9  \n",
       "0        False  \n",
       "1        False  \n",
       "2        False  \n",
       "3        False  \n",
       "4        False  "
      ]
     },
     "execution_count": 12,
     "metadata": {},
     "output_type": "execute_result"
    }
   ],
   "source": [
    "train['passenger_0'] = train['passenger_count'] == 0\n",
    "train['passenger_1'] = train['passenger_count'] == 1\n",
    "train['passenger_2'] = train['passenger_count'] == 2\n",
    "train['passenger_3'] = train['passenger_count'] == 3\n",
    "train['passenger_4'] = train['passenger_count'] == 4\n",
    "train['passenger_5'] = train['passenger_count'] == 5\n",
    "train['passenger_6'] = train['passenger_count'] == 6\n",
    "train['passenger_7'] = train['passenger_count'] == 7\n",
    "train['passenger_8'] = train['passenger_count'] == 8\n",
    "train['passenger_9'] = train['passenger_count'] == 9\n",
    "\n",
    "train[['passenger_count', 'passenger_0', 'passenger_1', 'passenger_2', 'passenger_3', \n",
    "       'passenger_4', 'passenger_5', 'passenger_6', 'passenger_7', 'passenger_8', 'passenger_9']].head()"
   ]
  },
  {
   "cell_type": "code",
   "execution_count": 13,
   "metadata": {},
   "outputs": [
    {
     "data": {
      "text/html": [
       "<div>\n",
       "<style>\n",
       "    .dataframe thead tr:only-child th {\n",
       "        text-align: right;\n",
       "    }\n",
       "\n",
       "    .dataframe thead th {\n",
       "        text-align: left;\n",
       "    }\n",
       "\n",
       "    .dataframe tbody tr th {\n",
       "        vertical-align: top;\n",
       "    }\n",
       "</style>\n",
       "<table border=\"1\" class=\"dataframe\">\n",
       "  <thead>\n",
       "    <tr style=\"text-align: right;\">\n",
       "      <th></th>\n",
       "      <th>passenger_0</th>\n",
       "      <th>passenger_1</th>\n",
       "      <th>passenger_2</th>\n",
       "      <th>passenger_3</th>\n",
       "      <th>passenger_4</th>\n",
       "      <th>passenger_5</th>\n",
       "      <th>passenger_6</th>\n",
       "      <th>passenger_7</th>\n",
       "      <th>passenger_8</th>\n",
       "      <th>passenger_9</th>\n",
       "    </tr>\n",
       "  </thead>\n",
       "  <tbody>\n",
       "    <tr>\n",
       "      <th>0</th>\n",
       "      <td>False</td>\n",
       "      <td>True</td>\n",
       "      <td>False</td>\n",
       "      <td>False</td>\n",
       "      <td>False</td>\n",
       "      <td>False</td>\n",
       "      <td>False</td>\n",
       "      <td>False</td>\n",
       "      <td>False</td>\n",
       "      <td>False</td>\n",
       "    </tr>\n",
       "    <tr>\n",
       "      <th>1</th>\n",
       "      <td>False</td>\n",
       "      <td>True</td>\n",
       "      <td>False</td>\n",
       "      <td>False</td>\n",
       "      <td>False</td>\n",
       "      <td>False</td>\n",
       "      <td>False</td>\n",
       "      <td>False</td>\n",
       "      <td>False</td>\n",
       "      <td>False</td>\n",
       "    </tr>\n",
       "    <tr>\n",
       "      <th>2</th>\n",
       "      <td>False</td>\n",
       "      <td>True</td>\n",
       "      <td>False</td>\n",
       "      <td>False</td>\n",
       "      <td>False</td>\n",
       "      <td>False</td>\n",
       "      <td>False</td>\n",
       "      <td>False</td>\n",
       "      <td>False</td>\n",
       "      <td>False</td>\n",
       "    </tr>\n",
       "    <tr>\n",
       "      <th>3</th>\n",
       "      <td>False</td>\n",
       "      <td>True</td>\n",
       "      <td>False</td>\n",
       "      <td>False</td>\n",
       "      <td>False</td>\n",
       "      <td>False</td>\n",
       "      <td>False</td>\n",
       "      <td>False</td>\n",
       "      <td>False</td>\n",
       "      <td>False</td>\n",
       "    </tr>\n",
       "    <tr>\n",
       "      <th>4</th>\n",
       "      <td>False</td>\n",
       "      <td>True</td>\n",
       "      <td>False</td>\n",
       "      <td>False</td>\n",
       "      <td>False</td>\n",
       "      <td>False</td>\n",
       "      <td>False</td>\n",
       "      <td>False</td>\n",
       "      <td>False</td>\n",
       "      <td>False</td>\n",
       "    </tr>\n",
       "  </tbody>\n",
       "</table>\n",
       "</div>"
      ],
      "text/plain": [
       "   passenger_0  passenger_1  passenger_2  passenger_3  passenger_4  \\\n",
       "0        False         True        False        False        False   \n",
       "1        False         True        False        False        False   \n",
       "2        False         True        False        False        False   \n",
       "3        False         True        False        False        False   \n",
       "4        False         True        False        False        False   \n",
       "\n",
       "   passenger_5  passenger_6  passenger_7  passenger_8  passenger_9  \n",
       "0        False        False        False        False        False  \n",
       "1        False        False        False        False        False  \n",
       "2        False        False        False        False        False  \n",
       "3        False        False        False        False        False  \n",
       "4        False        False        False        False        False  "
      ]
     },
     "execution_count": 13,
     "metadata": {},
     "output_type": "execute_result"
    }
   ],
   "source": [
    "test['passenger_0'] = test['passenger_count'] == 0\n",
    "test['passenger_1'] = test['passenger_count'] == 1\n",
    "test['passenger_2'] = test['passenger_count'] == 2\n",
    "test['passenger_3'] = test['passenger_count'] == 3\n",
    "test['passenger_4'] = test['passenger_count'] == 4\n",
    "test['passenger_5'] = test['passenger_count'] == 5\n",
    "test['passenger_6'] = test['passenger_count'] == 6\n",
    "test['passenger_7'] = test['passenger_count'] == 7\n",
    "test['passenger_8'] = test['passenger_count'] == 8\n",
    "test['passenger_9'] = test['passenger_count'] == 9\n",
    "\n",
    "test[['passenger_0', 'passenger_1', 'passenger_2', 'passenger_3', 'passenger_4', \n",
    "       'passenger_5', 'passenger_6', 'passenger_7', 'passenger_8', 'passenger_9']].head()"
   ]
  },
  {
   "cell_type": "markdown",
   "metadata": {
    "collapsed": true
   },
   "source": [
    "####  \n",
    "####  "
   ]
  },
  {
   "cell_type": "markdown",
   "metadata": {},
   "source": [
    "## 4. 시각화"
   ]
  },
  {
   "cell_type": "markdown",
   "metadata": {},
   "source": [
    "### 1) pickup월, 일, 시, 분, 초 별 'trip_duration'"
   ]
  },
  {
   "cell_type": "markdown",
   "metadata": {},
   "source": [
    "#### 연도는 2016년 뿐이니 제외"
   ]
  },
  {
   "cell_type": "code",
   "execution_count": 1,
   "metadata": {
    "collapsed": true
   },
   "outputs": [],
   "source": [
    "import matplotlib.pyplot as plt\n",
    "import seaborn as sns"
   ]
  },
  {
   "cell_type": "code",
   "execution_count": 15,
   "metadata": {},
   "outputs": [
    {
     "data": {
      "text/plain": [
       "<matplotlib.axes._subplots.AxesSubplot at 0x1c7aaef7128>"
      ]
     },
     "execution_count": 15,
     "metadata": {},
     "output_type": "execute_result"
    },
    {
     "data": {
      "image/png": "[encoded data removed]",
      "text/plain": [
       "<Figure size 1440x720 with 6 Axes>"
      ]
     },
     "metadata": {},
     "output_type": "display_data"
    }
   ],
   "source": [
    "%matplotlib inline\n",
    "\n",
    "figure, ((ax1, ax2, ax3), (ax4, ax5, ax6)) = plt.subplots(nrows = 2, ncols = 3)\n",
    "figure.set_size_inches(20,10)\n",
    "\n",
    "sns.barplot(data = train, x = 'pickup_month', y = 'trip_duration', ax = ax1)\n",
    "sns.barplot(data = train, x = 'pickup_day', y = 'trip_duration', ax = ax2)\n",
    "sns.barplot(data = train, x = 'pickup_hour', y = 'trip_duration', ax = ax3)\n",
    "sns.barplot(data = train, x = 'pickup_minute', y = 'trip_duration', ax = ax4)\n",
    "sns.barplot(data = train, x = 'pickup_second', y = 'trip_duration', ax = ax5)\n",
    "sns.barplot(data = train, x = 'pickup_dayofweek', y = 'trip_duration', ax = ax6)"
   ]
  },
  {
   "cell_type": "markdown",
   "metadata": {},
   "source": [
    "#### 1월부터 6월까지 평균 trip_duration이 조금씩 증가하고 있다.\n",
    "#### 5일과 13일에서 평균 trip_duration이 1000이 넘는다. 적은 날은 7일과 30일 즈음이다.\n",
    "#### 시간대는 오전 5~7시에 낮고, 10시부터 15시까지는 계속 증가하다 다시 낮아진다. 22시에는 평균 trip_duration이 근처 시간대에서 높다.\n",
    "#### 분과 초는 크게 차이나지 않는다.\n",
    "#### 요일로 살펴보면 월요일(0)이 가장 짧고, 주중엔 비슷했다가 목요일에 피크를 찍고 토요일까지 계속 감소한다."
   ]
  },
  {
   "cell_type": "code",
   "execution_count": 20,
   "metadata": {},
   "outputs": [
    {
     "data": {
      "text/plain": [
       "<matplotlib.axes._subplots.AxesSubplot at 0x1c79dd1ac88>"
      ]
     },
     "execution_count": 20,
     "metadata": {},
     "output_type": "execute_result"
    },
    {
     "data": {
      "image/png": "[encoded data removed]",
      "text/plain": [
       "<Figure size 1440x720 with 6 Axes>"
      ]
     },
     "metadata": {},
     "output_type": "display_data"
    }
   ],
   "source": [
    "%matplotlib inline\n",
    "\n",
    "figure, ((ax1, ax2, ax3), (ax4, ax5, ax6)) = plt.subplots(nrows = 2, ncols = 3)\n",
    "figure.set_size_inches(20,10)\n",
    "\n",
    "sns.barplot(data = train, x = 'dropoff_month', y = 'trip_duration', ax = ax1)\n",
    "sns.barplot(data = train, x = 'dropoff_day', y = 'trip_duration', ax = ax2)\n",
    "sns.barplot(data = train, x = 'dropoff_hour', y = 'trip_duration', ax = ax3)\n",
    "sns.barplot(data = train, x = 'dropoff_minute', y = 'trip_duration', ax = ax4)\n",
    "sns.barplot(data = train, x = 'dropoff_second', y = 'trip_duration', ax = ax5)\n",
    "sns.barplot(data = train, x = 'dropoff_dayofweek', y = 'trip_duration', ax = ax6)"
   ]
  },
  {
   "cell_type": "markdown",
   "metadata": {
    "collapsed": true
   },
   "source": [
    "#### 하루를 넘기는 7월 하차에 해당하는 평균 trip_duration 이 월등이 높다.\n",
    "#### 25일의 평균 trip_duration이 높고, 30일이 가장 낮다. \n",
    "#### 시간 별 평균 trip_duration의 경우 새벽 시간인 12시가 높고, 줄어들다 3시에 살짝 늘어났다 6시에 최저를 기록했다.\n",
    "#### 오후 3시까지 다시 증가하다가 20시부터 23시까지는 균등했다.\n",
    "#### 분과 초는 0분 0초가 가장 높았다.\n",
    "#### 요일별로 봤을 때 토요일이 가장 적다. "
   ]
  },
  {
   "cell_type": "markdown",
   "metadata": {},
   "source": [
    "### 2) 운행기록 id, 승객 수, 메모리 저장 여부 별 'trip_duration' "
   ]
  },
  {
   "cell_type": "code",
   "execution_count": 18,
   "metadata": {},
   "outputs": [
    {
     "data": {
      "text/plain": [
       "<matplotlib.axes._subplots.AxesSubplot at 0x1c79d7a13c8>"
      ]
     },
     "execution_count": 18,
     "metadata": {},
     "output_type": "execute_result"
    },
    {
     "data": {
      "image/png": "[encoded data removed]",
      "text/plain": [
       "<Figure size 1440x720 with 3 Axes>"
      ]
     },
     "metadata": {},
     "output_type": "display_data"
    }
   ],
   "source": [
    "figure, (ax1, ax2, ax3) = plt.subplots(nrows = 1, ncols =3)\n",
    "figure.set_size_inches(20,10)\n",
    "\n",
    "sns.barplot(data = train, x = 'vendor_id', y = 'trip_duration', ax = ax1)\n",
    "sns.barplot(data = train, x = 'passenger_count', y = 'trip_duration', ax = ax2)\n",
    "sns.barplot(data = train, x = 'store_and_fwd_flag', y = 'trip_duration', ax = ax3)"
   ]
  },
  {
   "cell_type": "markdown",
   "metadata": {},
   "source": [
    "#### id 2의 평균 trip_duration이 높다.\n",
    "#### 승객이 0명일 때 운행 시간이 매우 높고, 1명부터 5명까지는 6명 까지는 증가하는 추세다. 7명의 경우 극도로 적으며 9명도 많은 편이다.\n",
    "#### 메모리 저장되었을 경우 trip_duration이 높다."
   ]
  },
  {
   "cell_type": "markdown",
   "metadata": {
    "collapsed": true
   },
   "source": [
    "#### 3) passenger_count별 vendor_id의 trip_duration "
   ]
  },
  {
   "cell_type": "code",
   "execution_count": 34,
   "metadata": {},
   "outputs": [
    {
     "data": {
      "text/plain": [
       "<matplotlib.axes._subplots.AxesSubplot at 0x1fac409d160>"
      ]
     },
     "execution_count": 34,
     "metadata": {},
     "output_type": "execute_result"
    },
    {
     "data": {
      "image/png": "[encoded data removed]",
      "text/plain": [
       "<Figure size 432x288 with 1 Axes>"
      ]
     },
     "metadata": {},
     "output_type": "display_data"
    }
   ],
   "source": [
    "sns.barplot(data = train, x = 'passenger_count', y = 'trip_duration', hue = 'vendor_id')"
   ]
  },
  {
   "cell_type": "markdown",
   "metadata": {},
   "source": [
    "#### 승객수가 7명 이상은 id 2에만 해당한다.\n",
    "#### 전체적으로 id 2의 평균 trip_duration이 id 1보다 더 높다"
   ]
  },
  {
   "cell_type": "code",
   "execution_count": null,
   "metadata": {
    "collapsed": true
   },
   "outputs": [],
   "source": []
  },
  {
   "cell_type": "markdown",
   "metadata": {},
   "source": [
    "#### 임시"
   ]
  },
  {
   "cell_type": "code",
   "execution_count": null,
   "metadata": {
    "collapsed": true
   },
   "outputs": [],
   "source": [
    "import seaborn as sns\n",
    "import matplotlib.pyplot as plt\n",
    "%matplotlib inline"
   ]
  },
  {
   "cell_type": "code",
   "execution_count": 4,
   "metadata": {
    "collapsed": true
   },
   "outputs": [],
   "source": [
    "import pandas as pd\n",
    "\n",
    "train = pd.read_csv(\"train.csv\", parse_dates = ['pickup_datetime', 'dropoff_datetime'], index_col = \"id\")\n",
    "test = pd.read_csv(\"test.csv\", parse_dates = ['pickup_datetime'], index_col = \"id\")\n",
    "\n",
    "train['pickup_year'] = train['pickup_datetime'].dt.year  \n",
    "train['pickup_month'] = train['pickup_datetime'].dt.month\n",
    "train['pickup_day'] = train['pickup_datetime'].dt.day\n",
    "train['pickup_hour'] = train['pickup_datetime'].dt.hour\n",
    "train['pickup_minute'] = train['pickup_datetime'].dt.minute\n",
    "train['pickup_second'] = train['pickup_datetime'].dt.second\n",
    "train[\"pickup_dayofweek\"] = train[\"pickup_datetime\"].dt.dayofweek \n",
    "\n",
    "test['pickup_year'] = test['pickup_datetime'].dt.year  \n",
    "test['pickup_month'] = test['pickup_datetime'].dt.month\n",
    "test['pickup_day'] = test['pickup_datetime'].dt.day\n",
    "test['pickup_hour'] = test['pickup_datetime'].dt.hour\n",
    "test['pickup_minute'] = test['pickup_datetime'].dt.minute\n",
    "test['pickup_second'] = test['pickup_datetime'].dt.second\n",
    "test[\"pickup_dayofweek\"] = test[\"pickup_datetime\"].dt.dayofweek \n",
    "\n",
    "train['dropoff_year'] = train['dropoff_datetime'].dt.year  \n",
    "train['dropoff_month'] = train['dropoff_datetime'].dt.month\n",
    "train['dropoff_day'] = train['dropoff_datetime'].dt.day\n",
    "train['dropoff_hour'] = train['dropoff_datetime'].dt.hour\n",
    "train['dropoff_minute'] = train['dropoff_datetime'].dt.minute\n",
    "train['dropoff_second'] = train['dropoff_datetime'].dt.second\n",
    "train[\"dropoff_dayofweek\"] = train[\"dropoff_datetime\"].dt.dayofweek \n",
    "\n",
    "\n",
    "\n",
    "train['store_and_fwd_flag_Y'] = train['store_and_fwd_flag'] == 'Y'\n",
    "train['store_and_fwd_flag_N'] = train['store_and_fwd_flag'] == 'N'\n",
    "\n",
    "test['store_and_fwd_flag_Y'] = test['store_and_fwd_flag'] == 'Y'\n",
    "test['store_and_fwd_flag_N'] = test['store_and_fwd_flag'] == 'N'\n",
    "\n",
    "train['vendor_1'] = train['vendor_id'] == 1\n",
    "train['vendor_2'] = train['vendor_id'] == 2\n",
    "\n",
    "test['vendor_1'] = test['vendor_id'] == 1\n",
    "test['vendor_2'] = test['vendor_id'] == 2\n",
    "\n",
    "train['passenger_0'] = train['passenger_count'] == 0\n",
    "train['passenger_1'] = train['passenger_count'] == 1\n",
    "train['passenger_2'] = train['passenger_count'] == 2\n",
    "train['passenger_3'] = train['passenger_count'] == 3\n",
    "train['passenger_4'] = train['passenger_count'] == 4\n",
    "train['passenger_5'] = train['passenger_count'] == 5\n",
    "train['passenger_6'] = train['passenger_count'] == 6\n",
    "train['passenger_7'] = train['passenger_count'] == 7\n",
    "train['passenger_8'] = train['passenger_count'] == 8\n",
    "train['passenger_9'] = train['passenger_count'] == 9\n",
    "\n",
    "test['passenger_0'] = test['passenger_count'] == 0\n",
    "test['passenger_1'] = test['passenger_count'] == 1\n",
    "test['passenger_2'] = test['passenger_count'] == 2\n",
    "test['passenger_3'] = test['passenger_count'] == 3\n",
    "test['passenger_4'] = test['passenger_count'] == 4\n",
    "test['passenger_5'] = test['passenger_count'] == 5\n",
    "test['passenger_6'] = test['passenger_count'] == 6\n",
    "test['passenger_7'] = test['passenger_count'] == 7\n",
    "test['passenger_8'] = test['passenger_count'] == 8\n",
    "test['passenger_9'] = test['passenger_count'] == 9\n"
   ]
  }
 ],
 "metadata": {
  "kernelspec": {
   "display_name": "Python 3",
   "language": "python",
   "name": "python3"
  },
  "language_info": {
   "codemirror_mode": {
    "name": "ipython",
    "version": 3
   },
   "file_extension": ".py",
   "mimetype": "text/x-python",
   "name": "python",
   "nbconvert_exporter": "python",
   "pygments_lexer": "ipython3",
   "version": "3.6.1"
  }
 },
 "nbformat": 4,
 "nbformat_minor": 2
}
