{
 "cells": [
  {
   "cell_type": "markdown",
   "metadata": {},
   "source": [
    "# New York City Taxi Trip Duration 02 - Machine Learning"
   ]
  },
  {
   "cell_type": "markdown",
   "metadata": {},
   "source": [
    "###   \n",
    "### 목표 : 데이터를 가지고 택시 주행거리 예측 모델 구축\n",
    "###   \n",
    "###   "
   ]
  },
  {
   "cell_type": "markdown",
   "metadata": {},
   "source": [
    "## 1. 데이터 전처리 "
   ]
  },
  {
   "cell_type": "code",
   "execution_count": 1,
   "metadata": {},
   "outputs": [
    {
     "name": "stdout",
     "output_type": "stream",
     "text": [
      "완료!\n"
     ]
    }
   ],
   "source": [
    "import pandas as pd\n",
    "import numpy as np\n",
    "import matplotlib.pyplot as plt\n",
    "\n",
    "train = pd.read_csv(\"train.csv\", parse_dates = ['pickup_datetime', 'dropoff_datetime'])\n",
    "test = pd.read_csv(\"test.csv\", parse_dates = ['pickup_datetime'])\n",
    "submission = pd.read_csv(\"sample_submission.csv\")\n",
    "\n",
    "train['pickup_year'] = train['pickup_datetime'].dt.year  \n",
    "train['pickup_month'] = train['pickup_datetime'].dt.month\n",
    "train['pickup_day'] = train['pickup_datetime'].dt.day\n",
    "train['pickup_hour'] = train['pickup_datetime'].dt.hour\n",
    "train['pickup_minute'] = train['pickup_datetime'].dt.minute\n",
    "train['pickup_second'] = train['pickup_datetime'].dt.second\n",
    "train[\"pickup_dayofweek\"] = train[\"pickup_datetime\"].dt.dayofweek \n",
    "\n",
    "test['pickup_year'] = test['pickup_datetime'].dt.year  \n",
    "test['pickup_month'] = test['pickup_datetime'].dt.month\n",
    "test['pickup_day'] = test['pickup_datetime'].dt.day\n",
    "test['pickup_hour'] = test['pickup_datetime'].dt.hour\n",
    "test['pickup_minute'] = test['pickup_datetime'].dt.minute\n",
    "test['pickup_second'] = test['pickup_datetime'].dt.second\n",
    "test[\"pickup_dayofweek\"] = test[\"pickup_datetime\"].dt.dayofweek \n",
    "\n",
    "\n",
    "train['store_and_fwd_flag_Y'] = train['store_and_fwd_flag'] == 'Y'\n",
    "train['store_and_fwd_flag_N'] = train['store_and_fwd_flag'] == 'N'\n",
    "\n",
    "test['store_and_fwd_flag_Y'] = test['store_and_fwd_flag'] == 'Y'\n",
    "test['store_and_fwd_flag_N'] = test['store_and_fwd_flag'] == 'N'\n",
    "\n",
    "\n",
    "train['vendor_1'] = train['vendor_id'] == 1\n",
    "train['vendor_2'] = train['vendor_id'] == 2\n",
    "\n",
    "test['vendor_1'] = test['vendor_id'] == 1\n",
    "test['vendor_2'] = test['vendor_id'] == 2\n",
    "\n",
    "\n",
    "train['passenger_0'] = train['passenger_count'] == 0\n",
    "train['passenger_1'] = train['passenger_count'] == 1\n",
    "train['passenger_2'] = train['passenger_count'] == 2\n",
    "train['passenger_3'] = train['passenger_count'] == 3\n",
    "train['passenger_4'] = train['passenger_count'] == 4\n",
    "train['passenger_5'] = train['passenger_count'] == 5\n",
    "train['passenger_6'] = train['passenger_count'] == 6\n",
    "train['passenger_7'] = train['passenger_count'] == 7\n",
    "train['passenger_8'] = train['passenger_count'] == 8\n",
    "train['passenger_9'] = train['passenger_count'] == 9\n",
    "\n",
    "test['passenger_0'] = test['passenger_count'] == 0\n",
    "test['passenger_1'] = test['passenger_count'] == 1\n",
    "test['passenger_2'] = test['passenger_count'] == 2\n",
    "test['passenger_3'] = test['passenger_count'] == 3\n",
    "test['passenger_4'] = test['passenger_count'] == 4\n",
    "test['passenger_5'] = test['passenger_count'] == 5\n",
    "test['passenger_6'] = test['passenger_count'] == 6\n",
    "test['passenger_7'] = test['passenger_count'] == 7\n",
    "test['passenger_8'] = test['passenger_count'] == 8\n",
    "test['passenger_9'] = test['passenger_count'] == 9\n",
    "\n",
    "print(\"완료!\")"
   ]
  },
  {
   "cell_type": "markdown",
   "metadata": {},
   "source": [
    "####     \n",
    "####  "
   ]
  },
  {
   "cell_type": "markdown",
   "metadata": {},
   "source": [
    "## 2. 변수 선택 및 데이터 조정"
   ]
  },
  {
   "cell_type": "markdown",
   "metadata": {},
   "source": [
    "### 1) 변수 선택"
   ]
  },
  {
   "cell_type": "code",
   "execution_count": 2,
   "metadata": {},
   "outputs": [
    {
     "name": "stdout",
     "output_type": "stream",
     "text": [
      "(1458644, 32)\n"
     ]
    },
    {
     "data": {
      "text/plain": [
       "Index(['id', 'vendor_id', 'pickup_datetime', 'dropoff_datetime',\n",
       "       'passenger_count', 'pickup_longitude', 'pickup_latitude',\n",
       "       'dropoff_longitude', 'dropoff_latitude', 'store_and_fwd_flag',\n",
       "       'trip_duration', 'pickup_year', 'pickup_month', 'pickup_day',\n",
       "       'pickup_hour', 'pickup_minute', 'pickup_second', 'pickup_dayofweek',\n",
       "       'store_and_fwd_flag_Y', 'store_and_fwd_flag_N', 'vendor_1', 'vendor_2',\n",
       "       'passenger_0', 'passenger_1', 'passenger_2', 'passenger_3',\n",
       "       'passenger_4', 'passenger_5', 'passenger_6', 'passenger_7',\n",
       "       'passenger_8', 'passenger_9'],\n",
       "      dtype='object')"
      ]
     },
     "execution_count": 2,
     "metadata": {},
     "output_type": "execute_result"
    }
   ],
   "source": [
    "print(train.shape)\n",
    "train.columns"
   ]
  },
  {
   "cell_type": "code",
   "execution_count": 3,
   "metadata": {},
   "outputs": [
    {
     "name": "stdout",
     "output_type": "stream",
     "text": [
      "(625134, 30)\n"
     ]
    },
    {
     "data": {
      "text/plain": [
       "Index(['id', 'vendor_id', 'pickup_datetime', 'passenger_count',\n",
       "       'pickup_longitude', 'pickup_latitude', 'dropoff_longitude',\n",
       "       'dropoff_latitude', 'store_and_fwd_flag', 'pickup_year', 'pickup_month',\n",
       "       'pickup_day', 'pickup_hour', 'pickup_minute', 'pickup_second',\n",
       "       'pickup_dayofweek', 'store_and_fwd_flag_Y', 'store_and_fwd_flag_N',\n",
       "       'vendor_1', 'vendor_2', 'passenger_0', 'passenger_1', 'passenger_2',\n",
       "       'passenger_3', 'passenger_4', 'passenger_5', 'passenger_6',\n",
       "       'passenger_7', 'passenger_8', 'passenger_9'],\n",
       "      dtype='object')"
      ]
     },
     "execution_count": 3,
     "metadata": {},
     "output_type": "execute_result"
    }
   ],
   "source": [
    "print(test.shape)\n",
    "test.columns"
   ]
  },
  {
   "cell_type": "markdown",
   "metadata": {},
   "source": [
    "#### 모델링에 필요한 변수들 선택"
   ]
  },
  {
   "cell_type": "code",
   "execution_count": null,
   "metadata": {
    "collapsed": true
   },
   "outputs": [],
   "source": [
    "feature_names = [ 'pickup_longitude', 'pickup_latitude',  \n",
    "                  'store_and_fwd_flag_Y', 'store_and_fwd_flag_N',\n",
    "                  'pickup_year', 'pickup_month', 'pickup_day',\n",
    "                  'pickup_hour', 'pickup_minute', 'pickup_second', 'pickup_dayofweek',\n",
    "                  'vendor_id', 'vendor_1', 'vendor_2',\n",
    "                  'passenger_count', 'passenger_0', 'passenger_1', 'passenger_2', 'passenger_3',\n",
    "                  'passenger_4', 'passenger_5', 'passenger_6', 'passenger_7', 'passenger_8', \n",
    "                  'passenger_9']"
   ]
  },
  {
   "cell_type": "markdown",
   "metadata": {},
   "source": [
    "#### 'id'는 단순 구분을 위한 값이고,  'pickup_datetime'의 경우 날짜형태라 제외\n",
    "#### 'dropoff_longitude', 'dropoff_latitude', 'dropoff_datetime'는 test 데이터에 없음\n",
    "#### 'store_and_fwd_flag'의 경우 Y와 N이 문자열이기 때문에 계산을 못함. 원핫인코딩만 사용\n",
    "#### 'trip_duration'은 목표값이니 제외"
   ]
  },
  {
   "cell_type": "code",
   "execution_count": null,
   "metadata": {
    "collapsed": true
   },
   "outputs": [],
   "source": [
    "basic_features : 모든 변수 포함\n",
    "feature_names =['pickup_longitude', 'pickup_latitude',  \n",
    "                  'store_and_fwd_flag_Y', 'store_and_fwd_flag_N',\n",
    "                  'pickup_year', 'pickup_month', 'pickup_day',\n",
    "                  'pickup_hour', 'pickup_minute', 'pickup_second', 'pickup_dayofweek',\n",
    "                  'vendor_id', 'vendor_1', 'vendor_2',\n",
    "                  'passenger_count', 'passenger_0', 'passenger_1', 'passenger_2', 'passenger_3',\n",
    "                  'passenger_4', 'passenger_5', 'passenger_6', 'passenger_7', 'passenger_8', \n",
    "                  'passenger_9']\n",
    "\n",
    "feautres_1 : vendor_id와 passenger_count의 경우 원핫인코딩 제외\n",
    "feautres_1 = ['pickup_longitude', 'pickup_latitude',  \n",
    "              'store_and_fwd_flag_Y', 'store_and_fwd_flag_N',\n",
    "              'pickup_year', 'pickup_month', 'pickup_day',\n",
    "              'pickup_hour', 'pickup_minute', 'pickup_second', 'pickup_dayofweek',\n",
    "              'vendor_id',\n",
    "              'passenger_count']\n",
    "    \n",
    "feautres_2 : vendor_id와 passenger_count의 경우 원핫인코딩만 사용\n",
    "feautres_2 = ['pickup_longitude', 'pickup_latitude',  \n",
    "              'store_and_fwd_flag_Y', 'store_and_fwd_flag_N',\n",
    "              'pickup_year', 'pickup_month', 'pickup_day',\n",
    "              'pickup_hour', 'pickup_minute', 'pickup_second', 'pickup_dayofweek',\n",
    "              'vendor_1', 'vendor_2',\n",
    "              'passenger_0', 'passenger_1', 'passenger_2', 'passenger_3',\n",
    "              'passenger_4', 'passenger_5', 'passenger_6', 'passenger_7', 'passenger_8', \n",
    "              'passenger_9']\n",
    "    \n",
    "feautres_3 :  초 제외 /vendor_id와 passenger_count의 경우 원핫인코딩만 사용\n",
    "feautres_3 = ['pickup_longitude', 'pickup_latitude',  \n",
    "              'store_and_fwd_flag_Y', 'store_and_fwd_flag_N',\n",
    "              'pickup_year', 'pickup_month', 'pickup_day',\n",
    "              'pickup_hour', 'pickup_minute', 'pickup_dayofweek',\n",
    "              'vendor_1', 'vendor_2',\n",
    "              'passenger_0', 'passenger_1', 'passenger_2', 'passenger_3',\n",
    "              'passenger_4', 'passenger_5', 'passenger_6', 'passenger_7', 'passenger_8', \n",
    "              'passenger_9']\n",
    "\n",
    "feautres_4 :  날짜 제외 / vendor_id와 passenger_count의 경우 원핫인코딩만 사용\n",
    "feautres_4 = ['pickup_longitude', 'pickup_latitude',  \n",
    "              'store_and_fwd_flag_Y', 'store_and_fwd_flag_N',\n",
    "              'pickup_hour', 'pickup_minute', 'pickup_dayofweek',\n",
    "              'vendor_1', 'vendor_2',\n",
    "              'passenger_0', 'passenger_1', 'passenger_2', 'passenger_3',\n",
    "              'passenger_4', 'passenger_5', 'passenger_6', 'passenger_7', 'passenger_8', \n",
    "              'passenger_9']"
   ]
  },
  {
   "cell_type": "code",
   "execution_count": 2,
   "metadata": {
    "collapsed": true
   },
   "outputs": [],
   "source": [
    "feature_names =['pickup_longitude', 'pickup_latitude',  \n",
    "                  'store_and_fwd_flag_Y', 'store_and_fwd_flag_N',\n",
    "                  'pickup_year', 'pickup_month', 'pickup_day',\n",
    "                  'pickup_hour', 'pickup_minute', 'pickup_second', 'pickup_dayofweek',\n",
    "                  'vendor_id', 'vendor_1', 'vendor_2',\n",
    "                  'passenger_count', 'passenger_0', 'passenger_1', 'passenger_2', 'passenger_3',\n",
    "                  'passenger_4', 'passenger_5', 'passenger_6', 'passenger_7', 'passenger_8', \n",
    "                  'passenger_9']  # basic\n",
    "\n",
    "# RF"
   ]
  },
  {
   "cell_type": "markdown",
   "metadata": {},
   "source": [
    "### 2) 데이터 조정"
   ]
  },
  {
   "cell_type": "code",
   "execution_count": 3,
   "metadata": {},
   "outputs": [
    {
     "name": "stdout",
     "output_type": "stream",
     "text": [
      "(1458644, 22)\n"
     ]
    },
    {
     "data": {
      "text/html": [
       "<div>\n",
       "<style>\n",
       "    .dataframe thead tr:only-child th {\n",
       "        text-align: right;\n",
       "    }\n",
       "\n",
       "    .dataframe thead th {\n",
       "        text-align: left;\n",
       "    }\n",
       "\n",
       "    .dataframe tbody tr th {\n",
       "        vertical-align: top;\n",
       "    }\n",
       "</style>\n",
       "<table border=\"1\" class=\"dataframe\">\n",
       "  <thead>\n",
       "    <tr style=\"text-align: right;\">\n",
       "      <th></th>\n",
       "      <th>pickup_longitude</th>\n",
       "      <th>pickup_latitude</th>\n",
       "      <th>store_and_fwd_flag_Y</th>\n",
       "      <th>store_and_fwd_flag_N</th>\n",
       "      <th>pickup_year</th>\n",
       "      <th>pickup_month</th>\n",
       "      <th>pickup_day</th>\n",
       "      <th>pickup_hour</th>\n",
       "      <th>pickup_minute</th>\n",
       "      <th>pickup_dayofweek</th>\n",
       "      <th>...</th>\n",
       "      <th>passenger_0</th>\n",
       "      <th>passenger_1</th>\n",
       "      <th>passenger_2</th>\n",
       "      <th>passenger_3</th>\n",
       "      <th>passenger_4</th>\n",
       "      <th>passenger_5</th>\n",
       "      <th>passenger_6</th>\n",
       "      <th>passenger_7</th>\n",
       "      <th>passenger_8</th>\n",
       "      <th>passenger_9</th>\n",
       "    </tr>\n",
       "  </thead>\n",
       "  <tbody>\n",
       "    <tr>\n",
       "      <th>0</th>\n",
       "      <td>-73.982155</td>\n",
       "      <td>40.767937</td>\n",
       "      <td>False</td>\n",
       "      <td>True</td>\n",
       "      <td>2016</td>\n",
       "      <td>3</td>\n",
       "      <td>14</td>\n",
       "      <td>17</td>\n",
       "      <td>24</td>\n",
       "      <td>0</td>\n",
       "      <td>...</td>\n",
       "      <td>False</td>\n",
       "      <td>True</td>\n",
       "      <td>False</td>\n",
       "      <td>False</td>\n",
       "      <td>False</td>\n",
       "      <td>False</td>\n",
       "      <td>False</td>\n",
       "      <td>False</td>\n",
       "      <td>False</td>\n",
       "      <td>False</td>\n",
       "    </tr>\n",
       "    <tr>\n",
       "      <th>1</th>\n",
       "      <td>-73.980415</td>\n",
       "      <td>40.738564</td>\n",
       "      <td>False</td>\n",
       "      <td>True</td>\n",
       "      <td>2016</td>\n",
       "      <td>6</td>\n",
       "      <td>12</td>\n",
       "      <td>0</td>\n",
       "      <td>43</td>\n",
       "      <td>6</td>\n",
       "      <td>...</td>\n",
       "      <td>False</td>\n",
       "      <td>True</td>\n",
       "      <td>False</td>\n",
       "      <td>False</td>\n",
       "      <td>False</td>\n",
       "      <td>False</td>\n",
       "      <td>False</td>\n",
       "      <td>False</td>\n",
       "      <td>False</td>\n",
       "      <td>False</td>\n",
       "    </tr>\n",
       "    <tr>\n",
       "      <th>2</th>\n",
       "      <td>-73.979027</td>\n",
       "      <td>40.763939</td>\n",
       "      <td>False</td>\n",
       "      <td>True</td>\n",
       "      <td>2016</td>\n",
       "      <td>1</td>\n",
       "      <td>19</td>\n",
       "      <td>11</td>\n",
       "      <td>35</td>\n",
       "      <td>1</td>\n",
       "      <td>...</td>\n",
       "      <td>False</td>\n",
       "      <td>True</td>\n",
       "      <td>False</td>\n",
       "      <td>False</td>\n",
       "      <td>False</td>\n",
       "      <td>False</td>\n",
       "      <td>False</td>\n",
       "      <td>False</td>\n",
       "      <td>False</td>\n",
       "      <td>False</td>\n",
       "    </tr>\n",
       "    <tr>\n",
       "      <th>3</th>\n",
       "      <td>-74.010040</td>\n",
       "      <td>40.719971</td>\n",
       "      <td>False</td>\n",
       "      <td>True</td>\n",
       "      <td>2016</td>\n",
       "      <td>4</td>\n",
       "      <td>6</td>\n",
       "      <td>19</td>\n",
       "      <td>32</td>\n",
       "      <td>2</td>\n",
       "      <td>...</td>\n",
       "      <td>False</td>\n",
       "      <td>True</td>\n",
       "      <td>False</td>\n",
       "      <td>False</td>\n",
       "      <td>False</td>\n",
       "      <td>False</td>\n",
       "      <td>False</td>\n",
       "      <td>False</td>\n",
       "      <td>False</td>\n",
       "      <td>False</td>\n",
       "    </tr>\n",
       "    <tr>\n",
       "      <th>4</th>\n",
       "      <td>-73.973053</td>\n",
       "      <td>40.793209</td>\n",
       "      <td>False</td>\n",
       "      <td>True</td>\n",
       "      <td>2016</td>\n",
       "      <td>3</td>\n",
       "      <td>26</td>\n",
       "      <td>13</td>\n",
       "      <td>30</td>\n",
       "      <td>5</td>\n",
       "      <td>...</td>\n",
       "      <td>False</td>\n",
       "      <td>True</td>\n",
       "      <td>False</td>\n",
       "      <td>False</td>\n",
       "      <td>False</td>\n",
       "      <td>False</td>\n",
       "      <td>False</td>\n",
       "      <td>False</td>\n",
       "      <td>False</td>\n",
       "      <td>False</td>\n",
       "    </tr>\n",
       "  </tbody>\n",
       "</table>\n",
       "<p>5 rows × 22 columns</p>\n",
       "</div>"
      ],
      "text/plain": [
       "   pickup_longitude  pickup_latitude  store_and_fwd_flag_Y  \\\n",
       "0        -73.982155        40.767937                 False   \n",
       "1        -73.980415        40.738564                 False   \n",
       "2        -73.979027        40.763939                 False   \n",
       "3        -74.010040        40.719971                 False   \n",
       "4        -73.973053        40.793209                 False   \n",
       "\n",
       "   store_and_fwd_flag_N  pickup_year  pickup_month  pickup_day  pickup_hour  \\\n",
       "0                  True         2016             3          14           17   \n",
       "1                  True         2016             6          12            0   \n",
       "2                  True         2016             1          19           11   \n",
       "3                  True         2016             4           6           19   \n",
       "4                  True         2016             3          26           13   \n",
       "\n",
       "   pickup_minute  pickup_dayofweek     ...       passenger_0  passenger_1  \\\n",
       "0             24                 0     ...             False         True   \n",
       "1             43                 6     ...             False         True   \n",
       "2             35                 1     ...             False         True   \n",
       "3             32                 2     ...             False         True   \n",
       "4             30                 5     ...             False         True   \n",
       "\n",
       "   passenger_2  passenger_3  passenger_4  passenger_5  passenger_6  \\\n",
       "0        False        False        False        False        False   \n",
       "1        False        False        False        False        False   \n",
       "2        False        False        False        False        False   \n",
       "3        False        False        False        False        False   \n",
       "4        False        False        False        False        False   \n",
       "\n",
       "   passenger_7  passenger_8  passenger_9  \n",
       "0        False        False        False  \n",
       "1        False        False        False  \n",
       "2        False        False        False  \n",
       "3        False        False        False  \n",
       "4        False        False        False  \n",
       "\n",
       "[5 rows x 22 columns]"
      ]
     },
     "execution_count": 3,
     "metadata": {},
     "output_type": "execute_result"
    }
   ],
   "source": [
    "x_train = train[feature_names]\n",
    "print(x_train.shape)\n",
    "x_train.head()"
   ]
  },
  {
   "cell_type": "code",
   "execution_count": 4,
   "metadata": {
    "scrolled": true
   },
   "outputs": [
    {
     "name": "stdout",
     "output_type": "stream",
     "text": [
      "(625134, 22)\n"
     ]
    },
    {
     "data": {
      "text/html": [
       "<div>\n",
       "<style>\n",
       "    .dataframe thead tr:only-child th {\n",
       "        text-align: right;\n",
       "    }\n",
       "\n",
       "    .dataframe thead th {\n",
       "        text-align: left;\n",
       "    }\n",
       "\n",
       "    .dataframe tbody tr th {\n",
       "        vertical-align: top;\n",
       "    }\n",
       "</style>\n",
       "<table border=\"1\" class=\"dataframe\">\n",
       "  <thead>\n",
       "    <tr style=\"text-align: right;\">\n",
       "      <th></th>\n",
       "      <th>pickup_longitude</th>\n",
       "      <th>pickup_latitude</th>\n",
       "      <th>store_and_fwd_flag_Y</th>\n",
       "      <th>store_and_fwd_flag_N</th>\n",
       "      <th>pickup_year</th>\n",
       "      <th>pickup_month</th>\n",
       "      <th>pickup_day</th>\n",
       "      <th>pickup_hour</th>\n",
       "      <th>pickup_minute</th>\n",
       "      <th>pickup_dayofweek</th>\n",
       "      <th>...</th>\n",
       "      <th>passenger_0</th>\n",
       "      <th>passenger_1</th>\n",
       "      <th>passenger_2</th>\n",
       "      <th>passenger_3</th>\n",
       "      <th>passenger_4</th>\n",
       "      <th>passenger_5</th>\n",
       "      <th>passenger_6</th>\n",
       "      <th>passenger_7</th>\n",
       "      <th>passenger_8</th>\n",
       "      <th>passenger_9</th>\n",
       "    </tr>\n",
       "  </thead>\n",
       "  <tbody>\n",
       "    <tr>\n",
       "      <th>0</th>\n",
       "      <td>-73.988129</td>\n",
       "      <td>40.732029</td>\n",
       "      <td>False</td>\n",
       "      <td>True</td>\n",
       "      <td>2016</td>\n",
       "      <td>6</td>\n",
       "      <td>30</td>\n",
       "      <td>23</td>\n",
       "      <td>59</td>\n",
       "      <td>3</td>\n",
       "      <td>...</td>\n",
       "      <td>False</td>\n",
       "      <td>True</td>\n",
       "      <td>False</td>\n",
       "      <td>False</td>\n",
       "      <td>False</td>\n",
       "      <td>False</td>\n",
       "      <td>False</td>\n",
       "      <td>False</td>\n",
       "      <td>False</td>\n",
       "      <td>False</td>\n",
       "    </tr>\n",
       "    <tr>\n",
       "      <th>1</th>\n",
       "      <td>-73.964203</td>\n",
       "      <td>40.679993</td>\n",
       "      <td>False</td>\n",
       "      <td>True</td>\n",
       "      <td>2016</td>\n",
       "      <td>6</td>\n",
       "      <td>30</td>\n",
       "      <td>23</td>\n",
       "      <td>59</td>\n",
       "      <td>3</td>\n",
       "      <td>...</td>\n",
       "      <td>False</td>\n",
       "      <td>True</td>\n",
       "      <td>False</td>\n",
       "      <td>False</td>\n",
       "      <td>False</td>\n",
       "      <td>False</td>\n",
       "      <td>False</td>\n",
       "      <td>False</td>\n",
       "      <td>False</td>\n",
       "      <td>False</td>\n",
       "    </tr>\n",
       "    <tr>\n",
       "      <th>2</th>\n",
       "      <td>-73.997437</td>\n",
       "      <td>40.737583</td>\n",
       "      <td>False</td>\n",
       "      <td>True</td>\n",
       "      <td>2016</td>\n",
       "      <td>6</td>\n",
       "      <td>30</td>\n",
       "      <td>23</td>\n",
       "      <td>59</td>\n",
       "      <td>3</td>\n",
       "      <td>...</td>\n",
       "      <td>False</td>\n",
       "      <td>True</td>\n",
       "      <td>False</td>\n",
       "      <td>False</td>\n",
       "      <td>False</td>\n",
       "      <td>False</td>\n",
       "      <td>False</td>\n",
       "      <td>False</td>\n",
       "      <td>False</td>\n",
       "      <td>False</td>\n",
       "    </tr>\n",
       "    <tr>\n",
       "      <th>3</th>\n",
       "      <td>-73.956070</td>\n",
       "      <td>40.771900</td>\n",
       "      <td>False</td>\n",
       "      <td>True</td>\n",
       "      <td>2016</td>\n",
       "      <td>6</td>\n",
       "      <td>30</td>\n",
       "      <td>23</td>\n",
       "      <td>59</td>\n",
       "      <td>3</td>\n",
       "      <td>...</td>\n",
       "      <td>False</td>\n",
       "      <td>True</td>\n",
       "      <td>False</td>\n",
       "      <td>False</td>\n",
       "      <td>False</td>\n",
       "      <td>False</td>\n",
       "      <td>False</td>\n",
       "      <td>False</td>\n",
       "      <td>False</td>\n",
       "      <td>False</td>\n",
       "    </tr>\n",
       "    <tr>\n",
       "      <th>4</th>\n",
       "      <td>-73.970215</td>\n",
       "      <td>40.761475</td>\n",
       "      <td>False</td>\n",
       "      <td>True</td>\n",
       "      <td>2016</td>\n",
       "      <td>6</td>\n",
       "      <td>30</td>\n",
       "      <td>23</td>\n",
       "      <td>59</td>\n",
       "      <td>3</td>\n",
       "      <td>...</td>\n",
       "      <td>False</td>\n",
       "      <td>True</td>\n",
       "      <td>False</td>\n",
       "      <td>False</td>\n",
       "      <td>False</td>\n",
       "      <td>False</td>\n",
       "      <td>False</td>\n",
       "      <td>False</td>\n",
       "      <td>False</td>\n",
       "      <td>False</td>\n",
       "    </tr>\n",
       "  </tbody>\n",
       "</table>\n",
       "<p>5 rows × 22 columns</p>\n",
       "</div>"
      ],
      "text/plain": [
       "   pickup_longitude  pickup_latitude  store_and_fwd_flag_Y  \\\n",
       "0        -73.988129        40.732029                 False   \n",
       "1        -73.964203        40.679993                 False   \n",
       "2        -73.997437        40.737583                 False   \n",
       "3        -73.956070        40.771900                 False   \n",
       "4        -73.970215        40.761475                 False   \n",
       "\n",
       "   store_and_fwd_flag_N  pickup_year  pickup_month  pickup_day  pickup_hour  \\\n",
       "0                  True         2016             6          30           23   \n",
       "1                  True         2016             6          30           23   \n",
       "2                  True         2016             6          30           23   \n",
       "3                  True         2016             6          30           23   \n",
       "4                  True         2016             6          30           23   \n",
       "\n",
       "   pickup_minute  pickup_dayofweek     ...       passenger_0  passenger_1  \\\n",
       "0             59                 3     ...             False         True   \n",
       "1             59                 3     ...             False         True   \n",
       "2             59                 3     ...             False         True   \n",
       "3             59                 3     ...             False         True   \n",
       "4             59                 3     ...             False         True   \n",
       "\n",
       "   passenger_2  passenger_3  passenger_4  passenger_5  passenger_6  \\\n",
       "0        False        False        False        False        False   \n",
       "1        False        False        False        False        False   \n",
       "2        False        False        False        False        False   \n",
       "3        False        False        False        False        False   \n",
       "4        False        False        False        False        False   \n",
       "\n",
       "   passenger_7  passenger_8  passenger_9  \n",
       "0        False        False        False  \n",
       "1        False        False        False  \n",
       "2        False        False        False  \n",
       "3        False        False        False  \n",
       "4        False        False        False  \n",
       "\n",
       "[5 rows x 22 columns]"
      ]
     },
     "execution_count": 4,
     "metadata": {},
     "output_type": "execute_result"
    }
   ],
   "source": [
    "x_test = test[feature_names]\n",
    "print(x_test.shape)\n",
    "x_test.head()"
   ]
  },
  {
   "cell_type": "code",
   "execution_count": 5,
   "metadata": {
    "scrolled": true
   },
   "outputs": [
    {
     "name": "stdout",
     "output_type": "stream",
     "text": [
      "(1458644,)\n"
     ]
    },
    {
     "data": {
      "text/plain": [
       "0     455\n",
       "1     663\n",
       "2    2124\n",
       "3     429\n",
       "4     435\n",
       "Name: trip_duration, dtype: int64"
      ]
     },
     "execution_count": 5,
     "metadata": {},
     "output_type": "execute_result"
    }
   ],
   "source": [
    "label_name = \"trip_duration\"\n",
    "\n",
    "y_train = train[label_name]\n",
    "print(y_train.shape)\n",
    "y_train.head()"
   ]
  },
  {
   "cell_type": "code",
   "execution_count": 6,
   "metadata": {},
   "outputs": [
    {
     "data": {
      "text/plain": [
       "0    6.122493\n",
       "1    6.498282\n",
       "2    7.661527\n",
       "3    6.063785\n",
       "4    6.077642\n",
       "Name: trip_duration, dtype: float64"
      ]
     },
     "execution_count": 6,
     "metadata": {},
     "output_type": "execute_result"
    }
   ],
   "source": [
    "y_train = np.log1p(y_train)\n",
    "y_train.head()"
   ]
  },
  {
   "cell_type": "markdown",
   "metadata": {},
   "source": [
    "####   \n",
    "####    "
   ]
  },
  {
   "cell_type": "markdown",
   "metadata": {},
   "source": [
    "## 3. Linear Regression"
   ]
  },
  {
   "cell_type": "markdown",
   "metadata": {},
   "source": [
    "#### 기본"
   ]
  },
  {
   "cell_type": "code",
   "execution_count": 8,
   "metadata": {},
   "outputs": [
    {
     "data": {
      "text/plain": [
       "array([722.4012868 , 897.43401767, 699.8967529 , 669.96028581,\n",
       "       665.1235513 , 675.24198506, 707.16894828, 828.53860806,\n",
       "       787.15288412, 694.66236882])"
      ]
     },
     "execution_count": 8,
     "metadata": {},
     "output_type": "execute_result"
    }
   ],
   "source": [
    "from sklearn import linear_model\n",
    "\n",
    "LR_model = linear_model.LinearRegression()\n",
    "LR_model.fit(x_train, y_train)\n",
    "\n",
    "predictions = LR_model.predict(x_test)\n",
    "predictions = np.expm1(predictions)\n",
    "predictions[0:10]"
   ]
  },
  {
   "cell_type": "markdown",
   "metadata": {},
   "source": [
    "#### hyperparameters 조정"
   ]
  },
  {
   "cell_type": "code",
   "execution_count": 2,
   "metadata": {},
   "outputs": [
    {
     "data": {
      "text/plain": [
       "LinearRegression(copy_X=True, fit_intercept=True, n_jobs=1, normalize=False)"
      ]
     },
     "execution_count": 2,
     "metadata": {},
     "output_type": "execute_result"
    }
   ],
   "source": [
    "from sklearn import linear_model\n",
    "LR_model = linear_model.LinearRegression()\n",
    "LR_model"
   ]
  },
  {
   "cell_type": "code",
   "execution_count": 16,
   "metadata": {},
   "outputs": [
    {
     "data": {
      "text/plain": [
       "array([722.40128681, 897.43401768, 699.89675291, 669.96028582,\n",
       "       665.12355131, 675.24198507, 707.16894829, 828.53860807,\n",
       "       787.15288413, 694.66236883])"
      ]
     },
     "execution_count": 16,
     "metadata": {},
     "output_type": "execute_result"
    }
   ],
   "source": [
    "from sklearn import linear_model\n",
    "LR_model = linear_model.LinearRegression(fit_intercept=False)\n",
    "LR_model.fit(x_train, y_train)\n",
    "\n",
    "predictions = LR_model.predict(x_test)\n",
    "predictions = np.expm1(predictions)\n",
    "predictions[0:10]"
   ]
  },
  {
   "cell_type": "markdown",
   "metadata": {},
   "source": [
    "#### 제출"
   ]
  },
  {
   "cell_type": "code",
   "execution_count": 17,
   "metadata": {
    "collapsed": true
   },
   "outputs": [],
   "source": [
    "submission['trip_duration'] = predictions\n",
    "submission.to_csv('LR8.csv', index = False)"
   ]
  },
  {
   "cell_type": "markdown",
   "metadata": {},
   "source": [
    "#### 결과보고서"
   ]
  },
  {
   "cell_type": "code",
   "execution_count": null,
   "metadata": {
    "collapsed": true
   },
   "outputs": [],
   "source": [
    "LR / basic_features : 0.77677\n",
    "LR / features_1     : 0.77714\n",
    "LR / features_2     : 0.77677\n",
    "LR / features_3     : 0.77677\n",
    "LR / features_4     : 0.77762\n",
    "    \n",
    "LR / basic_features / normalize = True : 0.95757\n",
    "LR / basic_features / normalize=True  fit_intercept=False : 0.77677\n",
    "LR / basic_features / fit_intercept=False : 0.77677    "
   ]
  },
  {
   "cell_type": "markdown",
   "metadata": {},
   "source": [
    "####  \n",
    "####  "
   ]
  },
  {
   "cell_type": "markdown",
   "metadata": {},
   "source": [
    "## 4. Decision Tree Regressor"
   ]
  },
  {
   "cell_type": "markdown",
   "metadata": {},
   "source": [
    "#### 기본"
   ]
  },
  {
   "cell_type": "code",
   "execution_count": 9,
   "metadata": {},
   "outputs": [
    {
     "data": {
      "text/plain": [
       "array([ 452.,  279., 2214., 1025.,  249., 1464.,  760.,    3.,  184.,\n",
       "        222.])"
      ]
     },
     "execution_count": 9,
     "metadata": {},
     "output_type": "execute_result"
    }
   ],
   "source": [
    "from sklearn.tree import DecisionTreeRegressor\n",
    "\n",
    "DT_model = DecisionTreeRegressor()\n",
    "DT_model.fit(x_train, y_train)\n",
    "\n",
    "predictions = DT_model.predict(x_test)\n",
    "predictions = np.expm1(predictions)\n",
    "predictions[0:10]"
   ]
  },
  {
   "cell_type": "markdown",
   "metadata": {},
   "source": [
    "#### hyperparameters 조정"
   ]
  },
  {
   "cell_type": "code",
   "execution_count": 18,
   "metadata": {},
   "outputs": [
    {
     "data": {
      "text/plain": [
       "DecisionTreeRegressor(criterion='mse', max_depth=None, max_features=None,\n",
       "           max_leaf_nodes=None, min_impurity_split=1e-07,\n",
       "           min_samples_leaf=1, min_samples_split=2,\n",
       "           min_weight_fraction_leaf=0.0, presort=False, random_state=None,\n",
       "           splitter='best')"
      ]
     },
     "execution_count": 18,
     "metadata": {},
     "output_type": "execute_result"
    }
   ],
   "source": [
    "from sklearn.tree import DecisionTreeRegressor\n",
    "\n",
    "DT_model = DecisionTreeRegressor()\n",
    "DT_model"
   ]
  },
  {
   "cell_type": "code",
   "execution_count": null,
   "metadata": {
    "collapsed": true
   },
   "outputs": [],
   "source": [
    "from sklearn.tree import DecisionTreeRegressor\n",
    "\n",
    "DT_model = DecisionTreeRegressor(criterion='mae',\n",
    "                                 max_depth = 10, random_state = 50)     # 12시 35분 시작\n",
    "DT_model.fit(x_train, y_train)\n",
    "\n",
    "predictions = DT_model.predict(x_test)\n",
    "predictions = np.expm1(predictions)\n",
    "predictions[0:10]"
   ]
  },
  {
   "cell_type": "markdown",
   "metadata": {},
   "source": [
    "#### 제출"
   ]
  },
  {
   "cell_type": "code",
   "execution_count": 37,
   "metadata": {
    "collapsed": true
   },
   "outputs": [],
   "source": [
    "submission['trip_duration'] = predictions\n",
    "submission.to_csv('DC19.csv', index = False)"
   ]
  },
  {
   "cell_type": "markdown",
   "metadata": {},
   "source": [
    "#### 결과보고서 "
   ]
  },
  {
   "cell_type": "code",
   "execution_count": null,
   "metadata": {
    "collapsed": true
   },
   "outputs": [],
   "source": [
    "DT / basic_features : 1.07356\n",
    "DT / features_1     : 1.07007\n",
    "DT / features_2     : 1.07381\n",
    "DT / features_3     : 1.07070\n",
    "DT / features_4     : 1.06416\n",
    "    \n",
    "DT / basic_features / max_depth = 12 random_state = 50 : 0.74603\n",
    "DT / basic_features / max_depth = 10 random_state = 50 : 0.74505\n",
    "DT / basic_features / max_depth = 8 random_state = 50 :  0.74690\n",
    "DT / basic_features / max_depth = 9 random_state = 50 :  0.74551\n",
    "\n",
    "DT / features_4  / max_depth = 10 random_state = 50 : 0.74460\n",
    "DT / features_4  / max_depth = 10 random_state = 50 max_features = 'auto' :  0.74460\n",
    "DT / features_4  / max_depth = 10 random_state = 50 max_features = 'sqrt' :  0.75377\n",
    "DT / features_4  / max_depth = 10 random_state = 50 max_features = 'log2' :  0.75377\n",
    "    \n",
    "DT / features_4  / max_depth = 10 random_state = 50 : 0.74460 criterion='friedman_mse'  : 0.75377   \n",
    "DT / features_4  / max_depth = 10 random_state = 50 : 0.74460 criterion='mae'  : 너무 오래걸려 실패"
   ]
  },
  {
   "cell_type": "markdown",
   "metadata": {},
   "source": [
    "####   \n",
    "####   "
   ]
  },
  {
   "cell_type": "markdown",
   "metadata": {},
   "source": [
    "## 5. Random Forest Regressor"
   ]
  },
  {
   "cell_type": "markdown",
   "metadata": {},
   "source": [
    "#### 기본"
   ]
  },
  {
   "cell_type": "code",
   "execution_count": 11,
   "metadata": {},
   "outputs": [
    {
     "data": {
      "text/plain": [
       "array([ 493.97920857,  471.46022727, 1365.54733309, 1155.00641377,\n",
       "        720.39310441,  924.81350014,  808.66244501,  349.61084641,\n",
       "        638.72083385,  700.85066106])"
      ]
     },
     "execution_count": 11,
     "metadata": {},
     "output_type": "execute_result"
    }
   ],
   "source": [
    "from sklearn.ensemble import RandomForestRegressor\n",
    "\n",
    "RF_model = RandomForestRegressor()\n",
    "RF_model.fit(x_train, y_train)\n",
    "\n",
    "predictions = RF_model.predict(x_test)\n",
    "predictions = np.expm1(predictions)\n",
    "predictions[0:10]"
   ]
  },
  {
   "cell_type": "markdown",
   "metadata": {},
   "source": [
    "#### hyperparameters 조정"
   ]
  },
  {
   "cell_type": "code",
   "execution_count": 7,
   "metadata": {},
   "outputs": [
    {
     "data": {
      "text/plain": [
       "RandomForestRegressor(bootstrap=True, criterion='mse', max_depth=None,\n",
       "           max_features='auto', max_leaf_nodes=None,\n",
       "           min_impurity_split=1e-07, min_samples_leaf=1,\n",
       "           min_samples_split=2, min_weight_fraction_leaf=0.0,\n",
       "           n_estimators=10, n_jobs=1, oob_score=False, random_state=None,\n",
       "           verbose=0, warm_start=False)"
      ]
     },
     "execution_count": 7,
     "metadata": {},
     "output_type": "execute_result"
    }
   ],
   "source": [
    "from sklearn.ensemble import RandomForestRegressor\n",
    "\n",
    "RF_model = RandomForestRegressor()\n",
    "RF_model"
   ]
  },
  {
   "cell_type": "code",
   "execution_count": 33,
   "metadata": {
    "scrolled": true
   },
   "outputs": [
    {
     "name": "stdout",
     "output_type": "stream",
     "text": [
      "Running Time : 1061.50초\n"
     ]
    },
    {
     "data": {
      "text/plain": [
       "array([613.54855286, 695.37340227, 620.47647402, 515.89588524,\n",
       "       568.42534459, 596.16213353, 542.25022547, 613.21597493,\n",
       "       585.26054582, 578.17163974])"
      ]
     },
     "execution_count": 33,
     "metadata": {},
     "output_type": "execute_result"
    }
   ],
   "source": [
    "import time\n",
    "start = time.time()\n",
    "\n",
    "from sklearn.ensemble import RandomForestRegressor\n",
    "\n",
    "RF_model = RandomForestRegressor(n_estimators = 75)\n",
    "\n",
    "RF_model.fit(x_train, y_train)\n",
    "\n",
    "predictions = RF_model.predict(x_test)\n",
    "predictions = np.expm1(predictions)\n",
    "\n",
    "\n",
    "print('Running Time : %.02f초' % (time.time() - start))\n",
    "predictions[0:10]"
   ]
  },
  {
   "cell_type": "markdown",
   "metadata": {},
   "source": [
    "#### 제출"
   ]
  },
  {
   "cell_type": "code",
   "execution_count": 34,
   "metadata": {
    "collapsed": true
   },
   "outputs": [],
   "source": [
    "submission['trip_duration'] = predictions\n",
    "submission.to_csv('RF20.csv', index = False)"
   ]
  },
  {
   "cell_type": "markdown",
   "metadata": {},
   "source": [
    "#### 결과보고서"
   ]
  },
  {
   "cell_type": "code",
   "execution_count": null,
   "metadata": {
    "collapsed": true
   },
   "outputs": [],
   "source": [
    "RF / basic_features : 0.77799\n",
    "RF / features_1     : 0.77918\n",
    "RF / features_2     : 0.77863\n",
    "RF / features_3     : 0.77942\n",
    "RF / features_4     : 0.78734\n",
    "    \n",
    "RF / basic_features / random_state =  50 : 0.77764\n",
    "RF / basic_features / n_estimators = 100 random_state =  50 : 0.74300\n",
    "RF / basic_features / n_estimators = 100 random_state =  50 max_depth = 20 max_features = 8 : 0.73541\n",
    "RF / basic_features / n_estimators = 100 random_state =  50 max_depth = 20 max_features = 10 : 0.73423\n",
    "RF / basic_features / n_estimators = 100 random_state =  50 max_depth = 30 max_features = 10 : 0.73765   \n",
    "RF / basic_features / n_estimators = 100 random_state =  50 max_depth = 20 max_features = 12 : 0.73380 ☆\n",
    "RF / basic_features / n_estimators = 100 random_state =  40 max_depth = 20 max_features = 12 : 0.73385\n",
    "RF / basic_features / n_estimators = 100 random_state =  60 max_depth = 20 max_features = 12 : 0.73388\n",
    "\n",
    "    \n",
    "RF / basic_features / n_estimators = 200 random_state =  50 : 0.74087\n",
    "RF / basic_features / n_estimators = 200 random_state =  50 max_depth = 20 max_features = 10 : 0.73379 \n",
    "    \n",
    "RF / basic_features / n_estimators = 300 random_state =  50 : 메모리 오류\n",
    "    \n",
    "RF / basic_features / n_estimators = 50 random_state =  50 max_depth = 20 max_features = 12 : 0.73416  \n",
    "RF / basic_features / n_estimators = 75 random_state =  50 max_depth = 20 max_features = 12 : 0.73359 ☆ \n",
    "RF / basic_features / n_estimators = 75 : 0.74591"
   ]
  },
  {
   "cell_type": "markdown",
   "metadata": {},
   "source": [
    "####   \n",
    "####   "
   ]
  },
  {
   "cell_type": "markdown",
   "metadata": {},
   "source": [
    "## 6. Gradient Boost Regressor"
   ]
  },
  {
   "cell_type": "markdown",
   "metadata": {},
   "source": [
    "#### 기본"
   ]
  },
  {
   "cell_type": "code",
   "execution_count": 12,
   "metadata": {},
   "outputs": [
    {
     "data": {
      "text/plain": [
       "array([6.47258578, 6.43930132, 6.47258578, 6.31684105, 6.39497078,\n",
       "       6.50748801, 6.46367237, 6.80874323, 6.514045  , 6.50444774])"
      ]
     },
     "execution_count": 12,
     "metadata": {},
     "output_type": "execute_result"
    }
   ],
   "source": [
    "from sklearn.ensemble import GradientBoostingRegressor\n",
    "\n",
    "GB_model = GradientBoostingRegressor()\n",
    "GB_model.fit(x_train, y_train)\n",
    "\n",
    "predictions = GB_model.predict(x_test)\n",
    "predcitions = np.expm1(predictions)\n",
    "predictions[0:10]"
   ]
  },
  {
   "cell_type": "markdown",
   "metadata": {},
   "source": [
    "#### hyperparameters 조정"
   ]
  },
  {
   "cell_type": "code",
   "execution_count": 12,
   "metadata": {},
   "outputs": [
    {
     "data": {
      "text/plain": [
       "GradientBoostingRegressor(alpha=0.9, criterion='friedman_mse', init=None,\n",
       "             learning_rate=0.1, loss='ls', max_depth=3, max_features=None,\n",
       "             max_leaf_nodes=None, min_impurity_split=1e-07,\n",
       "             min_samples_leaf=1, min_samples_split=2,\n",
       "             min_weight_fraction_leaf=0.0, n_estimators=100,\n",
       "             presort='auto', random_state=None, subsample=1.0, verbose=0,\n",
       "             warm_start=False)"
      ]
     },
     "execution_count": 12,
     "metadata": {},
     "output_type": "execute_result"
    }
   ],
   "source": [
    "from sklearn.ensemble import GradientBoostingRegressor\n",
    "\n",
    "GB_model = GradientBoostingRegressor()\n",
    "GB_model"
   ]
  },
  {
   "cell_type": "code",
   "execution_count": 27,
   "metadata": {},
   "outputs": [
    {
     "name": "stdout",
     "output_type": "stream",
     "text": [
      "Running Time : 1045.19초\n"
     ]
    },
    {
     "data": {
      "text/plain": [
       "array([6.43344207, 6.25316501, 6.39557329, 6.22814576, 6.33882377,\n",
       "       6.55647984, 6.40817036, 6.84669248, 6.51057977, 6.47189709])"
      ]
     },
     "execution_count": 27,
     "metadata": {},
     "output_type": "execute_result"
    }
   ],
   "source": [
    "import time\n",
    "start = time.time()\n",
    "\n",
    "from sklearn.ensemble import GradientBoostingRegressor\n",
    "\n",
    "GB_model = GradientBoostingRegressor(n_estimators = 550, random_state =  50)\n",
    "GB_model.fit(x_train, y_train)\n",
    "\n",
    "predictions = GB_model.predict(x_test)\n",
    "predcitions = np.expm1(predictions)\n",
    "\n",
    "print('Running Time : %.02f초' % (time.time() - start))\n",
    "predictions[0:10]"
   ]
  },
  {
   "cell_type": "markdown",
   "metadata": {},
   "source": [
    "#### 제출"
   ]
  },
  {
   "cell_type": "code",
   "execution_count": 28,
   "metadata": {
    "collapsed": true
   },
   "outputs": [],
   "source": [
    "submission['trip_duration'] = predictions\n",
    "submission.to_csv('GB5.csv', index = False)"
   ]
  },
  {
   "cell_type": "markdown",
   "metadata": {},
   "source": [
    "#### 결과보고서"
   ]
  },
  {
   "cell_type": "code",
   "execution_count": null,
   "metadata": {
    "collapsed": true
   },
   "outputs": [],
   "source": [
    "GB / basic_features : 4.52659\n",
    "GB / features_1     : 4.52659\n",
    "    \n",
    "GB / basic_features / n_estimators = 750 random_state =  50 : 4.52634\n",
    "GB / basic_features / n_estimators = 550 random_state =  50 : 4.52636"
   ]
  },
  {
   "cell_type": "markdown",
   "metadata": {},
   "source": [
    "####   \n",
    "####   "
   ]
  },
  {
   "cell_type": "markdown",
   "metadata": {},
   "source": [
    "## 7. XGBoost Regressor "
   ]
  },
  {
   "cell_type": "markdown",
   "metadata": {},
   "source": [
    "#### 기본"
   ]
  },
  {
   "cell_type": "code",
   "execution_count": 11,
   "metadata": {},
   "outputs": [
    {
     "data": {
      "text/plain": [
       "array([643.61865, 628.2386 , 643.61865, 546.9475 , 594.29193, 661.1439 ,\n",
       "       636.3633 , 899.7914 , 681.5244 , 664.80994], dtype=float32)"
      ]
     },
     "execution_count": 11,
     "metadata": {},
     "output_type": "execute_result"
    }
   ],
   "source": [
    "import xgboost as xgb\n",
    "\n",
    "XGB_model = xgb.XGBRegressor()\n",
    "XGB_model.fit(x_train, y_train)\n",
    "\n",
    "predictions = XGB_model.predict(x_test)\n",
    "predictions = np.expm1(predictions)\n",
    "predictions[0:10]"
   ]
  },
  {
   "cell_type": "markdown",
   "metadata": {},
   "source": [
    "#### hyperparameters 조정"
   ]
  },
  {
   "cell_type": "code",
   "execution_count": 12,
   "metadata": {},
   "outputs": [
    {
     "data": {
      "text/plain": [
       "XGBRegressor(base_score=0.5, colsample_bylevel=1, colsample_bytree=1, gamma=0,\n",
       "       learning_rate=0.1, max_delta_step=0, max_depth=3,\n",
       "       min_child_weight=1, missing=None, n_estimators=100, nthread=-1,\n",
       "       objective='reg:linear', reg_alpha=0, reg_lambda=1,\n",
       "       scale_pos_weight=1, seed=0, silent=True, subsample=1)"
      ]
     },
     "execution_count": 12,
     "metadata": {},
     "output_type": "execute_result"
    }
   ],
   "source": [
    "import xgboost as xgb\n",
    "\n",
    "XGB_model = xgb.XGBRegressor()\n",
    "XGB_model"
   ]
  },
  {
   "cell_type": "code",
   "execution_count": 25,
   "metadata": {},
   "outputs": [
    {
     "name": "stdout",
     "output_type": "stream",
     "text": [
      "Running Time : 286.08초\n"
     ]
    },
    {
     "data": {
      "text/plain": [
       "array([721.39355, 591.198  , 648.9896 , 602.868  , 721.0041 , 682.9645 ,\n",
       "       594.0169 , 942.6936 , 696.6244 , 654.05756], dtype=float32)"
      ]
     },
     "execution_count": 25,
     "metadata": {},
     "output_type": "execute_result"
    }
   ],
   "source": [
    "import time\n",
    "start = time.time()\n",
    "\n",
    "import xgboost as xgb\n",
    "\n",
    "XGB_model = xgb.XGBRegressor(max_depth = 12, n_estimators = 300, min_child_weight = 8, gamma = 0.4,\n",
    "                            colsample_bytree = 0.6, nthread = 5, subsample = 0.6, seed = 25, learning_rate = 0.1)\n",
    "XGB_model.fit(x_train, y_train)\n",
    "\n",
    "predictions = XGB_model.predict(x_test)\n",
    "predictions = np.expm1(predictions)\n",
    "\n",
    "print('Running Time : %.02f초' % (time.time() - start))\n",
    "predictions[0:10]"
   ]
  },
  {
   "cell_type": "markdown",
   "metadata": {},
   "source": [
    "#### 제출"
   ]
  },
  {
   "cell_type": "code",
   "execution_count": 26,
   "metadata": {
    "collapsed": true
   },
   "outputs": [],
   "source": [
    "submission['trip_duration'] = predictions\n",
    "submission.to_csv('XGB18.csv', index = False)"
   ]
  },
  {
   "cell_type": "markdown",
   "metadata": {},
   "source": [
    "#### 결과보고서"
   ]
  },
  {
   "cell_type": "code",
   "execution_count": null,
   "metadata": {
    "collapsed": true
   },
   "outputs": [],
   "source": [
    "XGB / basic_features : 0.74462\n",
    "XGB / features_1     : 0.74462\n",
    "XGB / features_2     : 0.74448 ☆\n",
    "XGB / features_3     : 0.74448 ☆\n",
    "XGB / features_4     : 0.74536\n",
    "\n",
    "    \n",
    "XGB / feautres_2 / max_depth = 12, n_estimators = 2000, min_child_weight = 8, gamma = 0.4,\n",
    "colsample_bytree = 0.6, nthread = 5, subsample = 0.6, seed = 25,learning_rate = 0.05       : 0.73437\n",
    "XGB / feautres_2 / max_depth = 12, n_estimators = 1500, min_child_weight = 8, gamma = 0.4,\n",
    "colsample_bytree = 0.6, nthread = 5, subsample = 0.6, seed = 25,learning_rate = 0.05       : 0.73231 ☆\n",
    "XGB / feautres_2 / n_estimators = 1500, min_child_weight = 8, gamma = 0.4,\n",
    "colsample_bytree = 0.6, nthread = 5, subsample = 0.6, seed = 25,learning_rate = 0.05       : 0.73822\n",
    "XGB / feautres_2 / max_depth = 14, n_estimators = 1500, min_child_weight = 8, gamma = 0.4,\n",
    "colsample_bytree = 0.6, nthread = 5, subsample = 0.6, seed = 25,learning_rate = 0.05       : 0.73705\n",
    "    \n",
    "# n_estimators만 조정 \n",
    "max_depth = 12, min_child_weight = 8, gamma = 0.4, learning_rate = 0.05\n",
    "colsample_bytree = 0.6, nthread = 5, subsample = 0.6, seed = 25\n",
    "\n",
    "XGB / feautres_3 / n_estimators = 1500 : 0.73231\n",
    "XGB / feautres_3 / n_estimators = 1400 : 0.73093\n",
    "XGB / feautres_3 / n_estimators = 1200 : 0.73031\n",
    "XGB / feautres_3 / n_estimators = 1000 : 0.72973\n",
    "XGB / feautres_3 / n_estimators = 500  : 0.72891   \n",
    "XGB / feautres_3 / n_estimators = 300  : 0.72880 ☆\n",
    "XGB / feautres_3 / n_estimators = 100  : 0.73256    \n",
    "XGB / feautres_3 / n_estimators = 200  : 0.72922  \n",
    "\n",
    "# learning_rate만 조정\n",
    "max_depth = 12, n_estimators = 300, min_child_weight = 8, gamma = 0.4,\n",
    "colsample_bytree = 0.6, nthread = 5, subsample = 0.6, seed = 25\n",
    "\n",
    "XGB / feautres_3 / learning_rate = 0.01       : 0.79178\n",
    "XGB / feautres_3 / learning_rate = 0.1        : 0.73046   "
   ]
  }
 ],
 "metadata": {
  "kernelspec": {
   "display_name": "Python 3",
   "language": "python",
   "name": "python3"
  },
  "language_info": {
   "codemirror_mode": {
    "name": "ipython",
    "version": 3
   },
   "file_extension": ".py",
   "mimetype": "text/x-python",
   "name": "python",
   "nbconvert_exporter": "python",
   "pygments_lexer": "ipython3",
   "version": "3.6.1"
  }
 },
 "nbformat": 4,
 "nbformat_minor": 2
}
