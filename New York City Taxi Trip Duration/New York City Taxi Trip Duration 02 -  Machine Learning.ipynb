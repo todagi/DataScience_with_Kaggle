{
 "cells": [
  {
   "cell_type": "markdown",
   "metadata": {},
   "source": [
    "# New York City Taxi Trip Duration 02 - Machine Learning"
   ]
  },
  {
   "cell_type": "markdown",
   "metadata": {},
   "source": [
    "###   \n",
    "### 목표 : 데이터를 가지고 택시 주행거리 예측 모델 구축\n",
    "###   \n",
    "###   "
   ]
  },
  {
   "cell_type": "markdown",
   "metadata": {},
   "source": [
    "## 1. 데이터 전처리 "
   ]
  },
  {
   "cell_type": "code",
   "execution_count": 1,
   "metadata": {
    "collapsed": true
   },
   "outputs": [],
   "source": [
    "import pandas as pd\n",
    "import numpy as np\n",
    "\n",
    "train = pd.read_csv(\"train.csv\", parse_dates = ['pickup_datetime', 'dropoff_datetime'])\n",
    "test = pd.read_csv(\"test.csv\", parse_dates = ['pickup_datetime'])\n",
    "submission = pd.read_csv(\"sample_submission.csv\")\n",
    "\n",
    "train['pickup_year'] = train['pickup_datetime'].dt.year  \n",
    "train['pickup_month'] = train['pickup_datetime'].dt.month\n",
    "train['pickup_day'] = train['pickup_datetime'].dt.day\n",
    "train['pickup_hour'] = train['pickup_datetime'].dt.hour\n",
    "train['pickup_minute'] = train['pickup_datetime'].dt.minute\n",
    "train['pickup_second'] = train['pickup_datetime'].dt.second\n",
    "train[\"pickup_dayofweek\"] = train[\"pickup_datetime\"].dt.dayofweek \n",
    "\n",
    "test['pickup_year'] = test['pickup_datetime'].dt.year  \n",
    "test['pickup_month'] = test['pickup_datetime'].dt.month\n",
    "test['pickup_day'] = test['pickup_datetime'].dt.day\n",
    "test['pickup_hour'] = test['pickup_datetime'].dt.hour\n",
    "test['pickup_minute'] = test['pickup_datetime'].dt.minute\n",
    "test['pickup_second'] = test['pickup_datetime'].dt.second\n",
    "test[\"pickup_dayofweek\"] = test[\"pickup_datetime\"].dt.dayofweek \n",
    "\n",
    "\n",
    "train['store_and_fwd_flag_Y'] = train['store_and_fwd_flag'] == 'Y'\n",
    "train['store_and_fwd_flag_N'] = train['store_and_fwd_flag'] == 'N'\n",
    "\n",
    "test['store_and_fwd_flag_Y'] = test['store_and_fwd_flag'] == 'Y'\n",
    "test['store_and_fwd_flag_N'] = test['store_and_fwd_flag'] == 'N'\n",
    "\n",
    "\n",
    "train['vendor_1'] = train['vendor_id'] == 1\n",
    "train['vendor_2'] = train['vendor_id'] == 2\n",
    "\n",
    "test['vendor_1'] = test['vendor_id'] == 1\n",
    "test['vendor_2'] = test['vendor_id'] == 2\n",
    "\n",
    "\n",
    "train['passenger_0'] = train['passenger_count'] == 0\n",
    "train['passenger_1'] = train['passenger_count'] == 1\n",
    "train['passenger_2'] = train['passenger_count'] == 2\n",
    "train['passenger_3'] = train['passenger_count'] == 3\n",
    "train['passenger_4'] = train['passenger_count'] == 4\n",
    "train['passenger_5'] = train['passenger_count'] == 5\n",
    "train['passenger_6'] = train['passenger_count'] == 6\n",
    "train['passenger_7'] = train['passenger_count'] == 7\n",
    "train['passenger_8'] = train['passenger_count'] == 8\n",
    "train['passenger_9'] = train['passenger_count'] == 9\n",
    "\n",
    "test['passenger_0'] = test['passenger_count'] == 0\n",
    "test['passenger_1'] = test['passenger_count'] == 1\n",
    "test['passenger_2'] = test['passenger_count'] == 2\n",
    "test['passenger_3'] = test['passenger_count'] == 3\n",
    "test['passenger_4'] = test['passenger_count'] == 4\n",
    "test['passenger_5'] = test['passenger_count'] == 5\n",
    "test['passenger_6'] = test['passenger_count'] == 6\n",
    "test['passenger_7'] = test['passenger_count'] == 7\n",
    "test['passenger_8'] = test['passenger_count'] == 8\n",
    "test['passenger_9'] = test['passenger_count'] == 9\n"
   ]
  },
  {
   "cell_type": "markdown",
   "metadata": {},
   "source": [
    "####     \n",
    "####  "
   ]
  },
  {
   "cell_type": "markdown",
   "metadata": {},
   "source": [
    "## 2. 변수 선택 및 데이터 조정"
   ]
  },
  {
   "cell_type": "markdown",
   "metadata": {},
   "source": [
    "### 1) 변수 선택"
   ]
  },
  {
   "cell_type": "code",
   "execution_count": 2,
   "metadata": {},
   "outputs": [
    {
     "name": "stdout",
     "output_type": "stream",
     "text": [
      "(1458644, 32)\n"
     ]
    },
    {
     "data": {
      "text/plain": [
       "Index(['id', 'vendor_id', 'pickup_datetime', 'dropoff_datetime',\n",
       "       'passenger_count', 'pickup_longitude', 'pickup_latitude',\n",
       "       'dropoff_longitude', 'dropoff_latitude', 'store_and_fwd_flag',\n",
       "       'trip_duration', 'pickup_year', 'pickup_month', 'pickup_day',\n",
       "       'pickup_hour', 'pickup_minute', 'pickup_second', 'pickup_dayofweek',\n",
       "       'store_and_fwd_flag_Y', 'store_and_fwd_flag_N', 'vendor_1', 'vendor_2',\n",
       "       'passenger_0', 'passenger_1', 'passenger_2', 'passenger_3',\n",
       "       'passenger_4', 'passenger_5', 'passenger_6', 'passenger_7',\n",
       "       'passenger_8', 'passenger_9'],\n",
       "      dtype='object')"
      ]
     },
     "execution_count": 2,
     "metadata": {},
     "output_type": "execute_result"
    }
   ],
   "source": [
    "print(train.shape)\n",
    "train.columns"
   ]
  },
  {
   "cell_type": "code",
   "execution_count": 3,
   "metadata": {},
   "outputs": [
    {
     "name": "stdout",
     "output_type": "stream",
     "text": [
      "(625134, 30)\n"
     ]
    },
    {
     "data": {
      "text/plain": [
       "Index(['id', 'vendor_id', 'pickup_datetime', 'passenger_count',\n",
       "       'pickup_longitude', 'pickup_latitude', 'dropoff_longitude',\n",
       "       'dropoff_latitude', 'store_and_fwd_flag', 'pickup_year', 'pickup_month',\n",
       "       'pickup_day', 'pickup_hour', 'pickup_minute', 'pickup_second',\n",
       "       'pickup_dayofweek', 'store_and_fwd_flag_Y', 'store_and_fwd_flag_N',\n",
       "       'vendor_1', 'vendor_2', 'passenger_0', 'passenger_1', 'passenger_2',\n",
       "       'passenger_3', 'passenger_4', 'passenger_5', 'passenger_6',\n",
       "       'passenger_7', 'passenger_8', 'passenger_9'],\n",
       "      dtype='object')"
      ]
     },
     "execution_count": 3,
     "metadata": {},
     "output_type": "execute_result"
    }
   ],
   "source": [
    "print(test.shape)\n",
    "test.columns"
   ]
  },
  {
   "cell_type": "markdown",
   "metadata": {},
   "source": [
    "#### 모델링에 필요한 변수들 선택"
   ]
  },
  {
   "cell_type": "code",
   "execution_count": null,
   "metadata": {
    "collapsed": true
   },
   "outputs": [],
   "source": [
    "feature_names = [ 'pickup_longitude', 'pickup_latitude',  \n",
    "                  'store_and_fwd_flag_Y', 'store_and_fwd_flag_N',\n",
    "                  'pickup_year', 'pickup_month', 'pickup_day',\n",
    "                  'pickup_hour', 'pickup_minute', 'pickup_second', 'pickup_dayofweek',\n",
    "                  'vendor_id', 'vendor_1', 'vendor_2',\n",
    "                  'passenger_count', 'passenger_0', 'passenger_1', 'passenger_2', 'passenger_3',\n",
    "                  'passenger_4', 'passenger_5', 'passenger_6', 'passenger_7', 'passenger_8', \n",
    "                  'passenger_9']"
   ]
  },
  {
   "cell_type": "markdown",
   "metadata": {},
   "source": [
    "#### 'id'는 단순 구분을 위한 값이고,  'pickup_datetime'의 경우 날짜형태라 제외\n",
    "#### 'dropoff_longitude', 'dropoff_latitude', 'dropoff_datetime'는 test 데이터에 없음\n",
    "#### 'store_and_fwd_flag'의 경우 Y와 N이 문자열이기 때문에 계산을 못함. 원핫인코딩만 사용\n",
    "#### 'trip_duration'은 목표값이니 제외"
   ]
  },
  {
   "cell_type": "code",
   "execution_count": null,
   "metadata": {
    "collapsed": true
   },
   "outputs": [],
   "source": [
    "basic_features : 모든 변수 포함\n",
    "feature_names =['pickup_longitude', 'pickup_latitude',  \n",
    "                  'store_and_fwd_flag_Y', 'store_and_fwd_flag_N',\n",
    "                  'pickup_year', 'pickup_month', 'pickup_day',\n",
    "                  'pickup_hour', 'pickup_minute', 'pickup_second', 'pickup_dayofweek',\n",
    "                  'vendor_id', 'vendor_1', 'vendor_2',\n",
    "                  'passenger_count', 'passenger_0', 'passenger_1', 'passenger_2', 'passenger_3',\n",
    "                  'passenger_4', 'passenger_5', 'passenger_6', 'passenger_7', 'passenger_8', \n",
    "                  'passenger_9']\n",
    "\n",
    "feautres_1 : vendor_id와 passenger_count의 경우 원핫인코딩 제외\n",
    "feautres_1 = ['pickup_longitude', 'pickup_latitude',  \n",
    "              'store_and_fwd_flag_Y', 'store_and_fwd_flag_N',\n",
    "              'pickup_year', 'pickup_month', 'pickup_day',\n",
    "              'pickup_hour', 'pickup_minute', 'pickup_second', 'pickup_dayofweek',\n",
    "              'vendor_id',\n",
    "              'passenger_count']\n",
    "    \n",
    "feautres_2 : vendor_id와 passenger_count의 경우 원핫인코딩만 사용\n",
    "feautres_2 = ['pickup_longitude', 'pickup_latitude',  \n",
    "              'store_and_fwd_flag_Y', 'store_and_fwd_flag_N',\n",
    "              'pickup_year', 'pickup_month', 'pickup_day',\n",
    "              'pickup_hour', 'pickup_minute', 'pickup_second', 'pickup_dayofweek',\n",
    "              'vendor_1', 'vendor_2',\n",
    "              'passenger_0', 'passenger_1', 'passenger_2', 'passenger_3',\n",
    "              'passenger_4', 'passenger_5', 'passenger_6', 'passenger_7', 'passenger_8', \n",
    "              'passenger_9']\n",
    "    \n",
    "feautres_3 :  초 제외 /vendor_id와 passenger_count의 경우 원핫인코딩만 사용\n",
    "feautres_3 = ['pickup_longitude', 'pickup_latitude',  \n",
    "              'store_and_fwd_flag_Y', 'store_and_fwd_flag_N',\n",
    "              'pickup_year', 'pickup_month', 'pickup_day',\n",
    "              'pickup_hour', 'pickup_minute', 'pickup_dayofweek',\n",
    "              'vendor_1', 'vendor_2',\n",
    "              'passenger_0', 'passenger_1', 'passenger_2', 'passenger_3',\n",
    "              'passenger_4', 'passenger_5', 'passenger_6', 'passenger_7', 'passenger_8', \n",
    "              'passenger_9']"
   ]
  },
  {
   "cell_type": "code",
   "execution_count": 21,
   "metadata": {
    "collapsed": true
   },
   "outputs": [],
   "source": [
    "feature_names = ['pickup_longitude', 'pickup_latitude',  \n",
    "              'store_and_fwd_flag_Y', 'store_and_fwd_flag_N',\n",
    "              'pickup_year', 'pickup_month', 'pickup_day',\n",
    "              'pickup_hour', 'pickup_minute', 'pickup_dayofweek',\n",
    "              'vendor_1', 'vendor_2',\n",
    "              'passenger_0', 'passenger_1', 'passenger_2', 'passenger_3',\n",
    "              'passenger_4', 'passenger_5', 'passenger_6', 'passenger_7', 'passenger_8', \n",
    "              'passenger_9']\n"
   ]
  },
  {
   "cell_type": "code",
   "execution_count": 15,
   "metadata": {
    "collapsed": true
   },
   "outputs": [],
   "source": [
    "feature_names =['pickup_longitude', 'pickup_latitude',  \n",
    "                  'store_and_fwd_flag_Y', 'store_and_fwd_flag_N',\n",
    "                  'pickup_year', 'pickup_month', 'pickup_day',\n",
    "                  'pickup_hour', 'pickup_minute', 'pickup_second', 'pickup_dayofweek',\n",
    "                  'vendor_id', 'vendor_1', 'vendor_2',\n",
    "                  'passenger_count', 'passenger_0', 'passenger_1', 'passenger_2', 'passenger_3',\n",
    "                  'passenger_4', 'passenger_5', 'passenger_6', 'passenger_7', 'passenger_8', \n",
    "                  'passenger_9']"
   ]
  },
  {
   "cell_type": "markdown",
   "metadata": {},
   "source": [
    "### 2) 데이터 조정"
   ]
  },
  {
   "cell_type": "code",
   "execution_count": 22,
   "metadata": {},
   "outputs": [
    {
     "name": "stdout",
     "output_type": "stream",
     "text": [
      "(1458644, 22)\n"
     ]
    },
    {
     "data": {
      "text/html": [
       "<div>\n",
       "<style>\n",
       "    .dataframe thead tr:only-child th {\n",
       "        text-align: right;\n",
       "    }\n",
       "\n",
       "    .dataframe thead th {\n",
       "        text-align: left;\n",
       "    }\n",
       "\n",
       "    .dataframe tbody tr th {\n",
       "        vertical-align: top;\n",
       "    }\n",
       "</style>\n",
       "<table border=\"1\" class=\"dataframe\">\n",
       "  <thead>\n",
       "    <tr style=\"text-align: right;\">\n",
       "      <th></th>\n",
       "      <th>pickup_longitude</th>\n",
       "      <th>pickup_latitude</th>\n",
       "      <th>store_and_fwd_flag_Y</th>\n",
       "      <th>store_and_fwd_flag_N</th>\n",
       "      <th>pickup_year</th>\n",
       "      <th>pickup_month</th>\n",
       "      <th>pickup_day</th>\n",
       "      <th>pickup_hour</th>\n",
       "      <th>pickup_minute</th>\n",
       "      <th>pickup_dayofweek</th>\n",
       "      <th>...</th>\n",
       "      <th>passenger_0</th>\n",
       "      <th>passenger_1</th>\n",
       "      <th>passenger_2</th>\n",
       "      <th>passenger_3</th>\n",
       "      <th>passenger_4</th>\n",
       "      <th>passenger_5</th>\n",
       "      <th>passenger_6</th>\n",
       "      <th>passenger_7</th>\n",
       "      <th>passenger_8</th>\n",
       "      <th>passenger_9</th>\n",
       "    </tr>\n",
       "  </thead>\n",
       "  <tbody>\n",
       "    <tr>\n",
       "      <th>0</th>\n",
       "      <td>-73.982155</td>\n",
       "      <td>40.767937</td>\n",
       "      <td>False</td>\n",
       "      <td>True</td>\n",
       "      <td>2016</td>\n",
       "      <td>3</td>\n",
       "      <td>14</td>\n",
       "      <td>17</td>\n",
       "      <td>24</td>\n",
       "      <td>0</td>\n",
       "      <td>...</td>\n",
       "      <td>False</td>\n",
       "      <td>True</td>\n",
       "      <td>False</td>\n",
       "      <td>False</td>\n",
       "      <td>False</td>\n",
       "      <td>False</td>\n",
       "      <td>False</td>\n",
       "      <td>False</td>\n",
       "      <td>False</td>\n",
       "      <td>False</td>\n",
       "    </tr>\n",
       "    <tr>\n",
       "      <th>1</th>\n",
       "      <td>-73.980415</td>\n",
       "      <td>40.738564</td>\n",
       "      <td>False</td>\n",
       "      <td>True</td>\n",
       "      <td>2016</td>\n",
       "      <td>6</td>\n",
       "      <td>12</td>\n",
       "      <td>0</td>\n",
       "      <td>43</td>\n",
       "      <td>6</td>\n",
       "      <td>...</td>\n",
       "      <td>False</td>\n",
       "      <td>True</td>\n",
       "      <td>False</td>\n",
       "      <td>False</td>\n",
       "      <td>False</td>\n",
       "      <td>False</td>\n",
       "      <td>False</td>\n",
       "      <td>False</td>\n",
       "      <td>False</td>\n",
       "      <td>False</td>\n",
       "    </tr>\n",
       "    <tr>\n",
       "      <th>2</th>\n",
       "      <td>-73.979027</td>\n",
       "      <td>40.763939</td>\n",
       "      <td>False</td>\n",
       "      <td>True</td>\n",
       "      <td>2016</td>\n",
       "      <td>1</td>\n",
       "      <td>19</td>\n",
       "      <td>11</td>\n",
       "      <td>35</td>\n",
       "      <td>1</td>\n",
       "      <td>...</td>\n",
       "      <td>False</td>\n",
       "      <td>True</td>\n",
       "      <td>False</td>\n",
       "      <td>False</td>\n",
       "      <td>False</td>\n",
       "      <td>False</td>\n",
       "      <td>False</td>\n",
       "      <td>False</td>\n",
       "      <td>False</td>\n",
       "      <td>False</td>\n",
       "    </tr>\n",
       "    <tr>\n",
       "      <th>3</th>\n",
       "      <td>-74.010040</td>\n",
       "      <td>40.719971</td>\n",
       "      <td>False</td>\n",
       "      <td>True</td>\n",
       "      <td>2016</td>\n",
       "      <td>4</td>\n",
       "      <td>6</td>\n",
       "      <td>19</td>\n",
       "      <td>32</td>\n",
       "      <td>2</td>\n",
       "      <td>...</td>\n",
       "      <td>False</td>\n",
       "      <td>True</td>\n",
       "      <td>False</td>\n",
       "      <td>False</td>\n",
       "      <td>False</td>\n",
       "      <td>False</td>\n",
       "      <td>False</td>\n",
       "      <td>False</td>\n",
       "      <td>False</td>\n",
       "      <td>False</td>\n",
       "    </tr>\n",
       "    <tr>\n",
       "      <th>4</th>\n",
       "      <td>-73.973053</td>\n",
       "      <td>40.793209</td>\n",
       "      <td>False</td>\n",
       "      <td>True</td>\n",
       "      <td>2016</td>\n",
       "      <td>3</td>\n",
       "      <td>26</td>\n",
       "      <td>13</td>\n",
       "      <td>30</td>\n",
       "      <td>5</td>\n",
       "      <td>...</td>\n",
       "      <td>False</td>\n",
       "      <td>True</td>\n",
       "      <td>False</td>\n",
       "      <td>False</td>\n",
       "      <td>False</td>\n",
       "      <td>False</td>\n",
       "      <td>False</td>\n",
       "      <td>False</td>\n",
       "      <td>False</td>\n",
       "      <td>False</td>\n",
       "    </tr>\n",
       "  </tbody>\n",
       "</table>\n",
       "<p>5 rows × 22 columns</p>\n",
       "</div>"
      ],
      "text/plain": [
       "   pickup_longitude  pickup_latitude  store_and_fwd_flag_Y  \\\n",
       "0        -73.982155        40.767937                 False   \n",
       "1        -73.980415        40.738564                 False   \n",
       "2        -73.979027        40.763939                 False   \n",
       "3        -74.010040        40.719971                 False   \n",
       "4        -73.973053        40.793209                 False   \n",
       "\n",
       "   store_and_fwd_flag_N  pickup_year  pickup_month  pickup_day  pickup_hour  \\\n",
       "0                  True         2016             3          14           17   \n",
       "1                  True         2016             6          12            0   \n",
       "2                  True         2016             1          19           11   \n",
       "3                  True         2016             4           6           19   \n",
       "4                  True         2016             3          26           13   \n",
       "\n",
       "   pickup_minute  pickup_dayofweek     ...       passenger_0  passenger_1  \\\n",
       "0             24                 0     ...             False         True   \n",
       "1             43                 6     ...             False         True   \n",
       "2             35                 1     ...             False         True   \n",
       "3             32                 2     ...             False         True   \n",
       "4             30                 5     ...             False         True   \n",
       "\n",
       "   passenger_2  passenger_3  passenger_4  passenger_5  passenger_6  \\\n",
       "0        False        False        False        False        False   \n",
       "1        False        False        False        False        False   \n",
       "2        False        False        False        False        False   \n",
       "3        False        False        False        False        False   \n",
       "4        False        False        False        False        False   \n",
       "\n",
       "   passenger_7  passenger_8  passenger_9  \n",
       "0        False        False        False  \n",
       "1        False        False        False  \n",
       "2        False        False        False  \n",
       "3        False        False        False  \n",
       "4        False        False        False  \n",
       "\n",
       "[5 rows x 22 columns]"
      ]
     },
     "execution_count": 22,
     "metadata": {},
     "output_type": "execute_result"
    }
   ],
   "source": [
    "x_train = train[feature_names]\n",
    "print(x_train.shape)\n",
    "x_train.head()"
   ]
  },
  {
   "cell_type": "code",
   "execution_count": 23,
   "metadata": {},
   "outputs": [
    {
     "name": "stdout",
     "output_type": "stream",
     "text": [
      "(625134, 22)\n"
     ]
    },
    {
     "data": {
      "text/html": [
       "<div>\n",
       "<style>\n",
       "    .dataframe thead tr:only-child th {\n",
       "        text-align: right;\n",
       "    }\n",
       "\n",
       "    .dataframe thead th {\n",
       "        text-align: left;\n",
       "    }\n",
       "\n",
       "    .dataframe tbody tr th {\n",
       "        vertical-align: top;\n",
       "    }\n",
       "</style>\n",
       "<table border=\"1\" class=\"dataframe\">\n",
       "  <thead>\n",
       "    <tr style=\"text-align: right;\">\n",
       "      <th></th>\n",
       "      <th>pickup_longitude</th>\n",
       "      <th>pickup_latitude</th>\n",
       "      <th>store_and_fwd_flag_Y</th>\n",
       "      <th>store_and_fwd_flag_N</th>\n",
       "      <th>pickup_year</th>\n",
       "      <th>pickup_month</th>\n",
       "      <th>pickup_day</th>\n",
       "      <th>pickup_hour</th>\n",
       "      <th>pickup_minute</th>\n",
       "      <th>pickup_dayofweek</th>\n",
       "      <th>...</th>\n",
       "      <th>passenger_0</th>\n",
       "      <th>passenger_1</th>\n",
       "      <th>passenger_2</th>\n",
       "      <th>passenger_3</th>\n",
       "      <th>passenger_4</th>\n",
       "      <th>passenger_5</th>\n",
       "      <th>passenger_6</th>\n",
       "      <th>passenger_7</th>\n",
       "      <th>passenger_8</th>\n",
       "      <th>passenger_9</th>\n",
       "    </tr>\n",
       "  </thead>\n",
       "  <tbody>\n",
       "    <tr>\n",
       "      <th>0</th>\n",
       "      <td>-73.988129</td>\n",
       "      <td>40.732029</td>\n",
       "      <td>False</td>\n",
       "      <td>True</td>\n",
       "      <td>2016</td>\n",
       "      <td>6</td>\n",
       "      <td>30</td>\n",
       "      <td>23</td>\n",
       "      <td>59</td>\n",
       "      <td>3</td>\n",
       "      <td>...</td>\n",
       "      <td>False</td>\n",
       "      <td>True</td>\n",
       "      <td>False</td>\n",
       "      <td>False</td>\n",
       "      <td>False</td>\n",
       "      <td>False</td>\n",
       "      <td>False</td>\n",
       "      <td>False</td>\n",
       "      <td>False</td>\n",
       "      <td>False</td>\n",
       "    </tr>\n",
       "    <tr>\n",
       "      <th>1</th>\n",
       "      <td>-73.964203</td>\n",
       "      <td>40.679993</td>\n",
       "      <td>False</td>\n",
       "      <td>True</td>\n",
       "      <td>2016</td>\n",
       "      <td>6</td>\n",
       "      <td>30</td>\n",
       "      <td>23</td>\n",
       "      <td>59</td>\n",
       "      <td>3</td>\n",
       "      <td>...</td>\n",
       "      <td>False</td>\n",
       "      <td>True</td>\n",
       "      <td>False</td>\n",
       "      <td>False</td>\n",
       "      <td>False</td>\n",
       "      <td>False</td>\n",
       "      <td>False</td>\n",
       "      <td>False</td>\n",
       "      <td>False</td>\n",
       "      <td>False</td>\n",
       "    </tr>\n",
       "    <tr>\n",
       "      <th>2</th>\n",
       "      <td>-73.997437</td>\n",
       "      <td>40.737583</td>\n",
       "      <td>False</td>\n",
       "      <td>True</td>\n",
       "      <td>2016</td>\n",
       "      <td>6</td>\n",
       "      <td>30</td>\n",
       "      <td>23</td>\n",
       "      <td>59</td>\n",
       "      <td>3</td>\n",
       "      <td>...</td>\n",
       "      <td>False</td>\n",
       "      <td>True</td>\n",
       "      <td>False</td>\n",
       "      <td>False</td>\n",
       "      <td>False</td>\n",
       "      <td>False</td>\n",
       "      <td>False</td>\n",
       "      <td>False</td>\n",
       "      <td>False</td>\n",
       "      <td>False</td>\n",
       "    </tr>\n",
       "    <tr>\n",
       "      <th>3</th>\n",
       "      <td>-73.956070</td>\n",
       "      <td>40.771900</td>\n",
       "      <td>False</td>\n",
       "      <td>True</td>\n",
       "      <td>2016</td>\n",
       "      <td>6</td>\n",
       "      <td>30</td>\n",
       "      <td>23</td>\n",
       "      <td>59</td>\n",
       "      <td>3</td>\n",
       "      <td>...</td>\n",
       "      <td>False</td>\n",
       "      <td>True</td>\n",
       "      <td>False</td>\n",
       "      <td>False</td>\n",
       "      <td>False</td>\n",
       "      <td>False</td>\n",
       "      <td>False</td>\n",
       "      <td>False</td>\n",
       "      <td>False</td>\n",
       "      <td>False</td>\n",
       "    </tr>\n",
       "    <tr>\n",
       "      <th>4</th>\n",
       "      <td>-73.970215</td>\n",
       "      <td>40.761475</td>\n",
       "      <td>False</td>\n",
       "      <td>True</td>\n",
       "      <td>2016</td>\n",
       "      <td>6</td>\n",
       "      <td>30</td>\n",
       "      <td>23</td>\n",
       "      <td>59</td>\n",
       "      <td>3</td>\n",
       "      <td>...</td>\n",
       "      <td>False</td>\n",
       "      <td>True</td>\n",
       "      <td>False</td>\n",
       "      <td>False</td>\n",
       "      <td>False</td>\n",
       "      <td>False</td>\n",
       "      <td>False</td>\n",
       "      <td>False</td>\n",
       "      <td>False</td>\n",
       "      <td>False</td>\n",
       "    </tr>\n",
       "  </tbody>\n",
       "</table>\n",
       "<p>5 rows × 22 columns</p>\n",
       "</div>"
      ],
      "text/plain": [
       "   pickup_longitude  pickup_latitude  store_and_fwd_flag_Y  \\\n",
       "0        -73.988129        40.732029                 False   \n",
       "1        -73.964203        40.679993                 False   \n",
       "2        -73.997437        40.737583                 False   \n",
       "3        -73.956070        40.771900                 False   \n",
       "4        -73.970215        40.761475                 False   \n",
       "\n",
       "   store_and_fwd_flag_N  pickup_year  pickup_month  pickup_day  pickup_hour  \\\n",
       "0                  True         2016             6          30           23   \n",
       "1                  True         2016             6          30           23   \n",
       "2                  True         2016             6          30           23   \n",
       "3                  True         2016             6          30           23   \n",
       "4                  True         2016             6          30           23   \n",
       "\n",
       "   pickup_minute  pickup_dayofweek     ...       passenger_0  passenger_1  \\\n",
       "0             59                 3     ...             False         True   \n",
       "1             59                 3     ...             False         True   \n",
       "2             59                 3     ...             False         True   \n",
       "3             59                 3     ...             False         True   \n",
       "4             59                 3     ...             False         True   \n",
       "\n",
       "   passenger_2  passenger_3  passenger_4  passenger_5  passenger_6  \\\n",
       "0        False        False        False        False        False   \n",
       "1        False        False        False        False        False   \n",
       "2        False        False        False        False        False   \n",
       "3        False        False        False        False        False   \n",
       "4        False        False        False        False        False   \n",
       "\n",
       "   passenger_7  passenger_8  passenger_9  \n",
       "0        False        False        False  \n",
       "1        False        False        False  \n",
       "2        False        False        False  \n",
       "3        False        False        False  \n",
       "4        False        False        False  \n",
       "\n",
       "[5 rows x 22 columns]"
      ]
     },
     "execution_count": 23,
     "metadata": {},
     "output_type": "execute_result"
    }
   ],
   "source": [
    "x_test = test[feature_names]\n",
    "print(x_test.shape)\n",
    "x_test.head()"
   ]
  },
  {
   "cell_type": "code",
   "execution_count": 7,
   "metadata": {},
   "outputs": [
    {
     "name": "stdout",
     "output_type": "stream",
     "text": [
      "(1458644,)\n"
     ]
    },
    {
     "data": {
      "text/plain": [
       "0     455\n",
       "1     663\n",
       "2    2124\n",
       "3     429\n",
       "4     435\n",
       "Name: trip_duration, dtype: int64"
      ]
     },
     "execution_count": 7,
     "metadata": {},
     "output_type": "execute_result"
    }
   ],
   "source": [
    "label_name = \"trip_duration\"\n",
    "\n",
    "y_train = train[label_name]\n",
    "print(y_train.shape)\n",
    "y_train.head()"
   ]
  },
  {
   "cell_type": "code",
   "execution_count": 8,
   "metadata": {},
   "outputs": [
    {
     "data": {
      "text/plain": [
       "0    6.122493\n",
       "1    6.498282\n",
       "2    7.661527\n",
       "3    6.063785\n",
       "4    6.077642\n",
       "Name: trip_duration, dtype: float64"
      ]
     },
     "execution_count": 8,
     "metadata": {},
     "output_type": "execute_result"
    }
   ],
   "source": [
    "y_train = np.log1p(y_train)\n",
    "y_train.head()"
   ]
  },
  {
   "cell_type": "markdown",
   "metadata": {},
   "source": [
    "####   \n",
    "####    "
   ]
  },
  {
   "cell_type": "markdown",
   "metadata": {},
   "source": [
    "## 3. Linear Regression"
   ]
  },
  {
   "cell_type": "code",
   "execution_count": 12,
   "metadata": {},
   "outputs": [
    {
     "data": {
      "text/plain": [
       "array([722.56916785, 897.60609149, 699.99670213, 670.02295395,\n",
       "       665.14265145, 675.24490863, 707.08564857, 828.40092795,\n",
       "       787.31657492, 694.75568353])"
      ]
     },
     "execution_count": 12,
     "metadata": {},
     "output_type": "execute_result"
    }
   ],
   "source": [
    "from sklearn import linear_model\n",
    "\n",
    "LR_model = linear_model.LinearRegression()\n",
    "LR_model.fit(x_train, y_train)\n",
    "\n",
    "predictions = LR_model.predict(x_test)\n",
    "predictions = np.expm1(predictions)\n",
    "predictions[0:10]"
   ]
  },
  {
   "cell_type": "code",
   "execution_count": 13,
   "metadata": {
    "collapsed": true
   },
   "outputs": [],
   "source": [
    "submission['trip_duration'] = predictions\n",
    "submission.to_csv('LR4.csv', index = False)"
   ]
  },
  {
   "cell_type": "markdown",
   "metadata": {},
   "source": [
    "#### 결과보고서"
   ]
  },
  {
   "cell_type": "code",
   "execution_count": null,
   "metadata": {
    "collapsed": true
   },
   "outputs": [],
   "source": [
    "LR / basic_features : 0.77677\n",
    "LR / features_1     : 0.77714\n",
    "LR / features_2     : 0.77677\n",
    "LR / features_3     : 0.77677"
   ]
  },
  {
   "cell_type": "markdown",
   "metadata": {},
   "source": [
    "####  \n",
    "####  "
   ]
  },
  {
   "cell_type": "markdown",
   "metadata": {},
   "source": [
    "## 4. Decision Tree Regressor"
   ]
  },
  {
   "cell_type": "code",
   "execution_count": 43,
   "metadata": {},
   "outputs": [
    {
     "data": {
      "text/plain": [
       "array([  72.,  192., 1311., 1290.,  974.,  814.,  464.,  265.,  338.,\n",
       "        748.])"
      ]
     },
     "execution_count": 43,
     "metadata": {},
     "output_type": "execute_result"
    }
   ],
   "source": [
    "from sklearn.tree import DecisionTreeRegressor\n",
    "\n",
    "DT_model = DecisionTreeRegressor()\n",
    "DT_model.fit(x_train, y_train)\n",
    "\n",
    "predictions = DT_model.predict(x_test)\n",
    "predictions = np.expm1(predictions)\n",
    "predictions[0:10]"
   ]
  },
  {
   "cell_type": "code",
   "execution_count": 44,
   "metadata": {
    "collapsed": true
   },
   "outputs": [],
   "source": [
    "submission['trip_duration'] = predictions\n",
    "submission.to_csv('DC8.csv', index = False)"
   ]
  },
  {
   "cell_type": "markdown",
   "metadata": {},
   "source": [
    "#### 결과보고서 "
   ]
  },
  {
   "cell_type": "code",
   "execution_count": null,
   "metadata": {
    "collapsed": true
   },
   "outputs": [],
   "source": [
    "DT / basic_features : 1.07356\n",
    "DT / features_1     : 1.07007\n",
    "DT / features_2     : 1.07381\n",
    "DT / features_3     : 1.07070"
   ]
  },
  {
   "cell_type": "markdown",
   "metadata": {},
   "source": [
    "####   \n",
    "####   "
   ]
  },
  {
   "cell_type": "markdown",
   "metadata": {},
   "source": [
    "## 5. Random Forest Regressor"
   ]
  },
  {
   "cell_type": "code",
   "execution_count": 22,
   "metadata": {},
   "outputs": [
    {
     "data": {
      "text/plain": [
       "array([ 607.59663335,  542.54899759,  842.85520849,  730.95257284,\n",
       "        659.34357294,  726.39376415,  470.19939027,  536.68291401,\n",
       "        419.325969  , 1887.22982695])"
      ]
     },
     "execution_count": 22,
     "metadata": {},
     "output_type": "execute_result"
    }
   ],
   "source": [
    "from sklearn.ensemble import RandomForestRegressor\n",
    "\n",
    "RF_model = RandomForestRegressor()\n",
    "RF_model.fit(x_train, y_train)\n",
    "\n",
    "predictions = RF_model.predict(x_test)\n",
    "predictions = np.expm1(predictions)\n",
    "predictions[0:10]"
   ]
  },
  {
   "cell_type": "code",
   "execution_count": 23,
   "metadata": {
    "collapsed": true
   },
   "outputs": [],
   "source": [
    "submission['trip_duration'] = predictions\n",
    "submission.to_csv('RF4.csv', index = False)"
   ]
  },
  {
   "cell_type": "markdown",
   "metadata": {},
   "source": [
    "#### 결과보고서"
   ]
  },
  {
   "cell_type": "code",
   "execution_count": null,
   "metadata": {
    "collapsed": true
   },
   "outputs": [],
   "source": [
    "RF / basic_features : 0.77799\n",
    "RF / features_1     : 0.77918\n",
    "RF / features_2     : 0.77863\n",
    "RF / features_3     : 0.77942"
   ]
  },
  {
   "cell_type": "markdown",
   "metadata": {},
   "source": [
    "####   \n",
    "####   "
   ]
  },
  {
   "cell_type": "markdown",
   "metadata": {},
   "source": [
    "## 6. XGBoost Regressor "
   ]
  },
  {
   "cell_type": "code",
   "execution_count": 24,
   "metadata": {},
   "outputs": [
    {
     "data": {
      "text/plain": [
       "array([643.61865, 628.2386 , 643.61865, 546.9475 , 594.29193, 661.1439 ,\n",
       "       636.3633 , 899.7914 , 681.5244 , 664.80994], dtype=float32)"
      ]
     },
     "execution_count": 24,
     "metadata": {},
     "output_type": "execute_result"
    }
   ],
   "source": [
    "import xgboost as xgb\n",
    "\n",
    "XGB_model = xgb.XGBRegressor()\n",
    "XGB_model.fit(x_train, y_train)\n",
    "\n",
    "predictions = XGB_model.predict(x_test)\n",
    "predictions = np.expm1(predictions)\n",
    "predictions[0:10]"
   ]
  },
  {
   "cell_type": "code",
   "execution_count": 25,
   "metadata": {
    "collapsed": true
   },
   "outputs": [],
   "source": [
    "submission['trip_duration'] = predictions\n",
    "submission.to_csv('XGB4.csv', index = False)"
   ]
  },
  {
   "cell_type": "markdown",
   "metadata": {},
   "source": [
    "#### 결과보고서"
   ]
  },
  {
   "cell_type": "code",
   "execution_count": null,
   "metadata": {
    "collapsed": true
   },
   "outputs": [],
   "source": [
    "XGB / basic_features : 0.74462\n",
    "XGB / features_1     : 0.74462\n",
    "XGB / features_2     : 0.74448\n",
    "XGB / features_3     : 0.74448"
   ]
  }
 ],
 "metadata": {
  "kernelspec": {
   "display_name": "Python 3",
   "language": "python",
   "name": "python3"
  },
  "language_info": {
   "codemirror_mode": {
    "name": "ipython",
    "version": 3
   },
   "file_extension": ".py",
   "mimetype": "text/x-python",
   "name": "python",
   "nbconvert_exporter": "python",
   "pygments_lexer": "ipython3",
   "version": "3.6.1"
  }
 },
 "nbformat": 4,
 "nbformat_minor": 2
}
