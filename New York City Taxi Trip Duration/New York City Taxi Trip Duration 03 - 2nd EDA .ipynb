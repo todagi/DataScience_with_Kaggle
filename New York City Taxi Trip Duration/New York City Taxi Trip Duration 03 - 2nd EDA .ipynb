{
 "cells": [
  {
   "cell_type": "markdown",
   "metadata": {},
   "source": [
    "# New York City Taxi Trip Duration 03 - EDA version2"
   ]
  },
  {
   "cell_type": "markdown",
   "metadata": {},
   "source": [
    "###   \n",
    "### 목표 : 예측 모델의 성능을 높이기 위해 EDA를 추가로 수행한다.\n",
    "###   \n",
    "###   "
   ]
  },
  {
   "cell_type": "markdown",
   "metadata": {},
   "source": [
    "### ● 위도와 경도를 이용해 이동거리를 계산한다.\n",
    "### ● 새로운 날씨데이터를 가져와 추가한다.\n",
    "###   \n",
    "###   "
   ]
  },
  {
   "cell_type": "markdown",
   "metadata": {},
   "source": [
    "## 1. 기존 데이터 전처리"
   ]
  },
  {
   "cell_type": "code",
   "execution_count": 1,
   "metadata": {},
   "outputs": [
    {
     "name": "stdout",
     "output_type": "stream",
     "text": [
      "완료!\n"
     ]
    }
   ],
   "source": [
    "import pandas as pd\n",
    "import numpy as np\n",
    "\n",
    "train = pd.read_csv(\"train.csv\", parse_dates = ['pickup_datetime', 'dropoff_datetime'])\n",
    "test = pd.read_csv(\"test.csv\", parse_dates = ['pickup_datetime'])\n",
    "submission = pd.read_csv(\"sample_submission.csv\")\n",
    "\n",
    "train['pickup_year'] = train['pickup_datetime'].dt.year  \n",
    "train['pickup_month'] = train['pickup_datetime'].dt.month\n",
    "train['pickup_day'] = train['pickup_datetime'].dt.day\n",
    "train['pickup_hour'] = train['pickup_datetime'].dt.hour\n",
    "train['pickup_minute'] = train['pickup_datetime'].dt.minute\n",
    "train['pickup_second'] = train['pickup_datetime'].dt.second\n",
    "train[\"pickup_dayofweek\"] = train[\"pickup_datetime\"].dt.dayofweek \n",
    "\n",
    "test['pickup_year'] = test['pickup_datetime'].dt.year  \n",
    "test['pickup_month'] = test['pickup_datetime'].dt.month\n",
    "test['pickup_day'] = test['pickup_datetime'].dt.day\n",
    "test['pickup_hour'] = test['pickup_datetime'].dt.hour\n",
    "test['pickup_minute'] = test['pickup_datetime'].dt.minute\n",
    "test['pickup_second'] = test['pickup_datetime'].dt.second\n",
    "test[\"pickup_dayofweek\"] = test[\"pickup_datetime\"].dt.dayofweek \n",
    "\n",
    "\n",
    "train['store_and_fwd_flag_Y'] = train['store_and_fwd_flag'] == 'Y'\n",
    "train['store_and_fwd_flag_N'] = train['store_and_fwd_flag'] == 'N'\n",
    "\n",
    "test['store_and_fwd_flag_Y'] = test['store_and_fwd_flag'] == 'Y'\n",
    "test['store_and_fwd_flag_N'] = test['store_and_fwd_flag'] == 'N'\n",
    "\n",
    "\n",
    "train['vendor_1'] = train['vendor_id'] == 1\n",
    "train['vendor_2'] = train['vendor_id'] == 2\n",
    "\n",
    "test['vendor_1'] = test['vendor_id'] == 1\n",
    "test['vendor_2'] = test['vendor_id'] == 2\n",
    "\n",
    "\n",
    "train['passenger_0'] = train['passenger_count'] == 0\n",
    "train['passenger_1'] = train['passenger_count'] == 1\n",
    "train['passenger_2'] = train['passenger_count'] == 2\n",
    "train['passenger_3'] = train['passenger_count'] == 3\n",
    "train['passenger_4'] = train['passenger_count'] == 4\n",
    "train['passenger_5'] = train['passenger_count'] == 5\n",
    "train['passenger_6'] = train['passenger_count'] == 6\n",
    "train['passenger_7'] = train['passenger_count'] == 7\n",
    "train['passenger_8'] = train['passenger_count'] == 8\n",
    "train['passenger_9'] = train['passenger_count'] == 9\n",
    "\n",
    "test['passenger_0'] = test['passenger_count'] == 0\n",
    "test['passenger_1'] = test['passenger_count'] == 1\n",
    "test['passenger_2'] = test['passenger_count'] == 2\n",
    "test['passenger_3'] = test['passenger_count'] == 3\n",
    "test['passenger_4'] = test['passenger_count'] == 4\n",
    "test['passenger_5'] = test['passenger_count'] == 5\n",
    "test['passenger_6'] = test['passenger_count'] == 6\n",
    "test['passenger_7'] = test['passenger_count'] == 7\n",
    "test['passenger_8'] = test['passenger_count'] == 8\n",
    "test['passenger_9'] = test['passenger_count'] == 9\n",
    "\n",
    "print(\"완료!\")"
   ]
  },
  {
   "cell_type": "markdown",
   "metadata": {},
   "source": [
    "####     \n",
    "####     "
   ]
  },
  {
   "cell_type": "markdown",
   "metadata": {},
   "source": [
    "## 2. 이동거리 구하기"
   ]
  },
  {
   "cell_type": "markdown",
   "metadata": {},
   "source": [
    "### 1) 하버사인 공식(Haversine formula)"
   ]
  },
  {
   "cell_type": "markdown",
   "metadata": {},
   "source": [
    "#### 구에서 두 점 사이의 거리 구하는 공식. 위도와 경도 좌표를 가지고 구인 지구에서의 좌표사이의 거리를 구한다.\n",
    "#### 참고 : https://gist.github.com/rochacbruno/2883505"
   ]
  },
  {
   "cell_type": "code",
   "execution_count": 3,
   "metadata": {},
   "outputs": [
    {
     "name": "stdout",
     "output_type": "stream",
     "text": [
      "Running Time : 189.10초\n"
     ]
    },
    {
     "data": {
      "text/plain": [
       "0    1.497580\n",
       "1    1.804374\n",
       "2    6.381090\n",
       "3    1.484566\n",
       "4    1.187842\n",
       "Name: haversine_distance, dtype: float64"
      ]
     },
     "execution_count": 3,
     "metadata": {},
     "output_type": "execute_result"
    }
   ],
   "source": [
    "import time\n",
    "start = time.time()\n",
    "\n",
    "from math import sin, cos, sqrt, atan2, radians \n",
    "import numpy as np\n",
    "def haversine(train):\n",
    "    lon1 = train['pickup_longitude']\n",
    "    lat1 = train['pickup_latitude']\n",
    "    lon2 = train['dropoff_longitude']\n",
    "    lat2 = train['dropoff_latitude']\n",
    "    lon1, lat1, lon2, lat2 = map(radians, [lon1, lat1, lon2, lat2])\n",
    "    dlon = lon2 - lon1 \n",
    "    dlat = lat2 - lat1 \n",
    "    a = sin(dlat/2)**2 + cos(lat1) * cos(lat2) * sin(dlon/2)**2\n",
    "    c = 2 * np.arcsin(sqrt(a)) \n",
    "    haversine_km = 6367 * c\n",
    "    return haversine_km\n",
    "\n",
    "train['haversine_distance'] = train.apply(lambda train: haversine(train), axis=1)\n",
    "\n",
    "print('Running Time : %.02f초' % (time.time() - start))\n",
    "train['haversine_distance'].head()"
   ]
  },
  {
   "cell_type": "code",
   "execution_count": 4,
   "metadata": {},
   "outputs": [
    {
     "name": "stdout",
     "output_type": "stream",
     "text": [
      "Running Time : 78.99초\n"
     ]
    },
    {
     "data": {
      "text/plain": [
       "0    2.744701\n",
       "1    2.757507\n",
       "2    1.305335\n",
       "3    5.265780\n",
       "4    0.960239\n",
       "Name: haversine_distance, dtype: float64"
      ]
     },
     "execution_count": 4,
     "metadata": {},
     "output_type": "execute_result"
    }
   ],
   "source": [
    "import time\n",
    "start = time.time()\n",
    "\n",
    "import numpy as np\n",
    "def haversine(test):\n",
    "    lon1 = test['pickup_longitude']\n",
    "    lat1 = test['pickup_latitude']\n",
    "    lon2 = test['dropoff_longitude']\n",
    "    lat2 = test['dropoff_latitude']\n",
    "    lon1, lat1, lon2, lat2 = map(radians, [lon1, lat1, lon2, lat2])\n",
    "    dlon = lon2 - lon1 \n",
    "    dlat = lat2 - lat1 \n",
    "    a = sin(dlat/2)**2 + cos(lat1) * cos(lat2) * sin(dlon/2)**2\n",
    "    c = 2 * np.arcsin(sqrt(a)) \n",
    "    haversine_km = 6367 * c\n",
    "    return haversine_km\n",
    "\n",
    "test['haversine_distance'] = test.apply(lambda test: haversine(test), axis=1)\n",
    "\n",
    "\n",
    "print('Running Time : %.02f초' % (time.time() - start))\n",
    "test['haversine_distance'].head()"
   ]
  },
  {
   "cell_type": "markdown",
   "metadata": {},
   "source": [
    "### 2) 맨하탄 거리(Manhattan Distance)"
   ]
  },
  {
   "cell_type": "markdown",
   "metadata": {},
   "source": [
    "#### 택시거리 혹은 시가지 거리라고도 한다. 도로 사정 상 두 좌표 사이를 바로 잇는 선이 아닌 도로를 따라 이동하는 최단거리를 측정한다.\n",
    "#### d = |x1 - x2| + |y1 - y2|\n",
    "#### 경도 1도는 88.8km, 1분 1.48km  위도 1도 111km "
   ]
  },
  {
   "cell_type": "code",
   "execution_count": 6,
   "metadata": {},
   "outputs": [
    {
     "name": "stdout",
     "output_type": "stream",
     "text": [
      "Running Time : 174.18초\n"
     ]
    },
    {
     "data": {
      "text/plain": [
       "0    2.144611\n",
       "1    2.749269\n",
       "2    7.518789\n",
       "3    1.378987\n",
       "4    0.927187\n",
       "Name: manhattan_distance, dtype: float64"
      ]
     },
     "execution_count": 6,
     "metadata": {},
     "output_type": "execute_result"
    }
   ],
   "source": [
    "import time\n",
    "start = time.time()\n",
    "\n",
    "def manhattan_distance(train):\n",
    "    lon1 = train['pickup_longitude']\n",
    "    lat1 = train['pickup_latitude']\n",
    "    lon2 = train['dropoff_longitude']\n",
    "    lat2 = train['dropoff_latitude']\n",
    "    manhattan_km = (abs(lon1 - lon2)*111) + (abs(lat1 - lat2)*85.397)\n",
    "    return manhattan_km\n",
    "\n",
    "train['manhattan_distance'] = train.apply(lambda train: manhattan_distance(train), axis=1)\n",
    "\n",
    "print('Running Time : %.02f초' % (time.time() - start))\n",
    "train['manhattan_distance'].head()"
   ]
  },
  {
   "cell_type": "code",
   "execution_count": 7,
   "metadata": {},
   "outputs": [
    {
     "name": "stdout",
     "output_type": "stream",
     "text": [
      "Running Time : 73.13초\n"
     ]
    },
    {
     "data": {
      "text/plain": [
       "0    2.332044\n",
       "1    2.587666\n",
       "2    1.940002\n",
       "3    6.907787\n",
       "4    1.443189\n",
       "Name: manhattan_distance, dtype: float64"
      ]
     },
     "execution_count": 7,
     "metadata": {},
     "output_type": "execute_result"
    }
   ],
   "source": [
    "import time\n",
    "start = time.time()\n",
    "\n",
    "def manhattan_distance(test):\n",
    "    lon1 = test['pickup_longitude']\n",
    "    lat1 = test['pickup_latitude']\n",
    "    lon2 = test['dropoff_longitude']\n",
    "    lat2 = test['dropoff_latitude']\n",
    "    km = (abs(lon1 - lon2)*111) + (abs(lat1 - lat2)*85.397)\n",
    "    return km\n",
    "\n",
    "test['manhattan_distance'] = test.apply(lambda test: manhattan_distance(test), axis=1)\n",
    "\n",
    "print('Running Time : %.02f초' % (time.time() - start))\n",
    "test['manhattan_distance'].head()"
   ]
  },
  {
   "cell_type": "markdown",
   "metadata": {
    "collapsed": true
   },
   "source": [
    "####   \n",
    "####   "
   ]
  },
  {
   "cell_type": "markdown",
   "metadata": {},
   "source": [
    "## 3. 날씨 데이터 추가하기"
   ]
  },
  {
   "cell_type": "markdown",
   "metadata": {},
   "source": [
    "### 1) 날씨데이터 처리"
   ]
  },
  {
   "cell_type": "markdown",
   "metadata": {
    "collapsed": true
   },
   "source": [
    "#### 2016년 1월 1일 ~ 2016년 6월 30일까지의 뉴욕 날씨 적용\n",
    "#### NOOA 데이터 파일(https://www.ncdc.noaa.gov/)은 데이터에 결측치가 너무 많아 사용불가\n",
    "#### wunderground data(https://www.wunderground.com/history/airport/KNYC) 데이터 사용\n",
    "#### wunderground data은 뉴욕 센트럴파크 날씨 데이터로 시간이 아닌 일단위 데이터"
   ]
  },
  {
   "cell_type": "code",
   "execution_count": null,
   "metadata": {
    "collapsed": true
   },
   "outputs": [],
   "source": [
    "# 2018    Temp (°C)     이슬점 (°C)   습도 (%)     Sea Level Press. (hPa)  가시도 (km)   Wind (km/h)   Precip. (mm) rain snow fog  \n",
    "# Mar     high/avg/low  high/avg/low high/avg/low high/avg/low            high/avg/low  high/avg/high     sum \n",
    "# 8          1/1/1  -      1/-1/-2    82/82/82    1005/1004.90/1004     16.1/15.6/14.5   15/12/-          0.0          \n",
    "#         Temp = T      이슬점 = D     습도 = H    Sea level press =S      가시도 = V    Wind  = W"
   ]
  },
  {
   "cell_type": "markdown",
   "metadata": {},
   "source": [
    "#### sea level press : 해수면 기압\n",
    "#### 가시도 : 대상물을 인식하기 쉬움을 나타낸 지수\n",
    "#### Precip : 강수량 (\"T\"는 강수량이 감지되었을 때 사용되는 \"흔적\"을 의미하지만 의미있는 측정은 충분하지 않습니다.)"
   ]
  },
  {
   "cell_type": "markdown",
   "metadata": {},
   "source": [
    "#### w_weather.csv 데이터는 뉴욕 센트럴 파크 날씨 데이터를  가져와 수정한 데이터"
   ]
  },
  {
   "cell_type": "code",
   "execution_count": 1,
   "metadata": {},
   "outputs": [
    {
     "data": {
      "text/html": [
       "<div>\n",
       "<style>\n",
       "    .dataframe thead tr:only-child th {\n",
       "        text-align: right;\n",
       "    }\n",
       "\n",
       "    .dataframe thead th {\n",
       "        text-align: left;\n",
       "    }\n",
       "\n",
       "    .dataframe tbody tr th {\n",
       "        vertical-align: top;\n",
       "    }\n",
       "</style>\n",
       "<table border=\"1\" class=\"dataframe\">\n",
       "  <thead>\n",
       "    <tr style=\"text-align: right;\">\n",
       "      <th></th>\n",
       "      <th>datetime</th>\n",
       "      <th>T_high</th>\n",
       "      <th>T_avg</th>\n",
       "      <th>T_low</th>\n",
       "      <th>D_high</th>\n",
       "      <th>D_avg</th>\n",
       "      <th>D_low</th>\n",
       "      <th>H_high</th>\n",
       "      <th>H_avg</th>\n",
       "      <th>H_low</th>\n",
       "      <th>...</th>\n",
       "      <th>V_high</th>\n",
       "      <th>V_avg</th>\n",
       "      <th>V_low</th>\n",
       "      <th>W_high</th>\n",
       "      <th>W_avg</th>\n",
       "      <th>W_high.1</th>\n",
       "      <th>Precip. (mm)</th>\n",
       "      <th>rain</th>\n",
       "      <th>snow</th>\n",
       "      <th>fog</th>\n",
       "    </tr>\n",
       "  </thead>\n",
       "  <tbody>\n",
       "    <tr>\n",
       "      <th>0</th>\n",
       "      <td>2016-01-01</td>\n",
       "      <td>6.0</td>\n",
       "      <td>3.0</td>\n",
       "      <td>1.0</td>\n",
       "      <td>-3.0</td>\n",
       "      <td>-5.0</td>\n",
       "      <td>-9.0</td>\n",
       "      <td>59.0</td>\n",
       "      <td>52.0</td>\n",
       "      <td>44.0</td>\n",
       "      <td>...</td>\n",
       "      <td>16</td>\n",
       "      <td>16</td>\n",
       "      <td>16</td>\n",
       "      <td>27</td>\n",
       "      <td>12</td>\n",
       "      <td>42</td>\n",
       "      <td>0</td>\n",
       "      <td></td>\n",
       "      <td>NaN</td>\n",
       "      <td>NaN</td>\n",
       "    </tr>\n",
       "    <tr>\n",
       "      <th>1</th>\n",
       "      <td>2016-01-02</td>\n",
       "      <td>4.0</td>\n",
       "      <td>2.0</td>\n",
       "      <td>0.0</td>\n",
       "      <td>-7.0</td>\n",
       "      <td>-8.0</td>\n",
       "      <td>-9.0</td>\n",
       "      <td>52.0</td>\n",
       "      <td>46.0</td>\n",
       "      <td>40.0</td>\n",
       "      <td>...</td>\n",
       "      <td>16</td>\n",
       "      <td>16</td>\n",
       "      <td>16</td>\n",
       "      <td>24</td>\n",
       "      <td>11</td>\n",
       "      <td>37</td>\n",
       "      <td>0</td>\n",
       "      <td></td>\n",
       "      <td>NaN</td>\n",
       "      <td>NaN</td>\n",
       "    </tr>\n",
       "    <tr>\n",
       "      <th>2</th>\n",
       "      <td>2016-01-03</td>\n",
       "      <td>7.0</td>\n",
       "      <td>4.0</td>\n",
       "      <td>2.0</td>\n",
       "      <td>-5.0</td>\n",
       "      <td>-6.0</td>\n",
       "      <td>-7.0</td>\n",
       "      <td>56.0</td>\n",
       "      <td>47.0</td>\n",
       "      <td>37.0</td>\n",
       "      <td>...</td>\n",
       "      <td>16</td>\n",
       "      <td>16</td>\n",
       "      <td>16</td>\n",
       "      <td>27</td>\n",
       "      <td>13</td>\n",
       "      <td>42</td>\n",
       "      <td>0</td>\n",
       "      <td></td>\n",
       "      <td>NaN</td>\n",
       "      <td>NaN</td>\n",
       "    </tr>\n",
       "    <tr>\n",
       "      <th>3</th>\n",
       "      <td>2016-01-04</td>\n",
       "      <td>2.0</td>\n",
       "      <td>-4.0</td>\n",
       "      <td>-10.0</td>\n",
       "      <td>-5.0</td>\n",
       "      <td>-13.0</td>\n",
       "      <td>-18.0</td>\n",
       "      <td>59.0</td>\n",
       "      <td>44.0</td>\n",
       "      <td>28.0</td>\n",
       "      <td>...</td>\n",
       "      <td>16</td>\n",
       "      <td>16</td>\n",
       "      <td>16</td>\n",
       "      <td>34</td>\n",
       "      <td>14</td>\n",
       "      <td>50</td>\n",
       "      <td>0</td>\n",
       "      <td></td>\n",
       "      <td>NaN</td>\n",
       "      <td>NaN</td>\n",
       "    </tr>\n",
       "    <tr>\n",
       "      <th>4</th>\n",
       "      <td>2016-01-05</td>\n",
       "      <td>-2.0</td>\n",
       "      <td>-7.0</td>\n",
       "      <td>-12.0</td>\n",
       "      <td>-17.0</td>\n",
       "      <td>-19.0</td>\n",
       "      <td>-21.0</td>\n",
       "      <td>58.0</td>\n",
       "      <td>41.0</td>\n",
       "      <td>24.0</td>\n",
       "      <td>...</td>\n",
       "      <td>16</td>\n",
       "      <td>16</td>\n",
       "      <td>16</td>\n",
       "      <td>32</td>\n",
       "      <td>8</td>\n",
       "      <td>48</td>\n",
       "      <td>0</td>\n",
       "      <td></td>\n",
       "      <td>NaN</td>\n",
       "      <td>NaN</td>\n",
       "    </tr>\n",
       "  </tbody>\n",
       "</table>\n",
       "<p>5 rows × 23 columns</p>\n",
       "</div>"
      ],
      "text/plain": [
       "    datetime  T_high  T_avg  T_low  D_high  D_avg  D_low  H_high  H_avg  \\\n",
       "0 2016-01-01     6.0    3.0    1.0    -3.0   -5.0   -9.0    59.0   52.0   \n",
       "1 2016-01-02     4.0    2.0    0.0    -7.0   -8.0   -9.0    52.0   46.0   \n",
       "2 2016-01-03     7.0    4.0    2.0    -5.0   -6.0   -7.0    56.0   47.0   \n",
       "3 2016-01-04     2.0   -4.0  -10.0    -5.0  -13.0  -18.0    59.0   44.0   \n",
       "4 2016-01-05    -2.0   -7.0  -12.0   -17.0  -19.0  -21.0    58.0   41.0   \n",
       "\n",
       "   H_low ... V_high V_avg V_low W_high W_avg W_high.1 Precip. (mm) rain snow  \\\n",
       "0   44.0 ...     16    16    16     27    12       42            0       NaN   \n",
       "1   40.0 ...     16    16    16     24    11       37            0       NaN   \n",
       "2   37.0 ...     16    16    16     27    13       42            0       NaN   \n",
       "3   28.0 ...     16    16    16     34    14       50            0       NaN   \n",
       "4   24.0 ...     16    16    16     32     8       48            0       NaN   \n",
       "\n",
       "  fog  \n",
       "0 NaN  \n",
       "1 NaN  \n",
       "2 NaN  \n",
       "3 NaN  \n",
       "4 NaN  \n",
       "\n",
       "[5 rows x 23 columns]"
      ]
     },
     "execution_count": 1,
     "metadata": {},
     "output_type": "execute_result"
    }
   ],
   "source": [
    "import pandas as pd\n",
    "\n",
    "weather = pd.read_csv(\"w_weather.csv\", parse_dates = ['datetime'])\n",
    "weather.head()"
   ]
  },
  {
   "cell_type": "code",
   "execution_count": 2,
   "metadata": {},
   "outputs": [
    {
     "data": {
      "text/html": [
       "<div>\n",
       "<style>\n",
       "    .dataframe thead tr:only-child th {\n",
       "        text-align: right;\n",
       "    }\n",
       "\n",
       "    .dataframe thead th {\n",
       "        text-align: left;\n",
       "    }\n",
       "\n",
       "    .dataframe tbody tr th {\n",
       "        vertical-align: top;\n",
       "    }\n",
       "</style>\n",
       "<table border=\"1\" class=\"dataframe\">\n",
       "  <thead>\n",
       "    <tr style=\"text-align: right;\">\n",
       "      <th></th>\n",
       "      <th>datetime</th>\n",
       "      <th>T_high</th>\n",
       "      <th>T_avg</th>\n",
       "      <th>T_low</th>\n",
       "      <th>D_high</th>\n",
       "      <th>D_avg</th>\n",
       "      <th>D_low</th>\n",
       "      <th>H_high</th>\n",
       "      <th>H_avg</th>\n",
       "      <th>H_low</th>\n",
       "      <th>...</th>\n",
       "      <th>V_high</th>\n",
       "      <th>V_avg</th>\n",
       "      <th>V_low</th>\n",
       "      <th>W_high</th>\n",
       "      <th>W_avg</th>\n",
       "      <th>W_high.1</th>\n",
       "      <th>Precip. (mm)</th>\n",
       "      <th>rain</th>\n",
       "      <th>snow</th>\n",
       "      <th>fog</th>\n",
       "    </tr>\n",
       "  </thead>\n",
       "  <tbody>\n",
       "    <tr>\n",
       "      <th>179</th>\n",
       "      <td>2016-06-28</td>\n",
       "      <td>24.0</td>\n",
       "      <td>22.0</td>\n",
       "      <td>20.0</td>\n",
       "      <td>21.0</td>\n",
       "      <td>19.0</td>\n",
       "      <td>18.0</td>\n",
       "      <td>97.0</td>\n",
       "      <td>88.0</td>\n",
       "      <td>79.0</td>\n",
       "      <td>...</td>\n",
       "      <td>16</td>\n",
       "      <td>9</td>\n",
       "      <td>2</td>\n",
       "      <td>19</td>\n",
       "      <td>6</td>\n",
       "      <td>27</td>\n",
       "      <td>3.05</td>\n",
       "      <td>1</td>\n",
       "      <td>NaN</td>\n",
       "      <td>NaN</td>\n",
       "    </tr>\n",
       "    <tr>\n",
       "      <th>180</th>\n",
       "      <td>2016-06-29</td>\n",
       "      <td>28.0</td>\n",
       "      <td>24.0</td>\n",
       "      <td>19.0</td>\n",
       "      <td>19.0</td>\n",
       "      <td>17.0</td>\n",
       "      <td>13.0</td>\n",
       "      <td>93.0</td>\n",
       "      <td>67.0</td>\n",
       "      <td>40.0</td>\n",
       "      <td>...</td>\n",
       "      <td>16</td>\n",
       "      <td>12</td>\n",
       "      <td>3</td>\n",
       "      <td>16</td>\n",
       "      <td>4</td>\n",
       "      <td>27</td>\n",
       "      <td>0.25</td>\n",
       "      <td>1</td>\n",
       "      <td>NaN</td>\n",
       "      <td>NaN</td>\n",
       "    </tr>\n",
       "    <tr>\n",
       "      <th>181</th>\n",
       "      <td>2016-06-30</td>\n",
       "      <td>29.0</td>\n",
       "      <td>24.0</td>\n",
       "      <td>19.0</td>\n",
       "      <td>16.0</td>\n",
       "      <td>14.0</td>\n",
       "      <td>12.0</td>\n",
       "      <td>68.0</td>\n",
       "      <td>51.0</td>\n",
       "      <td>34.0</td>\n",
       "      <td>...</td>\n",
       "      <td>16</td>\n",
       "      <td>16</td>\n",
       "      <td>14</td>\n",
       "      <td>13</td>\n",
       "      <td>5</td>\n",
       "      <td>24</td>\n",
       "      <td>0</td>\n",
       "      <td>NaN</td>\n",
       "      <td>NaN</td>\n",
       "      <td>NaN</td>\n",
       "    </tr>\n",
       "    <tr>\n",
       "      <th>182</th>\n",
       "      <td>NaT</td>\n",
       "      <td>NaN</td>\n",
       "      <td>NaN</td>\n",
       "      <td>NaN</td>\n",
       "      <td>NaN</td>\n",
       "      <td>NaN</td>\n",
       "      <td>NaN</td>\n",
       "      <td>NaN</td>\n",
       "      <td>NaN</td>\n",
       "      <td>NaN</td>\n",
       "      <td>...</td>\n",
       "      <td>NaN</td>\n",
       "      <td>NaN</td>\n",
       "      <td>NaN</td>\n",
       "      <td>NaN</td>\n",
       "      <td>NaN</td>\n",
       "      <td>NaN</td>\n",
       "      <td>NaN</td>\n",
       "      <td>NaN</td>\n",
       "      <td>NaN</td>\n",
       "      <td>NaN</td>\n",
       "    </tr>\n",
       "    <tr>\n",
       "      <th>183</th>\n",
       "      <td>NaT</td>\n",
       "      <td>NaN</td>\n",
       "      <td>NaN</td>\n",
       "      <td>NaN</td>\n",
       "      <td>NaN</td>\n",
       "      <td>NaN</td>\n",
       "      <td>NaN</td>\n",
       "      <td>NaN</td>\n",
       "      <td>NaN</td>\n",
       "      <td>NaN</td>\n",
       "      <td>...</td>\n",
       "      <td>NaN</td>\n",
       "      <td>NaN</td>\n",
       "      <td>NaN</td>\n",
       "      <td>NaN</td>\n",
       "      <td>NaN</td>\n",
       "      <td>NaN</td>\n",
       "      <td>NaN</td>\n",
       "      <td></td>\n",
       "      <td>NaN</td>\n",
       "      <td>NaN</td>\n",
       "    </tr>\n",
       "  </tbody>\n",
       "</table>\n",
       "<p>5 rows × 23 columns</p>\n",
       "</div>"
      ],
      "text/plain": [
       "      datetime  T_high  T_avg  T_low  D_high  D_avg  D_low  H_high  H_avg  \\\n",
       "179 2016-06-28    24.0   22.0   20.0    21.0   19.0   18.0    97.0   88.0   \n",
       "180 2016-06-29    28.0   24.0   19.0    19.0   17.0   13.0    93.0   67.0   \n",
       "181 2016-06-30    29.0   24.0   19.0    16.0   14.0   12.0    68.0   51.0   \n",
       "182        NaT     NaN    NaN    NaN     NaN    NaN    NaN     NaN    NaN   \n",
       "183        NaT     NaN    NaN    NaN     NaN    NaN    NaN     NaN    NaN   \n",
       "\n",
       "     H_low ... V_high V_avg V_low W_high W_avg W_high.1 Precip. (mm) rain  \\\n",
       "179   79.0 ...     16     9     2     19     6       27         3.05    1   \n",
       "180   40.0 ...     16    12     3     16     4       27         0.25    1   \n",
       "181   34.0 ...     16    16    14     13     5       24            0  NaN   \n",
       "182    NaN ...    NaN   NaN   NaN    NaN   NaN      NaN          NaN  NaN   \n",
       "183    NaN ...    NaN   NaN   NaN    NaN   NaN      NaN          NaN        \n",
       "\n",
       "    snow fog  \n",
       "179  NaN NaN  \n",
       "180  NaN NaN  \n",
       "181  NaN NaN  \n",
       "182  NaN NaN  \n",
       "183  NaN NaN  \n",
       "\n",
       "[5 rows x 23 columns]"
      ]
     },
     "execution_count": 2,
     "metadata": {},
     "output_type": "execute_result"
    }
   ],
   "source": [
    "weather.tail()"
   ]
  },
  {
   "cell_type": "markdown",
   "metadata": {},
   "source": [
    "#### 182행과 183행은 결측치 데이터. 삭제"
   ]
  },
  {
   "cell_type": "code",
   "execution_count": 3,
   "metadata": {},
   "outputs": [
    {
     "data": {
      "text/html": [
       "<div>\n",
       "<style>\n",
       "    .dataframe thead tr:only-child th {\n",
       "        text-align: right;\n",
       "    }\n",
       "\n",
       "    .dataframe thead th {\n",
       "        text-align: left;\n",
       "    }\n",
       "\n",
       "    .dataframe tbody tr th {\n",
       "        vertical-align: top;\n",
       "    }\n",
       "</style>\n",
       "<table border=\"1\" class=\"dataframe\">\n",
       "  <thead>\n",
       "    <tr style=\"text-align: right;\">\n",
       "      <th></th>\n",
       "      <th>datetime</th>\n",
       "      <th>T_high</th>\n",
       "      <th>T_avg</th>\n",
       "      <th>T_low</th>\n",
       "      <th>D_high</th>\n",
       "      <th>D_avg</th>\n",
       "      <th>D_low</th>\n",
       "      <th>H_high</th>\n",
       "      <th>H_avg</th>\n",
       "      <th>H_low</th>\n",
       "      <th>...</th>\n",
       "      <th>V_high</th>\n",
       "      <th>V_avg</th>\n",
       "      <th>V_low</th>\n",
       "      <th>W_high</th>\n",
       "      <th>W_avg</th>\n",
       "      <th>W_high.1</th>\n",
       "      <th>Precip. (mm)</th>\n",
       "      <th>rain</th>\n",
       "      <th>snow</th>\n",
       "      <th>fog</th>\n",
       "    </tr>\n",
       "  </thead>\n",
       "  <tbody>\n",
       "    <tr>\n",
       "      <th>177</th>\n",
       "      <td>2016-06-26</td>\n",
       "      <td>31.0</td>\n",
       "      <td>25.0</td>\n",
       "      <td>19.0</td>\n",
       "      <td>16.0</td>\n",
       "      <td>13.0</td>\n",
       "      <td>8.0</td>\n",
       "      <td>68.0</td>\n",
       "      <td>53.0</td>\n",
       "      <td>37.0</td>\n",
       "      <td>...</td>\n",
       "      <td>16</td>\n",
       "      <td>14</td>\n",
       "      <td>11</td>\n",
       "      <td>16</td>\n",
       "      <td>4</td>\n",
       "      <td>27</td>\n",
       "      <td>0</td>\n",
       "      <td></td>\n",
       "      <td>NaN</td>\n",
       "      <td>NaN</td>\n",
       "    </tr>\n",
       "    <tr>\n",
       "      <th>178</th>\n",
       "      <td>2016-06-27</td>\n",
       "      <td>28.0</td>\n",
       "      <td>24.0</td>\n",
       "      <td>19.0</td>\n",
       "      <td>20.0</td>\n",
       "      <td>16.0</td>\n",
       "      <td>9.0</td>\n",
       "      <td>97.0</td>\n",
       "      <td>71.0</td>\n",
       "      <td>44.0</td>\n",
       "      <td>...</td>\n",
       "      <td>16</td>\n",
       "      <td>13</td>\n",
       "      <td>4</td>\n",
       "      <td>19</td>\n",
       "      <td>8</td>\n",
       "      <td>35</td>\n",
       "      <td>11.43</td>\n",
       "      <td>1</td>\n",
       "      <td>NaN</td>\n",
       "      <td>NaN</td>\n",
       "    </tr>\n",
       "    <tr>\n",
       "      <th>179</th>\n",
       "      <td>2016-06-28</td>\n",
       "      <td>24.0</td>\n",
       "      <td>22.0</td>\n",
       "      <td>20.0</td>\n",
       "      <td>21.0</td>\n",
       "      <td>19.0</td>\n",
       "      <td>18.0</td>\n",
       "      <td>97.0</td>\n",
       "      <td>88.0</td>\n",
       "      <td>79.0</td>\n",
       "      <td>...</td>\n",
       "      <td>16</td>\n",
       "      <td>9</td>\n",
       "      <td>2</td>\n",
       "      <td>19</td>\n",
       "      <td>6</td>\n",
       "      <td>27</td>\n",
       "      <td>3.05</td>\n",
       "      <td>1</td>\n",
       "      <td>NaN</td>\n",
       "      <td>NaN</td>\n",
       "    </tr>\n",
       "    <tr>\n",
       "      <th>180</th>\n",
       "      <td>2016-06-29</td>\n",
       "      <td>28.0</td>\n",
       "      <td>24.0</td>\n",
       "      <td>19.0</td>\n",
       "      <td>19.0</td>\n",
       "      <td>17.0</td>\n",
       "      <td>13.0</td>\n",
       "      <td>93.0</td>\n",
       "      <td>67.0</td>\n",
       "      <td>40.0</td>\n",
       "      <td>...</td>\n",
       "      <td>16</td>\n",
       "      <td>12</td>\n",
       "      <td>3</td>\n",
       "      <td>16</td>\n",
       "      <td>4</td>\n",
       "      <td>27</td>\n",
       "      <td>0.25</td>\n",
       "      <td>1</td>\n",
       "      <td>NaN</td>\n",
       "      <td>NaN</td>\n",
       "    </tr>\n",
       "    <tr>\n",
       "      <th>181</th>\n",
       "      <td>2016-06-30</td>\n",
       "      <td>29.0</td>\n",
       "      <td>24.0</td>\n",
       "      <td>19.0</td>\n",
       "      <td>16.0</td>\n",
       "      <td>14.0</td>\n",
       "      <td>12.0</td>\n",
       "      <td>68.0</td>\n",
       "      <td>51.0</td>\n",
       "      <td>34.0</td>\n",
       "      <td>...</td>\n",
       "      <td>16</td>\n",
       "      <td>16</td>\n",
       "      <td>14</td>\n",
       "      <td>13</td>\n",
       "      <td>5</td>\n",
       "      <td>24</td>\n",
       "      <td>0</td>\n",
       "      <td>NaN</td>\n",
       "      <td>NaN</td>\n",
       "      <td>NaN</td>\n",
       "    </tr>\n",
       "  </tbody>\n",
       "</table>\n",
       "<p>5 rows × 23 columns</p>\n",
       "</div>"
      ],
      "text/plain": [
       "      datetime  T_high  T_avg  T_low  D_high  D_avg  D_low  H_high  H_avg  \\\n",
       "177 2016-06-26    31.0   25.0   19.0    16.0   13.0    8.0    68.0   53.0   \n",
       "178 2016-06-27    28.0   24.0   19.0    20.0   16.0    9.0    97.0   71.0   \n",
       "179 2016-06-28    24.0   22.0   20.0    21.0   19.0   18.0    97.0   88.0   \n",
       "180 2016-06-29    28.0   24.0   19.0    19.0   17.0   13.0    93.0   67.0   \n",
       "181 2016-06-30    29.0   24.0   19.0    16.0   14.0   12.0    68.0   51.0   \n",
       "\n",
       "     H_low ... V_high V_avg V_low W_high W_avg W_high.1 Precip. (mm) rain  \\\n",
       "177   37.0 ...     16    14    11     16     4       27            0        \n",
       "178   44.0 ...     16    13     4     19     8       35        11.43    1   \n",
       "179   79.0 ...     16     9     2     19     6       27         3.05    1   \n",
       "180   40.0 ...     16    12     3     16     4       27         0.25    1   \n",
       "181   34.0 ...     16    16    14     13     5       24            0  NaN   \n",
       "\n",
       "    snow fog  \n",
       "177  NaN NaN  \n",
       "178  NaN NaN  \n",
       "179  NaN NaN  \n",
       "180  NaN NaN  \n",
       "181  NaN NaN  \n",
       "\n",
       "[5 rows x 23 columns]"
      ]
     },
     "execution_count": 3,
     "metadata": {},
     "output_type": "execute_result"
    }
   ],
   "source": [
    "weather = weather.drop([182, 183])\n",
    "weather.tail()"
   ]
  },
  {
   "cell_type": "markdown",
   "metadata": {},
   "source": [
    "#### 그 외 결측치 확인"
   ]
  },
  {
   "cell_type": "code",
   "execution_count": 5,
   "metadata": {},
   "outputs": [
    {
     "data": {
      "image/png": "[encoded data removed]",
      "text/plain": [
       "<Figure size 1440x1440 with 2 Axes>"
      ]
     },
     "metadata": {},
     "output_type": "display_data"
    }
   ],
   "source": [
    "import missingno as msno\n",
    "\n",
    "msno.matrix(df = weather, figsize = (20, 20), color = (0.05, 0.42, 0.1))"
   ]
  },
  {
   "cell_type": "markdown",
   "metadata": {},
   "source": [
    "#### rain, snow, fog에서 결측치 발견. 다시 확인"
   ]
  },
  {
   "cell_type": "code",
   "execution_count": 6,
   "metadata": {},
   "outputs": [
    {
     "data": {
      "text/plain": [
       "datetime          0\n",
       "T_high            0\n",
       "T_avg             0\n",
       "T_low             0\n",
       "D_high            0\n",
       "D_avg             0\n",
       "D_low             0\n",
       "H_high            0\n",
       "H_avg             0\n",
       "H_low             0\n",
       "S_high            0\n",
       "S_avg             0\n",
       "S_low             0\n",
       "V_high            0\n",
       "V_avg             0\n",
       "V_low             0\n",
       "W_high            0\n",
       "W_avg             0\n",
       "W_high.1          0\n",
       "Precip. (mm)      0\n",
       "rain             20\n",
       "snow            168\n",
       "fog             175\n",
       "dtype: int64"
      ]
     },
     "execution_count": 6,
     "metadata": {},
     "output_type": "execute_result"
    }
   ],
   "source": [
    "weather.isnull().sum()"
   ]
  },
  {
   "cell_type": "code",
   "execution_count": 7,
   "metadata": {},
   "outputs": [
    {
     "data": {
      "text/plain": [
       "datetime        182\n",
       "T_high          182\n",
       "T_avg           182\n",
       "T_low           182\n",
       "D_high          182\n",
       "D_avg           182\n",
       "D_low           182\n",
       "H_high          182\n",
       "H_avg           182\n",
       "H_low           182\n",
       "S_high          182\n",
       "S_avg           182\n",
       "S_low           182\n",
       "V_high          182\n",
       "V_avg           182\n",
       "V_low           182\n",
       "W_high          182\n",
       "W_avg           182\n",
       "W_high.1        182\n",
       "Precip. (mm)    182\n",
       "rain            162\n",
       "snow             14\n",
       "fog               7\n",
       "dtype: int64"
      ]
     },
     "execution_count": 7,
     "metadata": {},
     "output_type": "execute_result"
    }
   ],
   "source": [
    "weather.notnull().sum()"
   ]
  },
  {
   "cell_type": "markdown",
   "metadata": {},
   "source": [
    "#### 새로 만든 rain, snow, fog에만 결측치 관측됨\n",
    "#### 비, 눈, 안개가 있으면 1, 아니면 0으로 해주기\n",
    "#### 빈 곳은 1로 채우기\n",
    "####   \n",
    "#### 또한 작업할 때, weather_1이라는 파일을 만들어 원본 weather는 보존한다."
   ]
  },
  {
   "cell_type": "markdown",
   "metadata": {},
   "source": [
    "#### replace 함수 사용"
   ]
  },
  {
   "cell_type": "code",
   "execution_count": 10,
   "metadata": {},
   "outputs": [
    {
     "data": {
      "image/png": "[encoded data removed]",
      "text/plain": [
       "<Figure size 1440x1440 with 2 Axes>"
      ]
     },
     "metadata": {},
     "output_type": "display_data"
    }
   ],
   "source": [
    "import numpy as np\n",
    "\n",
    "weather_1 = weather.replace(np.NaN, 0)\n",
    "msno.matrix(df = weather_1, figsize = (20, 20), color = (0.05, 0.42, 0.5))"
   ]
  },
  {
   "cell_type": "code",
   "execution_count": 11,
   "metadata": {},
   "outputs": [
    {
     "data": {
      "text/plain": [
       "datetime        0\n",
       "T_high          0\n",
       "T_avg           0\n",
       "T_low           0\n",
       "D_high          0\n",
       "D_avg           0\n",
       "D_low           0\n",
       "H_high          0\n",
       "H_avg           0\n",
       "H_low           0\n",
       "S_high          0\n",
       "S_avg           0\n",
       "S_low           0\n",
       "V_high          0\n",
       "V_avg           0\n",
       "V_low           0\n",
       "W_high          0\n",
       "W_avg           0\n",
       "W_high.1        0\n",
       "Precip. (mm)    0\n",
       "rain            0\n",
       "snow            0\n",
       "fog             0\n",
       "dtype: int64"
      ]
     },
     "execution_count": 11,
     "metadata": {},
     "output_type": "execute_result"
    }
   ],
   "source": [
    "weather_1.isnull().sum()"
   ]
  },
  {
   "cell_type": "code",
   "execution_count": 8,
   "metadata": {},
   "outputs": [
    {
     "data": {
      "image/png": "[encoded data removed]",
      "text/plain": [
       "<Figure size 1440x1440 with 2 Axes>"
      ]
     },
     "metadata": {},
     "output_type": "display_data"
    }
   ],
   "source": [
    "weather_2 = weather.fillna(0)\n",
    "msno.matrix(df = weather_2, figsize = (20, 20), color = (0.8, 0.04, 0.8))  # RGB http://www.n2n.pe.kr/lev-1/color.htm 참고"
   ]
  },
  {
   "cell_type": "code",
   "execution_count": 12,
   "metadata": {},
   "outputs": [
    {
     "data": {
      "text/plain": [
       "datetime        182\n",
       "T_high          182\n",
       "T_avg           182\n",
       "T_low           182\n",
       "D_high          182\n",
       "D_avg           182\n",
       "D_low           182\n",
       "H_high          182\n",
       "H_avg           182\n",
       "H_low           182\n",
       "S_high          182\n",
       "S_avg           182\n",
       "S_low           182\n",
       "V_high          182\n",
       "V_avg           182\n",
       "V_low           182\n",
       "W_high          182\n",
       "W_avg           182\n",
       "W_high.1        182\n",
       "Precip. (mm)    182\n",
       "rain            182\n",
       "snow            182\n",
       "fog             182\n",
       "dtype: int64"
      ]
     },
     "execution_count": 12,
     "metadata": {},
     "output_type": "execute_result"
    }
   ],
   "source": [
    "weather_2.notnull().sum()"
   ]
  },
  {
   "cell_type": "code",
   "execution_count": 13,
   "metadata": {},
   "outputs": [
    {
     "data": {
      "text/html": [
       "<div>\n",
       "<style>\n",
       "    .dataframe thead tr:only-child th {\n",
       "        text-align: right;\n",
       "    }\n",
       "\n",
       "    .dataframe thead th {\n",
       "        text-align: left;\n",
       "    }\n",
       "\n",
       "    .dataframe tbody tr th {\n",
       "        vertical-align: top;\n",
       "    }\n",
       "</style>\n",
       "<table border=\"1\" class=\"dataframe\">\n",
       "  <thead>\n",
       "    <tr style=\"text-align: right;\">\n",
       "      <th></th>\n",
       "      <th>rain</th>\n",
       "      <th>snow</th>\n",
       "      <th>fog</th>\n",
       "    </tr>\n",
       "  </thead>\n",
       "  <tbody>\n",
       "    <tr>\n",
       "      <th>0</th>\n",
       "      <td></td>\n",
       "      <td>0.0</td>\n",
       "      <td>0.0</td>\n",
       "    </tr>\n",
       "    <tr>\n",
       "      <th>1</th>\n",
       "      <td></td>\n",
       "      <td>0.0</td>\n",
       "      <td>0.0</td>\n",
       "    </tr>\n",
       "    <tr>\n",
       "      <th>2</th>\n",
       "      <td></td>\n",
       "      <td>0.0</td>\n",
       "      <td>0.0</td>\n",
       "    </tr>\n",
       "    <tr>\n",
       "      <th>3</th>\n",
       "      <td></td>\n",
       "      <td>0.0</td>\n",
       "      <td>0.0</td>\n",
       "    </tr>\n",
       "    <tr>\n",
       "      <th>4</th>\n",
       "      <td></td>\n",
       "      <td>0.0</td>\n",
       "      <td>0.0</td>\n",
       "    </tr>\n",
       "  </tbody>\n",
       "</table>\n",
       "</div>"
      ],
      "text/plain": [
       "  rain  snow  fog\n",
       "0        0.0  0.0\n",
       "1        0.0  0.0\n",
       "2        0.0  0.0\n",
       "3        0.0  0.0\n",
       "4        0.0  0.0"
      ]
     },
     "execution_count": 13,
     "metadata": {},
     "output_type": "execute_result"
    }
   ],
   "source": [
    "weather_1[['rain', 'snow', 'fog']].head()"
   ]
  },
  {
   "cell_type": "markdown",
   "metadata": {},
   "source": [
    "#### rain에서 아예 없는 값이 나옴. 다시 처리"
   ]
  },
  {
   "cell_type": "code",
   "execution_count": 15,
   "metadata": {},
   "outputs": [
    {
     "data": {
      "text/html": [
       "<div>\n",
       "<style>\n",
       "    .dataframe thead tr:only-child th {\n",
       "        text-align: right;\n",
       "    }\n",
       "\n",
       "    .dataframe thead th {\n",
       "        text-align: left;\n",
       "    }\n",
       "\n",
       "    .dataframe tbody tr th {\n",
       "        vertical-align: top;\n",
       "    }\n",
       "</style>\n",
       "<table border=\"1\" class=\"dataframe\">\n",
       "  <thead>\n",
       "    <tr style=\"text-align: right;\">\n",
       "      <th></th>\n",
       "      <th>rain</th>\n",
       "      <th>snow</th>\n",
       "      <th>fog</th>\n",
       "    </tr>\n",
       "  </thead>\n",
       "  <tbody>\n",
       "    <tr>\n",
       "      <th>0</th>\n",
       "      <td>0</td>\n",
       "      <td>0.0</td>\n",
       "      <td>0.0</td>\n",
       "    </tr>\n",
       "    <tr>\n",
       "      <th>1</th>\n",
       "      <td>0</td>\n",
       "      <td>0.0</td>\n",
       "      <td>0.0</td>\n",
       "    </tr>\n",
       "    <tr>\n",
       "      <th>2</th>\n",
       "      <td>0</td>\n",
       "      <td>0.0</td>\n",
       "      <td>0.0</td>\n",
       "    </tr>\n",
       "    <tr>\n",
       "      <th>3</th>\n",
       "      <td>0</td>\n",
       "      <td>0.0</td>\n",
       "      <td>0.0</td>\n",
       "    </tr>\n",
       "    <tr>\n",
       "      <th>4</th>\n",
       "      <td>0</td>\n",
       "      <td>0.0</td>\n",
       "      <td>0.0</td>\n",
       "    </tr>\n",
       "  </tbody>\n",
       "</table>\n",
       "</div>"
      ],
      "text/plain": [
       "  rain  snow  fog\n",
       "0    0   0.0  0.0\n",
       "1    0   0.0  0.0\n",
       "2    0   0.0  0.0\n",
       "3    0   0.0  0.0\n",
       "4    0   0.0  0.0"
      ]
     },
     "execution_count": 15,
     "metadata": {},
     "output_type": "execute_result"
    }
   ],
   "source": [
    "weather_1 = weather_1.replace(' ', 0)\n",
    "weather_1[['rain','snow','fog']].head()"
   ]
  },
  {
   "cell_type": "markdown",
   "metadata": {},
   "source": [
    "#### rain 데이터가 이상해 데이터 유형 살펴보기"
   ]
  },
  {
   "cell_type": "code",
   "execution_count": 16,
   "metadata": {},
   "outputs": [
    {
     "name": "stdout",
     "output_type": "stream",
     "text": [
      "datetime 의 데이터 유형은  datetime64[ns]  입니다.\n",
      "T_high 의 데이터 유형은  float64  입니다.\n",
      "T_avg 의 데이터 유형은  float64  입니다.\n",
      "T_low 의 데이터 유형은  float64  입니다.\n",
      "D_high 의 데이터 유형은  float64  입니다.\n",
      "D_avg 의 데이터 유형은  float64  입니다.\n",
      "D_low 의 데이터 유형은  float64  입니다.\n",
      "H_high 의 데이터 유형은  float64  입니다.\n",
      "H_avg 의 데이터 유형은  float64  입니다.\n",
      "H_low 의 데이터 유형은  float64  입니다.\n",
      "S_high 의 데이터 유형은  object  입니다.\n",
      "S_avg 의 데이터 유형은  object  입니다.\n",
      "S_low 의 데이터 유형은  object  입니다.\n",
      "V_high 의 데이터 유형은  object  입니다.\n",
      "V_avg 의 데이터 유형은  object  입니다.\n",
      "V_low 의 데이터 유형은  object  입니다.\n",
      "W_high 의 데이터 유형은  object  입니다.\n",
      "W_avg 의 데이터 유형은  object  입니다.\n",
      "W_high.1 의 데이터 유형은  object  입니다.\n",
      "Precip. (mm) 의 데이터 유형은  object  입니다.\n",
      "rain 의 데이터 유형은  object  입니다.\n",
      "snow 의 데이터 유형은  float64  입니다.\n",
      "fog 의 데이터 유형은  float64  입니다.\n"
     ]
    }
   ],
   "source": [
    "for i in weather_1:\n",
    "    print(i, '의 데이터 유형은 ', weather_1[i].dtype,' 입니다.')"
   ]
  },
  {
   "cell_type": "markdown",
   "metadata": {},
   "source": [
    "#### 결과를 보면 S_high부터 rain까지 데이터 유형이 float가 아니라 object. 이것을 float으로 바꿔줘야 함. "
   ]
  },
  {
   "cell_type": "markdown",
   "metadata": {},
   "source": [
    "#### 우선 Precip에서 'T'는 강우량이 감지되었지만 충분이 측정되지 않은 것을 의미하니 0으로 바꾸어줌"
   ]
  },
  {
   "cell_type": "code",
   "execution_count": 17,
   "metadata": {},
   "outputs": [
    {
     "data": {
      "text/plain": [
       "0        104\n",
       "0         20\n",
       "0.25       8\n",
       "1.02       4\n",
       "1.27       4\n",
       "2.29       4\n",
       "4.06       3\n",
       "0.51       3\n",
       "6.1        2\n",
       "1.52       2\n",
       "11.43      2\n",
       "3.81       1\n",
       "2.79       1\n",
       "1.78       1\n",
       "13.72      1\n",
       "3.05       1\n",
       "41.91      1\n",
       "25.65      1\n",
       "5.59       1\n",
       "9.65       1\n",
       "6.35       1\n",
       "10.16      1\n",
       "58.67      1\n",
       "30.99      1\n",
       "7.37       1\n",
       "11.18      1\n",
       "5.08       1\n",
       "3.56       1\n",
       "7.62       1\n",
       "18.54      1\n",
       "23.11      1\n",
       "45.72      1\n",
       "4.57       1\n",
       "13.46      1\n",
       "11.94      1\n",
       "0.76       1\n",
       "15.49      1\n",
       "Name: Precip. (mm), dtype: int64"
      ]
     },
     "execution_count": 17,
     "metadata": {},
     "output_type": "execute_result"
    }
   ],
   "source": [
    "weather_1 = weather_1.replace(\"T\", 0)\n",
    "weather_1['Precip. (mm)'].value_counts()"
   ]
  },
  {
   "cell_type": "code",
   "execution_count": 18,
   "metadata": {},
   "outputs": [
    {
     "data": {
      "text/plain": [
       "0        104\n",
       "T         20\n",
       "0.25       8\n",
       "2.29       4\n",
       "1.02       4\n",
       "1.27       4\n",
       "4.06       3\n",
       "0.51       3\n",
       "6.1        2\n",
       "1.52       2\n",
       "11.43      2\n",
       "1.78       1\n",
       "6.35       1\n",
       "9.65       1\n",
       "25.65      1\n",
       "3.81       1\n",
       "13.46      1\n",
       "13.72      1\n",
       "3.05       1\n",
       "41.91      1\n",
       "5.59       1\n",
       "7.62       1\n",
       "10.16      1\n",
       "30.99      1\n",
       "4.57       1\n",
       "11.94      1\n",
       "7.37       1\n",
       "11.18      1\n",
       "58.67      1\n",
       "3.56       1\n",
       "2.79       1\n",
       "5.08       1\n",
       "0.76       1\n",
       "18.54      1\n",
       "23.11      1\n",
       "45.72      1\n",
       "15.49      1\n",
       "Name: Precip. (mm), dtype: int64"
      ]
     },
     "execution_count": 18,
     "metadata": {},
     "output_type": "execute_result"
    }
   ],
   "source": [
    "weather['Precip. (mm)'].value_counts()"
   ]
  },
  {
   "cell_type": "markdown",
   "metadata": {},
   "source": [
    "#### 원본과 비교했을 시 T는 사라짐."
   ]
  },
  {
   "cell_type": "code",
   "execution_count": 24,
   "metadata": {},
   "outputs": [
    {
     "data": {
      "text/plain": [
       "35    15\n",
       "32    12\n",
       "27    11\n",
       "29    10\n",
       "48    10\n",
       "42     9\n",
       "40     9\n",
       "31     9\n",
       "37     9\n",
       "39     9\n",
       "34     8\n",
       "-      7\n",
       "26     7\n",
       "56     6\n",
       "64     5\n",
       "50     5\n",
       "24     4\n",
       "43     4\n",
       "58     4\n",
       "45     4\n",
       "55     3\n",
       "23     3\n",
       "47     3\n",
       "52     3\n",
       "19     2\n",
       "60     2\n",
       "72     2\n",
       "53     2\n",
       "68     1\n",
       "61     1\n",
       "21     1\n",
       "16     1\n",
       "69     1\n",
       "Name: W_high.1, dtype: int64"
      ]
     },
     "execution_count": 24,
     "metadata": {},
     "output_type": "execute_result"
    }
   ],
   "source": [
    "weather['W_high.1'].value_counts()"
   ]
  },
  {
   "cell_type": "markdown",
   "metadata": {},
   "source": [
    "#### '-'이라는 문자열이 있음. 처리해주어야 함 "
   ]
  },
  {
   "cell_type": "code",
   "execution_count": 25,
   "metadata": {},
   "outputs": [
    {
     "data": {
      "text/plain": [
       "35    15\n",
       "32    12\n",
       "27    11\n",
       "48    10\n",
       "29    10\n",
       "40     9\n",
       "42     9\n",
       "31     9\n",
       "37     9\n",
       "39     9\n",
       "34     8\n",
       "0      7\n",
       "26     7\n",
       "56     6\n",
       "64     5\n",
       "50     5\n",
       "58     4\n",
       "43     4\n",
       "45     4\n",
       "24     4\n",
       "55     3\n",
       "23     3\n",
       "52     3\n",
       "47     3\n",
       "19     2\n",
       "72     2\n",
       "53     2\n",
       "60     2\n",
       "61     1\n",
       "21     1\n",
       "69     1\n",
       "16     1\n",
       "68     1\n",
       "Name: W_high.1, dtype: int64"
      ]
     },
     "execution_count": 25,
     "metadata": {},
     "output_type": "execute_result"
    }
   ],
   "source": [
    "weather_1 = weather_1.replace(\"-\", 0)\n",
    "weather_1['W_high.1'].value_counts()"
   ]
  },
  {
   "cell_type": "markdown",
   "metadata": {},
   "source": [
    "#### 데이터 유형 바꾸기에 방해가 되는 문자열 변수들 처리 완료\n",
    "#### 이제 모든 데이터에 관해 float64 유형으로 데이터 처리"
   ]
  },
  {
   "cell_type": "code",
   "execution_count": 26,
   "metadata": {},
   "outputs": [
    {
     "name": "stdout",
     "output_type": "stream",
     "text": [
      "datetime 의 데이터 유형은  datetime64[ns]  입니다.\n",
      "T_high 의 데이터 유형은  float64  입니다.\n",
      "T_avg 의 데이터 유형은  float64  입니다.\n",
      "T_low 의 데이터 유형은  float64  입니다.\n",
      "D_high 의 데이터 유형은  float64  입니다.\n",
      "D_avg 의 데이터 유형은  float64  입니다.\n",
      "D_low 의 데이터 유형은  float64  입니다.\n",
      "H_high 의 데이터 유형은  float64  입니다.\n",
      "H_avg 의 데이터 유형은  float64  입니다.\n",
      "H_low 의 데이터 유형은  float64  입니다.\n",
      "S_high 의 데이터 유형은  float64  입니다.\n",
      "S_avg 의 데이터 유형은  float64  입니다.\n",
      "S_low 의 데이터 유형은  float64  입니다.\n",
      "V_high 의 데이터 유형은  float64  입니다.\n",
      "V_avg 의 데이터 유형은  float64  입니다.\n",
      "V_low 의 데이터 유형은  float64  입니다.\n",
      "W_high 의 데이터 유형은  float64  입니다.\n",
      "W_avg 의 데이터 유형은  float64  입니다.\n",
      "W_high.1 의 데이터 유형은  float64  입니다.\n",
      "Precip. (mm) 의 데이터 유형은  float64  입니다.\n",
      "rain 의 데이터 유형은  float64  입니다.\n",
      "snow 의 데이터 유형은  float64  입니다.\n",
      "fog 의 데이터 유형은  float64  입니다.\n"
     ]
    }
   ],
   "source": [
    "for i in weather_1:\n",
    "    if weather_1[i].dtype == \"object\":\n",
    "        weather_1[i] = weather_1[i].astype(np.float64)\n",
    "    else :\n",
    "        weather_1[i] = weather_1[i]\n",
    "        \n",
    "for i in weather_1:\n",
    "    print(i, '의 데이터 유형은 ', weather_1[i].dtype,' 입니다.')"
   ]
  },
  {
   "cell_type": "code",
   "execution_count": 27,
   "metadata": {},
   "outputs": [
    {
     "data": {
      "text/html": [
       "<div>\n",
       "<style>\n",
       "    .dataframe thead tr:only-child th {\n",
       "        text-align: right;\n",
       "    }\n",
       "\n",
       "    .dataframe thead th {\n",
       "        text-align: left;\n",
       "    }\n",
       "\n",
       "    .dataframe tbody tr th {\n",
       "        vertical-align: top;\n",
       "    }\n",
       "</style>\n",
       "<table border=\"1\" class=\"dataframe\">\n",
       "  <thead>\n",
       "    <tr style=\"text-align: right;\">\n",
       "      <th></th>\n",
       "      <th>datetime</th>\n",
       "      <th>T_high</th>\n",
       "      <th>T_avg</th>\n",
       "      <th>T_low</th>\n",
       "      <th>D_high</th>\n",
       "      <th>D_avg</th>\n",
       "      <th>D_low</th>\n",
       "      <th>H_high</th>\n",
       "      <th>H_avg</th>\n",
       "      <th>H_low</th>\n",
       "      <th>...</th>\n",
       "      <th>V_high</th>\n",
       "      <th>V_avg</th>\n",
       "      <th>V_low</th>\n",
       "      <th>W_high</th>\n",
       "      <th>W_avg</th>\n",
       "      <th>W_high.1</th>\n",
       "      <th>Precip. (mm)</th>\n",
       "      <th>rain</th>\n",
       "      <th>snow</th>\n",
       "      <th>fog</th>\n",
       "    </tr>\n",
       "  </thead>\n",
       "  <tbody>\n",
       "    <tr>\n",
       "      <th>0</th>\n",
       "      <td>2016-01-01</td>\n",
       "      <td>6.0</td>\n",
       "      <td>3.0</td>\n",
       "      <td>1.0</td>\n",
       "      <td>-3.0</td>\n",
       "      <td>-5.0</td>\n",
       "      <td>-9.0</td>\n",
       "      <td>59.0</td>\n",
       "      <td>52.0</td>\n",
       "      <td>44.0</td>\n",
       "      <td>...</td>\n",
       "      <td>16.0</td>\n",
       "      <td>16.0</td>\n",
       "      <td>16.0</td>\n",
       "      <td>27.0</td>\n",
       "      <td>12.0</td>\n",
       "      <td>42.0</td>\n",
       "      <td>0.0</td>\n",
       "      <td>0.0</td>\n",
       "      <td>0.0</td>\n",
       "      <td>0.0</td>\n",
       "    </tr>\n",
       "    <tr>\n",
       "      <th>1</th>\n",
       "      <td>2016-01-02</td>\n",
       "      <td>4.0</td>\n",
       "      <td>2.0</td>\n",
       "      <td>0.0</td>\n",
       "      <td>-7.0</td>\n",
       "      <td>-8.0</td>\n",
       "      <td>-9.0</td>\n",
       "      <td>52.0</td>\n",
       "      <td>46.0</td>\n",
       "      <td>40.0</td>\n",
       "      <td>...</td>\n",
       "      <td>16.0</td>\n",
       "      <td>16.0</td>\n",
       "      <td>16.0</td>\n",
       "      <td>24.0</td>\n",
       "      <td>11.0</td>\n",
       "      <td>37.0</td>\n",
       "      <td>0.0</td>\n",
       "      <td>0.0</td>\n",
       "      <td>0.0</td>\n",
       "      <td>0.0</td>\n",
       "    </tr>\n",
       "    <tr>\n",
       "      <th>2</th>\n",
       "      <td>2016-01-03</td>\n",
       "      <td>7.0</td>\n",
       "      <td>4.0</td>\n",
       "      <td>2.0</td>\n",
       "      <td>-5.0</td>\n",
       "      <td>-6.0</td>\n",
       "      <td>-7.0</td>\n",
       "      <td>56.0</td>\n",
       "      <td>47.0</td>\n",
       "      <td>37.0</td>\n",
       "      <td>...</td>\n",
       "      <td>16.0</td>\n",
       "      <td>16.0</td>\n",
       "      <td>16.0</td>\n",
       "      <td>27.0</td>\n",
       "      <td>13.0</td>\n",
       "      <td>42.0</td>\n",
       "      <td>0.0</td>\n",
       "      <td>0.0</td>\n",
       "      <td>0.0</td>\n",
       "      <td>0.0</td>\n",
       "    </tr>\n",
       "    <tr>\n",
       "      <th>3</th>\n",
       "      <td>2016-01-04</td>\n",
       "      <td>2.0</td>\n",
       "      <td>-4.0</td>\n",
       "      <td>-10.0</td>\n",
       "      <td>-5.0</td>\n",
       "      <td>-13.0</td>\n",
       "      <td>-18.0</td>\n",
       "      <td>59.0</td>\n",
       "      <td>44.0</td>\n",
       "      <td>28.0</td>\n",
       "      <td>...</td>\n",
       "      <td>16.0</td>\n",
       "      <td>16.0</td>\n",
       "      <td>16.0</td>\n",
       "      <td>34.0</td>\n",
       "      <td>14.0</td>\n",
       "      <td>50.0</td>\n",
       "      <td>0.0</td>\n",
       "      <td>0.0</td>\n",
       "      <td>0.0</td>\n",
       "      <td>0.0</td>\n",
       "    </tr>\n",
       "    <tr>\n",
       "      <th>4</th>\n",
       "      <td>2016-01-05</td>\n",
       "      <td>-2.0</td>\n",
       "      <td>-7.0</td>\n",
       "      <td>-12.0</td>\n",
       "      <td>-17.0</td>\n",
       "      <td>-19.0</td>\n",
       "      <td>-21.0</td>\n",
       "      <td>58.0</td>\n",
       "      <td>41.0</td>\n",
       "      <td>24.0</td>\n",
       "      <td>...</td>\n",
       "      <td>16.0</td>\n",
       "      <td>16.0</td>\n",
       "      <td>16.0</td>\n",
       "      <td>32.0</td>\n",
       "      <td>8.0</td>\n",
       "      <td>48.0</td>\n",
       "      <td>0.0</td>\n",
       "      <td>0.0</td>\n",
       "      <td>0.0</td>\n",
       "      <td>0.0</td>\n",
       "    </tr>\n",
       "  </tbody>\n",
       "</table>\n",
       "<p>5 rows × 23 columns</p>\n",
       "</div>"
      ],
      "text/plain": [
       "    datetime  T_high  T_avg  T_low  D_high  D_avg  D_low  H_high  H_avg  \\\n",
       "0 2016-01-01     6.0    3.0    1.0    -3.0   -5.0   -9.0    59.0   52.0   \n",
       "1 2016-01-02     4.0    2.0    0.0    -7.0   -8.0   -9.0    52.0   46.0   \n",
       "2 2016-01-03     7.0    4.0    2.0    -5.0   -6.0   -7.0    56.0   47.0   \n",
       "3 2016-01-04     2.0   -4.0  -10.0    -5.0  -13.0  -18.0    59.0   44.0   \n",
       "4 2016-01-05    -2.0   -7.0  -12.0   -17.0  -19.0  -21.0    58.0   41.0   \n",
       "\n",
       "   H_low ...   V_high  V_avg  V_low  W_high  W_avg  W_high.1  Precip. (mm)  \\\n",
       "0   44.0 ...     16.0   16.0   16.0    27.0   12.0      42.0           0.0   \n",
       "1   40.0 ...     16.0   16.0   16.0    24.0   11.0      37.0           0.0   \n",
       "2   37.0 ...     16.0   16.0   16.0    27.0   13.0      42.0           0.0   \n",
       "3   28.0 ...     16.0   16.0   16.0    34.0   14.0      50.0           0.0   \n",
       "4   24.0 ...     16.0   16.0   16.0    32.0    8.0      48.0           0.0   \n",
       "\n",
       "   rain  snow  fog  \n",
       "0   0.0   0.0  0.0  \n",
       "1   0.0   0.0  0.0  \n",
       "2   0.0   0.0  0.0  \n",
       "3   0.0   0.0  0.0  \n",
       "4   0.0   0.0  0.0  \n",
       "\n",
       "[5 rows x 23 columns]"
      ]
     },
     "execution_count": 27,
     "metadata": {},
     "output_type": "execute_result"
    }
   ],
   "source": [
    "weather_1.head()"
   ]
  },
  {
   "cell_type": "code",
   "execution_count": 28,
   "metadata": {
    "collapsed": true
   },
   "outputs": [],
   "source": [
    "weather_1.to_csv(\"weather.csv\", index=False)"
   ]
  },
  {
   "cell_type": "markdown",
   "metadata": {},
   "source": [
    "#### 데이터 정리 최종 데이터 'weather'. csv 파일로도 백업함"
   ]
  }
 ],
 "metadata": {
  "kernelspec": {
   "display_name": "Python 3",
   "language": "python",
   "name": "python3"
  },
  "language_info": {
   "codemirror_mode": {
    "name": "ipython",
    "version": 3
   },
   "file_extension": ".py",
   "mimetype": "text/x-python",
   "name": "python",
   "nbconvert_exporter": "python",
   "pygments_lexer": "ipython3",
   "version": "3.6.1"
  }
 },
 "nbformat": 4,
 "nbformat_minor": 2
}
