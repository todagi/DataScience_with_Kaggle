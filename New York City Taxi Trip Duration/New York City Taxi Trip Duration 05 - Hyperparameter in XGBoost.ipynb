{
 "cells": [
  {
   "cell_type": "markdown",
   "metadata": {
    "collapsed": true
   },
   "source": [
    "# New York City Taxi Trip Duration 05 - HyperParameter in XGBoost"
   ]
  },
  {
   "cell_type": "markdown",
   "metadata": {
    "collapsed": true
   },
   "source": [
    "###   \n",
    "### 목표 : XGBoost 모델을 HyperParmeter 조정을 통해 가장 좋은 모델로 업그레이드 한다.\n",
    "###   \n",
    "###   "
   ]
  },
  {
   "cell_type": "markdown",
   "metadata": {},
   "source": [
    "### ● 그동안 놓쳤던 변수 'dropoff_longitude'과 'dropoff_latitude' 변수를 같이 활용한다.\n",
    "### ● Parameter 값 조정을 통해 최소 수준의 성능의 모델을 완성한다.  \n",
    "###   "
   ]
  },
  {
   "cell_type": "markdown",
   "metadata": {},
   "source": [
    "## 1.  데이터 전처리"
   ]
  },
  {
   "cell_type": "code",
   "execution_count": 9,
   "metadata": {},
   "outputs": [
    {
     "name": "stdout",
     "output_type": "stream",
     "text": [
      "시작\n",
      "완료!\n",
      "Running Time : 618.67초\n"
     ]
    }
   ],
   "source": [
    "import pandas as pd\n",
    "import numpy as np\n",
    "from math import sin, cos, sqrt, atan2, radians \n",
    "import time\n",
    "start = time.time()\n",
    "print(\"시작\")\n",
    "\n",
    "train = pd.read_csv(\"train.csv\", parse_dates = ['pickup_datetime', 'dropoff_datetime'])\n",
    "test = pd.read_csv(\"test.csv\", parse_dates = ['pickup_datetime'])\n",
    "weather = pd.read_csv(\"weather.csv\", parse_dates = ['datetime'])  # 데이터 전처리한 파일\n",
    "submission = pd.read_csv(\"sample_submission.csv\")\n",
    "\n",
    "# 날짜데이터 분할\n",
    "\n",
    "train['pickup_year'] = train['pickup_datetime'].dt.year  \n",
    "train['pickup_month'] = train['pickup_datetime'].dt.month\n",
    "train['pickup_day'] = train['pickup_datetime'].dt.day\n",
    "train['pickup_hour'] = train['pickup_datetime'].dt.hour\n",
    "train['pickup_minute'] = train['pickup_datetime'].dt.minute\n",
    "train['pickup_second'] = train['pickup_datetime'].dt.second\n",
    "train[\"pickup_dayofweek\"] = train[\"pickup_datetime\"].dt.dayofweek \n",
    "\n",
    "test['pickup_year'] = test['pickup_datetime'].dt.year  \n",
    "test['pickup_month'] = test['pickup_datetime'].dt.month\n",
    "test['pickup_day'] = test['pickup_datetime'].dt.day\n",
    "test['pickup_hour'] = test['pickup_datetime'].dt.hour\n",
    "test['pickup_minute'] = test['pickup_datetime'].dt.minute\n",
    "test['pickup_second'] = test['pickup_datetime'].dt.second\n",
    "test[\"pickup_dayofweek\"] = test[\"pickup_datetime\"].dt.dayofweek \n",
    "\n",
    "# 원핫인코딩\n",
    "\n",
    "train['store_and_fwd_flag_Y'] = train['store_and_fwd_flag'] == 'Y'\n",
    "train['store_and_fwd_flag_N'] = train['store_and_fwd_flag'] == 'N'\n",
    "\n",
    "test['store_and_fwd_flag_Y'] = test['store_and_fwd_flag'] == 'Y'\n",
    "test['store_and_fwd_flag_N'] = test['store_and_fwd_flag'] == 'N'\n",
    "\n",
    "\n",
    "train['vendor_1'] = train['vendor_id'] == 1\n",
    "train['vendor_2'] = train['vendor_id'] == 2\n",
    "\n",
    "test['vendor_1'] = test['vendor_id'] == 1\n",
    "test['vendor_2'] = test['vendor_id'] == 2\n",
    "\n",
    "\n",
    "train['passenger_0'] = train['passenger_count'] == 0\n",
    "train['passenger_1'] = train['passenger_count'] == 1\n",
    "train['passenger_2'] = train['passenger_count'] == 2\n",
    "train['passenger_3'] = train['passenger_count'] == 3\n",
    "train['passenger_4'] = train['passenger_count'] == 4\n",
    "train['passenger_5'] = train['passenger_count'] == 5\n",
    "train['passenger_6'] = train['passenger_count'] == 6\n",
    "train['passenger_7'] = train['passenger_count'] == 7\n",
    "train['passenger_8'] = train['passenger_count'] == 8\n",
    "train['passenger_9'] = train['passenger_count'] == 9\n",
    "\n",
    "test['passenger_0'] = test['passenger_count'] == 0\n",
    "test['passenger_1'] = test['passenger_count'] == 1\n",
    "test['passenger_2'] = test['passenger_count'] == 2\n",
    "test['passenger_3'] = test['passenger_count'] == 3\n",
    "test['passenger_4'] = test['passenger_count'] == 4\n",
    "test['passenger_5'] = test['passenger_count'] == 5\n",
    "test['passenger_6'] = test['passenger_count'] == 6\n",
    "test['passenger_7'] = test['passenger_count'] == 7\n",
    "test['passenger_8'] = test['passenger_count'] == 8\n",
    "test['passenger_9'] = test['passenger_count'] == 9\n",
    "\n",
    "# 요일 원핫인코딩 추가\n",
    "\n",
    "train[\"mon\"] = train[\"pickup_dayofweek\"] == 0\n",
    "train[\"tue\"] = train[\"pickup_dayofweek\"] == 1\n",
    "train[\"wed\"] = train[\"pickup_dayofweek\"] == 2\n",
    "train[\"thu\"] = train[\"pickup_dayofweek\"] == 3\n",
    "train[\"fri\"] = train[\"pickup_dayofweek\"] == 4\n",
    "train[\"sat\"] = train[\"pickup_dayofweek\"] == 5\n",
    "train[\"sun\"] = train[\"pickup_dayofweek\"] == 6\n",
    "\n",
    "test[\"mon\"] = test[\"pickup_dayofweek\"] == 0\n",
    "test[\"tue\"] = test[\"pickup_dayofweek\"] == 1\n",
    "test[\"wed\"] = test[\"pickup_dayofweek\"] == 2\n",
    "test[\"thu\"] = test[\"pickup_dayofweek\"] == 3\n",
    "test[\"fri\"] = test[\"pickup_dayofweek\"] == 4\n",
    "test[\"sat\"] = test[\"pickup_dayofweek\"] == 5\n",
    "test[\"sun\"] = test[\"pickup_dayofweek\"] == 6\n",
    "\n",
    "# 이동거리 추가(하버사인 + 맨하탄)\n",
    "\n",
    "def haversine(train):\n",
    "    lon1 = train['pickup_longitude']\n",
    "    lat1 = train['pickup_latitude']\n",
    "    lon2 = train['dropoff_longitude']\n",
    "    lat2 = train['dropoff_latitude']\n",
    "    lon1, lat1, lon2, lat2 = map(radians, [lon1, lat1, lon2, lat2])\n",
    "    dlon = lon2 - lon1 \n",
    "    dlat = lat2 - lat1 \n",
    "    a = sin(dlat/2)**2 + cos(lat1) * cos(lat2) * sin(dlon/2)**2\n",
    "    c = 2 * np.arcsin(sqrt(a)) \n",
    "    haversine_km = 6367 * c\n",
    "    return haversine_km\n",
    "\n",
    "def haversine(test):\n",
    "    lon1 = test['pickup_longitude']\n",
    "    lat1 = test['pickup_latitude']\n",
    "    lon2 = test['dropoff_longitude']\n",
    "    lat2 = test['dropoff_latitude']\n",
    "    lon1, lat1, lon2, lat2 = map(radians, [lon1, lat1, lon2, lat2])\n",
    "    dlon = lon2 - lon1 \n",
    "    dlat = lat2 - lat1 \n",
    "    a = sin(dlat/2)**2 + cos(lat1) * cos(lat2) * sin(dlon/2)**2\n",
    "    c = 2 * np.arcsin(sqrt(a)) \n",
    "    haversine_km = 6367 * c\n",
    "    return haversine_km\n",
    "\n",
    "def manhattan_distance(train):\n",
    "    lon1 = train['pickup_longitude']\n",
    "    lat1 = train['pickup_latitude']\n",
    "    lon2 = train['dropoff_longitude']\n",
    "    lat2 = train['dropoff_latitude']\n",
    "    manhattan_km = (abs(lon1 - lon2)*111) + (abs(lat1 - lat2)*85.397)\n",
    "    return manhattan_km\n",
    "\n",
    "def manhattan_distance(test):\n",
    "    lon1 = test['pickup_longitude']\n",
    "    lat1 = test['pickup_latitude']\n",
    "    lon2 = test['dropoff_longitude']\n",
    "    lat2 = test['dropoff_latitude']\n",
    "    km = (abs(lon1 - lon2)*111) + (abs(lat1 - lat2)*85.397)\n",
    "    return km\n",
    "\n",
    "train['haversine_distance'] = train.apply(lambda train: haversine(train), axis=1)\n",
    "test['haversine_distance'] = test.apply(lambda test: haversine(test), axis=1)\n",
    "train['manhattan_distance'] = train.apply(lambda train: manhattan_distance(train), axis=1)\n",
    "test['manhattan_distance'] = test.apply(lambda test: manhattan_distance(test), axis=1)\n",
    "\n",
    "\n",
    "# 날씨데이터 추가\n",
    "\n",
    "weather['year'] = weather['datetime'].dt.year  \n",
    "weather['month'] = weather['datetime'].dt.month\n",
    "weather['day'] = weather['datetime'].dt.day\n",
    "\n",
    "weather = weather.rename(columns = {'year' : 'pickup_year', 'month' : 'pickup_month', 'day' : 'pickup_day'})\n",
    "\n",
    "train = pd.merge(train, weather)\n",
    "test = pd.merge(test, weather)\n",
    "\n",
    "\n",
    "print(\"완료!\")\n",
    "print('Running Time : %.02f초' % (time.time() - start))\n"
   ]
  },
  {
   "cell_type": "markdown",
   "metadata": {},
   "source": [
    "####  \n",
    "####   "
   ]
  },
  {
   "cell_type": "markdown",
   "metadata": {},
   "source": [
    "## 2. 변수 선택 및 데이터 조정"
   ]
  },
  {
   "cell_type": "markdown",
   "metadata": {},
   "source": [
    "### 1) 변수 선택"
   ]
  },
  {
   "cell_type": "markdown",
   "metadata": {},
   "source": [
    "#### 지난 번 모델에서 빠졌던 변수 'dropoff_longitude', 'dropoff_latitude'와 '요일 별 원핫인코딩'이 추가했다."
   ]
  },
  {
   "cell_type": "markdown",
   "metadata": {},
   "source": [
    "#### 사용할 전체 변수"
   ]
  },
  {
   "cell_type": "code",
   "execution_count": null,
   "metadata": {
    "collapsed": true
   },
   "outputs": [],
   "source": [
    "feature_names = [  'pickup_longitude', 'pickup_latitude',\n",
    "                   'dropoff_longitude', 'dropoff_latitude',\n",
    "                 \n",
    "                   'pickup_year', 'pickup_month', 'pickup_day',\n",
    "                   'pickup_hour', 'pickup_minute', 'pickup_second', \n",
    "                 \n",
    "                   'pickup_dayofweek', 'mon', 'tue', 'wed', 'thu', 'fri', 'sat', 'sun',\n",
    "                 \n",
    "                   'store_and_fwd_flag_Y', 'store_and_fwd_flag_N', \n",
    "                   \n",
    "                   'vendor_id', 'vendor_1', 'vendor_2',\n",
    "                  \n",
    "                   'passenger_count', 'passenger_0', 'passenger_1', 'passenger_2', \n",
    "                   'passenger_3', 'passenger_4', 'passenger_5', 'passenger_6', \n",
    "                   'passenger_7', 'passenger_8', 'passenger_9', \n",
    "                    \n",
    "                \n",
    "                   'haversine_distance', 'manhattan_distance', \n",
    "                 \n",
    "                   'T_high', 'T_avg', 'T_low', 'D_high', 'D_avg', 'D_low', \n",
    "                   'H_high', 'H_avg', 'H_low', 'S_high', 'S_avg', 'S_low', \n",
    "                   'V_high', 'V_avg', 'V_low', 'W_high', 'W_avg', 'W_high.1',\n",
    "                   'Precip. (mm)', 'rain', 'snow', 'fog']"
   ]
  },
  {
   "cell_type": "code",
   "execution_count": null,
   "metadata": {
    "collapsed": true
   },
   "outputs": [],
   "source": [
    "basic_features = ['pickup_longitude', 'pickup_latitude',\n",
    "                  'dropoff_longitude', 'dropoff_latitude',\n",
    "                  'pickup_year', 'pickup_month', 'pickup_day',\n",
    "                  'pickup_hour', 'pickup_minute', 'pickup_second', 'pickup_dayofweek',\n",
    "                  'mon', 'tue', 'wed', 'thu', 'fri', 'sat', 'sun',\n",
    "                  'store_and_fwd_flag_Y', 'store_and_fwd_flag_N', \n",
    "                  'vendor_id', 'vendor_1', 'vendor_2',\n",
    "                  'passenger_count', 'passenger_0', 'passenger_1', 'passenger_2', \n",
    "                  'passenger_3', 'passenger_4', 'passenger_5', 'passenger_6', \n",
    "                  'passenger_7', 'passenger_8', 'passenger_9', \n",
    "                  'haversine_distance', 'manhattan_distance', \n",
    "                  'T_high', 'T_avg', 'T_low', 'D_high', 'D_avg', 'D_low', \n",
    "                  'H_high', 'H_avg', 'H_low', 'S_high', 'S_avg', 'S_low', \n",
    "                  'V_high', 'V_avg', 'V_low', 'W_high', 'W_avg', 'W_high.1',\n",
    "                  'Precip. (mm)', 'rain', 'snow', 'fog']\n",
    "\n",
    "features_2  :  원핫인코딩 이외 제거(vendor_id 와 passenger_count,  pickup_dayofweek)\n",
    "features_2 =     ['pickup_longitude', 'pickup_latitude',\n",
    "                  'dropoff_longitude', 'dropoff_latitude',\n",
    "                  'pickup_year', 'pickup_month', 'pickup_day',\n",
    "                  'pickup_hour', 'pickup_minute', 'pickup_second',\n",
    "                  'mon', 'tue', 'wed', 'thu', 'fri', 'sat', 'sun',\n",
    "                  'store_and_fwd_flag_Y', 'store_and_fwd_flag_N', \n",
    "                  'vendor_1', 'vendor_2',\n",
    "                  'passenger_0', 'passenger_1', 'passenger_2', \n",
    "                  'passenger_3', 'passenger_4', 'passenger_5', 'passenger_6', \n",
    "                  'passenger_7', 'passenger_8', 'passenger_9', \n",
    "                  'haversine_distance', 'manhattan_distance', \n",
    "                  'T_high', 'T_avg', 'T_low', 'D_high', 'D_avg', 'D_low', \n",
    "                  'H_high', 'H_avg', 'H_low', 'S_high', 'S_avg', 'S_low', \n",
    "                  'V_high', 'V_avg', 'V_low', 'W_high', 'W_avg', 'W_high.1',\n",
    "                  'Precip. (mm)', 'rain', 'snow', 'fog']\n",
    "\n",
    "\n",
    "features_3  : 원핫인코딩 제거\n",
    "features_3 = ['pickup_longitude', 'pickup_latitude',\n",
    "              'dropoff_longitude', 'dropoff_latitude',\n",
    "              'pickup_year', 'pickup_month', 'pickup_day',\n",
    "              'pickup_hour', 'pickup_minute', 'pickup_second', 'pickup_dayofweek',\n",
    "              'store_and_fwd_flag_Y', 'store_and_fwd_flag_N', \n",
    "              'vendor_id', 'passenger_count', \n",
    "              'haversine_distance', 'manhattan_distance', \n",
    "              'T_high', 'T_avg', 'T_low', 'D_high', 'D_avg', 'D_low', \n",
    "              'H_high', 'H_avg', 'H_low', 'S_high', 'S_avg', 'S_low', \n",
    "              'V_high', 'V_avg', 'V_low', 'W_high', 'W_avg', 'W_high.1',\n",
    "              'Precip. (mm)', 'rain', 'snow', 'fog']\n",
    "\n",
    "features_4  : 초 제거\n",
    "features_4 = ['pickup_longitude', 'pickup_latitude',\n",
    "                  'dropoff_longitude', 'dropoff_latitude',\n",
    "                  'pickup_year', 'pickup_month', 'pickup_day',\n",
    "                  'pickup_hour', 'pickup_minute', 'pickup_dayofweek',\n",
    "                  'mon', 'tue', 'wed', 'thu', 'fri', 'sat', 'sun',\n",
    "                  'store_and_fwd_flag_Y', 'store_and_fwd_flag_N', \n",
    "                  'vendor_id', 'vendor_1', 'vendor_2',\n",
    "                  'passenger_count', 'passenger_0', 'passenger_1', 'passenger_2', \n",
    "                  'passenger_3', 'passenger_4', 'passenger_5', 'passenger_6', \n",
    "                  'passenger_7', 'passenger_8', 'passenger_9', \n",
    "                  'haversine_distance', 'manhattan_distance', \n",
    "                  'T_high', 'T_avg', 'T_low', 'D_high', 'D_avg', 'D_low', \n",
    "                  'H_high', 'H_avg', 'H_low', 'S_high', 'S_avg', 'S_low', \n",
    "                  'V_high', 'V_avg', 'V_low', 'W_high', 'W_avg', 'W_high.1',\n",
    "                  'Precip. (mm)', 'rain', 'snow', 'fog']\n",
    "\n",
    "\n",
    "features_5  : 요일 제거 \n",
    "features_5 = ['pickup_longitude', 'pickup_latitude',\n",
    "                  'dropoff_longitude', 'dropoff_latitude',\n",
    "                  'pickup_year', 'pickup_month', 'pickup_day',\n",
    "                  'pickup_hour', 'pickup_minute', 'pickup_second', 'pickup_dayofweek',\n",
    "                  'store_and_fwd_flag_Y', 'store_and_fwd_flag_N', \n",
    "                  'vendor_id', 'vendor_1', 'vendor_2',\n",
    "                  'passenger_count', 'passenger_0', 'passenger_1', 'passenger_2', \n",
    "                  'passenger_3', 'passenger_4', 'passenger_5', 'passenger_6', \n",
    "                  'passenger_7', 'passenger_8', 'passenger_9', \n",
    "                  'haversine_distance', 'manhattan_distance', \n",
    "                  'T_high', 'T_avg', 'T_low', 'D_high', 'D_avg', 'D_low', \n",
    "                  'H_high', 'H_avg', 'H_low', 'S_high', 'S_avg', 'S_low', \n",
    "                  'V_high', 'V_avg', 'V_low', 'W_high', 'W_avg', 'W_high.1',\n",
    "                  'Precip. (mm)', 'rain', 'snow', 'fog']\n",
    "\n",
    "features_6  : 요일 제거 + 초제거 \n",
    "features_6 = ['pickup_longitude', 'pickup_latitude',\n",
    "                  'dropoff_longitude', 'dropoff_latitude',\n",
    "                  'pickup_year', 'pickup_month', 'pickup_day',\n",
    "                  'pickup_hour', 'pickup_minute', 'pickup_dayofweek',\n",
    "                  'store_and_fwd_flag_Y', 'store_and_fwd_flag_N', \n",
    "                  'vendor_id', 'vendor_1', 'vendor_2',\n",
    "                  'passenger_count', 'passenger_0', 'passenger_1', 'passenger_2', \n",
    "                  'passenger_3', 'passenger_4', 'passenger_5', 'passenger_6', \n",
    "                  'passenger_7', 'passenger_8', 'passenger_9', \n",
    "                  'haversine_distance', 'manhattan_distance', \n",
    "                  'T_high', 'T_avg', 'T_low', 'D_high', 'D_avg', 'D_low', \n",
    "                  'H_high', 'H_avg', 'H_low', 'S_high', 'S_avg', 'S_low', \n",
    "                  'V_high', 'V_avg', 'V_low', 'W_high', 'W_avg', 'W_high.1',\n",
    "                  'Precip. (mm)', 'rain', 'snow', 'fog']"
   ]
  },
  {
   "cell_type": "code",
   "execution_count": 28,
   "metadata": {
    "collapsed": true
   },
   "outputs": [],
   "source": [
    "feature_names = features_4 = ['pickup_longitude', 'pickup_latitude',\n",
    "                  'dropoff_longitude', 'dropoff_latitude',\n",
    "                  'pickup_year', 'pickup_month', 'pickup_day',\n",
    "                  'pickup_hour', 'pickup_minute', 'pickup_dayofweek',\n",
    "                  'mon', 'tue', 'wed', 'thu', 'fri', 'sat', 'sun',\n",
    "                  'store_and_fwd_flag_Y', 'store_and_fwd_flag_N', \n",
    "                  'vendor_id', 'vendor_1', 'vendor_2',\n",
    "                  'passenger_count', 'passenger_0', 'passenger_1', 'passenger_2', \n",
    "                  'passenger_3', 'passenger_4', 'passenger_5', 'passenger_6', \n",
    "                  'passenger_7', 'passenger_8', 'passenger_9', \n",
    "                  'haversine_distance', 'manhattan_distance', \n",
    "                  'T_high', 'T_avg', 'T_low', 'D_high', 'D_avg', 'D_low', \n",
    "                  'H_high', 'H_avg', 'H_low', 'S_high', 'S_avg', 'S_low', \n",
    "                  'V_high', 'V_avg', 'V_low', 'W_high', 'W_avg', 'W_high.1',\n",
    "                  'Precip. (mm)', 'rain', 'snow', 'fog']"
   ]
  },
  {
   "cell_type": "markdown",
   "metadata": {},
   "source": [
    "### 2) 데이터 조정"
   ]
  },
  {
   "cell_type": "code",
   "execution_count": 29,
   "metadata": {
    "collapsed": true
   },
   "outputs": [],
   "source": [
    "x_train = train[feature_names]\n",
    "x_test = test[feature_names]\n",
    "label_name = \"trip_duration\"\n",
    "y_train = train[label_name]\n",
    "y_train = np.log1p(y_train)"
   ]
  },
  {
   "cell_type": "code",
   "execution_count": 30,
   "metadata": {},
   "outputs": [
    {
     "name": "stdout",
     "output_type": "stream",
     "text": [
      "(1458644, 57)\n",
      "(625134, 57)\n",
      "(1458644,)\n"
     ]
    }
   ],
   "source": [
    "print(x_train.shape)\n",
    "print(x_test.shape)\n",
    "print(y_train.shape)"
   ]
  },
  {
   "cell_type": "markdown",
   "metadata": {},
   "source": [
    "####   \n",
    "####  "
   ]
  },
  {
   "cell_type": "markdown",
   "metadata": {},
   "source": [
    "## 3. XGBoost Regressor"
   ]
  },
  {
   "cell_type": "markdown",
   "metadata": {},
   "source": [
    "#### 학습 및 예측"
   ]
  },
  {
   "cell_type": "code",
   "execution_count": 31,
   "metadata": {
    "scrolled": true
   },
   "outputs": [
    {
     "name": "stdout",
     "output_type": "stream",
     "text": [
      "시작\n",
      "완료\n",
      "학습 및 예측시간 : 5102.02초\n"
     ]
    },
    {
     "data": {
      "text/plain": [
       "array([ 848.9599 ,  597.46765,  420.14587,  956.4998 ,  347.9488 ,\n",
       "        930.9195 , 1225.124  ,  866.6667 , 2754.348  ,  525.80725],\n",
       "      dtype=float32)"
      ]
     },
     "execution_count": 31,
     "metadata": {},
     "output_type": "execute_result"
    }
   ],
   "source": [
    "start = time.time()\n",
    "print(\"시작\")\n",
    "import xgboost as xgb\n",
    "\n",
    "XGB_model = xgb.XGBRegressor(max_depth = 12, n_estimators = 2000, min_child_weight = 8, \n",
    "                             gamma = 0.4, colsample_bytree = 0.6, seed = 25, \n",
    "                             learning_rate = 0.02, subsample = 0.8, \n",
    "                             nthread = 5).fit(x_train, y_train)\n",
    "\n",
    "predictions = XGB_model.predict(x_test)\n",
    "predictions = np.expm1(predictions)\n",
    "print(\"완료\")\n",
    "print('학습 및 예측시간 : %.02f초' % (time.time() - start))\n",
    "predictions[0:10]"
   ]
  },
  {
   "cell_type": "code",
   "execution_count": null,
   "metadata": {
    "collapsed": true
   },
   "outputs": [],
   "source": [
    "f4 서브샘플 0.8"
   ]
  },
  {
   "cell_type": "markdown",
   "metadata": {},
   "source": [
    "#### 결과 제출"
   ]
  },
  {
   "cell_type": "code",
   "execution_count": 32,
   "metadata": {},
   "outputs": [],
   "source": [
    "submission['trip_duration'] = predictions\n",
    "submission.to_csv('XGB102.csv', index = False)"
   ]
  },
  {
   "cell_type": "markdown",
   "metadata": {},
   "source": [
    "####  \n",
    "####  "
   ]
  },
  {
   "cell_type": "markdown",
   "metadata": {},
   "source": [
    "## 4. 결과보고서 "
   ]
  },
  {
   "cell_type": "markdown",
   "metadata": {},
   "source": [
    "#### 지난 'New York City Taxi Trip Duration 04 - 2nd Machine Learning'에선 가장 좋은 결과는 '0.42278'이었다.\n",
    "#### 'dropoff_longitude', 'dropoff_latitude', '요일 원핫 인코딩'을 제외한 basic_features 변수들을 취하고,\n",
    "#### max_depth = 12, n_estimators = 2000, min_child_weight = 8, gamma = 0.4, colsample_bytree = 0.6, seed = 25, learning_rate = 0.02, subsample = 0.9 의 hyperparameter 값을 가진다.\n",
    "#### nthread의 경우 cpu 사용 갯수를 지정하는 조건이니 제외하고 나머지 hyperparameter 값을 좀 더 조장한다."
   ]
  },
  {
   "cell_type": "code",
   "execution_count": null,
   "metadata": {
    "collapsed": true
   },
   "outputs": [],
   "source": [
    "basic_features\n",
    "\n",
    "max_depth = 12, n_estimators = 2000, min_child_weight = 8, gamma = 0.4, \n",
    "colsample_bytree = 0.6, seed = 25, learning_rate = 0.02, subsample = 0.9    : 0.38801\n",
    "    \n",
    "# subsample 만 조정\n",
    "subsample = 0.8 : 0.38840"
   ]
  },
  {
   "cell_type": "code",
   "execution_count": null,
   "metadata": {
    "collapsed": true
   },
   "outputs": [],
   "source": [
    "features_2\n",
    "\n",
    "max_depth = 12, n_estimators = 2000, min_child_weight = 8, gamma = 0.4, \n",
    "colsample_bytree = 0.6, seed = 25, learning_rate = 0.02, subsample = 0.9    : 0.38825\n",
    "\n",
    "# subsample 만 조정\n",
    "subsample = 0.8    : 0.38881"
   ]
  },
  {
   "cell_type": "code",
   "execution_count": null,
   "metadata": {
    "collapsed": true
   },
   "outputs": [],
   "source": [
    "features_3\n",
    "\n",
    "max_depth = 12, n_estimators = 2000, min_child_weight = 8, gamma = 0.4, \n",
    "colsample_bytree = 0.6, seed = 25, learning_rate = 0.02, subsample = 0.9    : 0.38852"
   ]
  },
  {
   "cell_type": "code",
   "execution_count": null,
   "metadata": {
    "collapsed": true
   },
   "outputs": [],
   "source": [
    "features_4\n",
    "\n",
    "max_depth = 12, n_estimators = 2000, min_child_weight = 8, gamma = 0.4, \n",
    "colsample_bytree = 0.6, seed = 25, learning_rate = 0.02, subsample = 0.9    : 0.38773\n",
    "    \n",
    "# subsample 만 조정\n",
    "\n",
    "subsample = 0.8    : 0.38814"
   ]
  },
  {
   "cell_type": "code",
   "execution_count": null,
   "metadata": {
    "collapsed": true
   },
   "outputs": [],
   "source": [
    "features_5\n",
    "\n",
    "max_depth = 12, n_estimators = 2000, min_child_weight = 8, gamma = 0.4, \n",
    "colsample_bytree = 0.6, seed = 25, learning_rate = 0.02, subsample = 0.9    : 0.38822"
   ]
  },
  {
   "cell_type": "code",
   "execution_count": null,
   "metadata": {
    "collapsed": true
   },
   "outputs": [],
   "source": [
    "features_6\n",
    "\n",
    "max_depth = 12, n_estimators = 2000, min_child_weight = 8, gamma = 0.4, \n",
    "colsample_bytree = 0.6, seed = 25, learning_rate = 0.02, subsample = 0.9    : 0.38779"
   ]
  },
  {
   "cell_type": "code",
   "execution_count": null,
   "metadata": {
    "collapsed": true
   },
   "outputs": [],
   "source": []
  },
  {
   "cell_type": "code",
   "execution_count": null,
   "metadata": {
    "collapsed": true
   },
   "outputs": [],
   "source": [
    "basic_features\n",
    "\n",
    "max_depth = 12, n_estimators = 2000, min_child_weight = 8, gamma = 0.4,\n",
    "colsample_bytree = 0.6, seed = 25, learning_rate = 0.02, subsample = 0.9  : 0.42594\n",
    "    \n",
    "# n_estimators  : 2000        \n",
    "# learning_rate : 0.02\n",
    "\n",
    "\n",
    "    \n",
    "# subsample 만 조정\n",
    "  \n",
    "subsample = 0.5 : \n",
    "\n",
    "    \n",
    "# colsample_bytree 만 조정\n",
    "\n",
    "colsample_bytree = 0.7 : \n",
    "\n",
    "\n",
    "# gamma 만 조정\n",
    "\n",
    "gamma = 0.3 : \n",
    "    \n",
    "# min_child_weight 만 조정\n",
    "\n",
    "min_child_weight = 9 : 0.72810\n",
    "    \n",
    "# seed만 조정  \n",
    "\n",
    "seed = 30 : 0.72804\n",
    "    \n"
   ]
  }
 ],
 "metadata": {
  "kernelspec": {
   "display_name": "Python 3",
   "language": "python",
   "name": "python3"
  },
  "language_info": {
   "codemirror_mode": {
    "name": "ipython",
    "version": 3
   },
   "file_extension": ".py",
   "mimetype": "text/x-python",
   "name": "python",
   "nbconvert_exporter": "python",
   "pygments_lexer": "ipython3",
   "version": "3.6.1"
  }
 },
 "nbformat": 4,
 "nbformat_minor": 2
}
