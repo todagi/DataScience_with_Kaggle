{
 "cells": [
  {
   "cell_type": "markdown",
   "metadata": {},
   "source": [
    "# Bike Sharing Demand 02 - TensorFlow deeper"
   ]
  },
  {
   "cell_type": "markdown",
   "metadata": {
    "collapsed": true
   },
   "source": [
    "###   \n",
    "### 목표 : 텐서플로를 활용하여 은닉층, 손실함수, 활성화 함수 등의 조건을 달리해 보아 예측 모델을 개발한다. \n",
    "###   \n",
    "###   "
   ]
  },
  {
   "cell_type": "markdown",
   "metadata": {},
   "source": [
    "## 1. 데이터 전처리 "
   ]
  },
  {
   "cell_type": "code",
   "execution_count": 1,
   "metadata": {
    "collapsed": true
   },
   "outputs": [],
   "source": [
    "import pandas as pd\n",
    "import numpy as np\n",
    "\n",
    "train = pd.read_csv(\"./bike/train.csv\", parse_dates=['datetime'])\n",
    "test = pd.read_csv(\"./bike/test.csv\", parse_dates=['datetime'])\n",
    "\n",
    "train['year'] = train['datetime'].dt.year  \n",
    "train['month'] = train['datetime'].dt.month\n",
    "train['day'] = train['datetime'].dt.day\n",
    "train['hour'] = train['datetime'].dt.hour\n",
    "train['minute'] = train['datetime'].dt.minute\n",
    "train['second'] = train['datetime'].dt.second\n",
    "train[\"dayofweek\"] = train[\"datetime\"].dt.dayofweek \n",
    "\n",
    "test['year'] = test['datetime'].dt.year  \n",
    "test['month'] = test['datetime'].dt.month\n",
    "test['day'] = test['datetime'].dt.day\n",
    "test['hour'] = test['datetime'].dt.hour\n",
    "test['minute'] = test['datetime'].dt.minute\n",
    "test['second'] = test['datetime'].dt.second\n",
    "test[\"dayofweek\"] = train[\"datetime\"].dt.dayofweek \n",
    "\n",
    "train[\"season_1\"] = train[\"season\"] == 1\n",
    "train[\"season_2\"] = train[\"season\"] == 2\n",
    "train[\"season_3\"] = train[\"season\"] == 3\n",
    "train[\"season_4\"] = train[\"season\"] == 4\n",
    "\n",
    "test[\"season_1\"] = test[\"season\"] == 1\n",
    "test[\"season_2\"] = test[\"season\"] == 2\n",
    "test[\"season_3\"] = test[\"season\"] == 3\n",
    "test[\"season_4\"] = test[\"season\"] == 4\n",
    "\n",
    "train[\"weather_1\"] = train[\"weather\"] == 1\n",
    "train[\"weather_2\"] = train[\"weather\"] == 2\n",
    "train[\"weather_3\"] = train[\"weather\"] == 3\n",
    "train[\"weather_4\"] = train[\"weather\"] == 4\n",
    "\n",
    "test[\"weather_1\"] = test[\"weather\"] == 1\n",
    "test[\"weather_2\"] = test[\"weather\"] == 2\n",
    "test[\"weather_3\"] = test[\"weather\"] == 3\n",
    "test[\"weather_4\"] = test[\"weather\"] == 4\n",
    "\n",
    "train[\"mon\"] = train[\"dayofweek\"] == 0\n",
    "train[\"tue\"] = train[\"dayofweek\"] == 1\n",
    "train[\"wed\"] = train[\"dayofweek\"] == 2\n",
    "train[\"thu\"] = train[\"dayofweek\"] == 3\n",
    "train[\"fri\"] = train[\"dayofweek\"] == 4\n",
    "train[\"sat\"] = train[\"dayofweek\"] == 5\n",
    "train[\"sun\"] = train[\"dayofweek\"] == 6\n",
    "\n",
    "test[\"mon\"] = test[\"dayofweek\"] == 0\n",
    "test[\"tue\"] = test[\"dayofweek\"] == 1\n",
    "test[\"wed\"] = test[\"dayofweek\"] == 2\n",
    "test[\"thu\"] = test[\"dayofweek\"] == 3\n",
    "test[\"fri\"] = test[\"dayofweek\"] == 4\n",
    "test[\"sat\"] = test[\"dayofweek\"] == 5\n",
    "test[\"sun\"] = test[\"dayofweek\"] == 6\n",
    "\n",
    "train[\"12 am\"] = train[\"hour\"] == 0 \n",
    "test[\"12 am\"] = test[\"hour\"] == 0 \n",
    "\n",
    "train[\"1 am\"] = train[\"hour\"] == 1\n",
    "test[\"1 am\"] = test[\"hour\"] == 1 \n",
    "\n",
    "train[\"2 am\"] = train[\"hour\"] == 2 \n",
    "test[\"2 am\"] = test[\"hour\"] == 2 \n",
    "\n",
    "train[\"3 am\"] = train[\"hour\"] == 3 \n",
    "test[\"3 am\"] = test[\"hour\"] == 3 \n",
    "\n",
    "train[\"4 am\"] = train[\"hour\"] == 4 \n",
    "test[\"4 am\"] = test[\"hour\"] == 4 \n",
    "\n",
    "train[\"5 am\"] = train[\"hour\"] == 5 \n",
    "test[\"5 am\"] = test[\"hour\"] == 5 \n",
    "\n",
    "train[\"6 am\"] = train[\"hour\"] == 6 \n",
    "test[\"6 am\"] = test[\"hour\"] == 6 \n",
    "\n",
    "train[\"7 am\"] = train[\"hour\"] == 7 \n",
    "test[\"7 am\"] = test[\"hour\"] == 7 \n",
    "\n",
    "train[\"8 am\"] = train[\"hour\"] == 8 \n",
    "test[\"8 am\"] = test[\"hour\"] == 8\n",
    "\n",
    "train[\"9 am\"] = train[\"hour\"] == 9 \n",
    "test[\"9 am\"] = test[\"hour\"] == 9 \n",
    "\n",
    "train[\"10 am\"] = train[\"hour\"] == 10 \n",
    "test[\"10 am\"] = test[\"hour\"] == 10 \n",
    "\n",
    "train[\"11 am\"] = train[\"hour\"] == 11 \n",
    "test[\"11 am\"] = test[\"hour\"] == 11 \n",
    "\n",
    "train[\"12 pm\"] = train[\"hour\"] == 12 \n",
    "test[\"12 pm\"] = test[\"hour\"] == 12\n",
    "\n",
    "train[\"1 pm\"] = train[\"hour\"] == 13 \n",
    "test[\"1 pm\"] = test[\"hour\"] == 13 \n",
    "\n",
    "train[\"2 pm\"] = train[\"hour\"] == 14 \n",
    "test[\"2 pm\"] = test[\"hour\"] == 14 \n",
    "\n",
    "train[\"3 pm\"] = train[\"hour\"] == 15 \n",
    "test[\"3 pm\"] = test[\"hour\"] == 15\n",
    "\n",
    "train[\"4 pm\"] = train[\"hour\"] == 16 \n",
    "test[\"4 pm\"] = test[\"hour\"] == 16\n",
    "\n",
    "train[\"5 pm\"] = train[\"hour\"] == 17 \n",
    "test[\"5 pm\"] = test[\"hour\"] == 17\n",
    "\n",
    "train[\"6 pm\"] = train[\"hour\"] == 18\n",
    "test[\"6 pm\"] = test[\"hour\"] == 18\n",
    "\n",
    "train[\"7 pm\"] = train[\"hour\"] == 19 \n",
    "test[\"7 pm\"] = test[\"hour\"] == 19\n",
    "\n",
    "train[\"8 pm\"] = train[\"hour\"] == 20\n",
    "test[\"8 pm\"] = test[\"hour\"] == 20\n",
    "\n",
    "train[\"9 pm\"] = train[\"hour\"] == 21\n",
    "test[\"9 pm\"] = test[\"hour\"] == 21\n",
    "\n",
    "train[\"10 pm\"] = train[\"hour\"] == 22\n",
    "test[\"10 pm\"] = test[\"hour\"] == 22\n",
    "\n",
    "train[\"11 pm\"] = train[\"hour\"] == 23\n",
    "test[\"11 pm\"] = test[\"hour\"] == 23\n",
    "\n",
    "\n",
    "feature_names = ['holiday', 'workingday', 'temp', 'atemp', 'humidity', 'windspeed',\n",
    "                 'year', 'month', 'day', 'hour', 'minute', 'second',\n",
    "                 'season_1', 'season_2', 'season_3', 'season_4',\n",
    "                 'weather_1', 'weather_2', 'weather_3', 'weather_4',\n",
    "                 'mon', 'tue', 'wed', 'thu', 'fri', 'sat', 'sun',\n",
    "                 '12 am', '1 am', '2 am', '3 am', '4 am', '5 am', '6 am', '7 am', '8 am', '9 am', '10 am', '11 am', \n",
    "                 '12 pm', '1 pm', '2 pm', '3 pm', '4 pm', '5 pm', '6 pm', '7 pm', '8 pm', '9 pm', '10 pm', '11 pm',\n",
    "                 ]\n",
    "\n",
    "x_train = train[feature_names]\n",
    "y_train = train['count']\n",
    "x_test = test[feature_names]\n",
    "\n",
    "\n",
    "y_train = np.log1p(y_train) # np.log(y_train + 1)\n",
    "\n",
    "x_train_1 = np.array(x_train, dtype=np.float32)\n",
    "y_train_1 = np.array(y_train, dtype=np.float32)\n",
    "x_test_1 = np.array(x_test, dtype=np.float32)\n",
    "\n",
    "x_train_1 = x_train_1.reshape(10886, 51)\n",
    "y_train_1 = y_train_1.reshape(10886, 1)\n",
    "x_test_1 = x_test_1.reshape(6493, 51)"
   ]
  },
  {
   "cell_type": "markdown",
   "metadata": {},
   "source": [
    "#### 데이터를 텐서플로에서 사용할 수 있게 변환함."
   ]
  },
  {
   "cell_type": "markdown",
   "metadata": {},
   "source": [
    "####   \n",
    "####   "
   ]
  },
  {
   "cell_type": "markdown",
   "metadata": {},
   "source": [
    "## 2. TensorFlow 신경망 모델 구성"
   ]
  },
  {
   "cell_type": "markdown",
   "metadata": {},
   "source": [
    "### 텐서플로우 실행"
   ]
  },
  {
   "cell_type": "code",
   "execution_count": 3,
   "metadata": {},
   "outputs": [
    {
     "name": "stdout",
     "output_type": "stream",
     "text": [
      "Tensor(\"Const_1:0\", shape=(), dtype=string)\n"
     ]
    }
   ],
   "source": [
    "import tensorflow as tf\n",
    "\n",
    "hello = tf.constant('hello, tensorflow!')\n",
    "print(hello)"
   ]
  },
  {
   "cell_type": "markdown",
   "metadata": {},
   "source": [
    "### 1) 입출력 정의"
   ]
  },
  {
   "cell_type": "code",
   "execution_count": 4,
   "metadata": {
    "collapsed": true
   },
   "outputs": [],
   "source": [
    "X = tf.placeholder(tf.float32, [None, 51]) \n",
    "Y = tf.placeholder(tf.float32, [None, 1])  \n",
    "keep_prob = tf.placeholder(tf.float32)"
   ]
  },
  {
   "cell_type": "markdown",
   "metadata": {},
   "source": [
    "### 2) 은닉층 구성"
   ]
  },
  {
   "cell_type": "markdown",
   "metadata": {},
   "source": [
    "#### (1) 기존 은닉층"
   ]
  },
  {
   "cell_type": "code",
   "execution_count": null,
   "metadata": {
    "collapsed": true
   },
   "outputs": [],
   "source": [
    "W1 = tf.Variable(tf.random_normal([51 ,256], stddev = 0.01))\n",
    "b1 = tf.Variable(tf.random_normal([256]))\n",
    "L1 = tf.add(tf.matmul(X, W1), b1)\n",
    "L1 = tf.nn.relu(L1)\n",
    "L1 = tf.nn.dropout(L1, keep_prob)\n",
    "\n",
    "\n",
    "W2 = tf.Variable(tf.random_normal([256, 256], stddev = 0.01))\n",
    "b2 = tf.Variable(tf.random_normal([256]))\n",
    "L2 = tf.add(tf.matmul(L1, W2), b2)\n",
    "L2 = tf.nn.relu(L2)\n",
    "L2 = tf.nn.dropout(L2, keep_prob)\n",
    "\n",
    "W3 = tf.Variable(tf.random_normal([256, 1], stddev = 0.01))\n",
    "b3 = tf.Variable(tf.random_normal([1]))\n",
    "model = tf.add(tf.matmul(L2, W3), b3)"
   ]
  },
  {
   "cell_type": "markdown",
   "metadata": {},
   "source": [
    "#### 이 모델로 100만 번 학습시켰으나 성능이 더이상 향상되지 않음"
   ]
  },
  {
   "cell_type": "markdown",
   "metadata": {},
   "source": [
    "#### (2) 은닉층 5개 구성"
   ]
  },
  {
   "cell_type": "code",
   "execution_count": 4,
   "metadata": {
    "collapsed": true
   },
   "outputs": [],
   "source": [
    "W1 = tf.Variable(tf.random_normal([51 ,256], stddev = 0.01))\n",
    "b1 = tf.Variable(tf.random_normal([256]))\n",
    "L1 = tf.add(tf.matmul(X, W1), b1)\n",
    "L1 = tf.nn.relu(L1)\n",
    "L1 = tf.nn.dropout(L1, keep_prob)\n",
    "\n",
    "\n",
    "W2 = tf.Variable(tf.random_normal([256, 512], stddev = 0.01))\n",
    "b2 = tf.Variable(tf.random_normal([512]))\n",
    "L2 = tf.add(tf.matmul(L1, W2), b2)\n",
    "L2 = tf.nn.relu(L2)\n",
    "L2 = tf.nn.dropout(L2, keep_prob)\n",
    "\n",
    "W3 = tf.Variable(tf.random_normal([512, 512], stddev = 0.01))\n",
    "b3 = tf.Variable(tf.random_normal([512]))\n",
    "L3 = tf.add(tf.matmul(L2, W3), b3)\n",
    "L3 = tf.nn.relu(L3)\n",
    "L3 = tf.nn.dropout(L3, keep_prob)\n",
    "\n",
    "W4 = tf.Variable(tf.random_normal([512, 256], stddev = 0.01))\n",
    "b4 = tf.Variable(tf.random_normal([256]))\n",
    "L4 = tf.add(tf.matmul(L3, W4), b4)\n",
    "L4 = tf.nn.relu(L4)\n",
    "L4 = tf.nn.dropout(L4, keep_prob)\n",
    "\n",
    "W5 = tf.Variable(tf.random_normal([256, 1], stddev = 0.01))\n",
    "b5 = tf.Variable(tf.random_normal([1]))\n",
    "model = tf.add(tf.matmul(L4, W5), b5)"
   ]
  },
  {
   "cell_type": "markdown",
   "metadata": {},
   "source": [
    "#### (3) 은닉층 7개 구성"
   ]
  },
  {
   "cell_type": "code",
   "execution_count": 5,
   "metadata": {
    "collapsed": true
   },
   "outputs": [],
   "source": [
    "W1 = tf.Variable(tf.random_normal([51 ,256], stddev = 0.01))\n",
    "b1 = tf.Variable(tf.random_normal([256]))\n",
    "L1 = tf.add(tf.matmul(X, W1), b1)\n",
    "L1 = tf.nn.relu(L1)\n",
    "L1 = tf.nn.dropout(L1, keep_prob)\n",
    "\n",
    "\n",
    "W2 = tf.Variable(tf.random_normal([256, 512], stddev = 0.01))\n",
    "b2 = tf.Variable(tf.random_normal([512]))\n",
    "L2 = tf.add(tf.matmul(L1, W2), b2)\n",
    "L2 = tf.nn.relu(L2)\n",
    "L2 = tf.nn.dropout(L2, keep_prob)\n",
    "\n",
    "W3 = tf.Variable(tf.random_normal([512, 512], stddev = 0.01))\n",
    "b3 = tf.Variable(tf.random_normal([512]))\n",
    "L3 = tf.add(tf.matmul(L2, W3), b3)\n",
    "L3 = tf.nn.relu(L3)\n",
    "L3 = tf.nn.dropout(L3, keep_prob)\n",
    "\n",
    "W4 = tf.Variable(tf.random_normal([512, 512], stddev = 0.01))\n",
    "b4 = tf.Variable(tf.random_normal([512]))\n",
    "L4 = tf.add(tf.matmul(L3, W4), b4)\n",
    "L4 = tf.nn.relu(L4)\n",
    "L4 = tf.nn.dropout(L4, keep_prob)\n",
    "\n",
    "W5 = tf.Variable(tf.random_normal([512, 512], stddev = 0.01))\n",
    "b5 = tf.Variable(tf.random_normal([512]))\n",
    "L5 = tf.add(tf.matmul(L4, W5), b5)\n",
    "L5 = tf.nn.relu(L5)\n",
    "L5 = tf.nn.dropout(L5, keep_prob)\n",
    "\n",
    "W6 = tf.Variable(tf.random_normal([512, 256], stddev = 0.01))\n",
    "b6 = tf.Variable(tf.random_normal([256]))\n",
    "L6 = tf.add(tf.matmul(L5, W6), b6)\n",
    "L6 = tf.nn.relu(L6)\n",
    "L6 = tf.nn.dropout(L6, keep_prob)\n",
    "\n",
    "W7 = tf.Variable(tf.random_normal([256, 1], stddev = 0.01))\n",
    "b7 = tf.Variable(tf.random_normal([1]))\n",
    "model = tf.add(tf.matmul(L6, W7), b7)"
   ]
  },
  {
   "cell_type": "markdown",
   "metadata": {
    "collapsed": true
   },
   "source": [
    "#### (4) 은닉층 5개 구성 - 활성화 함수 쓰지 않기"
   ]
  },
  {
   "cell_type": "code",
   "execution_count": 5,
   "metadata": {
    "collapsed": true
   },
   "outputs": [],
   "source": [
    "W1 = tf.Variable(tf.random_normal([51 ,256], stddev = 0.01))\n",
    "b1 = tf.Variable(tf.random_normal([256]))\n",
    "L1 = tf.add(tf.matmul(X, W1), b1)\n",
    "L1 = tf.nn.dropout(L1, keep_prob)\n",
    "\n",
    "\n",
    "W2 = tf.Variable(tf.random_normal([256, 512], stddev = 0.01))\n",
    "b2 = tf.Variable(tf.random_normal([512]))\n",
    "L2 = tf.add(tf.matmul(L1, W2), b2)\n",
    "L2 = tf.nn.dropout(L2, keep_prob)\n",
    "\n",
    "W3 = tf.Variable(tf.random_normal([512, 512], stddev = 0.01))\n",
    "b3 = tf.Variable(tf.random_normal([512]))\n",
    "L3 = tf.add(tf.matmul(L2, W3), b3)\n",
    "L3 = tf.nn.dropout(L3, keep_prob)\n",
    "\n",
    "W4 = tf.Variable(tf.random_normal([512, 256], stddev = 0.01))\n",
    "b4 = tf.Variable(tf.random_normal([256]))\n",
    "L4 = tf.add(tf.matmul(L3, W4), b4)\n",
    "L4 = tf.nn.dropout(L4, keep_prob)\n",
    "\n",
    "W5 = tf.Variable(tf.random_normal([256, 1], stddev = 0.01))\n",
    "b5 = tf.Variable(tf.random_normal([1]))\n",
    "model = tf.add(tf.matmul(L4, W5), b5)"
   ]
  },
  {
   "cell_type": "markdown",
   "metadata": {},
   "source": [
    "#### (5) 은닉층 5개 구성 - 활성화 함수 쓰지 않기 - random_uniform"
   ]
  },
  {
   "cell_type": "code",
   "execution_count": 12,
   "metadata": {
    "collapsed": true
   },
   "outputs": [],
   "source": [
    "W1 = tf.Variable(tf.random_uniform([51 ,256]))\n",
    "b1 = tf.Variable(tf.random_uniform([256]))\n",
    "L1 = tf.add(tf.matmul(X, W1), b1)\n",
    "L1 = tf.nn.dropout(L1, keep_prob)\n",
    "\n",
    "\n",
    "W2 = tf.Variable(tf.random_uniform([256, 512]))\n",
    "b2 = tf.Variable(tf.random_uniform([512]))\n",
    "L2 = tf.add(tf.matmul(L1, W2), b2)\n",
    "L2 = tf.nn.dropout(L2, keep_prob)\n",
    "\n",
    "W3 = tf.Variable(tf.random_uniform([512, 512]))\n",
    "b3 = tf.Variable(tf.random_uniform([512]))\n",
    "L3 = tf.add(tf.matmul(L2, W3), b3)\n",
    "L3 = tf.nn.dropout(L3, keep_prob)\n",
    "\n",
    "W4 = tf.Variable(tf.random_uniform([512, 256]))\n",
    "b4 = tf.Variable(tf.random_uniform([256]))\n",
    "L4 = tf.add(tf.matmul(L3, W4), b4)\n",
    "L4 = tf.nn.dropout(L4, keep_prob)\n",
    "\n",
    "W5 = tf.Variable(tf.random_uniform([256, 1]))\n",
    "b5 = tf.Variable(tf.random_uniform([1]))\n",
    "model = tf.add(tf.matmul(L4, W5), b5)"
   ]
  },
  {
   "cell_type": "markdown",
   "metadata": {},
   "source": [
    "### 3) 손실함수 및 최적화 "
   ]
  },
  {
   "cell_type": "markdown",
   "metadata": {},
   "source": [
    "#### (1) 손실함수"
   ]
  },
  {
   "cell_type": "markdown",
   "metadata": {
    "collapsed": true
   },
   "source": [
    "#### cost = tf.reduce_mean(tf.square(model - Y))"
   ]
  },
  {
   "cell_type": "code",
   "execution_count": 6,
   "metadata": {
    "collapsed": true
   },
   "outputs": [],
   "source": [
    "cost = tf.reduce_mean(tf.square(model - Y))"
   ]
  },
  {
   "cell_type": "markdown",
   "metadata": {},
   "source": [
    "#### 일단 가장 많이 쓰는 것 사용\n",
    "#### 다른 손실함수도 찾아볼 것."
   ]
  },
  {
   "cell_type": "markdown",
   "metadata": {},
   "source": [
    "#### tf.sqrt(tf.subtract(tf.log(tf.add(model, 1)), tf.log(tf.add(Y, 1)))) 기존 작동되지 않았던 손실함수에 큰 실수 발견. sqrt는 루트지 제곱이 아님\n",
    "#### 제곱인 square로 바꿔서 손실함수를 만든 후 모델을 돌려본다."
   ]
  },
  {
   "cell_type": "code",
   "execution_count": 12,
   "metadata": {
    "collapsed": true
   },
   "outputs": [],
   "source": [
    "# cost = tf.reduce_mean(tf.square(tf.subtract(tf.log(tf.add(model, 1)), tf.log(tf.add(Y, 1)))))"
   ]
  },
  {
   "cell_type": "code",
   "execution_count": 14,
   "metadata": {
    "collapsed": true
   },
   "outputs": [],
   "source": [
    "# cost = tf.square(tf.subtract(tf.log(tf.add(model, 1)), tf.log(tf.add(Y, 1)))) "
   ]
  },
  {
   "cell_type": "code",
   "execution_count": 5,
   "metadata": {
    "collapsed": true
   },
   "outputs": [],
   "source": [
    "# cost = tf.reduce_mean((tf.subtract(tf.log(tf.add(model, 1)), tf.log(tf.add(Y, 1)))))"
   ]
  },
  {
   "cell_type": "code",
   "execution_count": null,
   "metadata": {
    "collapsed": true
   },
   "outputs": [],
   "source": []
  },
  {
   "cell_type": "markdown",
   "metadata": {},
   "source": [
    "#### (2) 최적화 함수 "
   ]
  },
  {
   "cell_type": "code",
   "execution_count": 7,
   "metadata": {
    "collapsed": true
   },
   "outputs": [],
   "source": [
    "optimizer = tf.train.AdamOptimizer(0.001).minimize(cost)"
   ]
  },
  {
   "cell_type": "markdown",
   "metadata": {},
   "source": [
    "#### 다른 최적화 함수도 찾아서 써볼 것"
   ]
  },
  {
   "cell_type": "markdown",
   "metadata": {},
   "source": [
    "### 4) 세션 열기"
   ]
  },
  {
   "cell_type": "code",
   "execution_count": 8,
   "metadata": {
    "collapsed": true
   },
   "outputs": [],
   "source": [
    "init = tf.global_variables_initializer()\n",
    "gpu_options = tf.GPUOptions(per_process_gpu_memory_fraction=0.6)\n",
    "sess = tf.Session(config=tf.ConfigProto(gpu_options=gpu_options))\n",
    "\n",
    "sess.run(init)"
   ]
  },
  {
   "cell_type": "markdown",
   "metadata": {},
   "source": [
    "### 5) 학습 "
   ]
  },
  {
   "cell_type": "code",
   "execution_count": 9,
   "metadata": {},
   "outputs": [
    {
     "name": "stdout",
     "output_type": "stream",
     "text": [
      "10.0 만 번 :  0.40656245\n",
      "Running Time 1:24:14\n",
      "\n",
      "20.0 만 번 :  0.39968032\n",
      "Running Time 2:48:26\n",
      "\n",
      "30.0 만 번 :  0.40025857\n",
      "Running Time 4:10:57\n",
      "\n",
      "40.0 만 번 :  0.40428078\n",
      "Running Time 5:32:06\n",
      "\n",
      "50.0 만 번 :  0.3984198\n",
      "Running Time 6:53:15\n",
      "\n",
      "60.0 만 번 :  0.40055117\n",
      "Running Time 8:15:35\n",
      "\n",
      "70.0 만 번 :  0.41592264\n",
      "Running Time 9:39:15\n",
      "\n",
      "80.0 만 번 :  0.4185595\n",
      "Running Time 11:02:48\n",
      "\n",
      "90.0 만 번 :  0.4016472\n",
      "Running Time 12:25:59\n",
      "\n",
      "100.0 만 번 :  0.40232623\n",
      "Running Time 13:47:08\n",
      "\n",
      "최적화 완료!\n",
      "\n",
      "\n",
      "예측값 :  [[3.099729 ]\n",
      " [2.8356795]\n",
      " [1.7965319]\n",
      " ...\n",
      " [5.0537486]\n",
      " [4.901182 ]\n",
      " [4.4959455]]\n",
      "실제값 :  [[2.8332133]\n",
      " [3.713572 ]\n",
      " [3.4965076]\n",
      " ...\n",
      " [5.1298985]\n",
      " [4.8675346]\n",
      " [4.4886365]]\n",
      "\n",
      "완료\n",
      "\n",
      "Running Time 13:47:08\n"
     ]
    }
   ],
   "source": [
    "import time\n",
    "start = time.time()\n",
    "\n",
    "for epoch in range(1000000):\n",
    "    sess.run(optimizer, feed_dict = {X : x_train_1, Y: y_train_1, keep_prob : 0.7})\n",
    "    \n",
    "    if (epoch+1) % 100000 == 0:\n",
    "        print((epoch + 1)/10000,\"만 번 : \", sess.run(cost, feed_dict = {X : x_train_1, Y: y_train_1, keep_prob : 0.8}))\n",
    "        imtime = time.time() - start\n",
    "        m, s = divmod(imtime, 60)\n",
    "        h, m = divmod(m, 60)\n",
    "        print(\"Running Time\", \"%d:%02d:%02d\" % (h, m, s))\n",
    "        print(\"\")\n",
    "    \n",
    "print('최적화 완료!')\n",
    "\n",
    "print(\"\")\n",
    "print(\"\") \n",
    "\n",
    "prediction = model \n",
    "target = Y\n",
    "\n",
    "print('예측값 : ', sess.run(prediction, feed_dict = {X : x_train_1, Y: y_train_1, keep_prob : 0.8}))  # 데이터가 안들어 감\n",
    "print('실제값 : ', sess.run(target, feed_dict = {X : x_train_1, Y: y_train_1, keep_prob : 0.8}))\n",
    "print(\"\")\n",
    "print(\"완료\")\n",
    "print(\"\")\n",
    "# print('Running Time : %.02f초' % (time.time() - start))\n",
    "seconds = time.time() - start\n",
    "m, s = divmod(seconds, 60)\n",
    "h, m = divmod(m, 60)\n",
    "print(\"Running Time\", \"%d:%02d:%02d\" % (h, m, s))"
   ]
  },
  {
   "cell_type": "markdown",
   "metadata": {
    "collapsed": true
   },
   "source": [
    "####   \n",
    "####   "
   ]
  },
  {
   "cell_type": "markdown",
   "metadata": {},
   "source": [
    "## 3. 예측 및 결과 확인"
   ]
  },
  {
   "cell_type": "markdown",
   "metadata": {},
   "source": [
    "### 1) 예측"
   ]
  },
  {
   "cell_type": "code",
   "execution_count": 12,
   "metadata": {},
   "outputs": [
    {
     "data": {
      "text/plain": [
       "array([[ 14.471618 ],\n",
       "       [  7.0838985],\n",
       "       [  3.5641565],\n",
       "       ...,\n",
       "       [150.83229  ],\n",
       "       [119.015915 ],\n",
       "       [ 80.44408  ]], dtype=float32)"
      ]
     },
     "execution_count": 12,
     "metadata": {},
     "output_type": "execute_result"
    }
   ],
   "source": [
    "predictions = sess.run(model, feed_dict = {X : x_test_1, keep_prob : 0.8})\n",
    "predictions = np.expm1(predictions) ## == np.exp(predictions) - 1 \n",
    "predictions"
   ]
  },
  {
   "cell_type": "markdown",
   "metadata": {},
   "source": [
    "### 2) 결과 제출"
   ]
  },
  {
   "cell_type": "code",
   "execution_count": 13,
   "metadata": {
    "collapsed": true
   },
   "outputs": [],
   "source": [
    "submission = pd.read_csv(\"./bike/sampleSubmission.csv\")\n",
    "submission[\"count\"] = predictions\n",
    "submission.to_csv(\"tf226.csv\", index=False)"
   ]
  },
  {
   "cell_type": "markdown",
   "metadata": {},
   "source": [
    "### 3) 결과 보고서 "
   ]
  },
  {
   "cell_type": "markdown",
   "metadata": {},
   "source": [
    "#### (1) 은닉층 5개 구성 - reduce_mean(tf.square(model - Y)) - train.AdamOptimizer(0.001) - 10 만 번 "
   ]
  },
  {
   "cell_type": "code",
   "execution_count": null,
   "metadata": {
    "collapsed": true
   },
   "outputs": [],
   "source": [
    "[None, 51] / [51, 256] / [256, 512] / [512, 512] / [512, 256] / [256, 1]  keep_prob : 0.8"
   ]
  },
  {
   "cell_type": "markdown",
   "metadata": {},
   "source": [
    "#### 결과 : 0.74606로 오히려 은닉층 3개 - 100만 번(0.71249) 보다 결과가 좋지 않음\n",
    "#### 오차는 더 적어졌으니 실제 test데이터를 돌린 결과 값은 좋지 않음 \n",
    "#### 과적합이 의심되어 keep_prob : 0.8 설정을 바꾸는 것도 고려해 볼 듯 함."
   ]
  },
  {
   "cell_type": "code",
   "execution_count": null,
   "metadata": {
    "collapsed": true
   },
   "outputs": [],
   "source": [
    "9999.0001 만 번 :  0.21423979\n",
    "19999.0001 만 번 :  0.15759571\n",
    "29999.0001 만 번 :  0.15061304\n",
    "39999.0001 만 번 :  0.1446756\n",
    "49999.0001 만 번 :  0.16366455\n",
    "59999.0001 만 번 :  0.14469919\n",
    "69999.0001 만 번 :  0.14174609\n",
    "79999.0001 만 번 :  0.14150843\n",
    "89999.0001 만 번 :  0.13308324\n",
    "99999.0001 만 번 :  0.1427689\n",
    "Intermediate check : 5326.60초\n",
    "# 약 1:28:46 분 소요(GPU 0.7 - GTX 1050)"
   ]
  },
  {
   "cell_type": "markdown",
   "metadata": {},
   "source": [
    "#### (2) 은닉층 5개 구성 - reduce_mean(tf.square(model - Y)) - train.AdamOptimizer(0.001)  -  10 만 번"
   ]
  },
  {
   "cell_type": "code",
   "execution_count": null,
   "metadata": {
    "collapsed": true
   },
   "outputs": [],
   "source": [
    "[None, 51] / [51, 256] / [256, 512] / [512, 512] / [512, 256] / [256, 1]  :  keep_prob : 0.7  "
   ]
  },
  {
   "cell_type": "code",
   "execution_count": null,
   "metadata": {
    "collapsed": true
   },
   "outputs": [],
   "source": [
    "1.0 만 번 :  0.22453474\n",
    "2.0 만 번 :  0.1588468\n",
    "3.0 만 번 :  0.15966536\n",
    "4.0 만 번 :  0.18217772\n",
    "5.0 만 번 :  0.16963457\n",
    "6.0 만 번 :  0.17445254\n",
    "7.0 만 번 :  0.19498448\n",
    "8.0 만 번 :  0.17846932\n",
    "9.0 만 번 :  0.1943796\n",
    "10.0 만 번 :  0.17617092\n",
    "    \n",
    "Running Time 1:30:41\n",
    "#약 1시간 30분 소요 (GPU 0.7 - GTX 1050)"
   ]
  },
  {
   "cell_type": "markdown",
   "metadata": {
    "collapsed": true
   },
   "source": [
    "#### 결과 : 0.78653. 더 결과값이 안 좋아 졌다.  오차도 크게 낮아지지 않음\n",
    "#### keep_prob 은 그냥 계속 0.8로 돌리는 것이 나을 듯 함"
   ]
  },
  {
   "cell_type": "markdown",
   "metadata": {},
   "source": [
    "#### (3) 은닉층 5개 구성 - reduce_mean(tf.square(model - Y)) - train.AdamOptimizer(0.001) - 100 만 번"
   ]
  },
  {
   "cell_type": "code",
   "execution_count": null,
   "metadata": {
    "collapsed": true
   },
   "outputs": [],
   "source": [
    "[None, 51] / [51, 256] / [256, 512] / [512, 512] / [512, 256] / [256, 1]   keep_prob : 0.8"
   ]
  },
  {
   "cell_type": "code",
   "execution_count": null,
   "metadata": {
    "collapsed": true
   },
   "outputs": [],
   "source": [
    "10.0 만 번 :  0.13743559\n",
    "Running Time 2:14:58\n",
    "20.0 만 번 :  0.12921745\n",
    "Running Time 3:43:09\n",
    "30.0 만 번 :  0.13481717\n",
    "Running Time 5:52:27\n",
    "40.0 만 번 :  0.15306222\n",
    "Running Time 7:28:00\n",
    "50.0 만 번 :  0.16440432\n",
    "Running Time 9:03:18\n",
    "60.0 만 번 :  0.17642197\n",
    "Running Time 10:38:37\n",
    "70.0 만 번 :  0.17793201\n",
    "Running Time 12:14:22\n",
    "        \n",
    "# 가끔씩 그래픽 사용량이 치솟으면서 컴퓨터가 느려지기도 함. -> 중간에 뻗어버림. 그래픽 사용량 재고\n",
    "# 10만 번에 대략 2시간 소요 "
   ]
  },
  {
   "cell_type": "code",
   "execution_count": null,
   "metadata": {
    "collapsed": true
   },
   "outputs": [],
   "source": [
    "10.0 만 번 :  0.12965134\n",
    "Running Time 1:27:48\n",
    "\n",
    "20.0 만 번 :  0.13325764\n",
    "Running Time 2:55:43\n",
    "\n",
    "30.0 만 번 :  0.14344531\n",
    "Running Time 4:23:48\n",
    "\n",
    "40.0 만 번 :  0.14807038\n",
    "Running Time 5:51:58\n",
    "\n",
    "# 컴퓨터가 뻗어버림"
   ]
  },
  {
   "cell_type": "code",
   "execution_count": null,
   "metadata": {
    "collapsed": true
   },
   "outputs": [],
   "source": [
    "10.0 만 번 :  0.16254972\n",
    "Running Time 1:36:05\n",
    "\n",
    "20.0 만 번 :  0.15713923\n",
    "Running Time 3:11:16\n",
    "\n",
    "30.0 만 번 :  0.1676266\n",
    "Running Time 4:47:16\n",
    "\n",
    "40.0 만 번 :  0.17315498\n",
    "Running Time 6:23:17\n",
    "\n",
    "50.0 만 번 :  0.17936938\n",
    "Running Time 7:58:21\n",
    "\n",
    "60.0 만 번 :  0.17763194\n",
    "Running Time 9:34:19\n",
    "\n",
    "70.0 만 번 :  0.17376868\n",
    "Running Time 11:10:14\n",
    "\n",
    "80.0 만 번 :  0.17181829\n",
    "Running Time 12:46:17\n",
    "\n",
    "90.0 만 번 :  0.2014756\n",
    "Running Time 14:20:18\n",
    "\n",
    "100.0 만 번 :  0.18826932\n",
    "Running Time 15:54:00\n",
    "\n",
    "-값 나와서 실패  // 0.74644 한 번 더 예측하니 // 0.74931  세번째 예측 : 예측할 때마다 예측 값이 달라짐 "
   ]
  },
  {
   "cell_type": "markdown",
   "metadata": {
    "collapsed": true
   },
   "source": [
    "#### (4) 은닉층 7개 구성 - reduce_mean(tf.square(model - Y)) - train.AdamOptimizer(0.001) - 10 만 번"
   ]
  },
  {
   "cell_type": "code",
   "execution_count": null,
   "metadata": {
    "collapsed": true
   },
   "outputs": [],
   "source": [
    "[None, 51] / [51, 256] / [256, 512] / [512, 512] / [512, 512]  / [512, 512] / [512, 256]   / [256, 1]  :  keep_prob : 0.8  "
   ]
  },
  {
   "cell_type": "code",
   "execution_count": null,
   "metadata": {
    "collapsed": true
   },
   "outputs": [],
   "source": [
    "1.0 만 번 :  0.18550088\n",
    "Running Time 0:15:18\n",
    "2.0 만 번 :  0.15895063\n",
    "3.0 만 번 :  0.14651746\n",
    "4.0 만 번 :  0.14147937\n",
    "5.0 만 번 :  0.13169119\n",
    "6.0 만 번 :  0.13005805\n",
    "7.0 만 번 :  0.13422592\n",
    "8.0 만 번 :  0.13052242\n",
    "9.0 만 번 :  0.14258853\n",
    "10.0 만 번 :  0.13765427\n",
    "Running Time 2:56:02\n",
    "    \n",
    "# 약 3시간 소요. (GPU 0.5 - GTX 1050)"
   ]
  },
  {
   "cell_type": "markdown",
   "metadata": {
    "collapsed": true
   },
   "source": [
    "#### 결과 : 0.78476으로 더 좋지 않음. 오차율은 떨어졌지만 0.13 아래로 내려가지를 않음.\n",
    "#### 학습이 오래될 수록 오히려 오차율이 더 안 좋아지는 모습이 보임\n",
    "#### 학습횟수를 더 늘려보고 마지막으로 은닉층을 더 늘려볼 필요가 있다고 판단됨."
   ]
  },
  {
   "cell_type": "markdown",
   "metadata": {
    "collapsed": true
   },
   "source": [
    "#### (5) 은닉층 5개 구성 - cost = tf.square(tf.subtract(tf.log(tf.add(model, 1)), tf.log(tf.add(Y, 1)))) - train.AdamOptimizer(0.001)"
   ]
  },
  {
   "cell_type": "code",
   "execution_count": null,
   "metadata": {
    "collapsed": true
   },
   "outputs": [],
   "source": [
    "1000번 : 0.81250 / \n",
    "10만번 : 0.86223 // 0.86155  "
   ]
  },
  {
   "cell_type": "markdown",
   "metadata": {},
   "source": [
    "#### 오래 학습할 수록 실제값이 좋지 않음"
   ]
  },
  {
   "cell_type": "markdown",
   "metadata": {
    "collapsed": true
   },
   "source": [
    "#### (6)  은닉층 5개 구성 - cost = tf.reduce_mean(tf.square(tf.subtract(tf.log(tf.add(model, 1)), tf.log(tf.add(Y, 1))))) - - train.AdamOptimizer(0.001)\n"
   ]
  },
  {
   "cell_type": "code",
   "execution_count": null,
   "metadata": {
    "collapsed": true
   },
   "outputs": [],
   "source": [
    "1000번 : 0.78235 /   \n",
    "10만 번 : 0.81070 /"
   ]
  },
  {
   "cell_type": "markdown",
   "metadata": {
    "collapsed": true
   },
   "source": [
    "#### 오차율은 많이 떨어졌으나 결과값은 좋지 않음"
   ]
  },
  {
   "cell_type": "markdown",
   "metadata": {},
   "source": [
    "#### (7) 은닉층 5개 구성 cost = tf.reduce_mean((tf.subtract(tf.log(tf.add(model, 1)), tf.log(tf.add(Y, 1))))) \n",
    "#### Fail : - 값이나옴"
   ]
  },
  {
   "cell_type": "markdown",
   "metadata": {},
   "source": [
    "#### (8) 은닉층 5개 구성 - cost = tf.reduce_mean(tf.square(model - Y)) "
   ]
  },
  {
   "cell_type": "code",
   "execution_count": null,
   "metadata": {
    "collapsed": true
   },
   "outputs": [],
   "source": [
    "1000번 : 0.76836   가장 최종 결과값이 좋음\n",
    "5만 번 : -값 나와서 실패(3번 예측했으나 모두)"
   ]
  },
  {
   "cell_type": "markdown",
   "metadata": {},
   "source": [
    "#### 1000번 학습시 결과값이 매우 좋게 나옴.\n",
    "#### 다만 5만 번으로 학습을 늘릴 시 -값이 나와서 Fail(3번 예측했으나 모두 -값)"
   ]
  },
  {
   "cell_type": "markdown",
   "metadata": {
    "collapsed": true
   },
   "source": [
    "#### ※ 많이 돌릴 수록 오차율이 낮아지다 다시 높아지는 경우가 생김 "
   ]
  },
  {
   "cell_type": "markdown",
   "metadata": {
    "collapsed": true
   },
   "source": [
    "#### (8) 은닉층 5개 구성 - cost = tf.reduce_mean(tf.square(model - Y))  - Relu 함수(활성화 함수) 적용 X "
   ]
  },
  {
   "cell_type": "code",
   "execution_count": null,
   "metadata": {
    "collapsed": true
   },
   "outputs": [],
   "source": [
    "10만 번 : 0.69327  "
   ]
  },
  {
   "cell_type": "code",
   "execution_count": null,
   "metadata": {
    "collapsed": true
   },
   "outputs": [],
   "source": [
    "1.0 만 번 :  0.43547434\n",
    "Running Time 0:08:30\n",
    "\n",
    "2.0 만 번 :  0.8534407\n",
    "Running Time 0:17:02\n",
    "\n",
    "3.0 만 번 :  0.40879902\n",
    "Running Time 0:25:30\n",
    "\n",
    "4.0 만 번 :  0.51797825\n",
    "Running Time 0:33:56\n",
    "\n",
    "5.0 만 번 :  1.3441521\n",
    "Running Time 0:42:20\n",
    "\n",
    "6.0 만 번 :  0.41860524\n",
    "Running Time 0:50:49\n",
    "\n",
    "7.0 만 번 :  0.6740765\n",
    "Running Time 0:59:34\n",
    "\n",
    "8.0 만 번 :  0.40166765\n",
    "Running Time 1:08:11\n",
    "\n",
    "9.0 만 번 :  0.89466834\n",
    "Running Time 1:16:44\n",
    "\n",
    "10.0 만 번 :  0.40309197\n",
    "Running Time 1:25:14\n",
    "\n",
    "최적화 완료!\n",
    "\n",
    "\n",
    "예측값 :  [[3.2862644]\n",
    " [2.5077457]\n",
    " [1.8635235]\n",
    " ...\n",
    " [5.0984197]\n",
    " [4.9109764]\n",
    " [4.5148735]]\n",
    "실제값 :  [[2.8332133]\n",
    " [3.713572 ]\n",
    " [3.4965076]\n",
    " ...\n",
    " [5.1298985]\n",
    " [4.8675346]\n",
    " [4.4886365]]\n",
    "\n",
    "완료\n",
    "\n",
    "Running Time 1:25:14"
   ]
  },
  {
   "cell_type": "markdown",
   "metadata": {},
   "source": [
    "#### (9) 은닉층 5개 구성 - cost = tf.square(tf.subtract(tf.log(tf.add(model, 1)), tf.log(tf.add(Y, 1)))) -  Relu함수(활성화함수)적용X\n",
    " "
   ]
  },
  {
   "cell_type": "code",
   "execution_count": null,
   "metadata": {
    "collapsed": true
   },
   "outputs": [],
   "source": [
    "10만 번 : nan / 값이 없음"
   ]
  },
  {
   "cell_type": "code",
   "execution_count": null,
   "metadata": {
    "collapsed": true
   },
   "outputs": [],
   "source": [
    "예측값 : \n",
    "array([[inf],\n",
    "       [inf],\n",
    "       [inf],\n",
    "       ...,\n",
    "       [inf],\n",
    "       [inf],\n",
    "       [inf]], dtype=float32)"
   ]
  },
  {
   "cell_type": "markdown",
   "metadata": {},
   "source": [
    "#### (10) 은닉층 5개 구성 - cost = tf.square(tf.subtract(tf.log(tf.add(model, 1)), tf.log(tf.add(Y, 1))))  - Relu함수적용X"
   ]
  },
  {
   "cell_type": "code",
   "execution_count": null,
   "metadata": {
    "collapsed": true
   },
   "outputs": [],
   "source": [
    "10만 번 : [inf] / 값이 없음"
   ]
  },
  {
   "cell_type": "code",
   "execution_count": null,
   "metadata": {
    "collapsed": true
   },
   "outputs": [],
   "source": [
    "array([[inf],\n",
    "       [inf],\n",
    "       [inf],\n",
    "       ...,\n",
    "       [inf],\n",
    "       [inf],\n",
    "       [inf]], dtype=float32)"
   ]
  },
  {
   "cell_type": "markdown",
   "metadata": {},
   "source": [
    "#### (11) 은닉층 5개 구성 - cost = tf.reduce_mean(tf.square(tf.subtract(tf.log(tf.add(model, 1)), tf.log(tf.add(Y, 1))))) - Relu함수(활성화함수)적용X\n",
    " "
   ]
  },
  {
   "cell_type": "code",
   "execution_count": null,
   "metadata": {
    "collapsed": true
   },
   "outputs": [],
   "source": [
    "10만번 : nan / 값이 없음"
   ]
  },
  {
   "cell_type": "markdown",
   "metadata": {},
   "source": [
    "#### (12) 은닉층 5개 구성 - cost = tf.reduce_mean(tf.square(model - Y)) - Relu 함수 X - keep_prob : 0.7"
   ]
  },
  {
   "cell_type": "code",
   "execution_count": null,
   "metadata": {
    "collapsed": true
   },
   "outputs": [],
   "source": [
    "10 만번 : 0.69220  # 현재 가장 좋음"
   ]
  },
  {
   "cell_type": "code",
   "execution_count": null,
   "metadata": {
    "collapsed": true
   },
   "outputs": [],
   "source": [
    "1.0 만 번 :  0.4931236\n",
    "Running Time 0:08:37\n",
    "\n",
    "2.0 만 번 :  0.40457478\n",
    "Running Time 0:17:15\n",
    "\n",
    "3.0 만 번 :  0.45067224\n",
    "Running Time 0:25:55\n",
    "\n",
    "4.0 만 번 :  0.39891195\n",
    "Running Time 0:34:37\n",
    "\n",
    "5.0 만 번 :  0.40459076\n",
    "Running Time 0:43:38\n",
    "\n",
    "6.0 만 번 :  0.40142223\n",
    "Running Time 0:52:38\n",
    "\n",
    "7.0 만 번 :  0.39655456\n",
    "Running Time 1:01:38\n",
    "\n",
    "8.0 만 번 :  0.4069065\n",
    "Running Time 1:10:41\n",
    "\n",
    "9.0 만 번 :  0.3995612\n",
    "Running Time 1:19:43\n",
    "\n",
    "10.0 만 번 :  0.4067454\n",
    "Running Time 1:28:40\n",
    "\n",
    "최적화 완료!\n",
    "\n",
    "\n",
    "예측값 :  [[3.2910514]\n",
    " [2.7232914]\n",
    " [2.5623527]\n",
    " ...\n",
    " [5.041258 ]\n",
    " [4.8719373]\n",
    " [4.4741297]]\n",
    "실제값 :  [[2.8332133]\n",
    " [3.713572 ]\n",
    " [3.4965076]\n",
    " ...\n",
    " [5.1298985]\n",
    " [4.8675346]\n",
    " [4.4886365]]\n",
    "\n",
    "완료\n",
    "\n",
    "Running Time 1:28:40"
   ]
  },
  {
   "cell_type": "markdown",
   "metadata": {},
   "source": [
    "#### (13) 은닉층 5개 -  cost = tf.reduce_mean(tf.square(model - Y)) - Relu 함수 X - keep_prob : 0.7 -  random_uniform"
   ]
  },
  {
   "cell_type": "code",
   "execution_count": null,
   "metadata": {
    "collapsed": true
   },
   "outputs": [],
   "source": [
    "10만 번 : nan / 값이 없음"
   ]
  },
  {
   "cell_type": "markdown",
   "metadata": {},
   "source": [
    "#### (14) 은닉층 5개 구성 - cost = tf.reduce_mean(tf.square(model - Y))  - Relu 함수(활성화 함수) 적용 X "
   ]
  },
  {
   "cell_type": "markdown",
   "metadata": {},
   "source": [
    "100만 번 : 0.81796 // 0.81641 (예측만 두 번)"
   ]
  },
  {
   "cell_type": "code",
   "execution_count": null,
   "metadata": {
    "collapsed": true
   },
   "outputs": [],
   "source": [
    "10.0 만 번 :  0.40656245\n",
    "Running Time 1:24:14\n",
    "\n",
    "20.0 만 번 :  0.39968032\n",
    "Running Time 2:48:26\n",
    "\n",
    "30.0 만 번 :  0.40025857\n",
    "Running Time 4:10:57\n",
    "\n",
    "40.0 만 번 :  0.40428078\n",
    "Running Time 5:32:06\n",
    "\n",
    "50.0 만 번 :  0.3984198\n",
    "Running Time 6:53:15\n",
    "\n",
    "60.0 만 번 :  0.40055117\n",
    "Running Time 8:15:35\n",
    "\n",
    "70.0 만 번 :  0.41592264\n",
    "Running Time 9:39:15\n",
    "\n",
    "80.0 만 번 :  0.4185595\n",
    "Running Time 11:02:48\n",
    "\n",
    "90.0 만 번 :  0.4016472\n",
    "Running Time 12:25:59\n",
    "\n",
    "100.0 만 번 :  0.40232623\n",
    "Running Time 13:47:08\n",
    "\n",
    "최적화 완료!\n",
    "\n",
    "\n",
    "예측값 :  [[3.099729 ]\n",
    " [2.8356795]\n",
    " [1.7965319]\n",
    " ...\n",
    " [5.0537486]\n",
    " [4.901182 ]\n",
    " [4.4959455]]\n",
    "실제값 :  [[2.8332133]\n",
    " [3.713572 ]\n",
    " [3.4965076]\n",
    " ...\n",
    " [5.1298985]\n",
    " [4.8675346]\n",
    " [4.4886365]]\n",
    "\n",
    "완료\n",
    "\n",
    "Running Time 13:47:08"
   ]
  },
  {
   "cell_type": "markdown",
   "metadata": {},
   "source": [
    "####   \n",
    "####  "
   ]
  },
  {
   "cell_type": "markdown",
   "metadata": {},
   "source": [
    " ## 4. Bike Sharing Demand TensorFlow modeling 결론"
   ]
  },
  {
   "cell_type": "markdown",
   "metadata": {},
   "source": [
    "#### ◎ 은닉층은 5개, 손실함수는 cost = tf.reduce_mean(tf.square(model - Y))가 가장 좋은 결과를 보인다.\n",
    "#### ◎ 활성화 함수인 ReLu함수를 적용하지 않은 것이 더 낫다.\n",
    "#### ◎ 학습 횟수는 10만 번에서 준수하다. 100만 번으로 많이 했는데 실제 결과값은 더 안 좋아졌다.\n",
    "\n"
   ]
  },
  {
   "cell_type": "markdown",
   "metadata": {},
   "source": [
    "####    \n",
    "####    \n",
    "####   "
   ]
  }
 ],
 "metadata": {
  "kernelspec": {
   "display_name": "Python 3",
   "language": "python",
   "name": "python3"
  },
  "language_info": {
   "codemirror_mode": {
    "name": "ipython",
    "version": 3
   },
   "file_extension": ".py",
   "mimetype": "text/x-python",
   "name": "python",
   "nbconvert_exporter": "python",
   "pygments_lexer": "ipython3",
   "version": "3.6.1"
  }
 },
 "nbformat": 4,
 "nbformat_minor": 2
}
