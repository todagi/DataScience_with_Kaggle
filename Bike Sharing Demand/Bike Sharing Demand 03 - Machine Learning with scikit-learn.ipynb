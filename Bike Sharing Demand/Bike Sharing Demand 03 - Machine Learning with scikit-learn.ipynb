{
 "cells": [
  {
   "cell_type": "markdown",
   "metadata": {},
   "source": [
    "\n",
    "# Bike Sharing Demand 03 - Machine Learning with scikit-learn"
   ]
  },
  {
   "cell_type": "markdown",
   "metadata": {},
   "source": [
    "###   \n",
    "### 목표 : scikit-learn 패키지를 활용하여 다양한 Machine Learning 분석을 수행한다.\n",
    "###   \n",
    "###   "
   ]
  },
  {
   "cell_type": "markdown",
   "metadata": {},
   "source": [
    "## 1. 데이터 전처리"
   ]
  },
  {
   "cell_type": "code",
   "execution_count": 1,
   "metadata": {
    "collapsed": true
   },
   "outputs": [],
   "source": [
    "import pandas as pd\n",
    "import numpy as np\n",
    "\n",
    "train = pd.read_csv(\"./bike/train.csv\", parse_dates=['datetime'])\n",
    "test = pd.read_csv(\"./bike/test.csv\", parse_dates=['datetime'])\n",
    "\n",
    "train['year'] = train['datetime'].dt.year  \n",
    "train['month'] = train['datetime'].dt.month\n",
    "train['day'] = train['datetime'].dt.day\n",
    "train['hour'] = train['datetime'].dt.hour\n",
    "train['minute'] = train['datetime'].dt.minute\n",
    "train['second'] = train['datetime'].dt.second\n",
    "train[\"dayofweek\"] = train[\"datetime\"].dt.dayofweek \n",
    "\n",
    "test['year'] = test['datetime'].dt.year  \n",
    "test['month'] = test['datetime'].dt.month\n",
    "test['day'] = test['datetime'].dt.day\n",
    "test['hour'] = test['datetime'].dt.hour\n",
    "test['minute'] = test['datetime'].dt.minute\n",
    "test['second'] = test['datetime'].dt.second\n",
    "test[\"dayofweek\"] = train[\"datetime\"].dt.dayofweek \n",
    "\n",
    "train[\"season_1\"] = train[\"season\"] == 1\n",
    "train[\"season_2\"] = train[\"season\"] == 2\n",
    "train[\"season_3\"] = train[\"season\"] == 3\n",
    "train[\"season_4\"] = train[\"season\"] == 4\n",
    "\n",
    "test[\"season_1\"] = test[\"season\"] == 1\n",
    "test[\"season_2\"] = test[\"season\"] == 2\n",
    "test[\"season_3\"] = test[\"season\"] == 3\n",
    "test[\"season_4\"] = test[\"season\"] == 4\n",
    "\n",
    "train[\"weather_1\"] = train[\"weather\"] == 1\n",
    "train[\"weather_2\"] = train[\"weather\"] == 2\n",
    "train[\"weather_3\"] = train[\"weather\"] == 3\n",
    "train[\"weather_4\"] = train[\"weather\"] == 4\n",
    "\n",
    "test[\"weather_1\"] = test[\"weather\"] == 1\n",
    "test[\"weather_2\"] = test[\"weather\"] == 2\n",
    "test[\"weather_3\"] = test[\"weather\"] == 3\n",
    "test[\"weather_4\"] = test[\"weather\"] == 4\n",
    "\n",
    "train[\"mon\"] = train[\"dayofweek\"] == 0\n",
    "train[\"tue\"] = train[\"dayofweek\"] == 1\n",
    "train[\"wed\"] = train[\"dayofweek\"] == 2\n",
    "train[\"thu\"] = train[\"dayofweek\"] == 3\n",
    "train[\"fri\"] = train[\"dayofweek\"] == 4\n",
    "train[\"sat\"] = train[\"dayofweek\"] == 5\n",
    "train[\"sun\"] = train[\"dayofweek\"] == 6\n",
    "\n",
    "test[\"mon\"] = test[\"dayofweek\"] == 0\n",
    "test[\"tue\"] = test[\"dayofweek\"] == 1\n",
    "test[\"wed\"] = test[\"dayofweek\"] == 2\n",
    "test[\"thu\"] = test[\"dayofweek\"] == 3\n",
    "test[\"fri\"] = test[\"dayofweek\"] == 4\n",
    "test[\"sat\"] = test[\"dayofweek\"] == 5\n",
    "test[\"sun\"] = test[\"dayofweek\"] == 6\n",
    "\n",
    "train[\"12 am\"] = train[\"hour\"] == 0 \n",
    "test[\"12 am\"] = test[\"hour\"] == 0 \n",
    "\n",
    "train[\"1 am\"] = train[\"hour\"] == 1\n",
    "test[\"1 am\"] = test[\"hour\"] == 1 \n",
    "\n",
    "train[\"2 am\"] = train[\"hour\"] == 2 \n",
    "test[\"2 am\"] = test[\"hour\"] == 2 \n",
    "\n",
    "train[\"3 am\"] = train[\"hour\"] == 3 \n",
    "test[\"3 am\"] = test[\"hour\"] == 3 \n",
    "\n",
    "train[\"4 am\"] = train[\"hour\"] == 4 \n",
    "test[\"4 am\"] = test[\"hour\"] == 4 \n",
    "\n",
    "train[\"5 am\"] = train[\"hour\"] == 5 \n",
    "test[\"5 am\"] = test[\"hour\"] == 5 \n",
    "\n",
    "train[\"6 am\"] = train[\"hour\"] == 6 \n",
    "test[\"6 am\"] = test[\"hour\"] == 6 \n",
    "\n",
    "train[\"7 am\"] = train[\"hour\"] == 7 \n",
    "test[\"7 am\"] = test[\"hour\"] == 7 \n",
    "\n",
    "train[\"8 am\"] = train[\"hour\"] == 8 \n",
    "test[\"8 am\"] = test[\"hour\"] == 8\n",
    "\n",
    "train[\"9 am\"] = train[\"hour\"] == 9 \n",
    "test[\"9 am\"] = test[\"hour\"] == 9 \n",
    "\n",
    "train[\"10 am\"] = train[\"hour\"] == 10 \n",
    "test[\"10 am\"] = test[\"hour\"] == 10 \n",
    "\n",
    "train[\"11 am\"] = train[\"hour\"] == 11 \n",
    "test[\"11 am\"] = test[\"hour\"] == 11 \n",
    "\n",
    "train[\"12 pm\"] = train[\"hour\"] == 12 \n",
    "test[\"12 pm\"] = test[\"hour\"] == 12\n",
    "\n",
    "train[\"1 pm\"] = train[\"hour\"] == 13 \n",
    "test[\"1 pm\"] = test[\"hour\"] == 13 \n",
    "\n",
    "train[\"2 pm\"] = train[\"hour\"] == 14 \n",
    "test[\"2 pm\"] = test[\"hour\"] == 14 \n",
    "\n",
    "train[\"3 pm\"] = train[\"hour\"] == 15 \n",
    "test[\"3 pm\"] = test[\"hour\"] == 15\n",
    "\n",
    "train[\"4 pm\"] = train[\"hour\"] == 16 \n",
    "test[\"4 pm\"] = test[\"hour\"] == 16\n",
    "\n",
    "train[\"5 pm\"] = train[\"hour\"] == 17 \n",
    "test[\"5 pm\"] = test[\"hour\"] == 17\n",
    "\n",
    "train[\"6 pm\"] = train[\"hour\"] == 18\n",
    "test[\"6 pm\"] = test[\"hour\"] == 18\n",
    "\n",
    "train[\"7 pm\"] = train[\"hour\"] == 19 \n",
    "test[\"7 pm\"] = test[\"hour\"] == 19\n",
    "\n",
    "train[\"8 pm\"] = train[\"hour\"] == 20\n",
    "test[\"8 pm\"] = test[\"hour\"] == 20\n",
    "\n",
    "train[\"9 pm\"] = train[\"hour\"] == 21\n",
    "test[\"9 pm\"] = test[\"hour\"] == 21\n",
    "\n",
    "train[\"10 pm\"] = train[\"hour\"] == 22\n",
    "test[\"10 pm\"] = test[\"hour\"] == 22\n",
    "\n",
    "train[\"11 pm\"] = train[\"hour\"] == 23\n",
    "test[\"11 pm\"] = test[\"hour\"] == 23\n",
    "\n",
    "\n",
    "# basic_features\n",
    "# feature_names = ['holiday', 'workingday', 'temp', 'atemp', 'humidity', 'windspeed',\n",
    "#                  'year', 'month', 'day', 'hour', 'minute', 'second',\n",
    "#                  'season_1', 'season_2', 'season_3', 'season_4',\n",
    "#                  'weather_1', 'weather_2', 'weather_3', 'weather_4',\n",
    "#                  'mon', 'tue', 'wed', 'thu', 'fri', 'sat', 'sun',\n",
    "#                  '12 am', '1 am', '2 am', '3 am', '4 am', '5 am', '6 am', '7 am', '8 am', '9 am', '10 am', '11 am', \n",
    "#                  '12 pm', '1 pm', '2 pm', '3 pm', '4 pm', '5 pm', '6 pm', '7 pm', '8 pm', '9 pm', '10 pm', '11 pm',\n",
    "#                  ]\n",
    "\n",
    "# featuers_1 : datetime 전부 제외\n",
    "# feature_names = ['holiday', 'workingday', 'temp', 'atemp', 'humidity', 'windspeed',\n",
    "#                  'season_1', 'season_2', 'season_3', 'season_4',\n",
    "#                  'weather_1', 'weather_2', 'weather_3', 'weather_4',    \n",
    "#                  ]  \n",
    "\n",
    "# features_2 : 시,분,초만 제외, 시간 원핫인코딩 유지\n",
    "# feature_names = ['holiday', 'workingday', 'temp', 'atemp', 'humidity', 'windspeed',\n",
    "#                  'year', 'month', 'day',\n",
    "#                  'season_1', 'season_2', 'season_3', 'season_4',\n",
    "#                  'weather_1', 'weather_2', 'weather_3', 'weather_4',\n",
    "#                  'mon', 'tue', 'wed', 'thu', 'fri', 'sat', 'sun',\n",
    "#                  '12 am', '1 am', '2 am', '3 am', '4 am', '5 am', '6 am', '7 am', '8 am', '9 am', '10 am', '11 am', \n",
    "#                  '12 pm', '1 pm', '2 pm', '3 pm', '4 pm', '5 pm', '6 pm', '7 pm', '8 pm', '9 pm', '10 pm', '11 pm',\n",
    "#                  ]\n",
    "\n",
    "# features_3 : 모든 시간 제외\n",
    "# feature_names = ['holiday', 'workingday', 'temp', 'atemp', 'humidity', 'windspeed',\n",
    "#                  'year', 'month', 'day',\n",
    "#                  'season_1', 'season_2', 'season_3', 'season_4',\n",
    "#                  'weather_1', 'weather_2', 'weather_3', 'weather_4',\n",
    "#                  'mon', 'tue', 'wed', 'thu', 'fri', 'sat', 'sun',\n",
    "#                  ]\n",
    "\n",
    "# feature_4 : 일, 분, 초 제외\n",
    "feature_names = ['holiday', 'workingday', 'temp', 'atemp', 'humidity', 'windspeed',\n",
    "                 'year', 'month', 'hour',\n",
    "                 'season_1', 'season_2', 'season_3', 'season_4',\n",
    "                 'weather_1', 'weather_2', 'weather_3', 'weather_4',\n",
    "                 'mon', 'tue', 'wed', 'thu', 'fri', 'sat', 'sun',\n",
    "                 '12 am', '1 am', '2 am', '3 am', '4 am', '5 am', '6 am', '7 am', '8 am', '9 am', '10 am', '11 am', \n",
    "                 '12 pm', '1 pm', '2 pm', '3 pm', '4 pm', '5 pm', '6 pm', '7 pm', '8 pm', '9 pm', '10 pm', '11 pm',\n",
    "                 ]\n",
    "\n",
    "# feature_5 : 일, 분, 초, 시간, 요일 원핫인코딩 제외\n",
    "# feature_names = ['holiday', 'workingday', 'temp', 'atemp', 'humidity', 'windspeed',\n",
    "#                  'year', 'month', 'hour',\n",
    "#                  'season_1', 'season_2', 'season_3', 'season_4',\n",
    "#                  'weather_1', 'weather_2', 'weather_3', 'weather_4',\n",
    "#                  'dayofweek'\n",
    "#                  ]\n",
    "\n",
    "\n",
    "\n",
    "# feature_6 : 월, 일, 분, 초, 시간, 요일 원핫인코딩 제외\n",
    "# feature_names = ['holiday', 'workingday', 'temp', 'atemp', 'humidity', 'windspeed',\n",
    "#                   'year', 'hour', \n",
    "#                   'weather_1', 'weather_2', 'weather_3', 'weather_4',\n",
    "#                   'season_1', 'season_2', 'season_3', 'season_4',\n",
    "#                   'dayofweek']\n",
    "\n",
    "# feature_7 : 원핫인코딩 제외, 연, 시간 요일만\n",
    "# feature_names = [ 'holiday', 'workingday', 'temp', 'atemp',  'humidity', 'windspeed',\n",
    "#                   'season','weather',\n",
    "#                   'year','hour', 'dayofweek']\n",
    "\n",
    "# feature_8 : 원핫인코딩 제외, 연, 월, 시, 요일별\n",
    "# feature_names = [ 'holiday', 'workingday', 'temp', 'atemp',  'humidity', 'windspeed',\n",
    "#                  'season','weather',\n",
    "#                  'year','month', 'hour', ]\n",
    "\n",
    "# feature_9 : 해야 할 것\n",
    "# feature_names = ['holiday', 'workingday', 'temp', 'atemp', 'humidity', 'windspeed',\n",
    "#                  'year', 'month', 'hour',\n",
    "#                  'season','weather',\n",
    "#                  'mon', 'tue', 'wed', 'thu', 'fri', 'sat', 'sun',\n",
    "#                  '12 am', '1 am', '2 am', '3 am', '4 am', '5 am', '6 am', '7 am', '8 am', '9 am', '10 am', '11 am', \n",
    "#                  '12 pm', '1 pm', '2 pm', '3 pm', '4 pm', '5 pm', '6 pm', '7 pm', '8 pm', '9 pm', '10 pm', '11 pm',\n",
    "#                  ]\n",
    "\n",
    "\n",
    "\n",
    "x_train = train[feature_names]\n",
    "y_train = train['count']\n",
    "x_test = test[feature_names]\n",
    "\n",
    "y_train = np.log1p(y_train)"
   ]
  },
  {
   "cell_type": "markdown",
   "metadata": {},
   "source": [
    "#### 앞서 수행한 EDA를 통해 나온 전처리 과정을 반복한다."
   ]
  },
  {
   "cell_type": "markdown",
   "metadata": {},
   "source": [
    "####   \n",
    "####   "
   ]
  },
  {
   "cell_type": "markdown",
   "metadata": {},
   "source": [
    "## 2. Linear Regression"
   ]
  },
  {
   "cell_type": "markdown",
   "metadata": {
    "collapsed": true
   },
   "source": [
    "#### 종속 변수 y와 한 개 이상의 독립 변수 (또는 설명 변수) X와의 선형(직선) 상관 관계를 모델링하는 회귀분석 기법"
   ]
  },
  {
   "cell_type": "markdown",
   "metadata": {},
   "source": [
    "#### (1) 기본 모델 "
   ]
  },
  {
   "cell_type": "code",
   "execution_count": 8,
   "metadata": {},
   "outputs": [
    {
     "data": {
      "text/plain": [
       "LinearRegression(copy_X=True, fit_intercept=True, n_jobs=1, normalize=False)"
      ]
     },
     "execution_count": 8,
     "metadata": {},
     "output_type": "execute_result"
    }
   ],
   "source": [
    "from sklearn import linear_model\n",
    "           \n",
    "LR_model = linear_model.LinearRegression()\n",
    "LR_model"
   ]
  },
  {
   "cell_type": "code",
   "execution_count": 39,
   "metadata": {},
   "outputs": [
    {
     "data": {
      "text/plain": [
       "LinearRegression(copy_X=True, fit_intercept=True, n_jobs=1, normalize=False)"
      ]
     },
     "execution_count": 39,
     "metadata": {},
     "output_type": "execute_result"
    }
   ],
   "source": [
    "# Linear Regression 불러오는 또다른 방법 \n",
    "\n",
    "from sklearn.linear_model import LinearRegression\n",
    "\n",
    "LR_model = LinearRegression()\n",
    "LR_model"
   ]
  },
  {
   "cell_type": "code",
   "execution_count": 40,
   "metadata": {},
   "outputs": [
    {
     "data": {
      "text/plain": [
       "LinearRegression(copy_X=True, fit_intercept=True, n_jobs=1, normalize=False)"
      ]
     },
     "execution_count": 40,
     "metadata": {},
     "output_type": "execute_result"
    }
   ],
   "source": [
    "LR_model.fit(x_train, y_train)"
   ]
  },
  {
   "cell_type": "code",
   "execution_count": 41,
   "metadata": {},
   "outputs": [
    {
     "data": {
      "text/plain": [
       "-0.9337538211371099"
      ]
     },
     "execution_count": 41,
     "metadata": {},
     "output_type": "execute_result"
    }
   ],
   "source": [
    "from sklearn.model_selection import cross_val_score\n",
    "\n",
    "cv_score = cross_val_score(LR_model, x_train, y_train, cv = 20,\n",
    "                           scoring = \"neg_mean_absolute_error\").mean()\n",
    "\n",
    "cv_score"
   ]
  },
  {
   "cell_type": "code",
   "execution_count": 42,
   "metadata": {},
   "outputs": [
    {
     "data": {
      "text/plain": [
       "-1.4458992920320461"
      ]
     },
     "execution_count": 42,
     "metadata": {},
     "output_type": "execute_result"
    }
   ],
   "source": [
    "cv_score = cross_val_score(LR_model, x_train, y_train, cv = 20,\n",
    "                           scoring = \"neg_mean_squared_error\").mean()\n",
    "\n",
    "cv_score"
   ]
  },
  {
   "cell_type": "code",
   "execution_count": 43,
   "metadata": {},
   "outputs": [
    {
     "data": {
      "text/plain": [
       "array([39.03441647, 33.19557407, 33.19557407, 35.79591755, 35.79591755,\n",
       "       30.79750249, 28.81429573, 32.48224454, 33.69079496, 45.44907209])"
      ]
     },
     "execution_count": 43,
     "metadata": {},
     "output_type": "execute_result"
    }
   ],
   "source": [
    "predictions = LR_model.predict(x_test)\n",
    "predictions = np.expm1(predictions)\n",
    "predictions[0:10]"
   ]
  },
  {
   "cell_type": "code",
   "execution_count": 44,
   "metadata": {},
   "outputs": [
    {
     "name": "stdout",
     "output_type": "stream",
     "text": [
      "(6493, 1)\n"
     ]
    },
    {
     "data": {
      "text/html": [
       "<div>\n",
       "<style>\n",
       "    .dataframe thead tr:only-child th {\n",
       "        text-align: right;\n",
       "    }\n",
       "\n",
       "    .dataframe thead th {\n",
       "        text-align: left;\n",
       "    }\n",
       "\n",
       "    .dataframe tbody tr th {\n",
       "        vertical-align: top;\n",
       "    }\n",
       "</style>\n",
       "<table border=\"1\" class=\"dataframe\">\n",
       "  <thead>\n",
       "    <tr style=\"text-align: right;\">\n",
       "      <th></th>\n",
       "      <th>count</th>\n",
       "    </tr>\n",
       "    <tr>\n",
       "      <th>datetime</th>\n",
       "      <th></th>\n",
       "    </tr>\n",
       "  </thead>\n",
       "  <tbody>\n",
       "    <tr>\n",
       "      <th>2011-01-20 00:00:00</th>\n",
       "      <td>39.034416</td>\n",
       "    </tr>\n",
       "    <tr>\n",
       "      <th>2011-01-20 01:00:00</th>\n",
       "      <td>33.195574</td>\n",
       "    </tr>\n",
       "    <tr>\n",
       "      <th>2011-01-20 02:00:00</th>\n",
       "      <td>33.195574</td>\n",
       "    </tr>\n",
       "    <tr>\n",
       "      <th>2011-01-20 03:00:00</th>\n",
       "      <td>35.795918</td>\n",
       "    </tr>\n",
       "    <tr>\n",
       "      <th>2011-01-20 04:00:00</th>\n",
       "      <td>35.795918</td>\n",
       "    </tr>\n",
       "  </tbody>\n",
       "</table>\n",
       "</div>"
      ],
      "text/plain": [
       "                         count\n",
       "datetime                      \n",
       "2011-01-20 00:00:00  39.034416\n",
       "2011-01-20 01:00:00  33.195574\n",
       "2011-01-20 02:00:00  33.195574\n",
       "2011-01-20 03:00:00  35.795918\n",
       "2011-01-20 04:00:00  35.795918"
      ]
     },
     "execution_count": 44,
     "metadata": {},
     "output_type": "execute_result"
    }
   ],
   "source": [
    "submission = pd.read_csv(\"./bike/sampleSubmission.csv\",  index_col= \"datetime\")\n",
    "submission['count'] = predictions\n",
    "\n",
    "submission.to_csv(\"LR_model3.csv\")    \n",
    "print(submission.shape)\n",
    "submission.head()"
   ]
  },
  {
   "cell_type": "markdown",
   "metadata": {},
   "source": [
    "#### 모델 요약"
   ]
  },
  {
   "cell_type": "code",
   "execution_count": null,
   "metadata": {
    "collapsed": true
   },
   "outputs": [],
   "source": [
    "from sklearn.linear_model import LinearRegression\n",
    "\n",
    "LR_model = LinearRegression()\n",
    "LR_model.fit(x_train, y_train)\n",
    "predictions = LR_model.predict(x_test)\n",
    "predictions = np.expm1(predictions)\n",
    "submission = pd.read_csv(\"./bike/sampleSubmission.csv\",  index_col= \"datetime\")\n",
    "submission['count'] = predictions\n",
    "\n",
    "submission.to_csv(\"LR_model3.csv\") "
   ]
  },
  {
   "cell_type": "markdown",
   "metadata": {},
   "source": [
    "#### 결과보고서"
   ]
  },
  {
   "cell_type": "code",
   "execution_count": null,
   "metadata": {
    "collapsed": true
   },
   "outputs": [],
   "source": [
    "# basic features\n",
    "\n",
    "LinearRegression()  : Fail \n",
    "LinearRegression() / log(y+1) : Fail   \n",
    "    \n",
    "# featuers_1\n",
    "LinearRegression() / log(y+1) : 1.18442\n",
    "    \n",
    "# features_3\n",
    "LinearRegression() / log(y+1) : 1.19866"
   ]
  },
  {
   "cell_type": "markdown",
   "metadata": {
    "collapsed": true
   },
   "source": [
    "#### (2) Hyperparameter 조정"
   ]
  },
  {
   "cell_type": "markdown",
   "metadata": {},
   "source": [
    "#### LinearRegression"
   ]
  },
  {
   "cell_type": "markdown",
   "metadata": {},
   "source": [
    "#### 기본"
   ]
  },
  {
   "cell_type": "code",
   "execution_count": 18,
   "metadata": {},
   "outputs": [
    {
     "data": {
      "text/plain": [
       "LinearRegression(copy_X=True, fit_intercept=True, n_jobs=1, normalize=False)"
      ]
     },
     "execution_count": 18,
     "metadata": {},
     "output_type": "execute_result"
    }
   ],
   "source": [
    "from sklearn import linear_model\n",
    "           \n",
    "LR_model = linear_model.LinearRegression()\n",
    "LR_model"
   ]
  },
  {
   "cell_type": "markdown",
   "metadata": {
    "collapsed": true
   },
   "source": [
    "#### 조정"
   ]
  },
  {
   "cell_type": "code",
   "execution_count": 23,
   "metadata": {
    "collapsed": true
   },
   "outputs": [],
   "source": [
    "params = {'copy_X' : False, 'fit_intercept' : False, 'n_jobs' : 6, 'normalize' : False}"
   ]
  },
  {
   "cell_type": "code",
   "execution_count": 24,
   "metadata": {},
   "outputs": [
    {
     "data": {
      "text/plain": [
       "array([45.44577226, 39.74544311, 39.74544311, ..., 38.37482489,\n",
       "       42.51847134, 34.14451187])"
      ]
     },
     "execution_count": 24,
     "metadata": {},
     "output_type": "execute_result"
    }
   ],
   "source": [
    "from sklearn.linear_model import LinearRegression\n",
    "\n",
    "LR_model = LinearRegression(params)\n",
    "LR_model.fit(x_train, y_train)\n",
    "predictions = LR_model.predict(x_test)\n",
    "predictions = np.expm1(predictions)\n",
    "submission = pd.read_csv(\"./bike/sampleSubmission.csv\",  index_col= \"datetime\")\n",
    "submission['count'] = predictions\n",
    "\n",
    "predictions"
   ]
  },
  {
   "cell_type": "code",
   "execution_count": 25,
   "metadata": {},
   "outputs": [
    {
     "name": "stdout",
     "output_type": "stream",
     "text": [
      "done!\n"
     ]
    }
   ],
   "source": [
    "submission.to_csv(\"LR_model4.csv\") \n",
    "print(\"done!\")"
   ]
  },
  {
   "cell_type": "markdown",
   "metadata": {},
   "source": [
    "#### 결과 보고서"
   ]
  },
  {
   "cell_type": "code",
   "execution_count": null,
   "metadata": {
    "collapsed": true
   },
   "outputs": [],
   "source": [
    "# basic features\n",
    "\n",
    "LinearRegression() / log(y+1)  : 1.18442    \n",
    "    "
   ]
  },
  {
   "cell_type": "markdown",
   "metadata": {},
   "source": [
    "####   \n",
    "####  "
   ]
  },
  {
   "cell_type": "markdown",
   "metadata": {
    "collapsed": true
   },
   "source": [
    "## 3. Ridge Regression"
   ]
  },
  {
   "cell_type": "markdown",
   "metadata": {
    "collapsed": true
   },
   "source": [
    "#### 능형 회귀분석으로 다중 회귀를 의미하며 설명 변수 간에 다중 공동선 관계가 있을 때 그 대책의 하나\n",
    "#### 잔차제곱합(RSS)과 정규화항 제곱을 사용한다.\n",
    "#### 다중공동선 : 모형의 일부 예측 변수가 다른 예측 변수와 상관 정도가 높아, 데이터 분석 시 부정적인 영향을 미치는 현상"
   ]
  },
  {
   "cell_type": "markdown",
   "metadata": {},
   "source": [
    "#### (1) 기본 모델"
   ]
  },
  {
   "cell_type": "code",
   "execution_count": 25,
   "metadata": {},
   "outputs": [
    {
     "data": {
      "text/plain": [
       "Ridge(alpha=1.0, copy_X=True, fit_intercept=True, max_iter=None,\n",
       "   normalize=False, random_state=None, solver='auto', tol=0.001)"
      ]
     },
     "execution_count": 25,
     "metadata": {},
     "output_type": "execute_result"
    }
   ],
   "source": [
    "from sklearn.linear_model import Ridge\n",
    "\n",
    "Ri_model = Ridge()\n",
    "Ri_model"
   ]
  },
  {
   "cell_type": "code",
   "execution_count": 26,
   "metadata": {},
   "outputs": [
    {
     "data": {
      "text/plain": [
       "Ridge(alpha=1.0, copy_X=True, fit_intercept=True, max_iter=None,\n",
       "   normalize=False, random_state=None, solver='auto', tol=0.001)"
      ]
     },
     "execution_count": 26,
     "metadata": {},
     "output_type": "execute_result"
    }
   ],
   "source": [
    "Ri_model.fit(x_train, y_train)"
   ]
  },
  {
   "cell_type": "code",
   "execution_count": 27,
   "metadata": {},
   "outputs": [
    {
     "data": {
      "text/plain": [
       "-0.9528959441347936"
      ]
     },
     "execution_count": 27,
     "metadata": {},
     "output_type": "execute_result"
    }
   ],
   "source": [
    "from sklearn.model_selection import cross_val_score\n",
    "\n",
    "cv_score = cross_val_score(Ri_model, x_train, y_train, cv = 20,\n",
    "                           scoring = \"neg_mean_absolute_error\").mean()\n",
    "\n",
    "cv_score"
   ]
  },
  {
   "cell_type": "code",
   "execution_count": 29,
   "metadata": {},
   "outputs": [
    {
     "data": {
      "text/plain": [
       "array([45.46066713, 39.7690554 , 39.7690554 , 42.31895361, 42.31895361,\n",
       "       36.13896718, 33.68248164, 38.05413596, 39.21305044, 54.26036324])"
      ]
     },
     "execution_count": 29,
     "metadata": {},
     "output_type": "execute_result"
    }
   ],
   "source": [
    "predictions = R_imodel.predict(x_test)\n",
    "predictions = np.expm1(predictions)\n",
    "predictions[0:10]"
   ]
  },
  {
   "cell_type": "code",
   "execution_count": 30,
   "metadata": {},
   "outputs": [
    {
     "name": "stdout",
     "output_type": "stream",
     "text": [
      "(6493, 1)\n"
     ]
    },
    {
     "data": {
      "text/html": [
       "<div>\n",
       "<style>\n",
       "    .dataframe thead tr:only-child th {\n",
       "        text-align: right;\n",
       "    }\n",
       "\n",
       "    .dataframe thead th {\n",
       "        text-align: left;\n",
       "    }\n",
       "\n",
       "    .dataframe tbody tr th {\n",
       "        vertical-align: top;\n",
       "    }\n",
       "</style>\n",
       "<table border=\"1\" class=\"dataframe\">\n",
       "  <thead>\n",
       "    <tr style=\"text-align: right;\">\n",
       "      <th></th>\n",
       "      <th>count</th>\n",
       "    </tr>\n",
       "    <tr>\n",
       "      <th>datetime</th>\n",
       "      <th></th>\n",
       "    </tr>\n",
       "  </thead>\n",
       "  <tbody>\n",
       "    <tr>\n",
       "      <th>2011-01-20 00:00:00</th>\n",
       "      <td>45.460667</td>\n",
       "    </tr>\n",
       "    <tr>\n",
       "      <th>2011-01-20 01:00:00</th>\n",
       "      <td>39.769055</td>\n",
       "    </tr>\n",
       "    <tr>\n",
       "      <th>2011-01-20 02:00:00</th>\n",
       "      <td>39.769055</td>\n",
       "    </tr>\n",
       "    <tr>\n",
       "      <th>2011-01-20 03:00:00</th>\n",
       "      <td>42.318954</td>\n",
       "    </tr>\n",
       "    <tr>\n",
       "      <th>2011-01-20 04:00:00</th>\n",
       "      <td>42.318954</td>\n",
       "    </tr>\n",
       "  </tbody>\n",
       "</table>\n",
       "</div>"
      ],
      "text/plain": [
       "                         count\n",
       "datetime                      \n",
       "2011-01-20 00:00:00  45.460667\n",
       "2011-01-20 01:00:00  39.769055\n",
       "2011-01-20 02:00:00  39.769055\n",
       "2011-01-20 03:00:00  42.318954\n",
       "2011-01-20 04:00:00  42.318954"
      ]
     },
     "execution_count": 30,
     "metadata": {},
     "output_type": "execute_result"
    }
   ],
   "source": [
    "submission = pd.read_csv(\"./bike/sampleSubmission.csv\", index_col = \"datetime\")\n",
    "submission['count'] = predictions\n",
    "\n",
    "submission.to_csv(\"Ri_model.csv\")\n",
    "\n",
    "print(submission.shape)\n",
    "submission.head()"
   ]
  },
  {
   "cell_type": "markdown",
   "metadata": {},
   "source": [
    "#### 모델 요약"
   ]
  },
  {
   "cell_type": "code",
   "execution_count": null,
   "metadata": {
    "collapsed": true
   },
   "outputs": [],
   "source": [
    "from sklearn.linear_model import Ridge\n",
    "\n",
    "R_model = Ridge()\n",
    "R_model.fit(x_train, y_train)\n",
    "predictions = R_model.predict(x_test)\n",
    "predictions = np.expm1(predictions)\n",
    "submission = pd.read_csv(\"./bike/sampleSubmission.csv\", index_col = \"datetime\")\n",
    "submission['count'] = predictions\n",
    "\n",
    "submission.to_csv(\"R_model.csv\")\n",
    "\n",
    "print(submission.shape)\n",
    "submission.head()"
   ]
  },
  {
   "cell_type": "markdown",
   "metadata": {},
   "source": [
    "#### 결과보고서 "
   ]
  },
  {
   "cell_type": "code",
   "execution_count": null,
   "metadata": {
    "collapsed": true
   },
   "outputs": [],
   "source": [
    "Ridge() / log(y+1) / featuers_1 :  1.18412"
   ]
  },
  {
   "cell_type": "markdown",
   "metadata": {},
   "source": [
    "#### (2) Hyperparameter 조정"
   ]
  },
  {
   "cell_type": "markdown",
   "metadata": {},
   "source": [
    "#### Ridge Regression"
   ]
  },
  {
   "cell_type": "markdown",
   "metadata": {},
   "source": [
    "#### 기본"
   ]
  },
  {
   "cell_type": "code",
   "execution_count": 19,
   "metadata": {},
   "outputs": [
    {
     "data": {
      "text/plain": [
       "Ridge(alpha=1.0, copy_X=True, fit_intercept=True, max_iter=None,\n",
       "   normalize=False, random_state=None, solver='auto', tol=0.001)"
      ]
     },
     "execution_count": 19,
     "metadata": {},
     "output_type": "execute_result"
    }
   ],
   "source": [
    "from sklearn.linear_model import Ridge\n",
    "\n",
    "Ri_model = Ridge()\n",
    "Ri_model"
   ]
  },
  {
   "cell_type": "markdown",
   "metadata": {},
   "source": [
    "#### 조정"
   ]
  },
  {
   "cell_type": "code",
   "execution_count": null,
   "metadata": {
    "collapsed": true
   },
   "outputs": [],
   "source": []
  },
  {
   "cell_type": "markdown",
   "metadata": {},
   "source": [
    "#### 결과 보고서"
   ]
  },
  {
   "cell_type": "markdown",
   "metadata": {
    "collapsed": true
   },
   "source": [
    "####  \n",
    "####  "
   ]
  },
  {
   "cell_type": "markdown",
   "metadata": {
    "collapsed": true
   },
   "source": [
    "## 4.  Lasso Regression"
   ]
  },
  {
   "cell_type": "markdown",
   "metadata": {
    "collapsed": true
   },
   "source": [
    "#### Lidge와 유사하지만 중요한 변수 몇 개만을 선택해 다른 계수들을 0으로 줄어 해석력이 더 좋음\n",
    "#### 잔차제곱합(RSS)과 정규화항 절다값을 사용한다."
   ]
  },
  {
   "cell_type": "markdown",
   "metadata": {
    "collapsed": true
   },
   "source": [
    "#### (1) 기본 모델"
   ]
  },
  {
   "cell_type": "code",
   "execution_count": 23,
   "metadata": {},
   "outputs": [
    {
     "data": {
      "text/plain": [
       "Lasso(alpha=1.0, copy_X=True, fit_intercept=True, max_iter=1000,\n",
       "   normalize=False, positive=False, precompute=False, random_state=None,\n",
       "   selection='cyclic', tol=0.0001, warm_start=False)"
      ]
     },
     "execution_count": 23,
     "metadata": {},
     "output_type": "execute_result"
    }
   ],
   "source": [
    "from sklearn.linear_model import Lasso\n",
    "\n",
    "La_model = Lasso()\n",
    "La_model"
   ]
  },
  {
   "cell_type": "code",
   "execution_count": 24,
   "metadata": {},
   "outputs": [
    {
     "data": {
      "text/plain": [
       "Lasso(alpha=1.0, copy_X=True, fit_intercept=True, max_iter=1000,\n",
       "   normalize=False, positive=False, precompute=False, random_state=None,\n",
       "   selection='cyclic', tol=0.0001, warm_start=False)"
      ]
     },
     "execution_count": 24,
     "metadata": {},
     "output_type": "execute_result"
    }
   ],
   "source": [
    "La_model.fit(x_train, y_train)"
   ]
  },
  {
   "cell_type": "code",
   "execution_count": 26,
   "metadata": {},
   "outputs": [
    {
     "data": {
      "text/plain": [
       "-0.8571641658145299"
      ]
     },
     "execution_count": 26,
     "metadata": {},
     "output_type": "execute_result"
    }
   ],
   "source": [
    "from sklearn.model_selection import cross_val_score\n",
    "\n",
    "cv_score = cross_val_score(La_model, x_train, y_train, cv = 20,\n",
    "                           scoring = \"neg_mean_absolute_error\").mean()\n",
    "cv_score"
   ]
  },
  {
   "cell_type": "code",
   "execution_count": 27,
   "metadata": {},
   "outputs": [
    {
     "data": {
      "text/plain": [
       "array([25.70678947, 30.52084324, 33.12768153, 34.9049388 , 37.87435077,\n",
       "       36.69000983, 38.64524711, 44.85380369, 48.64600717, 56.56288228])"
      ]
     },
     "execution_count": 27,
     "metadata": {},
     "output_type": "execute_result"
    }
   ],
   "source": [
    "predictions = La_model.predict(x_test)\n",
    "predictions = np.expm1(predictions)\n",
    "predictions[0:10]"
   ]
  },
  {
   "cell_type": "code",
   "execution_count": 28,
   "metadata": {},
   "outputs": [
    {
     "name": "stdout",
     "output_type": "stream",
     "text": [
      "(6493, 1)\n"
     ]
    },
    {
     "data": {
      "text/html": [
       "<div>\n",
       "<style>\n",
       "    .dataframe thead tr:only-child th {\n",
       "        text-align: right;\n",
       "    }\n",
       "\n",
       "    .dataframe thead th {\n",
       "        text-align: left;\n",
       "    }\n",
       "\n",
       "    .dataframe tbody tr th {\n",
       "        vertical-align: top;\n",
       "    }\n",
       "</style>\n",
       "<table border=\"1\" class=\"dataframe\">\n",
       "  <thead>\n",
       "    <tr style=\"text-align: right;\">\n",
       "      <th></th>\n",
       "      <th>count</th>\n",
       "    </tr>\n",
       "    <tr>\n",
       "      <th>datetime</th>\n",
       "      <th></th>\n",
       "    </tr>\n",
       "  </thead>\n",
       "  <tbody>\n",
       "    <tr>\n",
       "      <th>2011-01-20 00:00:00</th>\n",
       "      <td>25.706789</td>\n",
       "    </tr>\n",
       "    <tr>\n",
       "      <th>2011-01-20 01:00:00</th>\n",
       "      <td>30.520843</td>\n",
       "    </tr>\n",
       "    <tr>\n",
       "      <th>2011-01-20 02:00:00</th>\n",
       "      <td>33.127682</td>\n",
       "    </tr>\n",
       "    <tr>\n",
       "      <th>2011-01-20 03:00:00</th>\n",
       "      <td>34.904939</td>\n",
       "    </tr>\n",
       "    <tr>\n",
       "      <th>2011-01-20 04:00:00</th>\n",
       "      <td>37.874351</td>\n",
       "    </tr>\n",
       "  </tbody>\n",
       "</table>\n",
       "</div>"
      ],
      "text/plain": [
       "                         count\n",
       "datetime                      \n",
       "2011-01-20 00:00:00  25.706789\n",
       "2011-01-20 01:00:00  30.520843\n",
       "2011-01-20 02:00:00  33.127682\n",
       "2011-01-20 03:00:00  34.904939\n",
       "2011-01-20 04:00:00  37.874351"
      ]
     },
     "execution_count": 28,
     "metadata": {},
     "output_type": "execute_result"
    }
   ],
   "source": [
    "submission = pd.read_csv(\"./bike/sampleSubmission.csv\", index_col = \"datetime\")\n",
    "submission['count'] = predictions\n",
    "\n",
    "submission.to_csv(\"La_model1.csv\")\n",
    "\n",
    "print(submission.shape)\n",
    "submission.head()"
   ]
  },
  {
   "cell_type": "markdown",
   "metadata": {},
   "source": [
    "#### 결과 보고서"
   ]
  },
  {
   "cell_type": "code",
   "execution_count": null,
   "metadata": {
    "collapsed": true
   },
   "outputs": [],
   "source": [
    "# basic features\n",
    "\n",
    "Lasso / log(y+1)  : 1.05484   \n",
    "    "
   ]
  },
  {
   "cell_type": "markdown",
   "metadata": {},
   "source": [
    "#### (2) Hyperparameter 조정"
   ]
  },
  {
   "cell_type": "code",
   "execution_count": null,
   "metadata": {
    "collapsed": true
   },
   "outputs": [],
   "source": []
  },
  {
   "cell_type": "markdown",
   "metadata": {},
   "source": [
    "####   \n",
    "####   "
   ]
  },
  {
   "cell_type": "markdown",
   "metadata": {
    "collapsed": true
   },
   "source": [
    "## 5. Decision Tree Regressor"
   ]
  },
  {
   "cell_type": "markdown",
   "metadata": {
    "collapsed": true
   },
   "source": [
    "#### 몇몇 입력 변수를 바탕으로 목표 변수의 값을 예측하는 모델을 생성\n",
    "#### 나무가 뿌리를 내듯이 분류 변수가 기준 값에 따라 노드가 나뉜다."
   ]
  },
  {
   "cell_type": "markdown",
   "metadata": {},
   "source": [
    "#### (1) 기본 모델"
   ]
  },
  {
   "cell_type": "code",
   "execution_count": 29,
   "metadata": {},
   "outputs": [
    {
     "data": {
      "text/plain": [
       "DecisionTreeRegressor(criterion='mse', max_depth=None, max_features=None,\n",
       "           max_leaf_nodes=None, min_impurity_split=1e-07,\n",
       "           min_samples_leaf=1, min_samples_split=2,\n",
       "           min_weight_fraction_leaf=0.0, presort=False, random_state=None,\n",
       "           splitter='best')"
      ]
     },
     "execution_count": 29,
     "metadata": {},
     "output_type": "execute_result"
    }
   ],
   "source": [
    "from sklearn.tree import DecisionTreeRegressor\n",
    "\n",
    "DT_model = DecisionTreeRegressor()\n",
    "DT_model"
   ]
  },
  {
   "cell_type": "code",
   "execution_count": 30,
   "metadata": {},
   "outputs": [
    {
     "data": {
      "text/plain": [
       "DecisionTreeRegressor(criterion='mse', max_depth=None, max_features=None,\n",
       "           max_leaf_nodes=None, min_impurity_split=1e-07,\n",
       "           min_samples_leaf=1, min_samples_split=2,\n",
       "           min_weight_fraction_leaf=0.0, presort=False, random_state=None,\n",
       "           splitter='best')"
      ]
     },
     "execution_count": 30,
     "metadata": {},
     "output_type": "execute_result"
    }
   ],
   "source": [
    "DT_model.fit(x_train, y_train)"
   ]
  },
  {
   "cell_type": "code",
   "execution_count": 31,
   "metadata": {},
   "outputs": [
    {
     "data": {
      "text/plain": [
       "-0.34215334851972534"
      ]
     },
     "execution_count": 31,
     "metadata": {},
     "output_type": "execute_result"
    }
   ],
   "source": [
    "from sklearn.model_selection import cross_val_score\n",
    "\n",
    "cv_score = cross_val_score(DT_model, x_train, y_train, cv = 20,\n",
    "                           scoring = \"neg_mean_absolute_error\").mean()\n",
    "\n",
    "cv_score"
   ]
  },
  {
   "cell_type": "code",
   "execution_count": 32,
   "metadata": {},
   "outputs": [
    {
     "data": {
      "text/plain": [
       "array([ 17.,   4.,   3.,   1.,   4.,   8.,  33.,  88., 230., 115.])"
      ]
     },
     "execution_count": 32,
     "metadata": {},
     "output_type": "execute_result"
    }
   ],
   "source": [
    "predictions = DT_model.predict(x_test)\n",
    "predictions = np.expm1(predictions)\n",
    "predictions[0:10]"
   ]
  },
  {
   "cell_type": "code",
   "execution_count": 33,
   "metadata": {},
   "outputs": [
    {
     "name": "stdout",
     "output_type": "stream",
     "text": [
      "(6493, 1)\n"
     ]
    },
    {
     "data": {
      "text/html": [
       "<div>\n",
       "<style>\n",
       "    .dataframe thead tr:only-child th {\n",
       "        text-align: right;\n",
       "    }\n",
       "\n",
       "    .dataframe thead th {\n",
       "        text-align: left;\n",
       "    }\n",
       "\n",
       "    .dataframe tbody tr th {\n",
       "        vertical-align: top;\n",
       "    }\n",
       "</style>\n",
       "<table border=\"1\" class=\"dataframe\">\n",
       "  <thead>\n",
       "    <tr style=\"text-align: right;\">\n",
       "      <th></th>\n",
       "      <th>count</th>\n",
       "    </tr>\n",
       "    <tr>\n",
       "      <th>datetime</th>\n",
       "      <th></th>\n",
       "    </tr>\n",
       "  </thead>\n",
       "  <tbody>\n",
       "    <tr>\n",
       "      <th>2011-01-20 00:00:00</th>\n",
       "      <td>17.0</td>\n",
       "    </tr>\n",
       "    <tr>\n",
       "      <th>2011-01-20 01:00:00</th>\n",
       "      <td>4.0</td>\n",
       "    </tr>\n",
       "    <tr>\n",
       "      <th>2011-01-20 02:00:00</th>\n",
       "      <td>3.0</td>\n",
       "    </tr>\n",
       "    <tr>\n",
       "      <th>2011-01-20 03:00:00</th>\n",
       "      <td>1.0</td>\n",
       "    </tr>\n",
       "    <tr>\n",
       "      <th>2011-01-20 04:00:00</th>\n",
       "      <td>4.0</td>\n",
       "    </tr>\n",
       "  </tbody>\n",
       "</table>\n",
       "</div>"
      ],
      "text/plain": [
       "                     count\n",
       "datetime                  \n",
       "2011-01-20 00:00:00   17.0\n",
       "2011-01-20 01:00:00    4.0\n",
       "2011-01-20 02:00:00    3.0\n",
       "2011-01-20 03:00:00    1.0\n",
       "2011-01-20 04:00:00    4.0"
      ]
     },
     "execution_count": 33,
     "metadata": {},
     "output_type": "execute_result"
    }
   ],
   "source": [
    "submission = pd.read_csv(\"./bike/sampleSubmission.csv\",  index_col= \"datetime\")\n",
    "submission['count'] = predictions\n",
    "\n",
    "submission.to_csv(\"DT_model2.csv\")    \n",
    "print(submission.shape)\n",
    "submission.head()"
   ]
  },
  {
   "cell_type": "markdown",
   "metadata": {},
   "source": [
    "#### 모델 요약"
   ]
  },
  {
   "cell_type": "code",
   "execution_count": 32,
   "metadata": {},
   "outputs": [
    {
     "name": "stdout",
     "output_type": "stream",
     "text": [
      "(6493, 1)\n"
     ]
    },
    {
     "data": {
      "text/html": [
       "<div>\n",
       "<style>\n",
       "    .dataframe thead tr:only-child th {\n",
       "        text-align: right;\n",
       "    }\n",
       "\n",
       "    .dataframe thead th {\n",
       "        text-align: left;\n",
       "    }\n",
       "\n",
       "    .dataframe tbody tr th {\n",
       "        vertical-align: top;\n",
       "    }\n",
       "</style>\n",
       "<table border=\"1\" class=\"dataframe\">\n",
       "  <thead>\n",
       "    <tr style=\"text-align: right;\">\n",
       "      <th></th>\n",
       "      <th>count</th>\n",
       "    </tr>\n",
       "    <tr>\n",
       "      <th>datetime</th>\n",
       "      <th></th>\n",
       "    </tr>\n",
       "  </thead>\n",
       "  <tbody>\n",
       "    <tr>\n",
       "      <th>2011-01-20 00:00:00</th>\n",
       "      <td>17.0</td>\n",
       "    </tr>\n",
       "    <tr>\n",
       "      <th>2011-01-20 01:00:00</th>\n",
       "      <td>4.0</td>\n",
       "    </tr>\n",
       "    <tr>\n",
       "      <th>2011-01-20 02:00:00</th>\n",
       "      <td>3.0</td>\n",
       "    </tr>\n",
       "    <tr>\n",
       "      <th>2011-01-20 03:00:00</th>\n",
       "      <td>1.0</td>\n",
       "    </tr>\n",
       "    <tr>\n",
       "      <th>2011-01-20 04:00:00</th>\n",
       "      <td>4.0</td>\n",
       "    </tr>\n",
       "  </tbody>\n",
       "</table>\n",
       "</div>"
      ],
      "text/plain": [
       "                     count\n",
       "datetime                  \n",
       "2011-01-20 00:00:00   17.0\n",
       "2011-01-20 01:00:00    4.0\n",
       "2011-01-20 02:00:00    3.0\n",
       "2011-01-20 03:00:00    1.0\n",
       "2011-01-20 04:00:00    4.0"
      ]
     },
     "execution_count": 32,
     "metadata": {},
     "output_type": "execute_result"
    }
   ],
   "source": [
    "from sklearn.tree import DecisionTreeRegressor\n",
    "\n",
    "DT_model = DecisionTreeRegressor()\n",
    "DT_model.fit(x_train, y_train)\n",
    "predictions = DT_model.predict(x_test)\n",
    "predictions = np.expm1(predictions)\n",
    "submission = pd.read_csv(\"./bike/sampleSubmission.csv\",  index_col= \"datetime\")\n",
    "submission['count'] = predictions\n",
    "\n",
    "submission.to_csv(\"DT_model2.csv\")    \n",
    "print(submission.shape)\n",
    "submission.head()"
   ]
  },
  {
   "cell_type": "markdown",
   "metadata": {},
   "source": [
    "#### 결과보고서"
   ]
  },
  {
   "cell_type": "code",
   "execution_count": null,
   "metadata": {
    "collapsed": true
   },
   "outputs": [],
   "source": [
    "DecisionTreeRegressor()  : 0.61229\n",
    "DecisionTreeRegressor() / log(y+1) : 0.59733"
   ]
  },
  {
   "cell_type": "markdown",
   "metadata": {},
   "source": [
    "#### (2) Hyperparameter 조정"
   ]
  },
  {
   "cell_type": "markdown",
   "metadata": {},
   "source": [
    "#### Decision Tree Regressor"
   ]
  },
  {
   "cell_type": "markdown",
   "metadata": {
    "collapsed": true
   },
   "source": [
    "#### 기본"
   ]
  },
  {
   "cell_type": "code",
   "execution_count": null,
   "metadata": {
    "collapsed": true
   },
   "outputs": [],
   "source": [
    "DecisionTreeRegressor(criterion='mse', max_depth=None, max_features=None,\n",
    "           max_leaf_nodes=None, min_impurity_split=1e-07,\n",
    "           min_samples_leaf=1, min_samples_split=2,\n",
    "           min_weight_fraction_leaf=0.0, presort=False, random_state=None,\n",
    "           splitter='best')"
   ]
  },
  {
   "cell_type": "markdown",
   "metadata": {
    "collapsed": true
   },
   "source": [
    "#### 조정"
   ]
  },
  {
   "cell_type": "code",
   "execution_count": 2,
   "metadata": {},
   "outputs": [
    {
     "name": "stdout",
     "output_type": "stream",
     "text": [
      "(6493, 1)\n"
     ]
    },
    {
     "data": {
      "text/html": [
       "<div>\n",
       "<style>\n",
       "    .dataframe thead tr:only-child th {\n",
       "        text-align: right;\n",
       "    }\n",
       "\n",
       "    .dataframe thead th {\n",
       "        text-align: left;\n",
       "    }\n",
       "\n",
       "    .dataframe tbody tr th {\n",
       "        vertical-align: top;\n",
       "    }\n",
       "</style>\n",
       "<table border=\"1\" class=\"dataframe\">\n",
       "  <thead>\n",
       "    <tr style=\"text-align: right;\">\n",
       "      <th></th>\n",
       "      <th>count</th>\n",
       "    </tr>\n",
       "    <tr>\n",
       "      <th>datetime</th>\n",
       "      <th></th>\n",
       "    </tr>\n",
       "  </thead>\n",
       "  <tbody>\n",
       "    <tr>\n",
       "      <th>2011-01-20 00:00:00</th>\n",
       "      <td>10.340420</td>\n",
       "    </tr>\n",
       "    <tr>\n",
       "      <th>2011-01-20 01:00:00</th>\n",
       "      <td>4.694058</td>\n",
       "    </tr>\n",
       "    <tr>\n",
       "      <th>2011-01-20 02:00:00</th>\n",
       "      <td>2.115773</td>\n",
       "    </tr>\n",
       "    <tr>\n",
       "      <th>2011-01-20 03:00:00</th>\n",
       "      <td>2.727919</td>\n",
       "    </tr>\n",
       "    <tr>\n",
       "      <th>2011-01-20 04:00:00</th>\n",
       "      <td>2.727919</td>\n",
       "    </tr>\n",
       "  </tbody>\n",
       "</table>\n",
       "</div>"
      ],
      "text/plain": [
       "                         count\n",
       "datetime                      \n",
       "2011-01-20 00:00:00  10.340420\n",
       "2011-01-20 01:00:00   4.694058\n",
       "2011-01-20 02:00:00   2.115773\n",
       "2011-01-20 03:00:00   2.727919\n",
       "2011-01-20 04:00:00   2.727919"
      ]
     },
     "execution_count": 2,
     "metadata": {},
     "output_type": "execute_result"
    }
   ],
   "source": [
    "from sklearn.tree import DecisionTreeRegressor\n",
    "\n",
    "DT_model = DecisionTreeRegressor(max_features = 'auto', max_depth = 10,\n",
    "                                 random_state = 70)\n",
    "DT_model.fit(x_train, y_train)\n",
    "predictions = DT_model.predict(x_test)\n",
    "predictions = np.expm1(predictions)\n",
    "submission = pd.read_csv(\"./bike/sampleSubmission.csv\",  index_col= \"datetime\")\n",
    "submission['count'] = predictions\n",
    "\n",
    "submission.to_csv(\"DT_model4.csv\")    \n",
    "print(submission.shape)\n",
    "submission.head()"
   ]
  },
  {
   "cell_type": "markdown",
   "metadata": {},
   "source": [
    "#### 결과보고서"
   ]
  },
  {
   "cell_type": "code",
   "execution_count": null,
   "metadata": {
    "collapsed": true
   },
   "outputs": [],
   "source": [
    "# basic features\n",
    "\n",
    "DecisionTreeRegressor() / log(y+1)  : 0.56547 [ max_depth : 10  random_state : 60 ]   \n",
    "DecisionTreeRegressor() / log(y+1)  : 0.62745 [ max_depth : None  random_state : 60 ]\n",
    "DecisionTreeRegressor() / log(y+1)  : 0.58164 [ max_depth : 8  random_state : 60 ]\n",
    "DecisionTreeRegressor() / log(y+1)  : 0.60513 [ max_depth : 12  random_state : 60 ]\n",
    "DecisionTreeRegressor() / log(y+1)  : 0.57062 [ max_depth : 9  random_state : 60 ]\n",
    "DecisionTreeRegressor() / log(y+1)  : 0.59771 [ max_depth : 11  random_state : 60 ]\n",
    "DecisionTreeRegressor() / log(y+1)  : 0.59282 [ max_depth : 10  random_state : 50 ]\n",
    "DecisionTreeRegressor() / log(y+1)  : 0.56528 [ max_depth : 10  random_state : 70 ]  \n",
    "DecisionTreeRegressor() / log(y+1)  : 0.59196 [ max_depth : 10  random_state : 80 ]\n",
    "DecisionTreeRegressor() / log(y+1)  : 0.58761 [ max_depth : 10  random_state : 65 ]\n",
    "DecisionTreeRegressor() / log(y+1)  : 0.58831 [ max_depth : 10  random_state : 75 ]\n",
    "\n",
    "# max depth는 10이 가장 좋음\n",
    "\n",
    "# features_1\n",
    "\n",
    "DecisionTreeRegressor() / log(y+1)  : 1.31493 [ max_depth : 10  random_state : 70 ]\n",
    "\n",
    "# features_2\n",
    "\n",
    "DecisionTreeRegressor() / log(y+1)  : 0.67449 [ max_depth : 10  random_state : 70 ]\n",
    "\n",
    "\n",
    "# features_3\n",
    "\n",
    "DecisionTreeRegressor() / log(y+1)  : 1.46962 [ max_depth : 10  random_state : 70 ]\n",
    "\n",
    "\n",
    "# features_4 \n",
    "\n",
    "DecisionTreeRegressor() / log(y+1)  : 0.54956 [ max_depth : 10  random_state : 70 ] ☆\n",
    "DecisionTreeRegressor() / log(y+1)  : 0.61284 [ max_depth : None  random_state : 70 ]\n",
    "DecisionTreeRegressor() / log(y+1)  : 0.58146 [ max_depth : 8  random_state : 70 ]\n",
    "DecisionTreeRegressor() / log(y+1)  : 0.58141 [ max_depth : 10  random_state : 60 ]\n",
    "DecisionTreeRegressor() / log(y+1)  : 0.55229 [ max_depth : 10  random_state : 80 ]\n",
    "\n",
    "# features_5\n",
    "\n",
    "DecisionTreeRegressor() / log(y+1)  : 0.69433 [ max_depth : 10  random_state : 70 ]\n",
    "\n",
    "# features_6\n",
    "\n",
    "DecisionTreeRegressor() / log(y+1)  : 0.67639 [ max_depth : 10  random_state : 70 ]\n",
    "\n",
    "# feature_7 \n",
    "\n",
    "DecisionTreeRegressor() / log(y+1)  : 0.67142 [ max_depth : 10  random_state : 70 ]\n",
    "    \n",
    "# feature_8 \n",
    "\n",
    "DecisionTreeRegressor() / log(y+1)  : 0.70414 [ max_depth : 10  random_state : 70 ]\n",
    "    \n",
    "# feature_9\n",
    "\n",
    "DecisionTreeRegressor() / log(y+1)  : 0.57843 [ max_depth : 10  random_state : 70 ]"
   ]
  },
  {
   "cell_type": "markdown",
   "metadata": {},
   "source": [
    "####  \n",
    "####  "
   ]
  },
  {
   "cell_type": "markdown",
   "metadata": {
    "collapsed": true
   },
   "source": [
    "## 6. Random Forest Regressor"
   ]
  },
  {
   "cell_type": "markdown",
   "metadata": {
    "collapsed": true
   },
   "source": [
    "#### 다수의 Decision Tree를 만들어 투표를 통해 가장 좋은 결과를 합치는 앙상블 방식의 모델\n",
    "#### bagging(배깅 : Boostrap aggregating) 방법이다."
   ]
  },
  {
   "cell_type": "markdown",
   "metadata": {},
   "source": [
    "#### (1) 기본 모델"
   ]
  },
  {
   "cell_type": "code",
   "execution_count": 51,
   "metadata": {},
   "outputs": [
    {
     "data": {
      "text/plain": [
       "RandomForestRegressor(bootstrap=True, criterion='mse', max_depth=None,\n",
       "           max_features='auto', max_leaf_nodes=None,\n",
       "           min_impurity_split=1e-07, min_samples_leaf=1,\n",
       "           min_samples_split=2, min_weight_fraction_leaf=0.0,\n",
       "           n_estimators=10, n_jobs=1, oob_score=False, random_state=None,\n",
       "           verbose=0, warm_start=False)"
      ]
     },
     "execution_count": 51,
     "metadata": {},
     "output_type": "execute_result"
    }
   ],
   "source": [
    "from sklearn.ensemble import RandomForestRegressor\n",
    "\n",
    "RF_model = RandomForestRegressor()\n",
    "RF_model"
   ]
  },
  {
   "cell_type": "code",
   "execution_count": 52,
   "metadata": {},
   "outputs": [
    {
     "data": {
      "text/plain": [
       "RandomForestRegressor(bootstrap=True, criterion='mse', max_depth=None,\n",
       "           max_features='auto', max_leaf_nodes=None,\n",
       "           min_impurity_split=1e-07, min_samples_leaf=1,\n",
       "           min_samples_split=2, min_weight_fraction_leaf=0.0,\n",
       "           n_estimators=10, n_jobs=1, oob_score=False, random_state=None,\n",
       "           verbose=0, warm_start=False)"
      ]
     },
     "execution_count": 52,
     "metadata": {},
     "output_type": "execute_result"
    }
   ],
   "source": [
    "RF_model.fit(x_train, y_train)"
   ]
  },
  {
   "cell_type": "code",
   "execution_count": 53,
   "metadata": {},
   "outputs": [
    {
     "data": {
      "text/plain": [
       "-0.26689096875470125"
      ]
     },
     "execution_count": 53,
     "metadata": {},
     "output_type": "execute_result"
    }
   ],
   "source": [
    "from sklearn.model_selection import cross_val_score\n",
    "\n",
    "cv_score = cross_val_score(RF_model, x_train, y_train, cv = 20,\n",
    "                           scoring = \"neg_mean_absolute_error\").mean()\n",
    "cv_score"
   ]
  },
  {
   "cell_type": "code",
   "execution_count": 54,
   "metadata": {},
   "outputs": [
    {
     "data": {
      "text/plain": [
       "array([ 10.43483085,   7.05974539,   5.02371634,   2.13656467,\n",
       "         2.11499909,   6.58945457,  32.71893042,  79.7575019 ,\n",
       "       223.81677107, 113.82307266])"
      ]
     },
     "execution_count": 54,
     "metadata": {},
     "output_type": "execute_result"
    }
   ],
   "source": [
    "predictions = RF_model.predict(x_test)\n",
    "predictions = np.expm1(predictions)\n",
    "predictions[0:10]"
   ]
  },
  {
   "cell_type": "code",
   "execution_count": 55,
   "metadata": {},
   "outputs": [
    {
     "name": "stdout",
     "output_type": "stream",
     "text": [
      "(6493, 1)\n"
     ]
    },
    {
     "data": {
      "text/html": [
       "<div>\n",
       "<style>\n",
       "    .dataframe thead tr:only-child th {\n",
       "        text-align: right;\n",
       "    }\n",
       "\n",
       "    .dataframe thead th {\n",
       "        text-align: left;\n",
       "    }\n",
       "\n",
       "    .dataframe tbody tr th {\n",
       "        vertical-align: top;\n",
       "    }\n",
       "</style>\n",
       "<table border=\"1\" class=\"dataframe\">\n",
       "  <thead>\n",
       "    <tr style=\"text-align: right;\">\n",
       "      <th></th>\n",
       "      <th>count</th>\n",
       "    </tr>\n",
       "    <tr>\n",
       "      <th>datetime</th>\n",
       "      <th></th>\n",
       "    </tr>\n",
       "  </thead>\n",
       "  <tbody>\n",
       "    <tr>\n",
       "      <th>2011-01-20 00:00:00</th>\n",
       "      <td>10.434831</td>\n",
       "    </tr>\n",
       "    <tr>\n",
       "      <th>2011-01-20 01:00:00</th>\n",
       "      <td>7.059745</td>\n",
       "    </tr>\n",
       "    <tr>\n",
       "      <th>2011-01-20 02:00:00</th>\n",
       "      <td>5.023716</td>\n",
       "    </tr>\n",
       "    <tr>\n",
       "      <th>2011-01-20 03:00:00</th>\n",
       "      <td>2.136565</td>\n",
       "    </tr>\n",
       "    <tr>\n",
       "      <th>2011-01-20 04:00:00</th>\n",
       "      <td>2.114999</td>\n",
       "    </tr>\n",
       "  </tbody>\n",
       "</table>\n",
       "</div>"
      ],
      "text/plain": [
       "                         count\n",
       "datetime                      \n",
       "2011-01-20 00:00:00  10.434831\n",
       "2011-01-20 01:00:00   7.059745\n",
       "2011-01-20 02:00:00   5.023716\n",
       "2011-01-20 03:00:00   2.136565\n",
       "2011-01-20 04:00:00   2.114999"
      ]
     },
     "execution_count": 55,
     "metadata": {},
     "output_type": "execute_result"
    }
   ],
   "source": [
    "submission = pd.read_csv(\"./bike/sampleSubmission.csv\",  index_col= \"datetime\")\n",
    "submission['count'] = predictions\n",
    "\n",
    "submission.to_csv(\"RF_model3.csv\")\n",
    "print(submission.shape)\n",
    "submission.head()"
   ]
  },
  {
   "cell_type": "markdown",
   "metadata": {},
   "source": [
    "#### 모델 요약"
   ]
  },
  {
   "cell_type": "code",
   "execution_count": 6,
   "metadata": {},
   "outputs": [
    {
     "name": "stdout",
     "output_type": "stream",
     "text": [
      "(6493, 1)\n"
     ]
    },
    {
     "data": {
      "text/html": [
       "<div>\n",
       "<style>\n",
       "    .dataframe thead tr:only-child th {\n",
       "        text-align: right;\n",
       "    }\n",
       "\n",
       "    .dataframe thead th {\n",
       "        text-align: left;\n",
       "    }\n",
       "\n",
       "    .dataframe tbody tr th {\n",
       "        vertical-align: top;\n",
       "    }\n",
       "</style>\n",
       "<table border=\"1\" class=\"dataframe\">\n",
       "  <thead>\n",
       "    <tr style=\"text-align: right;\">\n",
       "      <th></th>\n",
       "      <th>count</th>\n",
       "    </tr>\n",
       "    <tr>\n",
       "      <th>datetime</th>\n",
       "      <th></th>\n",
       "    </tr>\n",
       "  </thead>\n",
       "  <tbody>\n",
       "    <tr>\n",
       "      <th>2011-01-20 00:00:00</th>\n",
       "      <td>11.698218</td>\n",
       "    </tr>\n",
       "    <tr>\n",
       "      <th>2011-01-20 01:00:00</th>\n",
       "      <td>7.421406</td>\n",
       "    </tr>\n",
       "    <tr>\n",
       "      <th>2011-01-20 02:00:00</th>\n",
       "      <td>15.682826</td>\n",
       "    </tr>\n",
       "    <tr>\n",
       "      <th>2011-01-20 03:00:00</th>\n",
       "      <td>5.370579</td>\n",
       "    </tr>\n",
       "    <tr>\n",
       "      <th>2011-01-20 04:00:00</th>\n",
       "      <td>1.622039</td>\n",
       "    </tr>\n",
       "  </tbody>\n",
       "</table>\n",
       "</div>"
      ],
      "text/plain": [
       "                         count\n",
       "datetime                      \n",
       "2011-01-20 00:00:00  11.698218\n",
       "2011-01-20 01:00:00   7.421406\n",
       "2011-01-20 02:00:00  15.682826\n",
       "2011-01-20 03:00:00   5.370579\n",
       "2011-01-20 04:00:00   1.622039"
      ]
     },
     "execution_count": 6,
     "metadata": {},
     "output_type": "execute_result"
    }
   ],
   "source": [
    "from sklearn.ensemble import RandomForestRegressor\n",
    "\n",
    "RF_model = RandomForestRegressor()\n",
    "RF_model.fit(x_train, y_train)\n",
    "predictions = RF_model.predict(x_test)\n",
    "predictions = np.expm1(predictions)\n",
    "submission = pd.read_csv(\"./bike/sampleSubmission.csv\",  index_col= \"datetime\")\n",
    "submission['count'] = predictions\n",
    "\n",
    "submission.to_csv(\"RF_model32.csv\")\n",
    "print(submission.shape)\n",
    "submission.head()"
   ]
  },
  {
   "cell_type": "markdown",
   "metadata": {},
   "source": [
    "#### 결과 보고서"
   ]
  },
  {
   "cell_type": "code",
   "execution_count": null,
   "metadata": {
    "collapsed": true
   },
   "outputs": [],
   "source": [
    "RandomForestRegressor() / log(y+1) : 0.47936\n",
    "RandomForestRegressor() / log(y+1) /  features_2 : 1.28646\n",
    "RandomForestRegressor() / log(y+1) /  feautres_3 : 1.27538\n",
    "RandomForestRegressor() / log(y+1) /  feautres_4 : 0.47857\n",
    "RandomForestRegressor() / log(y+1) /  feautres_5 : 0.55768\n",
    "RandomForestRegressor() / log(y+1) /  feautres_6 : 0.53744\n"
   ]
  },
  {
   "cell_type": "markdown",
   "metadata": {},
   "source": [
    "#### (2) Hyperparameter 조정"
   ]
  },
  {
   "cell_type": "markdown",
   "metadata": {},
   "source": [
    "#### Random Forest Regressor"
   ]
  },
  {
   "cell_type": "markdown",
   "metadata": {
    "collapsed": true
   },
   "source": [
    "#### 기본"
   ]
  },
  {
   "cell_type": "code",
   "execution_count": 4,
   "metadata": {
    "collapsed": true
   },
   "outputs": [],
   "source": [
    "RandomForestRegressor(bootstrap=True, criterion='mse', max_depth=None,\n",
    "           max_features='auto', max_leaf_nodes=None,\n",
    "           min_impurity_split=1e-07, min_samples_leaf=1,\n",
    "           min_samples_split=2, min_weight_fraction_leaf=0.0,\n",
    "           n_estimators=10, n_jobs=1, oob_score=False, random_state=None,\n",
    "           verbose=0, warm_start=False)"
   ]
  },
  {
   "cell_type": "code",
   "execution_count": 5,
   "metadata": {},
   "outputs": [
    {
     "data": {
      "text/plain": [
       "RandomForestRegressor(bootstrap=True, criterion='mse', max_depth=None,\n",
       "           max_features='auto', max_leaf_nodes=None,\n",
       "           min_impurity_split=1e-07, min_samples_leaf=1,\n",
       "           min_samples_split=2, min_weight_fraction_leaf=0.0,\n",
       "           n_estimators=10, n_jobs=1, oob_score=False, random_state=None,\n",
       "           verbose=0, warm_start=False)"
      ]
     },
     "execution_count": 5,
     "metadata": {},
     "output_type": "execute_result"
    }
   ],
   "source": [
    "from sklearn.ensemble import RandomForestRegressor\n",
    "\n",
    "RF_model = RandomForestRegressor()\n",
    "RF_model"
   ]
  },
  {
   "cell_type": "markdown",
   "metadata": {
    "collapsed": true
   },
   "source": [
    "#### 조정"
   ]
  },
  {
   "cell_type": "code",
   "execution_count": 4,
   "metadata": {
    "collapsed": true
   },
   "outputs": [],
   "source": [
    "max_depth = None, \n",
    "max_features = 'auto',\n",
    "n_estimators = 100, \n",
    "n_jobs = 8, \n",
    "random_state = 60\n",
    "\n",
    "params = [max_depth, max_features, n_estimators, random_state, n_jobs]"
   ]
  },
  {
   "cell_type": "code",
   "execution_count": 3,
   "metadata": {
    "scrolled": true
   },
   "outputs": [
    {
     "name": "stdout",
     "output_type": "stream",
     "text": [
      "(6493, 1)\n"
     ]
    },
    {
     "data": {
      "text/html": [
       "<div>\n",
       "<style>\n",
       "    .dataframe thead tr:only-child th {\n",
       "        text-align: right;\n",
       "    }\n",
       "\n",
       "    .dataframe thead th {\n",
       "        text-align: left;\n",
       "    }\n",
       "\n",
       "    .dataframe tbody tr th {\n",
       "        vertical-align: top;\n",
       "    }\n",
       "</style>\n",
       "<table border=\"1\" class=\"dataframe\">\n",
       "  <thead>\n",
       "    <tr style=\"text-align: right;\">\n",
       "      <th></th>\n",
       "      <th>count</th>\n",
       "    </tr>\n",
       "    <tr>\n",
       "      <th>datetime</th>\n",
       "      <th></th>\n",
       "    </tr>\n",
       "  </thead>\n",
       "  <tbody>\n",
       "    <tr>\n",
       "      <th>2011-01-20 00:00:00</th>\n",
       "      <td>8.680142</td>\n",
       "    </tr>\n",
       "    <tr>\n",
       "      <th>2011-01-20 01:00:00</th>\n",
       "      <td>5.178326</td>\n",
       "    </tr>\n",
       "    <tr>\n",
       "      <th>2011-01-20 02:00:00</th>\n",
       "      <td>2.872068</td>\n",
       "    </tr>\n",
       "    <tr>\n",
       "      <th>2011-01-20 03:00:00</th>\n",
       "      <td>3.473013</td>\n",
       "    </tr>\n",
       "    <tr>\n",
       "      <th>2011-01-20 04:00:00</th>\n",
       "      <td>2.494920</td>\n",
       "    </tr>\n",
       "  </tbody>\n",
       "</table>\n",
       "</div>"
      ],
      "text/plain": [
       "                        count\n",
       "datetime                     \n",
       "2011-01-20 00:00:00  8.680142\n",
       "2011-01-20 01:00:00  5.178326\n",
       "2011-01-20 02:00:00  2.872068\n",
       "2011-01-20 03:00:00  3.473013\n",
       "2011-01-20 04:00:00  2.494920"
      ]
     },
     "execution_count": 3,
     "metadata": {},
     "output_type": "execute_result"
    }
   ],
   "source": [
    "from sklearn.ensemble import RandomForestRegressor\n",
    "\n",
    "\n",
    "RF_model = RandomForestRegressor( max_features = 'auto', max_depth = None,\n",
    "                                  n_estimators = 750, \n",
    "                                  random_state = 50,\n",
    "                                  n_jobs = 8)\n",
    "\n",
    "# RF_model = RandomForestRegressor(n_estimators = 1200,\n",
    "#                               max_depth = 20,\n",
    "#                               max_features = 8,\n",
    "#                               random_state = 37,\n",
    "#                               n_jobs = 8)\n",
    "\n",
    "RF_model.fit(x_train, y_train)\n",
    "predictions = RF_model.predict(x_test)\n",
    "predictions = np.expm1(predictions)\n",
    "submission = pd.read_csv(\"./bike/sampleSubmission.csv\",  index_col= \"datetime\")\n",
    "submission['count'] = predictions\n",
    "\n",
    "submission.to_csv(\"RF_model6.csv\")\n",
    "print(submission.shape)\n",
    "submission.head()"
   ]
  },
  {
   "cell_type": "markdown",
   "metadata": {},
   "source": [
    "#### 결과 보고서"
   ]
  },
  {
   "cell_type": "code",
   "execution_count": null,
   "metadata": {
    "collapsed": true
   },
   "outputs": [],
   "source": [
    "# basic feature\n",
    "\n",
    "RandomForestRegressor() / log(y+1)  : 0.47415 [ max_depth : 10  n_estimators : 100, random_state : 60 ]\n",
    "RandomForestRegressor() / log(y+1)  : 0.46517 [                 n_estimators : 100, random_state : 60 ]\n",
    "RandomForestRegressor() / log(y+1)  : 0.46329 [                 n_estimators : 500, random_state : 60 ]\n",
    "\n",
    "RandomForestRegressor() / log(y+1)  : 0.52070 [ max_depth : 8   n_estimators : 100, random_state : 60 ]\n",
    "RandomForestRegressor() / log(y+1)  : 0.51985 [ max_depth : 8   n_estimators : 50, random_state : 60 ]\n",
    "RandomForestRegressor() / log(y+1)  : 0.51690 [ max_depth : 8   n_estimators : 500, random_state : 60 ]\n",
    "\n",
    "RandomForestRegressor() / log(y+1)  : 0.46472 [                 n_estimators : 50, random_state : 60 ]\n",
    "RandomForestRegressor() / log(y+1)  : 0.46680 [                 n_estimators : 100, random_state : 20 ]\n",
    "RandomForestRegressor() / log(y+1)  : 0.46357 [                 n_estimators : 100, random_state : 80 ]\n",
    "RandomForestRegressor() / log(y+1)  : 0.46419 [                 n_estimators : 1000, random_state : 60 ]\n",
    "RandomForestRegressor() / log(y+1)  : 0.46545 [                 n_estimators : 1000, random_state : 80 ]\n",
    "RandomForestRegressor() / log(y+1)  : 0.46315 [                 n_estimators : 750, random_state : 50 ]\n",
    "\n",
    "# max_depth는 깊을 수록 좋으며 'None'이 가장 좋다. n_estimators는 750 정도가 적당하다, random_state 도 50~60이 낫다\n",
    "\n",
    "# features_1\n",
    "\n",
    "RandomForestRegressor() / log(y+1)  : 1.30341 [                 n_estimators : 750, random_state : 50 ]\n",
    "\n",
    "# features_2\n",
    "\n",
    "RandomForestRegressor() / log(y+1)  : 0.47185 [                 n_estimators : 750, random_state : 50 ]\n",
    "\n",
    "\n",
    "# features_3\n",
    "\n",
    "RandomForestRegressor() / log(y+1)  : 1.22755 [                 n_estimators : 750, random_state : 50 ]\n",
    "\n",
    "\n",
    "# features_4 \n",
    "\n",
    "RandomForestRegressor() / log(y+1)  : 0.45911 [                 n_estimators : 750, random_state : 50 ]  \n",
    "RandomForestRegressor() / log(y+1)  : 0.45967 [                 n_estimators : 1000, random_state : 50 ]\n",
    "RandomForestRegressor() / log(y+1)  : 0.46079 [                 n_estimators : 1000, random_state : 60 ]\n",
    "RandomForestRegressor() / log(y+1)  : 0.47372 [ max_depth : 10  n_estimators : 750, random_state : 50 ]\n",
    "RandomForestRegressor() / log(y+1)  : 0.46029 [                  n_estimators : 4000, random_state : 50 ]\n",
    "RandomForestRegressor() / log(y+1)  : 0.45967 [                  n_estimators : 600, random_state : 50 ]\n",
    "RandomForestRegressor() / log(y+1)  : 0.45942 [                  n_estimators : 800, random_state : 50 ]\n",
    "RandomForestRegressor() / log(y+1)  : 0.45936 [                  n_estimators : 700, random_state : 50 ]\n",
    "RandomForestRegressor() / log(y+1)  : 0.46054 [                   n_estimators : 750, random_state : 60 ]\n",
    "RandomForestRegressor() / log(y+1)  : 0.46062 [                   n_estimators : 750, random_state : 40 ]\n",
    "RandomForestRegressor() / log(y+1)  : 0.46139 [                 n_estimators : 750, random_state : 55 ]\n",
    "\n",
    "# features_5\n",
    "\n",
    "RandomForestRegressor() / log(y+1)  : 0.54558 [                 n_estimators : 750, random_state : 50 ]    \n",
    "\n",
    "# features_6\n",
    "\n",
    "RandomForestRegressor() / log(y+1)  : 0.52121 [                  n_estimators : 750, random_state : 50 ]\n",
    "    \n",
    "\n",
    "# features_7\n",
    "RandomForestRegressor() / log(y+1)  : 0.52219 [                  n_estimators : 750, random_state : 50 ]\n",
    "    \n",
    "    \n",
    "# features_8\n",
    "RandomForestRegressor() / log(y+1)  : 0.54422 [                  n_estimators : 750, random_state : 50 ]  0.54554\n",
    "RandomForestRegressor() / log(y+1)  : 0.54554 [max_depth = 20 ,n_estimators : 300, random_state : 37, max_features = 8 ]\n",
    "RandomForestRegressor() / log(y+1)  : 0.54404 [max_depth = 20 ,n_estimators : 1200, random_state : 37, max_features = 8 ]\n",
    "    \n",
    "# features_9\n",
    "RandomForestRegressor() / log(y+1)  : 0.45898 [                  n_estimators : 750, random_state : 50 ] ☆\n",
    "    "
   ]
  },
  {
   "cell_type": "markdown",
   "metadata": {},
   "source": [
    "####   \n",
    "####   "
   ]
  },
  {
   "cell_type": "markdown",
   "metadata": {
    "collapsed": true
   },
   "source": [
    "## 7. XGBoost Regressor "
   ]
  },
  {
   "cell_type": "markdown",
   "metadata": {
    "collapsed": true
   },
   "source": [
    "#### XGBoost(Extreme Gradient Boosting)\n",
    "#### Boosting(부스팅) : 잘못 분류된 개체들에 집중하여 새로운 분류 규칙을 만드는 단계를 반복하는 방법. 약한 예측 모형들을 결합하여 강한 예측모형을 만드는 알고리즘"
   ]
  },
  {
   "cell_type": "markdown",
   "metadata": {},
   "source": [
    "#### (1) 기본 모델"
   ]
  },
  {
   "cell_type": "code",
   "execution_count": 3,
   "metadata": {},
   "outputs": [
    {
     "data": {
      "text/plain": [
       "XGBRegressor(base_score=0.5, colsample_bylevel=1, colsample_bytree=1, gamma=0,\n",
       "       learning_rate=0.1, max_delta_step=0, max_depth=3,\n",
       "       min_child_weight=1, missing=None, n_estimators=100, nthread=-1,\n",
       "       objective='reg:linear', reg_alpha=0, reg_lambda=1,\n",
       "       scale_pos_weight=1, seed=0, silent=True, subsample=1)"
      ]
     },
     "execution_count": 3,
     "metadata": {},
     "output_type": "execute_result"
    }
   ],
   "source": [
    "import xgboost as xgb\n",
    "\n",
    "xgb_model = xgb.XGBRegressor()\n",
    "xgb_model"
   ]
  },
  {
   "cell_type": "code",
   "execution_count": 3,
   "metadata": {},
   "outputs": [
    {
     "data": {
      "text/plain": [
       "XGBRegressor(base_score=0.5, colsample_bylevel=1, colsample_bytree=1, gamma=0,\n",
       "       learning_rate=0.1, max_delta_step=0, max_depth=3,\n",
       "       min_child_weight=1, missing=None, n_estimators=100, nthread=-1,\n",
       "       objective='reg:linear', reg_alpha=0, reg_lambda=1,\n",
       "       scale_pos_weight=1, seed=0, silent=True, subsample=1)"
      ]
     },
     "execution_count": 3,
     "metadata": {},
     "output_type": "execute_result"
    }
   ],
   "source": [
    "xgb_model.fit(x_train, y_train)"
   ]
  },
  {
   "cell_type": "code",
   "execution_count": 4,
   "metadata": {},
   "outputs": [
    {
     "data": {
      "text/plain": [
       "-0.3363449140555335"
      ]
     },
     "execution_count": 4,
     "metadata": {},
     "output_type": "execute_result"
    }
   ],
   "source": [
    "from sklearn.model_selection import cross_val_score\n",
    "\n",
    "cv_score = cross_val_score(xgb_model, x_train, y_train, cv = 20,\n",
    "                           scoring = \"neg_mean_absolute_error\").mean()\n",
    "cv_score"
   ]
  },
  {
   "cell_type": "code",
   "execution_count": 5,
   "metadata": {},
   "outputs": [
    {
     "data": {
      "text/plain": [
       "array([  9.314571 ,   5.474254 ,   3.5883932,   2.2690604,   1.840194 ,\n",
       "         5.6958437,  18.929796 ,  34.768124 , 125.52408  ,  67.71091  ],\n",
       "      dtype=float32)"
      ]
     },
     "execution_count": 5,
     "metadata": {},
     "output_type": "execute_result"
    }
   ],
   "source": [
    "predictions = xgb_model.predict(x_test)\n",
    "predictions = np.expm1(predictions)\n",
    "predictions[0:10]"
   ]
  },
  {
   "cell_type": "code",
   "execution_count": 6,
   "metadata": {},
   "outputs": [
    {
     "name": "stdout",
     "output_type": "stream",
     "text": [
      "(6493, 1)\n"
     ]
    },
    {
     "data": {
      "text/html": [
       "<div>\n",
       "<style>\n",
       "    .dataframe thead tr:only-child th {\n",
       "        text-align: right;\n",
       "    }\n",
       "\n",
       "    .dataframe thead th {\n",
       "        text-align: left;\n",
       "    }\n",
       "\n",
       "    .dataframe tbody tr th {\n",
       "        vertical-align: top;\n",
       "    }\n",
       "</style>\n",
       "<table border=\"1\" class=\"dataframe\">\n",
       "  <thead>\n",
       "    <tr style=\"text-align: right;\">\n",
       "      <th></th>\n",
       "      <th>count</th>\n",
       "    </tr>\n",
       "    <tr>\n",
       "      <th>datetime</th>\n",
       "      <th></th>\n",
       "    </tr>\n",
       "  </thead>\n",
       "  <tbody>\n",
       "    <tr>\n",
       "      <th>2011-01-20 00:00:00</th>\n",
       "      <td>9.314571</td>\n",
       "    </tr>\n",
       "    <tr>\n",
       "      <th>2011-01-20 01:00:00</th>\n",
       "      <td>5.474254</td>\n",
       "    </tr>\n",
       "    <tr>\n",
       "      <th>2011-01-20 02:00:00</th>\n",
       "      <td>3.588393</td>\n",
       "    </tr>\n",
       "    <tr>\n",
       "      <th>2011-01-20 03:00:00</th>\n",
       "      <td>2.269060</td>\n",
       "    </tr>\n",
       "    <tr>\n",
       "      <th>2011-01-20 04:00:00</th>\n",
       "      <td>1.840194</td>\n",
       "    </tr>\n",
       "  </tbody>\n",
       "</table>\n",
       "</div>"
      ],
      "text/plain": [
       "                        count\n",
       "datetime                     \n",
       "2011-01-20 00:00:00  9.314571\n",
       "2011-01-20 01:00:00  5.474254\n",
       "2011-01-20 02:00:00  3.588393\n",
       "2011-01-20 03:00:00  2.269060\n",
       "2011-01-20 04:00:00  1.840194"
      ]
     },
     "execution_count": 6,
     "metadata": {},
     "output_type": "execute_result"
    }
   ],
   "source": [
    "submission = pd.read_csv(\"./bike/sampleSubmission.csv\", index_col = \"datetime\")\n",
    "submission['count'] = predictions\n",
    "\n",
    "submission.to_csv(\"xgb_model3.csv\")\n",
    "print(submission.shape)\n",
    "submission.head()"
   ]
  },
  {
   "cell_type": "markdown",
   "metadata": {},
   "source": [
    "#### 모델 요약"
   ]
  },
  {
   "cell_type": "code",
   "execution_count": null,
   "metadata": {
    "collapsed": true
   },
   "outputs": [],
   "source": [
    "import xgboost as xgb\n",
    "\n",
    "xgb_model = xgb.XGBRegressor()\n",
    "xgb_model.fit(x_train, y_train)\n",
    "predictions = xgb_model.predict(x_test)\n",
    "predictions = np.expm1(predictions)\n",
    "submission = pd.read_csv(\"./bike/sampleSubmission.csv\", index_col = \"datetime\")\n",
    "submission['count'] = predictions\n",
    "\n",
    "submission.to_csv(\"xgb_model.csv\")\n",
    "print(submission.shape)\n",
    "submission.head()"
   ]
  },
  {
   "cell_type": "markdown",
   "metadata": {},
   "source": [
    "#### 결과보고서"
   ]
  },
  {
   "cell_type": "code",
   "execution_count": null,
   "metadata": {
    "collapsed": true
   },
   "outputs": [],
   "source": [
    "# basic_features\n",
    "\n",
    "XGBRegressor() / log(y+1) : 0.54247\n",
    "    \n",
    "# featuers_1   \n",
    "\n",
    "XGBRegressor() / log(y+1) : 1.17426\n",
    "    \n",
    "# featuers_4\n",
    "\n",
    "XGBRegressor() / log(y+1) : 0.54250"
   ]
  },
  {
   "cell_type": "markdown",
   "metadata": {},
   "source": [
    "#### (2) Hyperparameter 조정"
   ]
  },
  {
   "cell_type": "markdown",
   "metadata": {
    "collapsed": true
   },
   "source": [
    "#### XGBoost Regressor "
   ]
  },
  {
   "cell_type": "markdown",
   "metadata": {},
   "source": [
    "#### 기본"
   ]
  },
  {
   "cell_type": "code",
   "execution_count": 3,
   "metadata": {},
   "outputs": [
    {
     "name": "stderr",
     "output_type": "stream",
     "text": [
      "C:\\Users\\Jeong\\Anaconda3\\lib\\site-packages\\sklearn\\cross_validation.py:44: DeprecationWarning: This module was deprecated in version 0.18 in favor of the model_selection module into which all the refactored classes and functions are moved. Also note that the interface of the new CV iterators are different from that of this module. This module will be removed in 0.20.\n",
      "  \"This module will be removed in 0.20.\", DeprecationWarning)\n"
     ]
    },
    {
     "data": {
      "text/plain": [
       "XGBRegressor(base_score=0.5, colsample_bylevel=1, colsample_bytree=1, gamma=0,\n",
       "       learning_rate=0.1, max_delta_step=0, max_depth=3,\n",
       "       min_child_weight=1, missing=None, n_estimators=100, nthread=-1,\n",
       "       objective='reg:linear', reg_alpha=0, reg_lambda=1,\n",
       "       scale_pos_weight=1, seed=0, silent=True, subsample=1)"
      ]
     },
     "execution_count": 3,
     "metadata": {},
     "output_type": "execute_result"
    }
   ],
   "source": [
    "import xgboost as xgb\n",
    "\n",
    "xgb_model = xgb.XGBRegressor()\n",
    "xgb_model"
   ]
  },
  {
   "cell_type": "markdown",
   "metadata": {},
   "source": [
    "#### 조정"
   ]
  },
  {
   "cell_type": "code",
   "execution_count": 13,
   "metadata": {
    "collapsed": true
   },
   "outputs": [],
   "source": [
    "params = {'colsample_bytree' : 0.7, \n",
    "          'gamma'  : 0.4,\n",
    "          'subsample': 1,\n",
    "          'learning_rate' : 0.1, \n",
    "          'max_depth' : 5,\n",
    "          'n_estimators' : 500, \n",
    "          'seed' : 37,  # 5\n",
    "          'nthread' : -1\n",
    "          }"
   ]
  },
  {
   "cell_type": "code",
   "execution_count": 10,
   "metadata": {},
   "outputs": [
    {
     "name": "stdout",
     "output_type": "stream",
     "text": [
      "(6493, 1)\n"
     ]
    },
    {
     "data": {
      "text/html": [
       "<div>\n",
       "<style>\n",
       "    .dataframe thead tr:only-child th {\n",
       "        text-align: right;\n",
       "    }\n",
       "\n",
       "    .dataframe thead th {\n",
       "        text-align: left;\n",
       "    }\n",
       "\n",
       "    .dataframe tbody tr th {\n",
       "        vertical-align: top;\n",
       "    }\n",
       "</style>\n",
       "<table border=\"1\" class=\"dataframe\">\n",
       "  <thead>\n",
       "    <tr style=\"text-align: right;\">\n",
       "      <th></th>\n",
       "      <th>count</th>\n",
       "    </tr>\n",
       "    <tr>\n",
       "      <th>datetime</th>\n",
       "      <th></th>\n",
       "    </tr>\n",
       "  </thead>\n",
       "  <tbody>\n",
       "    <tr>\n",
       "      <th>2011-01-20 00:00:00</th>\n",
       "      <td>9.271934</td>\n",
       "    </tr>\n",
       "    <tr>\n",
       "      <th>2011-01-20 01:00:00</th>\n",
       "      <td>4.851086</td>\n",
       "    </tr>\n",
       "    <tr>\n",
       "      <th>2011-01-20 02:00:00</th>\n",
       "      <td>2.916857</td>\n",
       "    </tr>\n",
       "    <tr>\n",
       "      <th>2011-01-20 03:00:00</th>\n",
       "      <td>2.436613</td>\n",
       "    </tr>\n",
       "    <tr>\n",
       "      <th>2011-01-20 04:00:00</th>\n",
       "      <td>1.873583</td>\n",
       "    </tr>\n",
       "  </tbody>\n",
       "</table>\n",
       "</div>"
      ],
      "text/plain": [
       "                        count\n",
       "datetime                     \n",
       "2011-01-20 00:00:00  9.271934\n",
       "2011-01-20 01:00:00  4.851086\n",
       "2011-01-20 02:00:00  2.916857\n",
       "2011-01-20 03:00:00  2.436613\n",
       "2011-01-20 04:00:00  1.873583"
      ]
     },
     "execution_count": 10,
     "metadata": {},
     "output_type": "execute_result"
    }
   ],
   "source": [
    "xgb_model = xgb.XGBRegressor(colsample_bytree = 0.7, gamma = 3, max_depth = 13,\n",
    "                             learning_rate = 0.1, n_estimators = 500, seed = 0,\n",
    "                             nthread = 6)\n",
    "\n",
    "# xgb_model = xgb.XGBRegressor(max_depth = 13, n_estimators = 1500,\n",
    "#                              min_child_weight = 8, gamma = 0.4,\n",
    "#                              colsample_bytree = 0.6, nthread = 12,\n",
    "#                              subsample = 0.6, seed = 25,\n",
    "#                              learning_rate = 0.05)\n",
    "\n",
    "xgb_model.fit(x_train, y_train)\n",
    "predictions = xgb_model.predict(x_test)\n",
    "predictions = np.expm1(predictions)\n",
    "submission = pd.read_csv(\"./bike/sampleSubmission.csv\", index_col = \"datetime\")\n",
    "submission['count'] = predictions\n",
    "\n",
    "submission.to_csv(\"xgb_model68.csv\")\n",
    "print(submission.shape)\n",
    "submission.head()"
   ]
  },
  {
   "cell_type": "code",
   "execution_count": null,
   "metadata": {
    "collapsed": true
   },
   "outputs": [],
   "source": [
    "XGBRegressor() / log(y+1) \n",
    "\n",
    "# basic_features\n",
    "\n",
    "[ colsample_bytree = 1, gamma = 0, max_depth = 3, learning_rate = 0.1, n_estimators = 100, seed = 0 ]  : 0.54247 \n",
    "[ colsample_bytree = 1, gamma = 0, max_depth = 3, learning_rate = 0.1, n_estimators = 500, seed = 0 ]  : fail\n",
    "[ colsample_bytree = 1, gamma = 0, max_depth = 10, learning_rate = 0.1, n_estimators = 500, seed = 0 ]  : 0.48629 \n",
    "[ colsample_bytree = 1, gamma = 0, max_depth = 10, learning_rate = 0.1, n_estimators = 1000, seed = 0 ]  : 0.48648\n",
    "[ colsample_bytree = 1, gamma = 0, max_depth = 8, learning_rate = 0.1, n_estimators = 500, seed = 0 ]  : 0.49224\n",
    "[ colsample_bytree = 1, gamma = 0, max_depth = 12, learning_rate = 0.1, n_estimators = 500, seed = 0 ]  : 0.48585 ☆\n",
    "[ colsample_bytree = 1, gamma = 0, max_depth = 14, learning_rate = 0.1, n_estimators = 500, seed = 0 ]  : 0.48845   \n",
    "[ colsample_bytree = 1, gamma = 0, max_depth = 13, learning_rate = 0.1, n_estimators = 500, seed = 0 ]  : 0.48701\n",
    "    \n",
    "[ colsample_bytree = 1, gamma = 0, max_depth = 12, learning_rate = 0.05, n_estimators = 500, seed = 0 ]  : 0.48916 \n",
    "[ colsample_bytree = 1, gamma = 3, max_depth = 12, learning_rate = 0.1, n_estimators = 500, seed = 0 ]  : 0.48251  \n",
    "[ colsample_bytree = 1, gamma = 5, max_depth = 12, learning_rate = 0.1, n_estimators = 500, seed = 0 ]  : 0.48097 ☆☆\n",
    "[ colsample_bytree = 1, gamma = 4, max_depth = 12, learning_rate = 0.1, n_estimators = 500, seed = 0 ]  : 0.48515   \n",
    "\n",
    "[ colsample_bytree = 1, gamma = 3, max_depth = 13, learning_rate = 0.1, n_estimators = 500, seed = 0 ]  : 0.47345 ☆☆☆\n",
    "[ colsample_bytree = 2/3, gamma = 3, max_depth = 13, learning_rate = 0.1, n_estimators = 500, seed = 0 ]  : fail\n",
    "[ colsample_bytree = 1, gamma = 5, max_depth = 13, learning_rate = 0.1, n_estimators = 500, seed = 0 ]  : 0.48521 \n",
    "[ colsample_bytree = 1, gamma = 5, max_depth = 13, learning_rate = 0.2, n_estimators = 500, seed = 0 ]  : 0.48313  \n",
    "[ colsample_bytree = 1, gamma = 3, max_depth = 13, learning_rate = 0.1, n_estimators = 750, seed = 0 ]  : 0.47345 ☆☆☆\n",
    "\n",
    "    \n",
    "# featuers_1   \n",
    "\n",
    "[ colsample_bytree = 1, gamma = 3, max_depth = 13, learning_rate = 0.1, n_estimators = 750, seed = 0 ]  : 1.25261\n",
    "    \n",
    "# features_2\n",
    "\n",
    "[ colsample_bytree = 1, gamma = 3, max_depth = 13, learning_rate = 0.1, n_estimators = 750, seed = 0 ]  : 0.48032\n",
    "[ colsample_bytree = 1, gamma = 3, max_depth = 13, learning_rate = 0.1, n_estimators = 500, seed = 0 ]  : 0.48032\n",
    "[ colsample_bytree = 1, gamma = 3, max_depth = 14, learning_rate = 0.1, n_estimators = 500, seed = 0 ]  : 0.48950\n",
    "[ colsample_bytree = 1, gamma = 3, max_depth = 12, learning_rate = 0.1, n_estimators = 500, seed = 0 ]  : 0.49027\n",
    "[ colsample_bytree = 1, gamma = 4, max_depth = 13, learning_rate = 0.1, n_estimators = 500, seed = 0 ]  : 0.49108\n",
    "[ colsample_bytree = 1, gamma = 2, max_depth = 13, learning_rate = 0.1, n_estimators = 500, seed = 0 ]  : 0.46968 ☆☆☆☆\n",
    "[ colsample_bytree = 1, gamma = 2, max_depth = 13, learning_rate = 0.01, n_estimators = 500, seed = 0 ]  : 0.47993\n",
    "[ colsample_bytree = 1, gamma = 3, max_depth = 13, learning_rate = 0.01, n_estimators = 500, seed = 0 ]  : 0.48436\n",
    "    \n",
    "[ colsample_bytree = 0.6, gamma = 0.4, max_depth = 13, learning_rate = 0.05, n_estimators = 1500, seed = 25,\n",
    "  min_child_weight = 8, subsample = 0.6,]  : 0.51213\n",
    "    \n",
    "[ colsample_bytree = 1, gamma = 0.5, max_depth = 13, learning_rate = 0.1, n_estimators = 500, seed = 0 ] : 0.46930 ☆☆☆☆\n",
    "[ colsample_bytree = 1, gamma = 0.4, max_depth = 13, learning_rate = 0.1, n_estimators = 500, seed = 0 ] : 0.47588\n",
    "[ colsample_bytree = 1, gamma = 0.6, max_depth = 13, learning_rate = 0.1, n_estimators = 500, seed = 0 ] : 0.47359\n",
    "    \n",
    "\n",
    "\n",
    "# features_3\n",
    "\n",
    "[ colsample_bytree = 1, gamma = 2, max_depth = 13, learning_rate = 0.1, n_estimators = 500, seed = 0 ]  : 1.29762\n",
    "\n",
    "    \n",
    "# featuers_4\n",
    "\n",
    "[ colsample_bytree = 1, gamma = 2, max_depth = 13, learning_rate = 0.1, n_estimators = 500, seed = 0 ]  : 0.48061\n",
    "[ colsample_bytree = 1, gamma = 3, max_depth = 13, learning_rate = 0.1, n_estimators = 500, seed = 0 ]  : 0.47767\n",
    "[ colsample_bytree = 1, gamma = 3, max_depth = 13, learning_rate = 0.1, n_estimators = 1000, seed = 0 ]  : 0.47767\n",
    "[ colsample_bytree = 1, gamma = 4, max_depth = 13, learning_rate = 0.1, n_estimators = 500, seed = 0 ]  : 0.48239\n",
    "[ colsample_bytree = 1, gamma = 3, max_depth = 13, learning_rate = 0.01, n_estimators = 500, seed = 0 ]  : 0.47795\n",
    "    \n",
    "[ colsample_bytree = 0.6, gamma = 0.4, max_depth = 12, learning_rate = 0.05, n_estimators = 1500, seed = 25,\n",
    "  min_child_weight = 8, subsample = 0.6,]  : 0.52605\n",
    "\n",
    "[ colsample_bytree = 0.6, gamma = 0.4, max_depth = 13, learning_rate = 0.05, n_estimators = 1500, seed = 25,\n",
    "  min_child_weight = 8, subsample = 0.6,]  : 0.52485\n",
    "\n",
    "[ colsample_bytree = 0.6, gamma = 0.4, max_depth = 14, learning_rate = 0.05, n_estimators = 1500, seed = 25,\n",
    "  min_child_weight = 8, subsample = 0.6,]  : 0.53034\n",
    "\n",
    "[ colsample_bytree = 1, gamma = 0.5, max_depth = 13, learning_rate = 0.1, n_estimators = 500, seed = 0 ] : 0.47907\n",
    "[ colsample_bytree = 1, gamma = 0.4, max_depth = 13, learning_rate = 0.1, n_estimators = 500, seed = 0 ] : 0.48717\n",
    "[ colsample_bytree = 1, gamma = 1, max_depth = 13, learning_rate = 0.1, n_estimators = 500, seed = 0 ] : 0.47943\n",
    "[ colsample_bytree = 1, gamma = 2, max_depth = 13, learning_rate = 0.1, n_estimators = 500, seed = 0 ] : 0.48061   \n",
    "[ colsample_bytree = 0.7, gamma = 2, max_depth = 13, learning_rate = 0.1, n_estimators = 500, seed = 0 ] : 0.45639  ☆☆☆☆☆ \n",
    "[ colsample_bytree = 1, gamma = 3, max_depth = 13, learning_rate = 0.1, n_estimators = 500, seed = 0 ] : 0.47767 \n",
    "[ colsample_bytree = 0.7, gamma = 3, max_depth = 13, learning_rate = 0.1, n_estimators = 500, seed = 0 ] : 0.45551  \n",
    "    \n",
    "    \n",
    "    \n",
    "# featuers_8\n",
    "\n",
    "[ colsample_bytree = 1, gamma = 0.5, max_depth = 13, learning_rate = 0.1, n_estimators = 500, seed = 0 ] : 0.53945    \n",
    "    \n",
    "\n",
    "# featuers_9\n",
    "\n",
    "[ colsample_bytree = 1, gamma = 0.5, max_depth = 13, learning_rate = 0.1, n_estimators = 500, seed = 0 ] : 0.48188   \n",
    "[colsample_bytree = 0.6, gamma = 0.4, max_depth = 13, learning_rate = 0.05, \n",
    " n_estimators = 1500, seed = 25, subsample = 0.6, min_child_weight = 8 ]      : 0.51016\n",
    "\n",
    "\n",
    "    "
   ]
  },
  {
   "cell_type": "markdown",
   "metadata": {
    "collapsed": true
   },
   "source": [
    "####   \n",
    "####   "
   ]
  },
  {
   "cell_type": "markdown",
   "metadata": {
    "collapsed": true
   },
   "source": [
    " ## 8. Bike Sharing Demand Machine Learning with scikit-learn 결론"
   ]
  },
  {
   "cell_type": "markdown",
   "metadata": {},
   "source": [
    "#### ◎ 모델 성능은 XGBoost, RandomFroset가 매우 좋고, 그 다음이 DecisionTree이다.  Linear, lasso, lidge 등은 별로 좋지 못하다.\n",
    "####"
   ]
  },
  {
   "cell_type": "markdown",
   "metadata": {},
   "source": [
    "#### 모델설명 참고 \n",
    "#### https://ko.wikipedia.org/wiki/%EC%9C%84%ED%82%A4%EB%B0%B1%EA%B3%BC:%EB%8C%80%EB%AC%B8\n",
    "#### https://m.blog.naver.com/PostView.nhn?blogId=muzzincys&logNo=220201299384&proxyReferer=https%3A%2F%2Fwww.google.com%2F\n",
    "#### https://blog.naver.com/choco_9966/221255214154\n",
    "#### https://blog.naver.com/960125_hds/221027597977"
   ]
  }
 ],
 "metadata": {
  "kernelspec": {
   "display_name": "Python 3",
   "language": "python",
   "name": "python3"
  },
  "language_info": {
   "codemirror_mode": {
    "name": "ipython",
    "version": 3
   },
   "file_extension": ".py",
   "mimetype": "text/x-python",
   "name": "python",
   "nbconvert_exporter": "python",
   "pygments_lexer": "ipython3",
   "version": "3.6.1"
  }
 },
 "nbformat": 4,
 "nbformat_minor": 2
}
