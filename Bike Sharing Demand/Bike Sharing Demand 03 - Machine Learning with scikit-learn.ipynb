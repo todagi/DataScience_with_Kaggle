{
 "cells": [
  {
   "cell_type": "markdown",
   "metadata": {},
   "source": [
    "\n",
    "# Bike Sharing Demand 03 - Machine Learning with scikit-learn"
   ]
  },
  {
   "cell_type": "markdown",
   "metadata": {},
   "source": [
    "###   \n",
    "### 목표 : scikit-learn 패키지를 활용하여 다양한 Machine Learning 분석을 수행한다.\n",
    "###   \n",
    "###   "
   ]
  },
  {
   "cell_type": "markdown",
   "metadata": {},
   "source": [
    "## 1. 데이터 전처리"
   ]
  },
  {
   "cell_type": "code",
   "execution_count": 4,
   "metadata": {
    "collapsed": true
   },
   "outputs": [],
   "source": [
    "import pandas as pd\n",
    "import numpy as np\n",
    "\n",
    "train = pd.read_csv(\"./bike/train.csv\", parse_dates=['datetime'])\n",
    "test = pd.read_csv(\"./bike/test.csv\", parse_dates=['datetime'])\n",
    "\n",
    "train['year'] = train['datetime'].dt.year  \n",
    "train['month'] = train['datetime'].dt.month\n",
    "train['day'] = train['datetime'].dt.day\n",
    "train['hour'] = train['datetime'].dt.hour\n",
    "train['minute'] = train['datetime'].dt.minute\n",
    "train['second'] = train['datetime'].dt.second\n",
    "train[\"dayofweek\"] = train[\"datetime\"].dt.dayofweek \n",
    "\n",
    "test['year'] = test['datetime'].dt.year  \n",
    "test['month'] = test['datetime'].dt.month\n",
    "test['day'] = test['datetime'].dt.day\n",
    "test['hour'] = test['datetime'].dt.hour\n",
    "test['minute'] = test['datetime'].dt.minute\n",
    "test['second'] = test['datetime'].dt.second\n",
    "test[\"dayofweek\"] = train[\"datetime\"].dt.dayofweek \n",
    "\n",
    "train[\"season_1\"] = train[\"season\"] == 1\n",
    "train[\"season_2\"] = train[\"season\"] == 2\n",
    "train[\"season_3\"] = train[\"season\"] == 3\n",
    "train[\"season_4\"] = train[\"season\"] == 4\n",
    "\n",
    "test[\"season_1\"] = test[\"season\"] == 1\n",
    "test[\"season_2\"] = test[\"season\"] == 2\n",
    "test[\"season_3\"] = test[\"season\"] == 3\n",
    "test[\"season_4\"] = test[\"season\"] == 4\n",
    "\n",
    "train[\"weather_1\"] = train[\"weather\"] == 1\n",
    "train[\"weather_2\"] = train[\"weather\"] == 2\n",
    "train[\"weather_3\"] = train[\"weather\"] == 3\n",
    "train[\"weather_4\"] = train[\"weather\"] == 4\n",
    "\n",
    "test[\"weather_1\"] = test[\"weather\"] == 1\n",
    "test[\"weather_2\"] = test[\"weather\"] == 2\n",
    "test[\"weather_3\"] = test[\"weather\"] == 3\n",
    "test[\"weather_4\"] = test[\"weather\"] == 4\n",
    "\n",
    "train[\"mon\"] = train[\"dayofweek\"] == 0\n",
    "train[\"tue\"] = train[\"dayofweek\"] == 1\n",
    "train[\"wed\"] = train[\"dayofweek\"] == 2\n",
    "train[\"thu\"] = train[\"dayofweek\"] == 3\n",
    "train[\"fri\"] = train[\"dayofweek\"] == 4\n",
    "train[\"sat\"] = train[\"dayofweek\"] == 5\n",
    "train[\"sun\"] = train[\"dayofweek\"] == 6\n",
    "\n",
    "test[\"mon\"] = test[\"dayofweek\"] == 0\n",
    "test[\"tue\"] = test[\"dayofweek\"] == 1\n",
    "test[\"wed\"] = test[\"dayofweek\"] == 2\n",
    "test[\"thu\"] = test[\"dayofweek\"] == 3\n",
    "test[\"fri\"] = test[\"dayofweek\"] == 4\n",
    "test[\"sat\"] = test[\"dayofweek\"] == 5\n",
    "test[\"sun\"] = test[\"dayofweek\"] == 6\n",
    "\n",
    "train[\"12 am\"] = train[\"hour\"] == 0 \n",
    "test[\"12 am\"] = test[\"hour\"] == 0 \n",
    "\n",
    "train[\"1 am\"] = train[\"hour\"] == 1\n",
    "test[\"1 am\"] = test[\"hour\"] == 1 \n",
    "\n",
    "train[\"2 am\"] = train[\"hour\"] == 2 \n",
    "test[\"2 am\"] = test[\"hour\"] == 2 \n",
    "\n",
    "train[\"3 am\"] = train[\"hour\"] == 3 \n",
    "test[\"3 am\"] = test[\"hour\"] == 3 \n",
    "\n",
    "train[\"4 am\"] = train[\"hour\"] == 4 \n",
    "test[\"4 am\"] = test[\"hour\"] == 4 \n",
    "\n",
    "train[\"5 am\"] = train[\"hour\"] == 5 \n",
    "test[\"5 am\"] = test[\"hour\"] == 5 \n",
    "\n",
    "train[\"6 am\"] = train[\"hour\"] == 6 \n",
    "test[\"6 am\"] = test[\"hour\"] == 6 \n",
    "\n",
    "train[\"7 am\"] = train[\"hour\"] == 7 \n",
    "test[\"7 am\"] = test[\"hour\"] == 7 \n",
    "\n",
    "train[\"8 am\"] = train[\"hour\"] == 8 \n",
    "test[\"8 am\"] = test[\"hour\"] == 8\n",
    "\n",
    "train[\"9 am\"] = train[\"hour\"] == 9 \n",
    "test[\"9 am\"] = test[\"hour\"] == 9 \n",
    "\n",
    "train[\"10 am\"] = train[\"hour\"] == 10 \n",
    "test[\"10 am\"] = test[\"hour\"] == 10 \n",
    "\n",
    "train[\"11 am\"] = train[\"hour\"] == 11 \n",
    "test[\"11 am\"] = test[\"hour\"] == 11 \n",
    "\n",
    "train[\"12 pm\"] = train[\"hour\"] == 12 \n",
    "test[\"12 pm\"] = test[\"hour\"] == 12\n",
    "\n",
    "train[\"1 pm\"] = train[\"hour\"] == 13 \n",
    "test[\"1 pm\"] = test[\"hour\"] == 13 \n",
    "\n",
    "train[\"2 pm\"] = train[\"hour\"] == 14 \n",
    "test[\"2 pm\"] = test[\"hour\"] == 14 \n",
    "\n",
    "train[\"3 pm\"] = train[\"hour\"] == 15 \n",
    "test[\"3 pm\"] = test[\"hour\"] == 15\n",
    "\n",
    "train[\"4 pm\"] = train[\"hour\"] == 16 \n",
    "test[\"4 pm\"] = test[\"hour\"] == 16\n",
    "\n",
    "train[\"5 pm\"] = train[\"hour\"] == 17 \n",
    "test[\"5 pm\"] = test[\"hour\"] == 17\n",
    "\n",
    "train[\"6 pm\"] = train[\"hour\"] == 18\n",
    "test[\"6 pm\"] = test[\"hour\"] == 18\n",
    "\n",
    "train[\"7 pm\"] = train[\"hour\"] == 19 \n",
    "test[\"7 pm\"] = test[\"hour\"] == 19\n",
    "\n",
    "train[\"8 pm\"] = train[\"hour\"] == 20\n",
    "test[\"8 pm\"] = test[\"hour\"] == 20\n",
    "\n",
    "train[\"9 pm\"] = train[\"hour\"] == 21\n",
    "test[\"9 pm\"] = test[\"hour\"] == 21\n",
    "\n",
    "train[\"10 pm\"] = train[\"hour\"] == 22\n",
    "test[\"10 pm\"] = test[\"hour\"] == 22\n",
    "\n",
    "train[\"11 pm\"] = train[\"hour\"] == 23\n",
    "test[\"11 pm\"] = test[\"hour\"] == 23\n",
    "\n",
    "\n",
    "# basic_features\n",
    "# feature_names = ['holiday', 'workingday', 'temp', 'atemp', 'humidity', 'windspeed',\n",
    "#                  'year', 'month', 'day', 'hour', 'minute', 'second',\n",
    "#                  'season_1', 'season_2', 'season_3', 'season_4',\n",
    "#                  'weather_1', 'weather_2', 'weather_3', 'weather_4',\n",
    "#                  'mon', 'tue', 'wed', 'thu', 'fri', 'sat', 'sun',\n",
    "#                  '12 am', '1 am', '2 am', '3 am', '4 am', '5 am', '6 am', '7 am', '8 am', '9 am', '10 am', '11 am', \n",
    "#                  '12 pm', '1 pm', '2 pm', '3 pm', '4 pm', '5 pm', '6 pm', '7 pm', '8 pm', '9 pm', '10 pm', '11 pm',\n",
    "#                  ]\n",
    "\n",
    "# featuers_1 : datetime 전부 제외\n",
    "# feature_names = ['holiday', 'workingday', 'temp', 'atemp', 'humidity', 'windspeed',\n",
    "#                  'season_1', 'season_2', 'season_3', 'season_4',\n",
    "#                  'weather_1', 'weather_2', 'weather_3', 'weather_4',    \n",
    "#                  ]  \n",
    "\n",
    "# features_2 : 시,분,초만 제외, 시간 원핫인코딩 유지\n",
    "# feature_names = ['holiday', 'workingday', 'temp', 'atemp', 'humidity', 'windspeed',\n",
    "#                  'year', 'month', 'day',\n",
    "#                  'season_1', 'season_2', 'season_3', 'season_4',\n",
    "#                  'weather_1', 'weather_2', 'weather_3', 'weather_4',\n",
    "#                  'mon', 'tue', 'wed', 'thu', 'fri', 'sat', 'sun',\n",
    "#                  '12 am', '1 am', '2 am', '3 am', '4 am', '5 am', '6 am', '7 am', '8 am', '9 am', '10 am', '11 am', \n",
    "#                  '12 pm', '1 pm', '2 pm', '3 pm', '4 pm', '5 pm', '6 pm', '7 pm', '8 pm', '9 pm', '10 pm', '11 pm',\n",
    "#                  ]\n",
    "\n",
    "# features_3 : 모든 시간 제외\n",
    "# feature_names = ['holiday', 'workingday', 'temp', 'atemp', 'humidity', 'windspeed',\n",
    "#                  'year', 'month', 'day',\n",
    "#                  'season_1', 'season_2', 'season_3', 'season_4',\n",
    "#                  'weather_1', 'weather_2', 'weather_3', 'weather_4',\n",
    "#                  'mon', 'tue', 'wed', 'thu', 'fri', 'sat', 'sun',\n",
    "#                  ]\n",
    "\n",
    "# feature_4 : 일, 분, 초 제외\n",
    "# feature_names = ['holiday', 'workingday', 'temp', 'atemp', 'humidity', 'windspeed',\n",
    "#                  'year', 'month', 'hour',\n",
    "#                  'season_1', 'season_2', 'season_3', 'season_4',\n",
    "#                  'weather_1', 'weather_2', 'weather_3', 'weather_4',\n",
    "#                  'mon', 'tue', 'wed', 'thu', 'fri', 'sat', 'sun',\n",
    "#                  '12 am', '1 am', '2 am', '3 am', '4 am', '5 am', '6 am', '7 am', '8 am', '9 am', '10 am', '11 am', \n",
    "#                  '12 pm', '1 pm', '2 pm', '3 pm', '4 pm', '5 pm', '6 pm', '7 pm', '8 pm', '9 pm', '10 pm', '11 pm',\n",
    "#                  ]\n",
    "\n",
    "# feature_5 : 일, 분, 초, 시간, 요일 원핫인코딩 제외\n",
    "# feature_names = ['holiday', 'workingday', 'temp', 'atemp', 'humidity', 'windspeed',\n",
    "#                  'year', 'month', 'hour',\n",
    "#                  'season_1', 'season_2', 'season_3', 'season_4',\n",
    "#                  'weather_1', 'weather_2', 'weather_3', 'weather_4',\n",
    "#                  'dayofweek'\n",
    "#                  ]\n",
    "\n",
    "\n",
    "\n",
    "# feature_6 : 월, 일, 분, 초, 시간, 요일 원핫인코딩 제외\n",
    "# feature_names = ['holiday', 'workingday', 'temp', 'atemp', 'humidity', 'windspeed',\n",
    "#                   'year', 'hour', \n",
    "#                   'weather_1', 'weather_2', 'weather_3', 'weather_4',\n",
    "#                   'season_1', 'season_2', 'season_3', 'season_4',\n",
    "#                   'dayofweek']\n",
    "\n",
    "# feature_7 : 원핫인코딩 제외, 연, 시간 요일만\n",
    "feature_names = [ 'holiday', 'workingday', 'temp', 'atemp',  'humidity', 'windspeed',\n",
    "                  'season','weather',\n",
    "                  'year','hour', 'dayofweek']\n",
    "\n",
    "# # feature_8 : 원핫인코딩 제외, 연, 시간 요\n",
    "# feature_names = [ 'holiday', 'workingday', 'temp', 'atemp',  'humidity', 'windspeed',\n",
    "#                  'season','weather',\n",
    "#                  'year','hour', 'dayofweek']\n",
    "\n",
    "\n",
    "\n",
    "x_train = train[feature_names]\n",
    "y_train = train['count']\n",
    "x_test = test[feature_names]\n",
    "\n",
    "y_train = np.log1p(y_train)"
   ]
  },
  {
   "cell_type": "markdown",
   "metadata": {},
   "source": [
    "#### 앞서 수행한 EDA를 통해 나온 전처리 과정을 반복한다."
   ]
  },
  {
   "cell_type": "markdown",
   "metadata": {},
   "source": [
    "####   \n",
    "####   "
   ]
  },
  {
   "cell_type": "markdown",
   "metadata": {},
   "source": [
    "## 2. Linear Regression"
   ]
  },
  {
   "cell_type": "code",
   "execution_count": null,
   "metadata": {
    "collapsed": true
   },
   "outputs": [],
   "source": [
    "#### 모델 설명"
   ]
  },
  {
   "cell_type": "markdown",
   "metadata": {},
   "source": [
    "#### (1) 기본 모델 "
   ]
  },
  {
   "cell_type": "code",
   "execution_count": 8,
   "metadata": {},
   "outputs": [
    {
     "data": {
      "text/plain": [
       "LinearRegression(copy_X=True, fit_intercept=True, n_jobs=1, normalize=False)"
      ]
     },
     "execution_count": 8,
     "metadata": {},
     "output_type": "execute_result"
    }
   ],
   "source": [
    "from sklearn import linear_model\n",
    "           \n",
    "LR_model = linear_model.LinearRegression()\n",
    "LR_model"
   ]
  },
  {
   "cell_type": "code",
   "execution_count": 39,
   "metadata": {},
   "outputs": [
    {
     "data": {
      "text/plain": [
       "LinearRegression(copy_X=True, fit_intercept=True, n_jobs=1, normalize=False)"
      ]
     },
     "execution_count": 39,
     "metadata": {},
     "output_type": "execute_result"
    }
   ],
   "source": [
    "# Linear Regression 불러오는 또다른 방법 \n",
    "\n",
    "from sklearn.linear_model import LinearRegression\n",
    "\n",
    "LR_model = LinearRegression()\n",
    "LR_model"
   ]
  },
  {
   "cell_type": "code",
   "execution_count": 40,
   "metadata": {},
   "outputs": [
    {
     "data": {
      "text/plain": [
       "LinearRegression(copy_X=True, fit_intercept=True, n_jobs=1, normalize=False)"
      ]
     },
     "execution_count": 40,
     "metadata": {},
     "output_type": "execute_result"
    }
   ],
   "source": [
    "LR_model.fit(x_train, y_train)"
   ]
  },
  {
   "cell_type": "code",
   "execution_count": 41,
   "metadata": {},
   "outputs": [
    {
     "data": {
      "text/plain": [
       "-0.9337538211371099"
      ]
     },
     "execution_count": 41,
     "metadata": {},
     "output_type": "execute_result"
    }
   ],
   "source": [
    "from sklearn.model_selection import cross_val_score\n",
    "\n",
    "cv_score = cross_val_score(LR_model, x_train, y_train, cv = 20,\n",
    "                           scoring = \"neg_mean_absolute_error\").mean()\n",
    "\n",
    "cv_score"
   ]
  },
  {
   "cell_type": "code",
   "execution_count": 42,
   "metadata": {},
   "outputs": [
    {
     "data": {
      "text/plain": [
       "-1.4458992920320461"
      ]
     },
     "execution_count": 42,
     "metadata": {},
     "output_type": "execute_result"
    }
   ],
   "source": [
    "cv_score = cross_val_score(LR_model, x_train, y_train, cv = 20,\n",
    "                           scoring = \"neg_mean_squared_error\").mean()\n",
    "\n",
    "cv_score"
   ]
  },
  {
   "cell_type": "code",
   "execution_count": 43,
   "metadata": {},
   "outputs": [
    {
     "data": {
      "text/plain": [
       "array([39.03441647, 33.19557407, 33.19557407, 35.79591755, 35.79591755,\n",
       "       30.79750249, 28.81429573, 32.48224454, 33.69079496, 45.44907209])"
      ]
     },
     "execution_count": 43,
     "metadata": {},
     "output_type": "execute_result"
    }
   ],
   "source": [
    "predictions = LR_model.predict(x_test)\n",
    "predictions = np.expm1(predictions)\n",
    "predictions[0:10]"
   ]
  },
  {
   "cell_type": "code",
   "execution_count": 44,
   "metadata": {},
   "outputs": [
    {
     "name": "stdout",
     "output_type": "stream",
     "text": [
      "(6493, 1)\n"
     ]
    },
    {
     "data": {
      "text/html": [
       "<div>\n",
       "<style>\n",
       "    .dataframe thead tr:only-child th {\n",
       "        text-align: right;\n",
       "    }\n",
       "\n",
       "    .dataframe thead th {\n",
       "        text-align: left;\n",
       "    }\n",
       "\n",
       "    .dataframe tbody tr th {\n",
       "        vertical-align: top;\n",
       "    }\n",
       "</style>\n",
       "<table border=\"1\" class=\"dataframe\">\n",
       "  <thead>\n",
       "    <tr style=\"text-align: right;\">\n",
       "      <th></th>\n",
       "      <th>count</th>\n",
       "    </tr>\n",
       "    <tr>\n",
       "      <th>datetime</th>\n",
       "      <th></th>\n",
       "    </tr>\n",
       "  </thead>\n",
       "  <tbody>\n",
       "    <tr>\n",
       "      <th>2011-01-20 00:00:00</th>\n",
       "      <td>39.034416</td>\n",
       "    </tr>\n",
       "    <tr>\n",
       "      <th>2011-01-20 01:00:00</th>\n",
       "      <td>33.195574</td>\n",
       "    </tr>\n",
       "    <tr>\n",
       "      <th>2011-01-20 02:00:00</th>\n",
       "      <td>33.195574</td>\n",
       "    </tr>\n",
       "    <tr>\n",
       "      <th>2011-01-20 03:00:00</th>\n",
       "      <td>35.795918</td>\n",
       "    </tr>\n",
       "    <tr>\n",
       "      <th>2011-01-20 04:00:00</th>\n",
       "      <td>35.795918</td>\n",
       "    </tr>\n",
       "  </tbody>\n",
       "</table>\n",
       "</div>"
      ],
      "text/plain": [
       "                         count\n",
       "datetime                      \n",
       "2011-01-20 00:00:00  39.034416\n",
       "2011-01-20 01:00:00  33.195574\n",
       "2011-01-20 02:00:00  33.195574\n",
       "2011-01-20 03:00:00  35.795918\n",
       "2011-01-20 04:00:00  35.795918"
      ]
     },
     "execution_count": 44,
     "metadata": {},
     "output_type": "execute_result"
    }
   ],
   "source": [
    "submission = pd.read_csv(\"./bike/sampleSubmission.csv\",  index_col= \"datetime\")\n",
    "submission['count'] = predictions\n",
    "\n",
    "submission.to_csv(\"LR_model3.csv\")    \n",
    "print(submission.shape)\n",
    "submission.head()"
   ]
  },
  {
   "cell_type": "markdown",
   "metadata": {},
   "source": [
    "#### 모델 요약"
   ]
  },
  {
   "cell_type": "code",
   "execution_count": null,
   "metadata": {
    "collapsed": true
   },
   "outputs": [],
   "source": [
    "from sklearn.linear_model import LinearRegression\n",
    "\n",
    "LR_model = LinearRegression()\n",
    "LR_model.fit(x_train, y_train)\n",
    "predictions = LR_model.predict(x_test)\n",
    "predictions = np.expm1(predictions)\n",
    "submission = pd.read_csv(\"./bike/sampleSubmission.csv\",  index_col= \"datetime\")\n",
    "submission['count'] = predictions\n",
    "\n",
    "submission.to_csv(\"LR_model3.csv\") "
   ]
  },
  {
   "cell_type": "markdown",
   "metadata": {},
   "source": [
    "#### 결과보고서"
   ]
  },
  {
   "cell_type": "code",
   "execution_count": null,
   "metadata": {
    "collapsed": true
   },
   "outputs": [],
   "source": [
    "# basic features\n",
    "\n",
    "LinearRegression()  : Fail \n",
    "LinearRegression() / log(y+1) : Fail   \n",
    "    \n",
    "# featuers_1\n",
    "LinearRegression() / log(y+1) : 1.18442\n",
    "    \n",
    "# features_3\n",
    "LinearRegression() / log(y+1) : 1.19866"
   ]
  },
  {
   "cell_type": "markdown",
   "metadata": {
    "collapsed": true
   },
   "source": [
    "#### (2) Hyperparameter 조정"
   ]
  },
  {
   "cell_type": "markdown",
   "metadata": {},
   "source": [
    "#### LinearRegression"
   ]
  },
  {
   "cell_type": "markdown",
   "metadata": {},
   "source": [
    "#### 기본"
   ]
  },
  {
   "cell_type": "code",
   "execution_count": 18,
   "metadata": {},
   "outputs": [
    {
     "data": {
      "text/plain": [
       "LinearRegression(copy_X=True, fit_intercept=True, n_jobs=1, normalize=False)"
      ]
     },
     "execution_count": 18,
     "metadata": {},
     "output_type": "execute_result"
    }
   ],
   "source": [
    "from sklearn import linear_model\n",
    "           \n",
    "LR_model = linear_model.LinearRegression()\n",
    "LR_model"
   ]
  },
  {
   "cell_type": "markdown",
   "metadata": {
    "collapsed": true
   },
   "source": [
    "#### 조정"
   ]
  },
  {
   "cell_type": "code",
   "execution_count": 23,
   "metadata": {
    "collapsed": true
   },
   "outputs": [],
   "source": [
    "params = {'copy_X' : False, 'fit_intercept' : False, 'n_jobs' : 6, 'normalize' : False}"
   ]
  },
  {
   "cell_type": "code",
   "execution_count": 24,
   "metadata": {},
   "outputs": [
    {
     "data": {
      "text/plain": [
       "array([45.44577226, 39.74544311, 39.74544311, ..., 38.37482489,\n",
       "       42.51847134, 34.14451187])"
      ]
     },
     "execution_count": 24,
     "metadata": {},
     "output_type": "execute_result"
    }
   ],
   "source": [
    "from sklearn.linear_model import LinearRegression\n",
    "\n",
    "LR_model = LinearRegression(params)\n",
    "LR_model.fit(x_train, y_train)\n",
    "predictions = LR_model.predict(x_test)\n",
    "predictions = np.expm1(predictions)\n",
    "submission = pd.read_csv(\"./bike/sampleSubmission.csv\",  index_col= \"datetime\")\n",
    "submission['count'] = predictions\n",
    "\n",
    "predictions"
   ]
  },
  {
   "cell_type": "code",
   "execution_count": 25,
   "metadata": {},
   "outputs": [
    {
     "name": "stdout",
     "output_type": "stream",
     "text": [
      "done!\n"
     ]
    }
   ],
   "source": [
    "submission.to_csv(\"LR_model4.csv\") \n",
    "print(\"done!\")"
   ]
  },
  {
   "cell_type": "markdown",
   "metadata": {},
   "source": [
    "#### 결과 보고서"
   ]
  },
  {
   "cell_type": "code",
   "execution_count": null,
   "metadata": {
    "collapsed": true
   },
   "outputs": [],
   "source": [
    "# basic features\n",
    "\n",
    "LinearRegression() / log(y+1)  : 1.18442    \n",
    "    "
   ]
  },
  {
   "cell_type": "markdown",
   "metadata": {},
   "source": [
    "####   \n",
    "####  "
   ]
  },
  {
   "cell_type": "markdown",
   "metadata": {
    "collapsed": true
   },
   "source": [
    "### Ridge Regression"
   ]
  },
  {
   "cell_type": "code",
   "execution_count": null,
   "metadata": {
    "collapsed": true
   },
   "outputs": [],
   "source": [
    "#### 모델 설명"
   ]
  },
  {
   "cell_type": "markdown",
   "metadata": {},
   "source": [
    "#### (1) 기본 모델"
   ]
  },
  {
   "cell_type": "code",
   "execution_count": 25,
   "metadata": {},
   "outputs": [
    {
     "data": {
      "text/plain": [
       "Ridge(alpha=1.0, copy_X=True, fit_intercept=True, max_iter=None,\n",
       "   normalize=False, random_state=None, solver='auto', tol=0.001)"
      ]
     },
     "execution_count": 25,
     "metadata": {},
     "output_type": "execute_result"
    }
   ],
   "source": [
    "from sklearn.linear_model import Ridge\n",
    "\n",
    "Ri_model = Ridge()\n",
    "Ri_model"
   ]
  },
  {
   "cell_type": "code",
   "execution_count": 26,
   "metadata": {},
   "outputs": [
    {
     "data": {
      "text/plain": [
       "Ridge(alpha=1.0, copy_X=True, fit_intercept=True, max_iter=None,\n",
       "   normalize=False, random_state=None, solver='auto', tol=0.001)"
      ]
     },
     "execution_count": 26,
     "metadata": {},
     "output_type": "execute_result"
    }
   ],
   "source": [
    "Ri_model.fit(x_train, y_train)"
   ]
  },
  {
   "cell_type": "code",
   "execution_count": 27,
   "metadata": {},
   "outputs": [
    {
     "data": {
      "text/plain": [
       "-0.9528959441347936"
      ]
     },
     "execution_count": 27,
     "metadata": {},
     "output_type": "execute_result"
    }
   ],
   "source": [
    "from sklearn.model_selection import cross_val_score\n",
    "\n",
    "cv_score = cross_val_score(Ri_model, x_train, y_train, cv = 20,\n",
    "                           scoring = \"neg_mean_absolute_error\").mean()\n",
    "\n",
    "cv_score"
   ]
  },
  {
   "cell_type": "code",
   "execution_count": 29,
   "metadata": {},
   "outputs": [
    {
     "data": {
      "text/plain": [
       "array([45.46066713, 39.7690554 , 39.7690554 , 42.31895361, 42.31895361,\n",
       "       36.13896718, 33.68248164, 38.05413596, 39.21305044, 54.26036324])"
      ]
     },
     "execution_count": 29,
     "metadata": {},
     "output_type": "execute_result"
    }
   ],
   "source": [
    "predictions = R_imodel.predict(x_test)\n",
    "predictions = np.expm1(predictions)\n",
    "predictions[0:10]"
   ]
  },
  {
   "cell_type": "code",
   "execution_count": 30,
   "metadata": {},
   "outputs": [
    {
     "name": "stdout",
     "output_type": "stream",
     "text": [
      "(6493, 1)\n"
     ]
    },
    {
     "data": {
      "text/html": [
       "<div>\n",
       "<style>\n",
       "    .dataframe thead tr:only-child th {\n",
       "        text-align: right;\n",
       "    }\n",
       "\n",
       "    .dataframe thead th {\n",
       "        text-align: left;\n",
       "    }\n",
       "\n",
       "    .dataframe tbody tr th {\n",
       "        vertical-align: top;\n",
       "    }\n",
       "</style>\n",
       "<table border=\"1\" class=\"dataframe\">\n",
       "  <thead>\n",
       "    <tr style=\"text-align: right;\">\n",
       "      <th></th>\n",
       "      <th>count</th>\n",
       "    </tr>\n",
       "    <tr>\n",
       "      <th>datetime</th>\n",
       "      <th></th>\n",
       "    </tr>\n",
       "  </thead>\n",
       "  <tbody>\n",
       "    <tr>\n",
       "      <th>2011-01-20 00:00:00</th>\n",
       "      <td>45.460667</td>\n",
       "    </tr>\n",
       "    <tr>\n",
       "      <th>2011-01-20 01:00:00</th>\n",
       "      <td>39.769055</td>\n",
       "    </tr>\n",
       "    <tr>\n",
       "      <th>2011-01-20 02:00:00</th>\n",
       "      <td>39.769055</td>\n",
       "    </tr>\n",
       "    <tr>\n",
       "      <th>2011-01-20 03:00:00</th>\n",
       "      <td>42.318954</td>\n",
       "    </tr>\n",
       "    <tr>\n",
       "      <th>2011-01-20 04:00:00</th>\n",
       "      <td>42.318954</td>\n",
       "    </tr>\n",
       "  </tbody>\n",
       "</table>\n",
       "</div>"
      ],
      "text/plain": [
       "                         count\n",
       "datetime                      \n",
       "2011-01-20 00:00:00  45.460667\n",
       "2011-01-20 01:00:00  39.769055\n",
       "2011-01-20 02:00:00  39.769055\n",
       "2011-01-20 03:00:00  42.318954\n",
       "2011-01-20 04:00:00  42.318954"
      ]
     },
     "execution_count": 30,
     "metadata": {},
     "output_type": "execute_result"
    }
   ],
   "source": [
    "submission = pd.read_csv(\"./bike/sampleSubmission.csv\", index_col = \"datetime\")\n",
    "submission['count'] = predictions\n",
    "\n",
    "submission.to_csv(\"Ri_model.csv\")\n",
    "\n",
    "print(submission.shape)\n",
    "submission.head()"
   ]
  },
  {
   "cell_type": "markdown",
   "metadata": {},
   "source": [
    "#### 모델 요약"
   ]
  },
  {
   "cell_type": "code",
   "execution_count": null,
   "metadata": {
    "collapsed": true
   },
   "outputs": [],
   "source": [
    "from sklearn.linear_model import Ridge\n",
    "\n",
    "R_model = Ridge()\n",
    "R_model.fit(x_train, y_train)\n",
    "predictions = R_model.predict(x_test)\n",
    "predictions = np.expm1(predictions)\n",
    "submission = pd.read_csv(\"./bike/sampleSubmission.csv\", index_col = \"datetime\")\n",
    "submission['count'] = predictions\n",
    "\n",
    "submission.to_csv(\"R_model.csv\")\n",
    "\n",
    "print(submission.shape)\n",
    "submission.head()"
   ]
  },
  {
   "cell_type": "markdown",
   "metadata": {},
   "source": [
    "#### 결과보고서 "
   ]
  },
  {
   "cell_type": "code",
   "execution_count": null,
   "metadata": {
    "collapsed": true
   },
   "outputs": [],
   "source": [
    "Ridge() / log(y+1) / featuers_1 :  1.18412"
   ]
  },
  {
   "cell_type": "markdown",
   "metadata": {},
   "source": [
    "#### (2) Hyperparameter 조정"
   ]
  },
  {
   "cell_type": "markdown",
   "metadata": {},
   "source": [
    "#### Ridge Regression"
   ]
  },
  {
   "cell_type": "markdown",
   "metadata": {},
   "source": [
    "#### 기본"
   ]
  },
  {
   "cell_type": "code",
   "execution_count": 19,
   "metadata": {},
   "outputs": [
    {
     "data": {
      "text/plain": [
       "Ridge(alpha=1.0, copy_X=True, fit_intercept=True, max_iter=None,\n",
       "   normalize=False, random_state=None, solver='auto', tol=0.001)"
      ]
     },
     "execution_count": 19,
     "metadata": {},
     "output_type": "execute_result"
    }
   ],
   "source": [
    "from sklearn.linear_model import Ridge\n",
    "\n",
    "Ri_model = Ridge()\n",
    "Ri_model"
   ]
  },
  {
   "cell_type": "markdown",
   "metadata": {},
   "source": [
    "#### 조정"
   ]
  },
  {
   "cell_type": "code",
   "execution_count": null,
   "metadata": {
    "collapsed": true
   },
   "outputs": [],
   "source": []
  },
  {
   "cell_type": "markdown",
   "metadata": {},
   "source": [
    "#### 결과 보고서"
   ]
  },
  {
   "cell_type": "markdown",
   "metadata": {
    "collapsed": true
   },
   "source": [
    "####  \n",
    "####  "
   ]
  },
  {
   "cell_type": "markdown",
   "metadata": {
    "collapsed": true
   },
   "source": [
    "### Lasso"
   ]
  },
  {
   "cell_type": "code",
   "execution_count": null,
   "metadata": {
    "collapsed": true
   },
   "outputs": [],
   "source": [
    "#### 모델 설명 : "
   ]
  },
  {
   "cell_type": "markdown",
   "metadata": {
    "collapsed": true
   },
   "source": [
    "#### (1) 기본 모델"
   ]
  },
  {
   "cell_type": "code",
   "execution_count": 23,
   "metadata": {},
   "outputs": [
    {
     "data": {
      "text/plain": [
       "Lasso(alpha=1.0, copy_X=True, fit_intercept=True, max_iter=1000,\n",
       "   normalize=False, positive=False, precompute=False, random_state=None,\n",
       "   selection='cyclic', tol=0.0001, warm_start=False)"
      ]
     },
     "execution_count": 23,
     "metadata": {},
     "output_type": "execute_result"
    }
   ],
   "source": [
    "from sklearn.linear_model import Lasso\n",
    "\n",
    "La_model = Lasso()\n",
    "La_model"
   ]
  },
  {
   "cell_type": "code",
   "execution_count": 24,
   "metadata": {},
   "outputs": [
    {
     "data": {
      "text/plain": [
       "Lasso(alpha=1.0, copy_X=True, fit_intercept=True, max_iter=1000,\n",
       "   normalize=False, positive=False, precompute=False, random_state=None,\n",
       "   selection='cyclic', tol=0.0001, warm_start=False)"
      ]
     },
     "execution_count": 24,
     "metadata": {},
     "output_type": "execute_result"
    }
   ],
   "source": [
    "La_model.fit(x_train, y_train)"
   ]
  },
  {
   "cell_type": "code",
   "execution_count": 26,
   "metadata": {},
   "outputs": [
    {
     "data": {
      "text/plain": [
       "-0.8571641658145299"
      ]
     },
     "execution_count": 26,
     "metadata": {},
     "output_type": "execute_result"
    }
   ],
   "source": [
    "from sklearn.model_selection import cross_val_score\n",
    "\n",
    "cv_score = cross_val_score(La_model, x_train, y_train, cv = 20,\n",
    "                           scoring = \"neg_mean_absolute_error\").mean()\n",
    "cv_score"
   ]
  },
  {
   "cell_type": "code",
   "execution_count": 27,
   "metadata": {},
   "outputs": [
    {
     "data": {
      "text/plain": [
       "array([25.70678947, 30.52084324, 33.12768153, 34.9049388 , 37.87435077,\n",
       "       36.69000983, 38.64524711, 44.85380369, 48.64600717, 56.56288228])"
      ]
     },
     "execution_count": 27,
     "metadata": {},
     "output_type": "execute_result"
    }
   ],
   "source": [
    "predictions = La_model.predict(x_test)\n",
    "predictions = np.expm1(predictions)\n",
    "predictions[0:10]"
   ]
  },
  {
   "cell_type": "code",
   "execution_count": 28,
   "metadata": {},
   "outputs": [
    {
     "name": "stdout",
     "output_type": "stream",
     "text": [
      "(6493, 1)\n"
     ]
    },
    {
     "data": {
      "text/html": [
       "<div>\n",
       "<style>\n",
       "    .dataframe thead tr:only-child th {\n",
       "        text-align: right;\n",
       "    }\n",
       "\n",
       "    .dataframe thead th {\n",
       "        text-align: left;\n",
       "    }\n",
       "\n",
       "    .dataframe tbody tr th {\n",
       "        vertical-align: top;\n",
       "    }\n",
       "</style>\n",
       "<table border=\"1\" class=\"dataframe\">\n",
       "  <thead>\n",
       "    <tr style=\"text-align: right;\">\n",
       "      <th></th>\n",
       "      <th>count</th>\n",
       "    </tr>\n",
       "    <tr>\n",
       "      <th>datetime</th>\n",
       "      <th></th>\n",
       "    </tr>\n",
       "  </thead>\n",
       "  <tbody>\n",
       "    <tr>\n",
       "      <th>2011-01-20 00:00:00</th>\n",
       "      <td>25.706789</td>\n",
       "    </tr>\n",
       "    <tr>\n",
       "      <th>2011-01-20 01:00:00</th>\n",
       "      <td>30.520843</td>\n",
       "    </tr>\n",
       "    <tr>\n",
       "      <th>2011-01-20 02:00:00</th>\n",
       "      <td>33.127682</td>\n",
       "    </tr>\n",
       "    <tr>\n",
       "      <th>2011-01-20 03:00:00</th>\n",
       "      <td>34.904939</td>\n",
       "    </tr>\n",
       "    <tr>\n",
       "      <th>2011-01-20 04:00:00</th>\n",
       "      <td>37.874351</td>\n",
       "    </tr>\n",
       "  </tbody>\n",
       "</table>\n",
       "</div>"
      ],
      "text/plain": [
       "                         count\n",
       "datetime                      \n",
       "2011-01-20 00:00:00  25.706789\n",
       "2011-01-20 01:00:00  30.520843\n",
       "2011-01-20 02:00:00  33.127682\n",
       "2011-01-20 03:00:00  34.904939\n",
       "2011-01-20 04:00:00  37.874351"
      ]
     },
     "execution_count": 28,
     "metadata": {},
     "output_type": "execute_result"
    }
   ],
   "source": [
    "submission = pd.read_csv(\"./bike/sampleSubmission.csv\", index_col = \"datetime\")\n",
    "submission['count'] = predictions\n",
    "\n",
    "submission.to_csv(\"La_model1.csv\")\n",
    "\n",
    "print(submission.shape)\n",
    "submission.head()"
   ]
  },
  {
   "cell_type": "markdown",
   "metadata": {},
   "source": [
    "#### 결과 보고서"
   ]
  },
  {
   "cell_type": "code",
   "execution_count": null,
   "metadata": {
    "collapsed": true
   },
   "outputs": [],
   "source": [
    "# basic features\n",
    "\n",
    "Lasso / log(y+1)  : 1.05484   \n",
    "    "
   ]
  },
  {
   "cell_type": "markdown",
   "metadata": {},
   "source": [
    "#### (2) Hyperparameter 조정"
   ]
  },
  {
   "cell_type": "code",
   "execution_count": null,
   "metadata": {
    "collapsed": true
   },
   "outputs": [],
   "source": []
  },
  {
   "cell_type": "markdown",
   "metadata": {},
   "source": [
    "####   \n",
    "####   "
   ]
  },
  {
   "cell_type": "markdown",
   "metadata": {
    "collapsed": true
   },
   "source": [
    "### Decision Tree Regressor"
   ]
  },
  {
   "cell_type": "code",
   "execution_count": null,
   "metadata": {
    "collapsed": true
   },
   "outputs": [],
   "source": [
    "#### 모델 설명"
   ]
  },
  {
   "cell_type": "markdown",
   "metadata": {},
   "source": [
    "#### (1) 기본 모델"
   ]
  },
  {
   "cell_type": "code",
   "execution_count": 29,
   "metadata": {},
   "outputs": [
    {
     "data": {
      "text/plain": [
       "DecisionTreeRegressor(criterion='mse', max_depth=None, max_features=None,\n",
       "           max_leaf_nodes=None, min_impurity_split=1e-07,\n",
       "           min_samples_leaf=1, min_samples_split=2,\n",
       "           min_weight_fraction_leaf=0.0, presort=False, random_state=None,\n",
       "           splitter='best')"
      ]
     },
     "execution_count": 29,
     "metadata": {},
     "output_type": "execute_result"
    }
   ],
   "source": [
    "from sklearn.tree import DecisionTreeRegressor\n",
    "\n",
    "DT_model = DecisionTreeRegressor()\n",
    "DT_model"
   ]
  },
  {
   "cell_type": "code",
   "execution_count": 30,
   "metadata": {},
   "outputs": [
    {
     "data": {
      "text/plain": [
       "DecisionTreeRegressor(criterion='mse', max_depth=None, max_features=None,\n",
       "           max_leaf_nodes=None, min_impurity_split=1e-07,\n",
       "           min_samples_leaf=1, min_samples_split=2,\n",
       "           min_weight_fraction_leaf=0.0, presort=False, random_state=None,\n",
       "           splitter='best')"
      ]
     },
     "execution_count": 30,
     "metadata": {},
     "output_type": "execute_result"
    }
   ],
   "source": [
    "DT_model.fit(x_train, y_train)"
   ]
  },
  {
   "cell_type": "code",
   "execution_count": 31,
   "metadata": {},
   "outputs": [
    {
     "data": {
      "text/plain": [
       "-0.34215334851972534"
      ]
     },
     "execution_count": 31,
     "metadata": {},
     "output_type": "execute_result"
    }
   ],
   "source": [
    "from sklearn.model_selection import cross_val_score\n",
    "\n",
    "cv_score = cross_val_score(DT_model, x_train, y_train, cv = 20,\n",
    "                           scoring = \"neg_mean_absolute_error\").mean()\n",
    "\n",
    "cv_score"
   ]
  },
  {
   "cell_type": "code",
   "execution_count": 32,
   "metadata": {},
   "outputs": [
    {
     "data": {
      "text/plain": [
       "array([ 17.,   4.,   3.,   1.,   4.,   8.,  33.,  88., 230., 115.])"
      ]
     },
     "execution_count": 32,
     "metadata": {},
     "output_type": "execute_result"
    }
   ],
   "source": [
    "predictions = DT_model.predict(x_test)\n",
    "predictions = np.expm1(predictions)\n",
    "predictions[0:10]"
   ]
  },
  {
   "cell_type": "code",
   "execution_count": 33,
   "metadata": {},
   "outputs": [
    {
     "name": "stdout",
     "output_type": "stream",
     "text": [
      "(6493, 1)\n"
     ]
    },
    {
     "data": {
      "text/html": [
       "<div>\n",
       "<style>\n",
       "    .dataframe thead tr:only-child th {\n",
       "        text-align: right;\n",
       "    }\n",
       "\n",
       "    .dataframe thead th {\n",
       "        text-align: left;\n",
       "    }\n",
       "\n",
       "    .dataframe tbody tr th {\n",
       "        vertical-align: top;\n",
       "    }\n",
       "</style>\n",
       "<table border=\"1\" class=\"dataframe\">\n",
       "  <thead>\n",
       "    <tr style=\"text-align: right;\">\n",
       "      <th></th>\n",
       "      <th>count</th>\n",
       "    </tr>\n",
       "    <tr>\n",
       "      <th>datetime</th>\n",
       "      <th></th>\n",
       "    </tr>\n",
       "  </thead>\n",
       "  <tbody>\n",
       "    <tr>\n",
       "      <th>2011-01-20 00:00:00</th>\n",
       "      <td>17.0</td>\n",
       "    </tr>\n",
       "    <tr>\n",
       "      <th>2011-01-20 01:00:00</th>\n",
       "      <td>4.0</td>\n",
       "    </tr>\n",
       "    <tr>\n",
       "      <th>2011-01-20 02:00:00</th>\n",
       "      <td>3.0</td>\n",
       "    </tr>\n",
       "    <tr>\n",
       "      <th>2011-01-20 03:00:00</th>\n",
       "      <td>1.0</td>\n",
       "    </tr>\n",
       "    <tr>\n",
       "      <th>2011-01-20 04:00:00</th>\n",
       "      <td>4.0</td>\n",
       "    </tr>\n",
       "  </tbody>\n",
       "</table>\n",
       "</div>"
      ],
      "text/plain": [
       "                     count\n",
       "datetime                  \n",
       "2011-01-20 00:00:00   17.0\n",
       "2011-01-20 01:00:00    4.0\n",
       "2011-01-20 02:00:00    3.0\n",
       "2011-01-20 03:00:00    1.0\n",
       "2011-01-20 04:00:00    4.0"
      ]
     },
     "execution_count": 33,
     "metadata": {},
     "output_type": "execute_result"
    }
   ],
   "source": [
    "submission = pd.read_csv(\"./bike/sampleSubmission.csv\",  index_col= \"datetime\")\n",
    "submission['count'] = predictions\n",
    "\n",
    "submission.to_csv(\"DT_model2.csv\")    \n",
    "print(submission.shape)\n",
    "submission.head()"
   ]
  },
  {
   "cell_type": "markdown",
   "metadata": {},
   "source": [
    "#### 모델 요약"
   ]
  },
  {
   "cell_type": "code",
   "execution_count": 32,
   "metadata": {},
   "outputs": [
    {
     "name": "stdout",
     "output_type": "stream",
     "text": [
      "(6493, 1)\n"
     ]
    },
    {
     "data": {
      "text/html": [
       "<div>\n",
       "<style>\n",
       "    .dataframe thead tr:only-child th {\n",
       "        text-align: right;\n",
       "    }\n",
       "\n",
       "    .dataframe thead th {\n",
       "        text-align: left;\n",
       "    }\n",
       "\n",
       "    .dataframe tbody tr th {\n",
       "        vertical-align: top;\n",
       "    }\n",
       "</style>\n",
       "<table border=\"1\" class=\"dataframe\">\n",
       "  <thead>\n",
       "    <tr style=\"text-align: right;\">\n",
       "      <th></th>\n",
       "      <th>count</th>\n",
       "    </tr>\n",
       "    <tr>\n",
       "      <th>datetime</th>\n",
       "      <th></th>\n",
       "    </tr>\n",
       "  </thead>\n",
       "  <tbody>\n",
       "    <tr>\n",
       "      <th>2011-01-20 00:00:00</th>\n",
       "      <td>17.0</td>\n",
       "    </tr>\n",
       "    <tr>\n",
       "      <th>2011-01-20 01:00:00</th>\n",
       "      <td>4.0</td>\n",
       "    </tr>\n",
       "    <tr>\n",
       "      <th>2011-01-20 02:00:00</th>\n",
       "      <td>3.0</td>\n",
       "    </tr>\n",
       "    <tr>\n",
       "      <th>2011-01-20 03:00:00</th>\n",
       "      <td>1.0</td>\n",
       "    </tr>\n",
       "    <tr>\n",
       "      <th>2011-01-20 04:00:00</th>\n",
       "      <td>4.0</td>\n",
       "    </tr>\n",
       "  </tbody>\n",
       "</table>\n",
       "</div>"
      ],
      "text/plain": [
       "                     count\n",
       "datetime                  \n",
       "2011-01-20 00:00:00   17.0\n",
       "2011-01-20 01:00:00    4.0\n",
       "2011-01-20 02:00:00    3.0\n",
       "2011-01-20 03:00:00    1.0\n",
       "2011-01-20 04:00:00    4.0"
      ]
     },
     "execution_count": 32,
     "metadata": {},
     "output_type": "execute_result"
    }
   ],
   "source": [
    "from sklearn.tree import DecisionTreeRegressor\n",
    "\n",
    "DT_model = DecisionTreeRegressor()\n",
    "DT_model.fit(x_train, y_train)\n",
    "predictions = DT_model.predict(x_test)\n",
    "predictions = np.expm1(predictions)\n",
    "submission = pd.read_csv(\"./bike/sampleSubmission.csv\",  index_col= \"datetime\")\n",
    "submission['count'] = predictions\n",
    "\n",
    "submission.to_csv(\"DT_model2.csv\")    \n",
    "print(submission.shape)\n",
    "submission.head()"
   ]
  },
  {
   "cell_type": "markdown",
   "metadata": {},
   "source": [
    "#### 결과보고서"
   ]
  },
  {
   "cell_type": "code",
   "execution_count": null,
   "metadata": {
    "collapsed": true
   },
   "outputs": [],
   "source": [
    "DecisionTreeRegressor()  : 0.61229\n",
    "DecisionTreeRegressor() / log(y+1) : 0.59733"
   ]
  },
  {
   "cell_type": "markdown",
   "metadata": {},
   "source": [
    "#### (2) Hyperparameter 조정"
   ]
  },
  {
   "cell_type": "markdown",
   "metadata": {},
   "source": [
    "#### Decision Tree Regressor"
   ]
  },
  {
   "cell_type": "markdown",
   "metadata": {
    "collapsed": true
   },
   "source": [
    "#### 기본"
   ]
  },
  {
   "cell_type": "code",
   "execution_count": null,
   "metadata": {
    "collapsed": true
   },
   "outputs": [],
   "source": [
    "DecisionTreeRegressor(criterion='mse', max_depth=None, max_features=None,\n",
    "           max_leaf_nodes=None, min_impurity_split=1e-07,\n",
    "           min_samples_leaf=1, min_samples_split=2,\n",
    "           min_weight_fraction_leaf=0.0, presort=False, random_state=None,\n",
    "           splitter='best')"
   ]
  },
  {
   "cell_type": "markdown",
   "metadata": {
    "collapsed": true
   },
   "source": [
    "#### 조정"
   ]
  },
  {
   "cell_type": "code",
   "execution_count": 3,
   "metadata": {},
   "outputs": [
    {
     "name": "stdout",
     "output_type": "stream",
     "text": [
      "(6493, 1)\n"
     ]
    },
    {
     "data": {
      "text/html": [
       "<div>\n",
       "<style>\n",
       "    .dataframe thead tr:only-child th {\n",
       "        text-align: right;\n",
       "    }\n",
       "\n",
       "    .dataframe thead th {\n",
       "        text-align: left;\n",
       "    }\n",
       "\n",
       "    .dataframe tbody tr th {\n",
       "        vertical-align: top;\n",
       "    }\n",
       "</style>\n",
       "<table border=\"1\" class=\"dataframe\">\n",
       "  <thead>\n",
       "    <tr style=\"text-align: right;\">\n",
       "      <th></th>\n",
       "      <th>count</th>\n",
       "    </tr>\n",
       "    <tr>\n",
       "      <th>datetime</th>\n",
       "      <th></th>\n",
       "    </tr>\n",
       "  </thead>\n",
       "  <tbody>\n",
       "    <tr>\n",
       "      <th>2011-01-20 00:00:00</th>\n",
       "      <td>10.340420</td>\n",
       "    </tr>\n",
       "    <tr>\n",
       "      <th>2011-01-20 01:00:00</th>\n",
       "      <td>17.932466</td>\n",
       "    </tr>\n",
       "    <tr>\n",
       "      <th>2011-01-20 02:00:00</th>\n",
       "      <td>22.804386</td>\n",
       "    </tr>\n",
       "    <tr>\n",
       "      <th>2011-01-20 03:00:00</th>\n",
       "      <td>10.844814</td>\n",
       "    </tr>\n",
       "    <tr>\n",
       "      <th>2011-01-20 04:00:00</th>\n",
       "      <td>1.119268</td>\n",
       "    </tr>\n",
       "  </tbody>\n",
       "</table>\n",
       "</div>"
      ],
      "text/plain": [
       "                         count\n",
       "datetime                      \n",
       "2011-01-20 00:00:00  10.340420\n",
       "2011-01-20 01:00:00  17.932466\n",
       "2011-01-20 02:00:00  22.804386\n",
       "2011-01-20 03:00:00  10.844814\n",
       "2011-01-20 04:00:00   1.119268"
      ]
     },
     "execution_count": 3,
     "metadata": {},
     "output_type": "execute_result"
    }
   ],
   "source": [
    "from sklearn.tree import DecisionTreeRegressor\n",
    "\n",
    "DT_model = DecisionTreeRegressor(max_features = 'auto', max_depth = 10,\n",
    "                                 random_state = 70)\n",
    "DT_model.fit(x_train, y_train)\n",
    "predictions = DT_model.predict(x_test)\n",
    "predictions = np.expm1(predictions)\n",
    "submission = pd.read_csv(\"./bike/sampleSubmission.csv\",  index_col= \"datetime\")\n",
    "submission['count'] = predictions\n",
    "\n",
    "submission.to_csv(\"DT_model2.csv\")    \n",
    "print(submission.shape)\n",
    "submission.head()"
   ]
  },
  {
   "cell_type": "markdown",
   "metadata": {},
   "source": [
    "#### 결과보고서"
   ]
  },
  {
   "cell_type": "code",
   "execution_count": null,
   "metadata": {
    "collapsed": true
   },
   "outputs": [],
   "source": [
    "# basic features\n",
    "\n",
    "DecisionTreeRegressor() / log(y+1)  : 0.56547 [ max_depth : 10  random_state : 60 ]   \n",
    "DecisionTreeRegressor() / log(y+1)  : 0.62745 [ max_depth : None  random_state : 60 ]\n",
    "DecisionTreeRegressor() / log(y+1)  : 0.58164 [ max_depth : 8  random_state : 60 ]\n",
    "DecisionTreeRegressor() / log(y+1)  : 0.60513 [ max_depth : 12  random_state : 60 ]\n",
    "DecisionTreeRegressor() / log(y+1)  : 0.57062 [ max_depth : 9  random_state : 60 ]\n",
    "DecisionTreeRegressor() / log(y+1)  : 0.59771 [ max_depth : 11  random_state : 60 ]\n",
    "DecisionTreeRegressor() / log(y+1)  : 0.59282 [ max_depth : 10  random_state : 50 ]\n",
    "DecisionTreeRegressor() / log(y+1)  : 0.56528 [ max_depth : 10  random_state : 70 ]  \n",
    "DecisionTreeRegressor() / log(y+1)  : 0.59196 [ max_depth : 10  random_state : 80 ]\n",
    "DecisionTreeRegressor() / log(y+1)  : 0.58761 [ max_depth : 10  random_state : 65 ]\n",
    "DecisionTreeRegressor() / log(y+1)  : 0.58831 [ max_depth : 10  random_state : 75 ]\n",
    "\n",
    "# max depth는 10이 가장 좋음\n",
    "\n",
    "# features_1\n",
    "\n",
    "DecisionTreeRegressor() / log(y+1)  : 1.31493 [ max_depth : 10  random_state : 70 ]\n",
    "\n",
    "# features_2\n",
    "\n",
    "DecisionTreeRegressor() / log(y+1)  : 0.67449 [ max_depth : 10  random_state : 70 ]\n",
    "\n",
    "\n",
    "# features_3\n",
    "\n",
    "DecisionTreeRegressor() / log(y+1)  : 1.46962 [ max_depth : 10  random_state : 70 ]\n",
    "\n",
    "\n",
    "# features_4 \n",
    "\n",
    "DecisionTreeRegressor() / log(y+1)  : 0.54956 [ max_depth : 10  random_state : 70 ] ☆\n",
    "DecisionTreeRegressor() / log(y+1)  : 0.61284 [ max_depth : None  random_state : 70 ]\n",
    "DecisionTreeRegressor() / log(y+1)  : 0.58146 [ max_depth : 8  random_state : 70 ]\n",
    "DecisionTreeRegressor() / log(y+1)  : 0.58141 [ max_depth : 10  random_state : 60 ]\n",
    "DecisionTreeRegressor() / log(y+1)  : 0.55229 [ max_depth : 10  random_state : 80 ]\n",
    "\n",
    "# features_5\n",
    "\n",
    "DecisionTreeRegressor() / log(y+1)  : 0.69433 [ max_depth : 10  random_state : 70 ]\n",
    "\n",
    "# features_6\n",
    "\n",
    "DecisionTreeRegressor() / log(y+1)  : 0.67639 [ max_depth : 10  random_state : 70 ]\n",
    "\n",
    "# feature_7 \n",
    "\n",
    "DecisionTreeRegressor() / log(y+1)  : 0.67142 [ max_depth : 10  random_state : 70 ]"
   ]
  },
  {
   "cell_type": "markdown",
   "metadata": {},
   "source": [
    "####  \n",
    "####  "
   ]
  },
  {
   "cell_type": "markdown",
   "metadata": {
    "collapsed": true
   },
   "source": [
    "### Random Forest Regressor"
   ]
  },
  {
   "cell_type": "code",
   "execution_count": null,
   "metadata": {
    "collapsed": true
   },
   "outputs": [],
   "source": [
    "#### 모델 설명"
   ]
  },
  {
   "cell_type": "markdown",
   "metadata": {},
   "source": [
    "#### (1) 기본 모델"
   ]
  },
  {
   "cell_type": "code",
   "execution_count": 51,
   "metadata": {},
   "outputs": [
    {
     "data": {
      "text/plain": [
       "RandomForestRegressor(bootstrap=True, criterion='mse', max_depth=None,\n",
       "           max_features='auto', max_leaf_nodes=None,\n",
       "           min_impurity_split=1e-07, min_samples_leaf=1,\n",
       "           min_samples_split=2, min_weight_fraction_leaf=0.0,\n",
       "           n_estimators=10, n_jobs=1, oob_score=False, random_state=None,\n",
       "           verbose=0, warm_start=False)"
      ]
     },
     "execution_count": 51,
     "metadata": {},
     "output_type": "execute_result"
    }
   ],
   "source": [
    "from sklearn.ensemble import RandomForestRegressor\n",
    "\n",
    "RF_model = RandomForestRegressor()\n",
    "RF_model"
   ]
  },
  {
   "cell_type": "code",
   "execution_count": 52,
   "metadata": {},
   "outputs": [
    {
     "data": {
      "text/plain": [
       "RandomForestRegressor(bootstrap=True, criterion='mse', max_depth=None,\n",
       "           max_features='auto', max_leaf_nodes=None,\n",
       "           min_impurity_split=1e-07, min_samples_leaf=1,\n",
       "           min_samples_split=2, min_weight_fraction_leaf=0.0,\n",
       "           n_estimators=10, n_jobs=1, oob_score=False, random_state=None,\n",
       "           verbose=0, warm_start=False)"
      ]
     },
     "execution_count": 52,
     "metadata": {},
     "output_type": "execute_result"
    }
   ],
   "source": [
    "RF_model.fit(x_train, y_train)"
   ]
  },
  {
   "cell_type": "code",
   "execution_count": 53,
   "metadata": {},
   "outputs": [
    {
     "data": {
      "text/plain": [
       "-0.26689096875470125"
      ]
     },
     "execution_count": 53,
     "metadata": {},
     "output_type": "execute_result"
    }
   ],
   "source": [
    "from sklearn.model_selection import cross_val_score\n",
    "\n",
    "cv_score = cross_val_score(RF_model, x_train, y_train, cv = 20,\n",
    "                           scoring = \"neg_mean_absolute_error\").mean()\n",
    "cv_score"
   ]
  },
  {
   "cell_type": "code",
   "execution_count": 54,
   "metadata": {},
   "outputs": [
    {
     "data": {
      "text/plain": [
       "array([ 10.43483085,   7.05974539,   5.02371634,   2.13656467,\n",
       "         2.11499909,   6.58945457,  32.71893042,  79.7575019 ,\n",
       "       223.81677107, 113.82307266])"
      ]
     },
     "execution_count": 54,
     "metadata": {},
     "output_type": "execute_result"
    }
   ],
   "source": [
    "predictions = RF_model.predict(x_test)\n",
    "predictions = np.expm1(predictions)\n",
    "predictions[0:10]"
   ]
  },
  {
   "cell_type": "code",
   "execution_count": 55,
   "metadata": {},
   "outputs": [
    {
     "name": "stdout",
     "output_type": "stream",
     "text": [
      "(6493, 1)\n"
     ]
    },
    {
     "data": {
      "text/html": [
       "<div>\n",
       "<style>\n",
       "    .dataframe thead tr:only-child th {\n",
       "        text-align: right;\n",
       "    }\n",
       "\n",
       "    .dataframe thead th {\n",
       "        text-align: left;\n",
       "    }\n",
       "\n",
       "    .dataframe tbody tr th {\n",
       "        vertical-align: top;\n",
       "    }\n",
       "</style>\n",
       "<table border=\"1\" class=\"dataframe\">\n",
       "  <thead>\n",
       "    <tr style=\"text-align: right;\">\n",
       "      <th></th>\n",
       "      <th>count</th>\n",
       "    </tr>\n",
       "    <tr>\n",
       "      <th>datetime</th>\n",
       "      <th></th>\n",
       "    </tr>\n",
       "  </thead>\n",
       "  <tbody>\n",
       "    <tr>\n",
       "      <th>2011-01-20 00:00:00</th>\n",
       "      <td>10.434831</td>\n",
       "    </tr>\n",
       "    <tr>\n",
       "      <th>2011-01-20 01:00:00</th>\n",
       "      <td>7.059745</td>\n",
       "    </tr>\n",
       "    <tr>\n",
       "      <th>2011-01-20 02:00:00</th>\n",
       "      <td>5.023716</td>\n",
       "    </tr>\n",
       "    <tr>\n",
       "      <th>2011-01-20 03:00:00</th>\n",
       "      <td>2.136565</td>\n",
       "    </tr>\n",
       "    <tr>\n",
       "      <th>2011-01-20 04:00:00</th>\n",
       "      <td>2.114999</td>\n",
       "    </tr>\n",
       "  </tbody>\n",
       "</table>\n",
       "</div>"
      ],
      "text/plain": [
       "                         count\n",
       "datetime                      \n",
       "2011-01-20 00:00:00  10.434831\n",
       "2011-01-20 01:00:00   7.059745\n",
       "2011-01-20 02:00:00   5.023716\n",
       "2011-01-20 03:00:00   2.136565\n",
       "2011-01-20 04:00:00   2.114999"
      ]
     },
     "execution_count": 55,
     "metadata": {},
     "output_type": "execute_result"
    }
   ],
   "source": [
    "submission = pd.read_csv(\"./bike/sampleSubmission.csv\",  index_col= \"datetime\")\n",
    "submission['count'] = predictions\n",
    "\n",
    "submission.to_csv(\"RF_model3.csv\")\n",
    "print(submission.shape)\n",
    "submission.head()"
   ]
  },
  {
   "cell_type": "markdown",
   "metadata": {},
   "source": [
    "#### 모델 요약"
   ]
  },
  {
   "cell_type": "code",
   "execution_count": 6,
   "metadata": {},
   "outputs": [
    {
     "name": "stdout",
     "output_type": "stream",
     "text": [
      "(6493, 1)\n"
     ]
    },
    {
     "data": {
      "text/html": [
       "<div>\n",
       "<style>\n",
       "    .dataframe thead tr:only-child th {\n",
       "        text-align: right;\n",
       "    }\n",
       "\n",
       "    .dataframe thead th {\n",
       "        text-align: left;\n",
       "    }\n",
       "\n",
       "    .dataframe tbody tr th {\n",
       "        vertical-align: top;\n",
       "    }\n",
       "</style>\n",
       "<table border=\"1\" class=\"dataframe\">\n",
       "  <thead>\n",
       "    <tr style=\"text-align: right;\">\n",
       "      <th></th>\n",
       "      <th>count</th>\n",
       "    </tr>\n",
       "    <tr>\n",
       "      <th>datetime</th>\n",
       "      <th></th>\n",
       "    </tr>\n",
       "  </thead>\n",
       "  <tbody>\n",
       "    <tr>\n",
       "      <th>2011-01-20 00:00:00</th>\n",
       "      <td>11.698218</td>\n",
       "    </tr>\n",
       "    <tr>\n",
       "      <th>2011-01-20 01:00:00</th>\n",
       "      <td>7.421406</td>\n",
       "    </tr>\n",
       "    <tr>\n",
       "      <th>2011-01-20 02:00:00</th>\n",
       "      <td>15.682826</td>\n",
       "    </tr>\n",
       "    <tr>\n",
       "      <th>2011-01-20 03:00:00</th>\n",
       "      <td>5.370579</td>\n",
       "    </tr>\n",
       "    <tr>\n",
       "      <th>2011-01-20 04:00:00</th>\n",
       "      <td>1.622039</td>\n",
       "    </tr>\n",
       "  </tbody>\n",
       "</table>\n",
       "</div>"
      ],
      "text/plain": [
       "                         count\n",
       "datetime                      \n",
       "2011-01-20 00:00:00  11.698218\n",
       "2011-01-20 01:00:00   7.421406\n",
       "2011-01-20 02:00:00  15.682826\n",
       "2011-01-20 03:00:00   5.370579\n",
       "2011-01-20 04:00:00   1.622039"
      ]
     },
     "execution_count": 6,
     "metadata": {},
     "output_type": "execute_result"
    }
   ],
   "source": [
    "from sklearn.ensemble import RandomForestRegressor\n",
    "\n",
    "RF_model = RandomForestRegressor()\n",
    "RF_model.fit(x_train, y_train)\n",
    "predictions = RF_model.predict(x_test)\n",
    "predictions = np.expm1(predictions)\n",
    "submission = pd.read_csv(\"./bike/sampleSubmission.csv\",  index_col= \"datetime\")\n",
    "submission['count'] = predictions\n",
    "\n",
    "submission.to_csv(\"RF_model32.csv\")\n",
    "print(submission.shape)\n",
    "submission.head()"
   ]
  },
  {
   "cell_type": "markdown",
   "metadata": {},
   "source": [
    "#### 결과 보고서"
   ]
  },
  {
   "cell_type": "code",
   "execution_count": null,
   "metadata": {
    "collapsed": true
   },
   "outputs": [],
   "source": [
    "RandomForestRegressor() / log(y+1) : 0.47936\n",
    "RandomForestRegressor() / log(y+1) /  features_2 : 1.28646\n",
    "RandomForestRegressor() / log(y+1) /  feautres_3 : 1.27538\n",
    "RandomForestRegressor() / log(y+1) /  feautres_4 : 0.47857\n",
    "RandomForestRegressor() / log(y+1) /  feautres_5 : 0.55768\n",
    "RandomForestRegressor() / log(y+1) /  feautres_6 : 0.53744\n"
   ]
  },
  {
   "cell_type": "markdown",
   "metadata": {},
   "source": [
    "#### (2) Hyperparameter 조정"
   ]
  },
  {
   "cell_type": "markdown",
   "metadata": {},
   "source": [
    "#### Random Forest Regressor"
   ]
  },
  {
   "cell_type": "markdown",
   "metadata": {
    "collapsed": true
   },
   "source": [
    "#### 기본"
   ]
  },
  {
   "cell_type": "code",
   "execution_count": 4,
   "metadata": {
    "collapsed": true
   },
   "outputs": [],
   "source": [
    "RandomForestRegressor(bootstrap=True, criterion='mse', max_depth=None,\n",
    "           max_features='auto', max_leaf_nodes=None,\n",
    "           min_impurity_split=1e-07, min_samples_leaf=1,\n",
    "           min_samples_split=2, min_weight_fraction_leaf=0.0,\n",
    "           n_estimators=10, n_jobs=1, oob_score=False, random_state=None,\n",
    "           verbose=0, warm_start=False)"
   ]
  },
  {
   "cell_type": "code",
   "execution_count": 5,
   "metadata": {},
   "outputs": [
    {
     "data": {
      "text/plain": [
       "RandomForestRegressor(bootstrap=True, criterion='mse', max_depth=None,\n",
       "           max_features='auto', max_leaf_nodes=None,\n",
       "           min_impurity_split=1e-07, min_samples_leaf=1,\n",
       "           min_samples_split=2, min_weight_fraction_leaf=0.0,\n",
       "           n_estimators=10, n_jobs=1, oob_score=False, random_state=None,\n",
       "           verbose=0, warm_start=False)"
      ]
     },
     "execution_count": 5,
     "metadata": {},
     "output_type": "execute_result"
    }
   ],
   "source": [
    "from sklearn.ensemble import RandomForestRegressor\n",
    "\n",
    "RF_model = RandomForestRegressor()\n",
    "RF_model"
   ]
  },
  {
   "cell_type": "markdown",
   "metadata": {
    "collapsed": true
   },
   "source": [
    "#### 조정"
   ]
  },
  {
   "cell_type": "code",
   "execution_count": 4,
   "metadata": {
    "collapsed": true
   },
   "outputs": [],
   "source": [
    "max_depth = None, \n",
    "max_features = 'auto',\n",
    "n_estimators = 100, \n",
    "n_jobs = 8, \n",
    "random_state = 60\n",
    "\n",
    "params = [max_depth, max_features, n_estimators, random_state, n_jobs]"
   ]
  },
  {
   "cell_type": "code",
   "execution_count": 6,
   "metadata": {
    "scrolled": true
   },
   "outputs": [
    {
     "name": "stdout",
     "output_type": "stream",
     "text": [
      "(6493, 1)\n"
     ]
    },
    {
     "data": {
      "text/html": [
       "<div>\n",
       "<style>\n",
       "    .dataframe thead tr:only-child th {\n",
       "        text-align: right;\n",
       "    }\n",
       "\n",
       "    .dataframe thead th {\n",
       "        text-align: left;\n",
       "    }\n",
       "\n",
       "    .dataframe tbody tr th {\n",
       "        vertical-align: top;\n",
       "    }\n",
       "</style>\n",
       "<table border=\"1\" class=\"dataframe\">\n",
       "  <thead>\n",
       "    <tr style=\"text-align: right;\">\n",
       "      <th></th>\n",
       "      <th>count</th>\n",
       "    </tr>\n",
       "    <tr>\n",
       "      <th>datetime</th>\n",
       "      <th></th>\n",
       "    </tr>\n",
       "  </thead>\n",
       "  <tbody>\n",
       "    <tr>\n",
       "      <th>2011-01-20 00:00:00</th>\n",
       "      <td>19.217625</td>\n",
       "    </tr>\n",
       "    <tr>\n",
       "      <th>2011-01-20 01:00:00</th>\n",
       "      <td>12.756372</td>\n",
       "    </tr>\n",
       "    <tr>\n",
       "      <th>2011-01-20 02:00:00</th>\n",
       "      <td>11.314856</td>\n",
       "    </tr>\n",
       "    <tr>\n",
       "      <th>2011-01-20 03:00:00</th>\n",
       "      <td>6.967825</td>\n",
       "    </tr>\n",
       "    <tr>\n",
       "      <th>2011-01-20 04:00:00</th>\n",
       "      <td>1.897060</td>\n",
       "    </tr>\n",
       "  </tbody>\n",
       "</table>\n",
       "</div>"
      ],
      "text/plain": [
       "                         count\n",
       "datetime                      \n",
       "2011-01-20 00:00:00  19.217625\n",
       "2011-01-20 01:00:00  12.756372\n",
       "2011-01-20 02:00:00  11.314856\n",
       "2011-01-20 03:00:00   6.967825\n",
       "2011-01-20 04:00:00   1.897060"
      ]
     },
     "execution_count": 6,
     "metadata": {},
     "output_type": "execute_result"
    }
   ],
   "source": [
    "from sklearn.ensemble import RandomForestRegressor\n",
    "\n",
    "\n",
    "# RF_model = RandomForestRegressor( max_features = 'auto', max_depth = None,\n",
    "#                                   n_estimators = 750, \n",
    "#                                   random_state = 50,\n",
    "#                                   n_jobs = 8)\n",
    "\n",
    "RF_model = RandomForestRegressor(n_estimators = 300,\n",
    "                              max_depth = 20,\n",
    "                              max_features = 8,\n",
    "                              random_state = 37,\n",
    "                              n_jobs = 8)\n",
    "RF_model.fit(x_train, y_train)\n",
    "predictions = RF_model.predict(x_test)\n",
    "predictions = np.expm1(predictions)\n",
    "submission = pd.read_csv(\"./bike/sampleSubmission.csv\",  index_col= \"datetime\")\n",
    "submission['count'] = predictions\n",
    "\n",
    "submission.to_csv(\"RF_model2.csv\")\n",
    "print(submission.shape)\n",
    "submission.head()"
   ]
  },
  {
   "cell_type": "markdown",
   "metadata": {},
   "source": [
    "#### 결과 보고서"
   ]
  },
  {
   "cell_type": "code",
   "execution_count": null,
   "metadata": {
    "collapsed": true
   },
   "outputs": [],
   "source": [
    "# basic feature\n",
    "\n",
    "RandomForestRegressor() / log(y+1)  : 0.47415 [ max_depth : 10  n_estimators : 100, random_state : 60 ]\n",
    "RandomForestRegressor() / log(y+1)  : 0.46517 [                 n_estimators : 100, random_state : 60 ]\n",
    "RandomForestRegressor() / log(y+1)  : 0.46329 [                 n_estimators : 500, random_state : 60 ]\n",
    "\n",
    "RandomForestRegressor() / log(y+1)  : 0.52070 [ max_depth : 8   n_estimators : 100, random_state : 60 ]\n",
    "RandomForestRegressor() / log(y+1)  : 0.51985 [ max_depth : 8   n_estimators : 50, random_state : 60 ]\n",
    "RandomForestRegressor() / log(y+1)  : 0.51690 [ max_depth : 8   n_estimators : 500, random_state : 60 ]\n",
    "\n",
    "RandomForestRegressor() / log(y+1)  : 0.46472 [                 n_estimators : 50, random_state : 60 ]\n",
    "RandomForestRegressor() / log(y+1)  : 0.46680 [                 n_estimators : 100, random_state : 20 ]\n",
    "RandomForestRegressor() / log(y+1)  : 0.46357 [                 n_estimators : 100, random_state : 80 ]\n",
    "RandomForestRegressor() / log(y+1)  : 0.46419 [                 n_estimators : 1000, random_state : 60 ]\n",
    "RandomForestRegressor() / log(y+1)  : 0.46545 [                 n_estimators : 1000, random_state : 80 ]\n",
    "RandomForestRegressor() / log(y+1)  : 0.46315 [                 n_estimators : 750, random_state : 50 ]\n",
    "\n",
    "# max_depth는 깊을 수록 좋으며 'None'이 가장 좋다. n_estimators는 750 정도가 적당하다, random_state 도 50~60이 낫다\n",
    "\n",
    "# features_1\n",
    "\n",
    "RandomForestRegressor() / log(y+1)  : 1.30341 [                 n_estimators : 750, random_state : 50 ]\n",
    "\n",
    "# features_2\n",
    "\n",
    "RandomForestRegressor() / log(y+1)  : 0.47185 [                 n_estimators : 750, random_state : 50 ]\n",
    "\n",
    "\n",
    "# features_3\n",
    "\n",
    "RandomForestRegressor() / log(y+1)  : 1.22755 [                 n_estimators : 750, random_state : 50 ]\n",
    "\n",
    "\n",
    "# features_4 \n",
    "\n",
    "RandomForestRegressor() / log(y+1)  : 0.45911 [                 n_estimators : 750, random_state : 50 ]  ☆\n",
    "RandomForestRegressor() / log(y+1)  : 0.45967 [                 n_estimators : 1000, random_state : 50 ]\n",
    "RandomForestRegressor() / log(y+1)  : 0.46079 [                 n_estimators : 1000, random_state : 60 ]\n",
    "RandomForestRegressor() / log(y+1)  : 0.47372 [ max_depth : 10  n_estimators : 750, random_state : 50 ]\n",
    "RandomForestRegressor() / log(y+1)  : 0.46029 [                  n_estimators : 4000, random_state : 50 ]\n",
    "RandomForestRegressor() / log(y+1)  : 0.45967 [                  n_estimators : 600, random_state : 50 ]\n",
    "RandomForestRegressor() / log(y+1)  : 0.45942 [                  n_estimators : 800, random_state : 50 ]\n",
    "RandomForestRegressor() / log(y+1)  : 0.45936 [                  n_estimators : 700, random_state : 50 ]\n",
    "RandomForestRegressor() / log(y+1)  : 0.46054 [                   n_estimators : 750, random_state : 60 ]\n",
    "RandomForestRegressor() / log(y+1)  : 0.46062 [                   n_estimators : 750, random_state : 40 ]\n",
    "RandomForestRegressor() / log(y+1)  : 0.46139 [                 n_estimators : 750, random_state : 55 ]\n",
    "\n",
    "# features_5\n",
    "\n",
    "RandomForestRegressor() / log(y+1)  : 0.54558 [                 n_estimators : 750, random_state : 50 ]    \n",
    "\n",
    "# features_6\n",
    "\n",
    "RandomForestRegressor() / log(y+1)  : 0.52121 [                  n_estimators : 750, random_state : 50 ]\n",
    "    \n",
    "\n",
    "# features_7\n",
    "RandomForestRegressor() / log(y+1)  : 0.52219 [                  n_estimators : 750, random_state : 50 ]\n",
    "    \n",
    "    \n",
    "    "
   ]
  },
  {
   "cell_type": "markdown",
   "metadata": {},
   "source": [
    "####   \n",
    "####   "
   ]
  },
  {
   "cell_type": "markdown",
   "metadata": {
    "collapsed": true
   },
   "source": [
    "### XGBoost Regressor "
   ]
  },
  {
   "cell_type": "code",
   "execution_count": null,
   "metadata": {
    "collapsed": true
   },
   "outputs": [],
   "source": [
    "#### 모델 설명"
   ]
  },
  {
   "cell_type": "markdown",
   "metadata": {},
   "source": [
    "#### (1) 기본 모델"
   ]
  },
  {
   "cell_type": "code",
   "execution_count": 3,
   "metadata": {},
   "outputs": [
    {
     "data": {
      "text/plain": [
       "XGBRegressor(base_score=0.5, colsample_bylevel=1, colsample_bytree=1, gamma=0,\n",
       "       learning_rate=0.1, max_delta_step=0, max_depth=3,\n",
       "       min_child_weight=1, missing=None, n_estimators=100, nthread=-1,\n",
       "       objective='reg:linear', reg_alpha=0, reg_lambda=1,\n",
       "       scale_pos_weight=1, seed=0, silent=True, subsample=1)"
      ]
     },
     "execution_count": 3,
     "metadata": {},
     "output_type": "execute_result"
    }
   ],
   "source": [
    "import xgboost as xgb\n",
    "\n",
    "xgb_model = xgb.XGBRegressor()\n",
    "xgb_model"
   ]
  },
  {
   "cell_type": "code",
   "execution_count": 3,
   "metadata": {},
   "outputs": [
    {
     "data": {
      "text/plain": [
       "XGBRegressor(base_score=0.5, colsample_bylevel=1, colsample_bytree=1, gamma=0,\n",
       "       learning_rate=0.1, max_delta_step=0, max_depth=3,\n",
       "       min_child_weight=1, missing=None, n_estimators=100, nthread=-1,\n",
       "       objective='reg:linear', reg_alpha=0, reg_lambda=1,\n",
       "       scale_pos_weight=1, seed=0, silent=True, subsample=1)"
      ]
     },
     "execution_count": 3,
     "metadata": {},
     "output_type": "execute_result"
    }
   ],
   "source": [
    "xgb_model.fit(x_train, y_train)"
   ]
  },
  {
   "cell_type": "code",
   "execution_count": 4,
   "metadata": {},
   "outputs": [
    {
     "data": {
      "text/plain": [
       "-0.3363449140555335"
      ]
     },
     "execution_count": 4,
     "metadata": {},
     "output_type": "execute_result"
    }
   ],
   "source": [
    "from sklearn.model_selection import cross_val_score\n",
    "\n",
    "cv_score = cross_val_score(xgb_model, x_train, y_train, cv = 20,\n",
    "                           scoring = \"neg_mean_absolute_error\").mean()\n",
    "cv_score"
   ]
  },
  {
   "cell_type": "code",
   "execution_count": 5,
   "metadata": {},
   "outputs": [
    {
     "data": {
      "text/plain": [
       "array([  9.314571 ,   5.474254 ,   3.5883932,   2.2690604,   1.840194 ,\n",
       "         5.6958437,  18.929796 ,  34.768124 , 125.52408  ,  67.71091  ],\n",
       "      dtype=float32)"
      ]
     },
     "execution_count": 5,
     "metadata": {},
     "output_type": "execute_result"
    }
   ],
   "source": [
    "predictions = xgb_model.predict(x_test)\n",
    "predictions = np.expm1(predictions)\n",
    "predictions[0:10]"
   ]
  },
  {
   "cell_type": "code",
   "execution_count": 6,
   "metadata": {},
   "outputs": [
    {
     "name": "stdout",
     "output_type": "stream",
     "text": [
      "(6493, 1)\n"
     ]
    },
    {
     "data": {
      "text/html": [
       "<div>\n",
       "<style>\n",
       "    .dataframe thead tr:only-child th {\n",
       "        text-align: right;\n",
       "    }\n",
       "\n",
       "    .dataframe thead th {\n",
       "        text-align: left;\n",
       "    }\n",
       "\n",
       "    .dataframe tbody tr th {\n",
       "        vertical-align: top;\n",
       "    }\n",
       "</style>\n",
       "<table border=\"1\" class=\"dataframe\">\n",
       "  <thead>\n",
       "    <tr style=\"text-align: right;\">\n",
       "      <th></th>\n",
       "      <th>count</th>\n",
       "    </tr>\n",
       "    <tr>\n",
       "      <th>datetime</th>\n",
       "      <th></th>\n",
       "    </tr>\n",
       "  </thead>\n",
       "  <tbody>\n",
       "    <tr>\n",
       "      <th>2011-01-20 00:00:00</th>\n",
       "      <td>9.314571</td>\n",
       "    </tr>\n",
       "    <tr>\n",
       "      <th>2011-01-20 01:00:00</th>\n",
       "      <td>5.474254</td>\n",
       "    </tr>\n",
       "    <tr>\n",
       "      <th>2011-01-20 02:00:00</th>\n",
       "      <td>3.588393</td>\n",
       "    </tr>\n",
       "    <tr>\n",
       "      <th>2011-01-20 03:00:00</th>\n",
       "      <td>2.269060</td>\n",
       "    </tr>\n",
       "    <tr>\n",
       "      <th>2011-01-20 04:00:00</th>\n",
       "      <td>1.840194</td>\n",
       "    </tr>\n",
       "  </tbody>\n",
       "</table>\n",
       "</div>"
      ],
      "text/plain": [
       "                        count\n",
       "datetime                     \n",
       "2011-01-20 00:00:00  9.314571\n",
       "2011-01-20 01:00:00  5.474254\n",
       "2011-01-20 02:00:00  3.588393\n",
       "2011-01-20 03:00:00  2.269060\n",
       "2011-01-20 04:00:00  1.840194"
      ]
     },
     "execution_count": 6,
     "metadata": {},
     "output_type": "execute_result"
    }
   ],
   "source": [
    "submission = pd.read_csv(\"./bike/sampleSubmission.csv\", index_col = \"datetime\")\n",
    "submission['count'] = predictions\n",
    "\n",
    "submission.to_csv(\"xgb_model3.csv\")\n",
    "print(submission.shape)\n",
    "submission.head()"
   ]
  },
  {
   "cell_type": "markdown",
   "metadata": {},
   "source": [
    "#### 모델 요약"
   ]
  },
  {
   "cell_type": "code",
   "execution_count": null,
   "metadata": {
    "collapsed": true
   },
   "outputs": [],
   "source": [
    "import xgboost as xgb\n",
    "\n",
    "xgb_model = xgb.XGBRegressor()\n",
    "xgb_model.fit(x_train, y_train)\n",
    "predictions = xgb_model.predict(x_test)\n",
    "predictions = np.expm1(predictions)\n",
    "submission = pd.read_csv(\"./bike/sampleSubmission.csv\", index_col = \"datetime\")\n",
    "submission['count'] = predictions\n",
    "\n",
    "submission.to_csv(\"xgb_model.csv\")\n",
    "print(submission.shape)\n",
    "submission.head()"
   ]
  },
  {
   "cell_type": "markdown",
   "metadata": {},
   "source": [
    "#### 결과보고서"
   ]
  },
  {
   "cell_type": "code",
   "execution_count": null,
   "metadata": {
    "collapsed": true
   },
   "outputs": [],
   "source": [
    "# basic_features\n",
    "\n",
    "XGBRegressor() / log(y+1) : 0.54247\n",
    "    \n",
    "# featuers_1   \n",
    "\n",
    "XGBRegressor() / log(y+1) : 1.17426\n",
    "    \n",
    "# featuers_4\n",
    "\n",
    "XGBRegressor() / log(y+1) : 0.54250"
   ]
  },
  {
   "cell_type": "markdown",
   "metadata": {},
   "source": [
    "#### (2) Hyperparameter 조정"
   ]
  },
  {
   "cell_type": "markdown",
   "metadata": {
    "collapsed": true
   },
   "source": [
    "#### XGBoost Regressor "
   ]
  },
  {
   "cell_type": "markdown",
   "metadata": {},
   "source": [
    "#### 기본"
   ]
  },
  {
   "cell_type": "code",
   "execution_count": 3,
   "metadata": {},
   "outputs": [
    {
     "data": {
      "text/plain": [
       "XGBRegressor(base_score=0.5, colsample_bylevel=1, colsample_bytree=1, gamma=0,\n",
       "       learning_rate=0.1, max_delta_step=0, max_depth=3,\n",
       "       min_child_weight=1, missing=None, n_estimators=100, nthread=-1,\n",
       "       objective='reg:linear', reg_alpha=0, reg_lambda=1,\n",
       "       scale_pos_weight=1, seed=0, silent=True, subsample=1)"
      ]
     },
     "execution_count": 3,
     "metadata": {},
     "output_type": "execute_result"
    }
   ],
   "source": [
    "import xgboost as xgb\n",
    "\n",
    "xgb_model = xgb.XGBRegressor()\n",
    "xgb_model"
   ]
  },
  {
   "cell_type": "markdown",
   "metadata": {},
   "source": [
    "#### 조정"
   ]
  },
  {
   "cell_type": "code",
   "execution_count": 13,
   "metadata": {
    "collapsed": true
   },
   "outputs": [],
   "source": [
    "params = {'colsample_bytree' : 0.7, \n",
    "          'gamma'  : 0.4,\n",
    "          'subsample': 1,\n",
    "          'learning_rate' : 0.1, \n",
    "          'max_depth' : 5,\n",
    "          'n_estimators' : 500, \n",
    "          'seed' : 37,  # 5\n",
    "          'nthread' : -1\n",
    "          }"
   ]
  },
  {
   "cell_type": "code",
   "execution_count": 15,
   "metadata": {},
   "outputs": [
    {
     "name": "stdout",
     "output_type": "stream",
     "text": [
      "(6493, 1)\n"
     ]
    },
    {
     "data": {
      "text/html": [
       "<div>\n",
       "<style>\n",
       "    .dataframe thead tr:only-child th {\n",
       "        text-align: right;\n",
       "    }\n",
       "\n",
       "    .dataframe thead th {\n",
       "        text-align: left;\n",
       "    }\n",
       "\n",
       "    .dataframe tbody tr th {\n",
       "        vertical-align: top;\n",
       "    }\n",
       "</style>\n",
       "<table border=\"1\" class=\"dataframe\">\n",
       "  <thead>\n",
       "    <tr style=\"text-align: right;\">\n",
       "      <th></th>\n",
       "      <th>count</th>\n",
       "    </tr>\n",
       "    <tr>\n",
       "      <th>datetime</th>\n",
       "      <th></th>\n",
       "    </tr>\n",
       "  </thead>\n",
       "  <tbody>\n",
       "    <tr>\n",
       "      <th>2011-01-20 00:00:00</th>\n",
       "      <td>8.588339</td>\n",
       "    </tr>\n",
       "    <tr>\n",
       "      <th>2011-01-20 01:00:00</th>\n",
       "      <td>4.175416</td>\n",
       "    </tr>\n",
       "    <tr>\n",
       "      <th>2011-01-20 02:00:00</th>\n",
       "      <td>2.710847</td>\n",
       "    </tr>\n",
       "    <tr>\n",
       "      <th>2011-01-20 03:00:00</th>\n",
       "      <td>3.101225</td>\n",
       "    </tr>\n",
       "    <tr>\n",
       "      <th>2011-01-20 04:00:00</th>\n",
       "      <td>2.229864</td>\n",
       "    </tr>\n",
       "  </tbody>\n",
       "</table>\n",
       "</div>"
      ],
      "text/plain": [
       "                        count\n",
       "datetime                     \n",
       "2011-01-20 00:00:00  8.588339\n",
       "2011-01-20 01:00:00  4.175416\n",
       "2011-01-20 02:00:00  2.710847\n",
       "2011-01-20 03:00:00  3.101225\n",
       "2011-01-20 04:00:00  2.229864"
      ]
     },
     "execution_count": 15,
     "metadata": {},
     "output_type": "execute_result"
    }
   ],
   "source": [
    "xgb_model = xgb.XGBRegressor(colsample_bytree = 1, gamma = 0.5, max_depth = 13,\n",
    "                             learning_rate = 0.1, n_estimators = 500, seed = 0,\n",
    "                             nthread = 6)\n",
    "\n",
    "# xgb_model = xgb.XGBRegressor(max_depth = 13, n_estimators = 1500,\n",
    "#                              min_child_weight = 8, gamma = 0.4,\n",
    "#                              colsample_bytree = 0.6, nthread = 12,\n",
    "#                              subsample = 0.6, seed = 25,\n",
    "#                              learning_rate = 0.05)\n",
    "\n",
    "xgb_model.fit(x_train, y_train)\n",
    "predictions = xgb_model.predict(x_test)\n",
    "predictions = np.expm1(predictions)\n",
    "submission = pd.read_csv(\"./bike/sampleSubmission.csv\", index_col = \"datetime\")\n",
    "submission['count'] = predictions\n",
    "\n",
    "submission.to_csv(\"xgb_model58.csv\")\n",
    "print(submission.shape)\n",
    "submission.head()"
   ]
  },
  {
   "cell_type": "code",
   "execution_count": null,
   "metadata": {
    "collapsed": true
   },
   "outputs": [],
   "source": [
    "XGBRegressor() / log(y+1) \n",
    "\n",
    "# basic_features\n",
    "\n",
    "[ colsample_bytree = 1, gamma = 0, max_depth = 3, learning_rate = 0.1, n_estimators = 100, seed = 0 ]  : 0.54247 \n",
    "[ colsample_bytree = 1, gamma = 0, max_depth = 3, learning_rate = 0.1, n_estimators = 500, seed = 0 ]  : fail\n",
    "[ colsample_bytree = 1, gamma = 0, max_depth = 10, learning_rate = 0.1, n_estimators = 500, seed = 0 ]  : 0.48629 \n",
    "[ colsample_bytree = 1, gamma = 0, max_depth = 10, learning_rate = 0.1, n_estimators = 1000, seed = 0 ]  : 0.48648\n",
    "[ colsample_bytree = 1, gamma = 0, max_depth = 8, learning_rate = 0.1, n_estimators = 500, seed = 0 ]  : 0.49224\n",
    "[ colsample_bytree = 1, gamma = 0, max_depth = 12, learning_rate = 0.1, n_estimators = 500, seed = 0 ]  : 0.48585 ☆\n",
    "[ colsample_bytree = 1, gamma = 0, max_depth = 14, learning_rate = 0.1, n_estimators = 500, seed = 0 ]  : 0.48845   \n",
    "[ colsample_bytree = 1, gamma = 0, max_depth = 13, learning_rate = 0.1, n_estimators = 500, seed = 0 ]  : 0.48701\n",
    "    \n",
    "[ colsample_bytree = 1, gamma = 0, max_depth = 12, learning_rate = 0.05, n_estimators = 500, seed = 0 ]  : 0.48916 \n",
    "[ colsample_bytree = 1, gamma = 3, max_depth = 12, learning_rate = 0.1, n_estimators = 500, seed = 0 ]  : 0.48251  \n",
    "[ colsample_bytree = 1, gamma = 5, max_depth = 12, learning_rate = 0.1, n_estimators = 500, seed = 0 ]  : 0.48097 ☆☆\n",
    "[ colsample_bytree = 1, gamma = 4, max_depth = 12, learning_rate = 0.1, n_estimators = 500, seed = 0 ]  : 0.48515   \n",
    "\n",
    "[ colsample_bytree = 1, gamma = 3, max_depth = 13, learning_rate = 0.1, n_estimators = 500, seed = 0 ]  : 0.47345 ☆☆☆\n",
    "[ colsample_bytree = 2/3, gamma = 3, max_depth = 13, learning_rate = 0.1, n_estimators = 500, seed = 0 ]  : fail\n",
    "[ colsample_bytree = 1, gamma = 5, max_depth = 13, learning_rate = 0.1, n_estimators = 500, seed = 0 ]  : 0.48521 \n",
    "[ colsample_bytree = 1, gamma = 5, max_depth = 13, learning_rate = 0.2, n_estimators = 500, seed = 0 ]  : 0.48313  \n",
    "[ colsample_bytree = 1, gamma = 3, max_depth = 13, learning_rate = 0.1, n_estimators = 750, seed = 0 ]  : 0.47345 ☆☆☆\n",
    "\n",
    "    \n",
    "# featuers_1   \n",
    "\n",
    "[ colsample_bytree = 1, gamma = 3, max_depth = 13, learning_rate = 0.1, n_estimators = 750, seed = 0 ]  : 1.25261\n",
    "    \n",
    "# features_2\n",
    "\n",
    "[ colsample_bytree = 1, gamma = 3, max_depth = 13, learning_rate = 0.1, n_estimators = 750, seed = 0 ]  : 0.48032\n",
    "[ colsample_bytree = 1, gamma = 3, max_depth = 13, learning_rate = 0.1, n_estimators = 500, seed = 0 ]  : 0.48032\n",
    "[ colsample_bytree = 1, gamma = 3, max_depth = 14, learning_rate = 0.1, n_estimators = 500, seed = 0 ]  : 0.48950\n",
    "[ colsample_bytree = 1, gamma = 3, max_depth = 12, learning_rate = 0.1, n_estimators = 500, seed = 0 ]  : 0.49027\n",
    "[ colsample_bytree = 1, gamma = 4, max_depth = 13, learning_rate = 0.1, n_estimators = 500, seed = 0 ]  : 0.49108\n",
    "[ colsample_bytree = 1, gamma = 2, max_depth = 13, learning_rate = 0.1, n_estimators = 500, seed = 0 ]  : 0.46968 ☆☆☆☆\n",
    "[ colsample_bytree = 1, gamma = 2, max_depth = 13, learning_rate = 0.01, n_estimators = 500, seed = 0 ]  : 0.47993\n",
    "[ colsample_bytree = 1, gamma = 3, max_depth = 13, learning_rate = 0.01, n_estimators = 500, seed = 0 ]  : 0.48436\n",
    "    \n",
    "[ colsample_bytree = 0.6, gamma = 0.4, max_depth = 13, learning_rate = 0.05, n_estimators = 1500, seed = 25,\n",
    "  min_child_weight = 8, subsample = 0.6,]  : 0.51213\n",
    "    \n",
    "[ colsample_bytree = 1, gamma = 0.5, max_depth = 13, learning_rate = 0.1, n_estimators = 500, seed = 0 ] : 0.46930 ☆☆☆☆\n",
    "[ colsample_bytree = 1, gamma = 0.4, max_depth = 13, learning_rate = 0.1, n_estimators = 500, seed = 0 ] : 0.47588\n",
    "[ colsample_bytree = 1, gamma = 0.6, max_depth = 13, learning_rate = 0.1, n_estimators = 500, seed = 0 ] : 0.47359\n",
    "    \n",
    "\n",
    "\n",
    "# features_3\n",
    "\n",
    "[ colsample_bytree = 1, gamma = 2, max_depth = 13, learning_rate = 0.1, n_estimators = 500, seed = 0 ]  : 1.29762\n",
    "\n",
    "    \n",
    "# featuers_4\n",
    "\n",
    "[ colsample_bytree = 1, gamma = 2, max_depth = 13, learning_rate = 0.1, n_estimators = 500, seed = 0 ]  : 0.48061\n",
    "[ colsample_bytree = 1, gamma = 3, max_depth = 13, learning_rate = 0.1, n_estimators = 500, seed = 0 ]  : 0.47767\n",
    "[ colsample_bytree = 1, gamma = 3, max_depth = 13, learning_rate = 0.1, n_estimators = 1000, seed = 0 ]  : 0.47767\n",
    "[ colsample_bytree = 1, gamma = 4, max_depth = 13, learning_rate = 0.1, n_estimators = 500, seed = 0 ]  : 0.48239\n",
    "[ colsample_bytree = 1, gamma = 3, max_depth = 13, learning_rate = 0.01, n_estimators = 500, seed = 0 ]  : 0.47795\n",
    "    \n",
    "[ colsample_bytree = 0.6, gamma = 0.4, max_depth = 12, learning_rate = 0.05, n_estimators = 1500, seed = 25,\n",
    "  min_child_weight = 8, subsample = 0.6,]  : 0.52605\n",
    "\n",
    "[ colsample_bytree = 0.6, gamma = 0.4, max_depth = 13, learning_rate = 0.05, n_estimators = 1500, seed = 25,\n",
    "  min_child_weight = 8, subsample = 0.6,]  : 0.52485\n",
    "\n",
    "[ colsample_bytree = 0.6, gamma = 0.4, max_depth = 14, learning_rate = 0.05, n_estimators = 1500, seed = 25,\n",
    "  min_child_weight = 8, subsample = 0.6,]  : 0.53034\n",
    "\n",
    "[ colsample_bytree = 1, gamma = 0.5, max_depth = 13, learning_rate = 0.1, n_estimators = 500, seed = 0 ] : 0.47907"
   ]
  },
  {
   "cell_type": "code",
   "execution_count": null,
   "metadata": {
    "collapsed": true
   },
   "outputs": [],
   "source": []
  },
  {
   "cell_type": "code",
   "execution_count": null,
   "metadata": {
    "collapsed": true
   },
   "outputs": [],
   "source": []
  },
  {
   "cell_type": "code",
   "execution_count": null,
   "metadata": {
    "collapsed": true
   },
   "outputs": [],
   "source": [
    "# train_test_split"
   ]
  },
  {
   "cell_type": "code",
   "execution_count": 7,
   "metadata": {
    "collapsed": true
   },
   "outputs": [],
   "source": [
    "from sklearn.model_selection import train_test_split\n",
    "\n",
    "x_train, x_test, y_train, y_test = train_test_split(x_train, y_train)"
   ]
  },
  {
   "cell_type": "code",
   "execution_count": 9,
   "metadata": {},
   "outputs": [
    {
     "data": {
      "text/html": [
       "<div>\n",
       "<style>\n",
       "    .dataframe thead tr:only-child th {\n",
       "        text-align: right;\n",
       "    }\n",
       "\n",
       "    .dataframe thead th {\n",
       "        text-align: left;\n",
       "    }\n",
       "\n",
       "    .dataframe tbody tr th {\n",
       "        vertical-align: top;\n",
       "    }\n",
       "</style>\n",
       "<table border=\"1\" class=\"dataframe\">\n",
       "  <thead>\n",
       "    <tr style=\"text-align: right;\">\n",
       "      <th></th>\n",
       "      <th>holiday</th>\n",
       "      <th>workingday</th>\n",
       "      <th>temp</th>\n",
       "      <th>atemp</th>\n",
       "      <th>humidity</th>\n",
       "      <th>windspeed</th>\n",
       "      <th>year</th>\n",
       "      <th>month</th>\n",
       "      <th>hour</th>\n",
       "      <th>season_1</th>\n",
       "      <th>...</th>\n",
       "      <th>2 pm</th>\n",
       "      <th>3 pm</th>\n",
       "      <th>4 pm</th>\n",
       "      <th>5 pm</th>\n",
       "      <th>6 pm</th>\n",
       "      <th>7 pm</th>\n",
       "      <th>8 pm</th>\n",
       "      <th>9 pm</th>\n",
       "      <th>10 pm</th>\n",
       "      <th>11 pm</th>\n",
       "    </tr>\n",
       "  </thead>\n",
       "  <tbody>\n",
       "    <tr>\n",
       "      <th>1172</th>\n",
       "      <td>0</td>\n",
       "      <td>0</td>\n",
       "      <td>18.86</td>\n",
       "      <td>22.725</td>\n",
       "      <td>38</td>\n",
       "      <td>26.0027</td>\n",
       "      <td>2011</td>\n",
       "      <td>3</td>\n",
       "      <td>13</td>\n",
       "      <td>True</td>\n",
       "      <td>...</td>\n",
       "      <td>False</td>\n",
       "      <td>False</td>\n",
       "      <td>False</td>\n",
       "      <td>False</td>\n",
       "      <td>False</td>\n",
       "      <td>False</td>\n",
       "      <td>False</td>\n",
       "      <td>False</td>\n",
       "      <td>False</td>\n",
       "      <td>False</td>\n",
       "    </tr>\n",
       "    <tr>\n",
       "      <th>9105</th>\n",
       "      <td>0</td>\n",
       "      <td>0</td>\n",
       "      <td>30.34</td>\n",
       "      <td>35.605</td>\n",
       "      <td>74</td>\n",
       "      <td>0.0000</td>\n",
       "      <td>2012</td>\n",
       "      <td>9</td>\n",
       "      <td>18</td>\n",
       "      <td>False</td>\n",
       "      <td>...</td>\n",
       "      <td>False</td>\n",
       "      <td>False</td>\n",
       "      <td>False</td>\n",
       "      <td>False</td>\n",
       "      <td>True</td>\n",
       "      <td>False</td>\n",
       "      <td>False</td>\n",
       "      <td>False</td>\n",
       "      <td>False</td>\n",
       "      <td>False</td>\n",
       "    </tr>\n",
       "    <tr>\n",
       "      <th>8487</th>\n",
       "      <td>0</td>\n",
       "      <td>0</td>\n",
       "      <td>27.88</td>\n",
       "      <td>31.820</td>\n",
       "      <td>89</td>\n",
       "      <td>11.0014</td>\n",
       "      <td>2012</td>\n",
       "      <td>7</td>\n",
       "      <td>0</td>\n",
       "      <td>False</td>\n",
       "      <td>...</td>\n",
       "      <td>False</td>\n",
       "      <td>False</td>\n",
       "      <td>False</td>\n",
       "      <td>False</td>\n",
       "      <td>False</td>\n",
       "      <td>False</td>\n",
       "      <td>False</td>\n",
       "      <td>False</td>\n",
       "      <td>False</td>\n",
       "      <td>False</td>\n",
       "    </tr>\n",
       "    <tr>\n",
       "      <th>4661</th>\n",
       "      <td>0</td>\n",
       "      <td>1</td>\n",
       "      <td>11.48</td>\n",
       "      <td>15.910</td>\n",
       "      <td>93</td>\n",
       "      <td>0.0000</td>\n",
       "      <td>2011</td>\n",
       "      <td>11</td>\n",
       "      <td>7</td>\n",
       "      <td>False</td>\n",
       "      <td>...</td>\n",
       "      <td>False</td>\n",
       "      <td>False</td>\n",
       "      <td>False</td>\n",
       "      <td>False</td>\n",
       "      <td>False</td>\n",
       "      <td>False</td>\n",
       "      <td>False</td>\n",
       "      <td>False</td>\n",
       "      <td>False</td>\n",
       "      <td>False</td>\n",
       "    </tr>\n",
       "    <tr>\n",
       "      <th>839</th>\n",
       "      <td>0</td>\n",
       "      <td>1</td>\n",
       "      <td>18.04</td>\n",
       "      <td>21.970</td>\n",
       "      <td>72</td>\n",
       "      <td>15.0013</td>\n",
       "      <td>2011</td>\n",
       "      <td>2</td>\n",
       "      <td>10</td>\n",
       "      <td>True</td>\n",
       "      <td>...</td>\n",
       "      <td>False</td>\n",
       "      <td>False</td>\n",
       "      <td>False</td>\n",
       "      <td>False</td>\n",
       "      <td>False</td>\n",
       "      <td>False</td>\n",
       "      <td>False</td>\n",
       "      <td>False</td>\n",
       "      <td>False</td>\n",
       "      <td>False</td>\n",
       "    </tr>\n",
       "  </tbody>\n",
       "</table>\n",
       "<p>5 rows × 48 columns</p>\n",
       "</div>"
      ],
      "text/plain": [
       "      holiday  workingday   temp   atemp  humidity  windspeed  year  month  \\\n",
       "1172        0           0  18.86  22.725        38    26.0027  2011      3   \n",
       "9105        0           0  30.34  35.605        74     0.0000  2012      9   \n",
       "8487        0           0  27.88  31.820        89    11.0014  2012      7   \n",
       "4661        0           1  11.48  15.910        93     0.0000  2011     11   \n",
       "839         0           1  18.04  21.970        72    15.0013  2011      2   \n",
       "\n",
       "      hour  season_1  ...     2 pm   3 pm   4 pm   5 pm   6 pm   7 pm   8 pm  \\\n",
       "1172    13      True  ...    False  False  False  False  False  False  False   \n",
       "9105    18     False  ...    False  False  False  False   True  False  False   \n",
       "8487     0     False  ...    False  False  False  False  False  False  False   \n",
       "4661     7     False  ...    False  False  False  False  False  False  False   \n",
       "839     10      True  ...    False  False  False  False  False  False  False   \n",
       "\n",
       "       9 pm  10 pm  11 pm  \n",
       "1172  False  False  False  \n",
       "9105  False  False  False  \n",
       "8487  False  False  False  \n",
       "4661  False  False  False  \n",
       "839   False  False  False  \n",
       "\n",
       "[5 rows x 48 columns]"
      ]
     },
     "execution_count": 9,
     "metadata": {},
     "output_type": "execute_result"
    }
   ],
   "source": [
    "x_train.head()"
   ]
  },
  {
   "cell_type": "code",
   "execution_count": 10,
   "metadata": {},
   "outputs": [
    {
     "data": {
      "text/html": [
       "<div>\n",
       "<style>\n",
       "    .dataframe thead tr:only-child th {\n",
       "        text-align: right;\n",
       "    }\n",
       "\n",
       "    .dataframe thead th {\n",
       "        text-align: left;\n",
       "    }\n",
       "\n",
       "    .dataframe tbody tr th {\n",
       "        vertical-align: top;\n",
       "    }\n",
       "</style>\n",
       "<table border=\"1\" class=\"dataframe\">\n",
       "  <thead>\n",
       "    <tr style=\"text-align: right;\">\n",
       "      <th></th>\n",
       "      <th>holiday</th>\n",
       "      <th>workingday</th>\n",
       "      <th>temp</th>\n",
       "      <th>atemp</th>\n",
       "      <th>humidity</th>\n",
       "      <th>windspeed</th>\n",
       "      <th>year</th>\n",
       "      <th>month</th>\n",
       "      <th>hour</th>\n",
       "      <th>season_1</th>\n",
       "      <th>...</th>\n",
       "      <th>2 pm</th>\n",
       "      <th>3 pm</th>\n",
       "      <th>4 pm</th>\n",
       "      <th>5 pm</th>\n",
       "      <th>6 pm</th>\n",
       "      <th>7 pm</th>\n",
       "      <th>8 pm</th>\n",
       "      <th>9 pm</th>\n",
       "      <th>10 pm</th>\n",
       "      <th>11 pm</th>\n",
       "    </tr>\n",
       "  </thead>\n",
       "  <tbody>\n",
       "    <tr>\n",
       "      <th>2004</th>\n",
       "      <td>0</td>\n",
       "      <td>1</td>\n",
       "      <td>22.96</td>\n",
       "      <td>26.515</td>\n",
       "      <td>37</td>\n",
       "      <td>6.0032</td>\n",
       "      <td>2011</td>\n",
       "      <td>5</td>\n",
       "      <td>10</td>\n",
       "      <td>False</td>\n",
       "      <td>...</td>\n",
       "      <td>False</td>\n",
       "      <td>False</td>\n",
       "      <td>False</td>\n",
       "      <td>False</td>\n",
       "      <td>False</td>\n",
       "      <td>False</td>\n",
       "      <td>False</td>\n",
       "      <td>False</td>\n",
       "      <td>False</td>\n",
       "      <td>False</td>\n",
       "    </tr>\n",
       "    <tr>\n",
       "      <th>63</th>\n",
       "      <td>0</td>\n",
       "      <td>1</td>\n",
       "      <td>9.84</td>\n",
       "      <td>12.880</td>\n",
       "      <td>32</td>\n",
       "      <td>7.0015</td>\n",
       "      <td>2011</td>\n",
       "      <td>1</td>\n",
       "      <td>18</td>\n",
       "      <td>True</td>\n",
       "      <td>...</td>\n",
       "      <td>False</td>\n",
       "      <td>False</td>\n",
       "      <td>False</td>\n",
       "      <td>False</td>\n",
       "      <td>True</td>\n",
       "      <td>False</td>\n",
       "      <td>False</td>\n",
       "      <td>False</td>\n",
       "      <td>False</td>\n",
       "      <td>False</td>\n",
       "    </tr>\n",
       "    <tr>\n",
       "      <th>9228</th>\n",
       "      <td>0</td>\n",
       "      <td>1</td>\n",
       "      <td>28.70</td>\n",
       "      <td>33.335</td>\n",
       "      <td>74</td>\n",
       "      <td>11.0014</td>\n",
       "      <td>2012</td>\n",
       "      <td>9</td>\n",
       "      <td>21</td>\n",
       "      <td>False</td>\n",
       "      <td>...</td>\n",
       "      <td>False</td>\n",
       "      <td>False</td>\n",
       "      <td>False</td>\n",
       "      <td>False</td>\n",
       "      <td>False</td>\n",
       "      <td>False</td>\n",
       "      <td>False</td>\n",
       "      <td>True</td>\n",
       "      <td>False</td>\n",
       "      <td>False</td>\n",
       "    </tr>\n",
       "    <tr>\n",
       "      <th>46</th>\n",
       "      <td>0</td>\n",
       "      <td>0</td>\n",
       "      <td>9.02</td>\n",
       "      <td>11.365</td>\n",
       "      <td>47</td>\n",
       "      <td>11.0014</td>\n",
       "      <td>2011</td>\n",
       "      <td>1</td>\n",
       "      <td>23</td>\n",
       "      <td>True</td>\n",
       "      <td>...</td>\n",
       "      <td>False</td>\n",
       "      <td>False</td>\n",
       "      <td>False</td>\n",
       "      <td>False</td>\n",
       "      <td>False</td>\n",
       "      <td>False</td>\n",
       "      <td>False</td>\n",
       "      <td>False</td>\n",
       "      <td>False</td>\n",
       "      <td>True</td>\n",
       "    </tr>\n",
       "    <tr>\n",
       "      <th>5203</th>\n",
       "      <td>0</td>\n",
       "      <td>0</td>\n",
       "      <td>9.02</td>\n",
       "      <td>10.605</td>\n",
       "      <td>44</td>\n",
       "      <td>15.0013</td>\n",
       "      <td>2011</td>\n",
       "      <td>12</td>\n",
       "      <td>21</td>\n",
       "      <td>False</td>\n",
       "      <td>...</td>\n",
       "      <td>False</td>\n",
       "      <td>False</td>\n",
       "      <td>False</td>\n",
       "      <td>False</td>\n",
       "      <td>False</td>\n",
       "      <td>False</td>\n",
       "      <td>False</td>\n",
       "      <td>True</td>\n",
       "      <td>False</td>\n",
       "      <td>False</td>\n",
       "    </tr>\n",
       "  </tbody>\n",
       "</table>\n",
       "<p>5 rows × 48 columns</p>\n",
       "</div>"
      ],
      "text/plain": [
       "      holiday  workingday   temp   atemp  humidity  windspeed  year  month  \\\n",
       "2004        0           1  22.96  26.515        37     6.0032  2011      5   \n",
       "63          0           1   9.84  12.880        32     7.0015  2011      1   \n",
       "9228        0           1  28.70  33.335        74    11.0014  2012      9   \n",
       "46          0           0   9.02  11.365        47    11.0014  2011      1   \n",
       "5203        0           0   9.02  10.605        44    15.0013  2011     12   \n",
       "\n",
       "      hour  season_1  ...     2 pm   3 pm   4 pm   5 pm   6 pm   7 pm   8 pm  \\\n",
       "2004    10     False  ...    False  False  False  False  False  False  False   \n",
       "63      18      True  ...    False  False  False  False   True  False  False   \n",
       "9228    21     False  ...    False  False  False  False  False  False  False   \n",
       "46      23      True  ...    False  False  False  False  False  False  False   \n",
       "5203    21     False  ...    False  False  False  False  False  False  False   \n",
       "\n",
       "       9 pm  10 pm  11 pm  \n",
       "2004  False  False  False  \n",
       "63    False  False  False  \n",
       "9228   True  False  False  \n",
       "46    False  False   True  \n",
       "5203   True  False  False  \n",
       "\n",
       "[5 rows x 48 columns]"
      ]
     },
     "execution_count": 10,
     "metadata": {},
     "output_type": "execute_result"
    }
   ],
   "source": [
    "x_test.head()"
   ]
  },
  {
   "cell_type": "code",
   "execution_count": 11,
   "metadata": {},
   "outputs": [
    {
     "data": {
      "text/plain": [
       "1172    5.402677\n",
       "9105    6.216606\n",
       "8487    5.236442\n",
       "4661    5.743003\n",
       "839     4.564348\n",
       "Name: count, dtype: float64"
      ]
     },
     "execution_count": 11,
     "metadata": {},
     "output_type": "execute_result"
    }
   ],
   "source": [
    "y_train.head()"
   ]
  },
  {
   "cell_type": "code",
   "execution_count": 12,
   "metadata": {},
   "outputs": [
    {
     "data": {
      "text/plain": [
       "2004    4.852030\n",
       "63      5.062595\n",
       "9228    5.710427\n",
       "46      2.197225\n",
       "5203    4.430817\n",
       "Name: count, dtype: float64"
      ]
     },
     "execution_count": 12,
     "metadata": {},
     "output_type": "execute_result"
    }
   ],
   "source": [
    "y_test.head()"
   ]
  },
  {
   "cell_type": "code",
   "execution_count": null,
   "metadata": {
    "collapsed": true
   },
   "outputs": [],
   "source": [
    "# 그리드 리서치"
   ]
  },
  {
   "cell_type": "code",
   "execution_count": null,
   "metadata": {
    "collapsed": true
   },
   "outputs": [],
   "source": [
    "import xgboost as xg\n",
    "from sklearn.model_selection import GridSearchCV\n",
    "\n",
    "def grid_search():\n",
    "    print('go')\n",
    "    \n",
    "    xgr = xg.XGBRegressor(max_depth=8,min_child_weight=6,gamma=0.4)\n",
    "    xgf.fit(x,y)\n",
    "    \n",
    "    #rf = RandomForestRegressor(n_estimators=600,random_state=0)\n",
    "    #rf.fit(x,y)\n",
    "    \n",
    "    \n",
    "    \n",
    "    #parameters = [{'max_depth':[20,21,22],'min_child_weight':[4,5,6,7]}]\n",
    "    #parameters = [{'gamma':[i/10.0 for i in range(0.5)]}]\n",
    "    parameters = [{'subsample':[i/10.0 for i in range(6,10)],\n",
    "   'colsample_bytree':[i/10.0 for i in range(6,10)]}]\n",
    "\n",
    "    grid_search = GridSearchCV(estimator=xgr, param_grid=parameters, cv=20,\n",
    "                              n_jobs=-1)\n",
    "    \n",
    "    print('move')\n",
    "    grid_search=grid_search.fit(x,y)\n",
    "    \n",
    "    best_accuracy = grid_search.best_score_\n",
    "    best_parameters = grid_search.best_params_\n",
    "    print (best_accuracy)\n",
    "    print (best_parameters)\n",
    "    "
   ]
  },
  {
   "cell_type": "code",
   "execution_count": null,
   "metadata": {
    "collapsed": true
   },
   "outputs": [],
   "source": [
    "https://www.kaggle.com/viveksrinivasan/eda-ensemble-model-top-10-percentile"
   ]
  },
  {
   "cell_type": "code",
   "execution_count": null,
   "metadata": {
    "collapsed": true
   },
   "outputs": [],
   "source": [
    "https://towardsdatascience.com/hyperparameter-tuning-the-random-forest-in-python-using-scikit-learn-28d2aa77dd74"
   ]
  },
  {
   "cell_type": "code",
   "execution_count": null,
   "metadata": {
    "collapsed": true
   },
   "outputs": [],
   "source": [
    "http://scikit-learn.org/stable/modules/generated/sklearn.model_selection.train_test_split.html"
   ]
  }
 ],
 "metadata": {
  "kernelspec": {
   "display_name": "Python 3",
   "language": "python",
   "name": "python3"
  },
  "language_info": {
   "codemirror_mode": {
    "name": "ipython",
    "version": 3
   },
   "file_extension": ".py",
   "mimetype": "text/x-python",
   "name": "python",
   "nbconvert_exporter": "python",
   "pygments_lexer": "ipython3",
   "version": "3.6.1"
  }
 },
 "nbformat": 4,
 "nbformat_minor": 2
}
