{
 "cells": [
  {
   "cell_type": "markdown",
   "metadata": {},
   "source": [
    "### 데이터 불러오기"
   ]
  },
  {
   "cell_type": "code",
   "execution_count": 1,
   "metadata": {},
   "outputs": [],
   "source": [
    "import pandas as pd \n",
    "\n",
    "train = pd.read_csv('./data/train.csv')\n",
    "test  = pd.read_csv('./data/test.csv')\n",
    "sub   = pd.read_csv('./data/sample_submission.csv') "
   ]
  },
  {
   "cell_type": "markdown",
   "metadata": {},
   "source": [
    "#### 원할한 라벨링을 위해 train데이터와 test데이터를 합친다."
   ]
  },
  {
   "cell_type": "code",
   "execution_count": 2,
   "metadata": {},
   "outputs": [
    {
     "name": "stdout",
     "output_type": "stream",
     "text": [
      "(7398, 23)\n"
     ]
    },
    {
     "data": {
      "text/html": [
       "<div>\n",
       "<style scoped>\n",
       "    .dataframe tbody tr th:only-of-type {\n",
       "        vertical-align: middle;\n",
       "    }\n",
       "\n",
       "    .dataframe tbody tr th {\n",
       "        vertical-align: top;\n",
       "    }\n",
       "\n",
       "    .dataframe thead th {\n",
       "        text-align: right;\n",
       "    }\n",
       "</style>\n",
       "<table border=\"1\" class=\"dataframe\">\n",
       "  <thead>\n",
       "    <tr style=\"text-align: right;\">\n",
       "      <th></th>\n",
       "      <th>id</th>\n",
       "      <th>belongs_to_collection</th>\n",
       "      <th>budget</th>\n",
       "      <th>genres</th>\n",
       "      <th>homepage</th>\n",
       "      <th>imdb_id</th>\n",
       "      <th>original_language</th>\n",
       "      <th>original_title</th>\n",
       "      <th>overview</th>\n",
       "      <th>popularity</th>\n",
       "      <th>...</th>\n",
       "      <th>release_date</th>\n",
       "      <th>runtime</th>\n",
       "      <th>spoken_languages</th>\n",
       "      <th>status</th>\n",
       "      <th>tagline</th>\n",
       "      <th>title</th>\n",
       "      <th>Keywords</th>\n",
       "      <th>cast</th>\n",
       "      <th>crew</th>\n",
       "      <th>revenue</th>\n",
       "    </tr>\n",
       "  </thead>\n",
       "  <tbody>\n",
       "    <tr>\n",
       "      <th>2999</th>\n",
       "      <td>3000</td>\n",
       "      <td>NaN</td>\n",
       "      <td>35000000</td>\n",
       "      <td>[{'id': 53, 'name': 'Thriller'}, {'id': 28, 'n...</td>\n",
       "      <td>http://www.abductionthefilm.com/</td>\n",
       "      <td>tt1600195</td>\n",
       "      <td>en</td>\n",
       "      <td>Abduction</td>\n",
       "      <td>A young man sets out to uncover the truth abou...</td>\n",
       "      <td>10.512109</td>\n",
       "      <td>...</td>\n",
       "      <td>9/22/11</td>\n",
       "      <td>106.0</td>\n",
       "      <td>[{'iso_639_1': 'en', 'name': 'English'}]</td>\n",
       "      <td>Released</td>\n",
       "      <td>They stole his life. He's taking it back.</td>\n",
       "      <td>Abduction</td>\n",
       "      <td>[{'id': 591, 'name': 'cia'}, {'id': 822, 'name...</td>\n",
       "      <td>[{'cast_id': 2, 'character': 'Nathan Harper', ...</td>\n",
       "      <td>[{'credit_id': '5391990d0e0a260fb5001629', 'de...</td>\n",
       "      <td>82087155</td>\n",
       "    </tr>\n",
       "    <tr>\n",
       "      <th>3000</th>\n",
       "      <td>3001</td>\n",
       "      <td>[{'id': 34055, 'name': 'Pokémon Collection', '...</td>\n",
       "      <td>0</td>\n",
       "      <td>[{'id': 12, 'name': 'Adventure'}, {'id': 16, '...</td>\n",
       "      <td>http://www.pokemon.com/us/movies/movie-pokemon...</td>\n",
       "      <td>tt1226251</td>\n",
       "      <td>ja</td>\n",
       "      <td>ディアルガVSパルキアVSダークライ</td>\n",
       "      <td>Ash and friends (this time accompanied by newc...</td>\n",
       "      <td>3.851534</td>\n",
       "      <td>...</td>\n",
       "      <td>7/14/07</td>\n",
       "      <td>90.0</td>\n",
       "      <td>[{'iso_639_1': 'en', 'name': 'English'}, {'iso...</td>\n",
       "      <td>Released</td>\n",
       "      <td>Somewhere Between Time &amp; Space... A Legend Is ...</td>\n",
       "      <td>Pokémon: The Rise of Darkrai</td>\n",
       "      <td>[{'id': 11451, 'name': 'pok√©mon'}, {'id': 115...</td>\n",
       "      <td>[{'cast_id': 3, 'character': 'Tonio', 'credit_...</td>\n",
       "      <td>[{'credit_id': '52fe44e7c3a368484e03d683', 'de...</td>\n",
       "      <td>0</td>\n",
       "    </tr>\n",
       "  </tbody>\n",
       "</table>\n",
       "<p>2 rows × 23 columns</p>\n",
       "</div>"
      ],
      "text/plain": [
       "        id                              belongs_to_collection    budget  \\\n",
       "2999  3000                                                NaN  35000000   \n",
       "3000  3001  [{'id': 34055, 'name': 'Pokémon Collection', '...         0   \n",
       "\n",
       "                                                 genres  \\\n",
       "2999  [{'id': 53, 'name': 'Thriller'}, {'id': 28, 'n...   \n",
       "3000  [{'id': 12, 'name': 'Adventure'}, {'id': 16, '...   \n",
       "\n",
       "                                               homepage    imdb_id  \\\n",
       "2999                   http://www.abductionthefilm.com/  tt1600195   \n",
       "3000  http://www.pokemon.com/us/movies/movie-pokemon...  tt1226251   \n",
       "\n",
       "     original_language      original_title  \\\n",
       "2999                en           Abduction   \n",
       "3000                ja  ディアルガVSパルキアVSダークライ   \n",
       "\n",
       "                                               overview  popularity    ...     \\\n",
       "2999  A young man sets out to uncover the truth abou...   10.512109    ...      \n",
       "3000  Ash and friends (this time accompanied by newc...    3.851534    ...      \n",
       "\n",
       "     release_date runtime                                   spoken_languages  \\\n",
       "2999      9/22/11   106.0           [{'iso_639_1': 'en', 'name': 'English'}]   \n",
       "3000      7/14/07    90.0  [{'iso_639_1': 'en', 'name': 'English'}, {'iso...   \n",
       "\n",
       "        status                                            tagline  \\\n",
       "2999  Released          They stole his life. He's taking it back.   \n",
       "3000  Released  Somewhere Between Time & Space... A Legend Is ...   \n",
       "\n",
       "                             title  \\\n",
       "2999                     Abduction   \n",
       "3000  Pokémon: The Rise of Darkrai   \n",
       "\n",
       "                                               Keywords  \\\n",
       "2999  [{'id': 591, 'name': 'cia'}, {'id': 822, 'name...   \n",
       "3000  [{'id': 11451, 'name': 'pok√©mon'}, {'id': 115...   \n",
       "\n",
       "                                                   cast  \\\n",
       "2999  [{'cast_id': 2, 'character': 'Nathan Harper', ...   \n",
       "3000  [{'cast_id': 3, 'character': 'Tonio', 'credit_...   \n",
       "\n",
       "                                                   crew   revenue  \n",
       "2999  [{'credit_id': '5391990d0e0a260fb5001629', 'de...  82087155  \n",
       "3000  [{'credit_id': '52fe44e7c3a368484e03d683', 'de...         0  \n",
       "\n",
       "[2 rows x 23 columns]"
      ]
     },
     "execution_count": 2,
     "metadata": {},
     "output_type": "execute_result"
    }
   ],
   "source": [
    "test['revenue'] = 0\n",
    "\n",
    "all = pd.concat([train, test], ignore_index=True)\n",
    "print(all.shape)\n",
    "all.iloc[2999:3001]"
   ]
  },
  {
   "cell_type": "markdown",
   "metadata": {},
   "source": [
    "### 1) production_companies\n",
    "#### 전처리를 통해여 제작사의 개수를 구한다.\n",
    "####    \n",
    "#### 규칙은 제작사 1개당 ,(컴마)는 하나이다. 이는 이름과 id를 구분하기 위해서 쓰인다.\n",
    "#### 제작사가 2개일 경우는 제작사들끼리 구분하는 ,(컴마)가 하나 더 들어간다.\n",
    "#### 즉, 제작사의 개수가 1 - 2 - 3 - 4일 경우 ,(컴마)는 1 - 3 - 5 - 7 씩 늘어난다.(제작사 구분 ,(컴마) 하나와 id구분 ,(컴마) 하나 해서 둘씩 증가)"
   ]
  },
  {
   "cell_type": "code",
   "execution_count": null,
   "metadata": {},
   "outputs": [],
   "source": [
    "# ,(컴마)가 두 개부터는 아래 코드가 통하지만 하나일 경우 -1이 되어서 쓸 수 없고,  for문을 사용해야 한다. \n",
    "\n",
    "all['Num_of_pcom'] = all['production_companies'].count(',') - 2 "
   ]
  },
  {
   "cell_type": "code",
   "execution_count": 4,
   "metadata": {},
   "outputs": [
    {
     "data": {
      "text/plain": [
       "[\"[{'name': 'Paramount Pictures', 'id': 4}, {'name': 'United Artists', 'id': 60}, {'name': 'Metro-Goldwyn-Mayer (MGM)', 'id': 8411}]\",\n",
       " \"[{'name': 'Walt Disney Pictures', 'id': 2}]\",\n",
       " \"[{'name': 'Bold Films', 'id': 2266}, {'name': 'Blumhouse Productions', 'id': 3172}, {'name': 'Right of Way Films', 'id': 32157}]\",\n",
       " nan,\n",
       " nan,\n",
       " nan,\n",
       " \"[{'name': 'Ghost House Pictures', 'id': 768}, {'name': 'North Box Productions', 'id': 22637}]\",\n",
       " nan,\n",
       " \"[{'name': 'Walt Disney Pictures', 'id': 2}, {'name': 'Jim Henson Productions', 'id': 2504}, {'name': 'Jim Henson Company, The', 'id': 6254}]\",\n",
       " \"[{'name': 'Castle Rock Entertainment', 'id': 97}]\"]"
      ]
     },
     "execution_count": 4,
     "metadata": {},
     "output_type": "execute_result"
    }
   ],
   "source": [
    "apc = list(all['production_companies'])\n",
    "apc[0:10]"
   ]
  },
  {
   "cell_type": "code",
   "execution_count": 9,
   "metadata": {},
   "outputs": [
    {
     "name": "stdout",
     "output_type": "stream",
     "text": [
      "[{'name': 'Paramount Pictures', 'id': 4}, {'name': 'United Artists', 'id': 60}, {'name': 'Metro-Goldwyn-Mayer (MGM)', 'id': 8411}]\n",
      "\n",
      "5\n",
      "[{'name': 'Walt Disney Pictures', 'id': 2}]\n",
      "\n",
      "1\n",
      "[{'name': 'Bold Films', 'id': 2266}, {'name': 'Blumhouse Productions', 'id': 3172}, {'name': 'Right of Way Films', 'id': 32157}]\n",
      "\n",
      "5\n",
      "nan\n",
      "\n"
     ]
    },
    {
     "ename": "AttributeError",
     "evalue": "'float' object has no attribute 'count'",
     "output_type": "error",
     "traceback": [
      "\u001b[1;31m---------------------------------------------------------------------------\u001b[0m",
      "\u001b[1;31mAttributeError\u001b[0m                            Traceback (most recent call last)",
      "\u001b[1;32m<ipython-input-9-4410bdf5f46b>\u001b[0m in \u001b[0;36m<module>\u001b[1;34m()\u001b[0m\n\u001b[0;32m      2\u001b[0m     \u001b[0mprint\u001b[0m\u001b[1;33m(\u001b[0m\u001b[0mi\u001b[0m\u001b[1;33m)\u001b[0m\u001b[1;33m\u001b[0m\u001b[0m\n\u001b[0;32m      3\u001b[0m     \u001b[0mprint\u001b[0m\u001b[1;33m(\u001b[0m\u001b[1;34m\"\"\u001b[0m\u001b[1;33m)\u001b[0m\u001b[1;33m\u001b[0m\u001b[0m\n\u001b[1;32m----> 4\u001b[1;33m     \u001b[0mprint\u001b[0m\u001b[1;33m(\u001b[0m\u001b[0mi\u001b[0m\u001b[1;33m.\u001b[0m\u001b[0mcount\u001b[0m\u001b[1;33m(\u001b[0m\u001b[1;34m','\u001b[0m\u001b[1;33m)\u001b[0m\u001b[1;33m)\u001b[0m\u001b[1;33m\u001b[0m\u001b[0m\n\u001b[0m",
      "\u001b[1;31mAttributeError\u001b[0m: 'float' object has no attribute 'count'"
     ]
    }
   ],
   "source": [
    "for i in apc[0:5]:\n",
    "    print(i)\n",
    "    print(\"\")\n",
    "    print(i.count(','))"
   ]
  },
  {
   "cell_type": "code",
   "execution_count": 7,
   "metadata": {},
   "outputs": [
    {
     "data": {
      "text/plain": [
       "\"[{'name': 'Paramount Pictures', 'id': 4}, {'name': 'United Artists', 'id': 60}, {'name': 'Metro-Goldwyn-Mayer (MGM)', 'id': 8411}]\""
      ]
     },
     "execution_count": 7,
     "metadata": {},
     "output_type": "execute_result"
    }
   ],
   "source": [
    "apc[0]"
   ]
  },
  {
   "cell_type": "code",
   "execution_count": 8,
   "metadata": {},
   "outputs": [
    {
     "data": {
      "text/plain": [
       "5"
      ]
     },
     "execution_count": 8,
     "metadata": {},
     "output_type": "execute_result"
    }
   ],
   "source": [
    "apc[0].count(',')"
   ]
  },
  {
   "cell_type": "code",
   "execution_count": 10,
   "metadata": {},
   "outputs": [
    {
     "data": {
      "text/plain": [
       "nan"
      ]
     },
     "execution_count": 10,
     "metadata": {},
     "output_type": "execute_result"
    }
   ],
   "source": [
    "apc[4]"
   ]
  },
  {
   "cell_type": "code",
   "execution_count": 12,
   "metadata": {},
   "outputs": [
    {
     "data": {
      "text/html": [
       "<div>\n",
       "<style scoped>\n",
       "    .dataframe tbody tr th:only-of-type {\n",
       "        vertical-align: middle;\n",
       "    }\n",
       "\n",
       "    .dataframe tbody tr th {\n",
       "        vertical-align: top;\n",
       "    }\n",
       "\n",
       "    .dataframe thead th {\n",
       "        text-align: right;\n",
       "    }\n",
       "</style>\n",
       "<table border=\"1\" class=\"dataframe\">\n",
       "  <thead>\n",
       "    <tr style=\"text-align: right;\">\n",
       "      <th></th>\n",
       "      <th>production_companies</th>\n",
       "      <th>production_countries</th>\n",
       "      <th>spoken_languages</th>\n",
       "    </tr>\n",
       "  </thead>\n",
       "  <tbody>\n",
       "    <tr>\n",
       "      <th>0</th>\n",
       "      <td>[{'name': 'Paramount Pictures', 'id': 4}, {'na...</td>\n",
       "      <td>[{'iso_3166_1': 'US', 'name': 'United States o...</td>\n",
       "      <td>[{'iso_639_1': 'en', 'name': 'English'}]</td>\n",
       "    </tr>\n",
       "    <tr>\n",
       "      <th>1</th>\n",
       "      <td>[{'name': 'Walt Disney Pictures', 'id': 2}]</td>\n",
       "      <td>[{'iso_3166_1': 'US', 'name': 'United States o...</td>\n",
       "      <td>[{'iso_639_1': 'en', 'name': 'English'}]</td>\n",
       "    </tr>\n",
       "    <tr>\n",
       "      <th>2</th>\n",
       "      <td>[{'name': 'Bold Films', 'id': 2266}, {'name': ...</td>\n",
       "      <td>[{'iso_3166_1': 'US', 'name': 'United States o...</td>\n",
       "      <td>[{'iso_639_1': 'en', 'name': 'English'}]</td>\n",
       "    </tr>\n",
       "    <tr>\n",
       "      <th>3</th>\n",
       "      <td>NaN</td>\n",
       "      <td>[{'iso_3166_1': 'IN', 'name': 'India'}]</td>\n",
       "      <td>[{'iso_639_1': 'en', 'name': 'English'}, {'iso...</td>\n",
       "    </tr>\n",
       "    <tr>\n",
       "      <th>4</th>\n",
       "      <td>NaN</td>\n",
       "      <td>[{'iso_3166_1': 'KR', 'name': 'South Korea'}]</td>\n",
       "      <td>[{'iso_639_1': 'ko', 'name': '한국어/조선말'}]</td>\n",
       "    </tr>\n",
       "    <tr>\n",
       "      <th>5</th>\n",
       "      <td>NaN</td>\n",
       "      <td>NaN</td>\n",
       "      <td>[{'iso_639_1': 'en', 'name': 'English'}]</td>\n",
       "    </tr>\n",
       "    <tr>\n",
       "      <th>6</th>\n",
       "      <td>[{'name': 'Ghost House Pictures', 'id': 768}, ...</td>\n",
       "      <td>[{'iso_3166_1': 'US', 'name': 'United States o...</td>\n",
       "      <td>[{'iso_639_1': 'en', 'name': 'English'}]</td>\n",
       "    </tr>\n",
       "    <tr>\n",
       "      <th>7</th>\n",
       "      <td>NaN</td>\n",
       "      <td>NaN</td>\n",
       "      <td>[{'iso_639_1': 'ar', 'name': 'العربية'}, {'iso...</td>\n",
       "    </tr>\n",
       "    <tr>\n",
       "      <th>8</th>\n",
       "      <td>[{'name': 'Walt Disney Pictures', 'id': 2}, {'...</td>\n",
       "      <td>[{'iso_3166_1': 'US', 'name': 'United States o...</td>\n",
       "      <td>[{'iso_639_1': 'en', 'name': 'English'}]</td>\n",
       "    </tr>\n",
       "    <tr>\n",
       "      <th>9</th>\n",
       "      <td>[{'name': 'Castle Rock Entertainment', 'id': 97}]</td>\n",
       "      <td>[{'iso_3166_1': 'US', 'name': 'United States o...</td>\n",
       "      <td>[{'iso_639_1': 'en', 'name': 'English'}]</td>\n",
       "    </tr>\n",
       "  </tbody>\n",
       "</table>\n",
       "</div>"
      ],
      "text/plain": [
       "                                production_companies  \\\n",
       "0  [{'name': 'Paramount Pictures', 'id': 4}, {'na...   \n",
       "1        [{'name': 'Walt Disney Pictures', 'id': 2}]   \n",
       "2  [{'name': 'Bold Films', 'id': 2266}, {'name': ...   \n",
       "3                                                NaN   \n",
       "4                                                NaN   \n",
       "5                                                NaN   \n",
       "6  [{'name': 'Ghost House Pictures', 'id': 768}, ...   \n",
       "7                                                NaN   \n",
       "8  [{'name': 'Walt Disney Pictures', 'id': 2}, {'...   \n",
       "9  [{'name': 'Castle Rock Entertainment', 'id': 97}]   \n",
       "\n",
       "                                production_countries  \\\n",
       "0  [{'iso_3166_1': 'US', 'name': 'United States o...   \n",
       "1  [{'iso_3166_1': 'US', 'name': 'United States o...   \n",
       "2  [{'iso_3166_1': 'US', 'name': 'United States o...   \n",
       "3            [{'iso_3166_1': 'IN', 'name': 'India'}]   \n",
       "4      [{'iso_3166_1': 'KR', 'name': 'South Korea'}]   \n",
       "5                                                NaN   \n",
       "6  [{'iso_3166_1': 'US', 'name': 'United States o...   \n",
       "7                                                NaN   \n",
       "8  [{'iso_3166_1': 'US', 'name': 'United States o...   \n",
       "9  [{'iso_3166_1': 'US', 'name': 'United States o...   \n",
       "\n",
       "                                    spoken_languages  \n",
       "0           [{'iso_639_1': 'en', 'name': 'English'}]  \n",
       "1           [{'iso_639_1': 'en', 'name': 'English'}]  \n",
       "2           [{'iso_639_1': 'en', 'name': 'English'}]  \n",
       "3  [{'iso_639_1': 'en', 'name': 'English'}, {'iso...  \n",
       "4           [{'iso_639_1': 'ko', 'name': '한국어/조선말'}]  \n",
       "5           [{'iso_639_1': 'en', 'name': 'English'}]  \n",
       "6           [{'iso_639_1': 'en', 'name': 'English'}]  \n",
       "7  [{'iso_639_1': 'ar', 'name': 'العربية'}, {'iso...  \n",
       "8           [{'iso_639_1': 'en', 'name': 'English'}]  \n",
       "9           [{'iso_639_1': 'en', 'name': 'English'}]  "
      ]
     },
     "execution_count": 12,
     "metadata": {},
     "output_type": "execute_result"
    }
   ],
   "source": [
    "all[['production_companies', 'production_countries', 'spoken_languages']].head(10)"
   ]
  },
  {
   "cell_type": "markdown",
   "metadata": {},
   "source": [
    "### 우선은 결측치부터 처리"
   ]
  },
  {
   "cell_type": "code",
   "execution_count": 3,
   "metadata": {},
   "outputs": [
    {
     "name": "stdout",
     "output_type": "stream",
     "text": [
      "결측치\n",
      "production_companies :  414\n",
      "production_countries :  157\n",
      "spoken_languages     :  62\n"
     ]
    }
   ],
   "source": [
    "print('결측치')\n",
    "print('production_companies : ' , all['production_companies'].isnull().sum())\n",
    "print('production_countries : ' , all['production_countries'].isnull().sum())\n",
    "print('spoken_languages     : ' , all['spoken_languages'].isnull().sum())"
   ]
  },
  {
   "cell_type": "markdown",
   "metadata": {},
   "source": [
    "#### 1) production_companies"
   ]
  },
  {
   "cell_type": "code",
   "execution_count": 4,
   "metadata": {},
   "outputs": [
    {
     "data": {
      "text/plain": [
       "0    [{'name': 'Paramount Pictures', 'id': 4}, {'na...\n",
       "1          [{'name': 'Walt Disney Pictures', 'id': 2}]\n",
       "2    [{'name': 'Bold Films', 'id': 2266}, {'name': ...\n",
       "3                                                  NaN\n",
       "4                                                  NaN\n",
       "Name: production_companies, dtype: object"
      ]
     },
     "execution_count": 4,
     "metadata": {},
     "output_type": "execute_result"
    }
   ],
   "source": [
    "all['production_companies'][0:5]"
   ]
  },
  {
   "cell_type": "markdown",
   "metadata": {},
   "source": [
    "#### {'name': 'Bold Films', 'id': 2266} 형태로 결측치를 채워본다.\n",
    "#### [{'name': 'Unkwon', 'id' : 99999}]"
   ]
  },
  {
   "cell_type": "code",
   "execution_count": 14,
   "metadata": {},
   "outputs": [
    {
     "data": {
      "text/plain": [
       "0    [{'name': 'Paramount Pictures', 'id': 4}, {'na...\n",
       "1          [{'name': 'Walt Disney Pictures', 'id': 2}]\n",
       "2    [{'name': 'Bold Films', 'id': 2266}, {'name': ...\n",
       "3                    [{'name': 'Unkwon', 'id': 99999}]\n",
       "4                    [{'name': 'Unkwon', 'id': 99999}]\n",
       "Name: production_companies, dtype: object"
      ]
     },
     "execution_count": 14,
     "metadata": {},
     "output_type": "execute_result"
    }
   ],
   "source": [
    "unknown = str([{'name': 'Unkwon', 'id' : 99999}])\n",
    "all['production_companies'] = all['production_companies'].fillna(unknown)\n",
    "all['production_companies'][0:5]"
   ]
  },
  {
   "cell_type": "code",
   "execution_count": 15,
   "metadata": {},
   "outputs": [
    {
     "name": "stdout",
     "output_type": "stream",
     "text": [
      "production_companies :  0\n"
     ]
    }
   ],
   "source": [
    "print('production_companies : ' , all['production_companies'].isnull().sum())"
   ]
  },
  {
   "cell_type": "markdown",
   "metadata": {},
   "source": [
    "#### 2) production_countries"
   ]
  },
  {
   "cell_type": "code",
   "execution_count": 17,
   "metadata": {},
   "outputs": [
    {
     "data": {
      "text/plain": [
       "0    [{'iso_3166_1': 'US', 'name': 'United States o...\n",
       "1    [{'iso_3166_1': 'US', 'name': 'United States o...\n",
       "2    [{'iso_3166_1': 'US', 'name': 'United States o...\n",
       "3              [{'iso_3166_1': 'IN', 'name': 'India'}]\n",
       "4        [{'iso_3166_1': 'KR', 'name': 'South Korea'}]\n",
       "5                                                  NaN\n",
       "6    [{'iso_3166_1': 'US', 'name': 'United States o...\n",
       "7                                                  NaN\n",
       "8    [{'iso_3166_1': 'US', 'name': 'United States o...\n",
       "9    [{'iso_3166_1': 'US', 'name': 'United States o...\n",
       "Name: production_countries, dtype: object"
      ]
     },
     "execution_count": 17,
     "metadata": {},
     "output_type": "execute_result"
    }
   ],
   "source": [
    "all['production_countries'][0:10]"
   ]
  },
  {
   "cell_type": "code",
   "execution_count": 19,
   "metadata": {},
   "outputs": [
    {
     "data": {
      "text/plain": [
       "\"[{'iso_3166_1': 'US', 'name': 'United States of America'}]\""
      ]
     },
     "execution_count": 19,
     "metadata": {},
     "output_type": "execute_result"
    }
   ],
   "source": [
    "all['production_countries'][0]"
   ]
  },
  {
   "cell_type": "code",
   "execution_count": 20,
   "metadata": {},
   "outputs": [
    {
     "data": {
      "text/plain": [
       "\"[{'iso_3166_1': 'IN', 'name': 'India'}]\""
      ]
     },
     "execution_count": 20,
     "metadata": {},
     "output_type": "execute_result"
    }
   ],
   "source": [
    "all['production_countries'][3]"
   ]
  },
  {
   "cell_type": "code",
   "execution_count": 21,
   "metadata": {},
   "outputs": [
    {
     "data": {
      "text/plain": [
       "\"[{'iso_3166_1': 'KR', 'name': 'South Korea'}]\""
      ]
     },
     "execution_count": 21,
     "metadata": {},
     "output_type": "execute_result"
    }
   ],
   "source": [
    "all['production_countries'][4]"
   ]
  },
  {
   "cell_type": "code",
   "execution_count": 22,
   "metadata": {},
   "outputs": [
    {
     "data": {
      "text/plain": [
       "nan"
      ]
     },
     "execution_count": 22,
     "metadata": {},
     "output_type": "execute_result"
    }
   ],
   "source": [
    "all['production_countries'][5]"
   ]
  },
  {
   "cell_type": "code",
   "execution_count": 28,
   "metadata": {},
   "outputs": [
    {
     "data": {
      "text/plain": [
       "\"[{'iso_3166_1': 'DE', 'name': 'Germany'}, {'iso_3166_1': 'US', 'name': 'United States of America'}]\""
      ]
     },
     "execution_count": 28,
     "metadata": {},
     "output_type": "execute_result"
    }
   ],
   "source": [
    "all['production_countries'][70]"
   ]
  },
  {
   "cell_type": "code",
   "execution_count": 31,
   "metadata": {},
   "outputs": [
    {
     "data": {
      "text/plain": [
       "\"[{'iso_3166_1': 'AU', 'name': 'Australia'}, {'iso_3166_1': 'CN', 'name': 'China'}, {'iso_3166_1': 'DE', 'name': 'Germany'}]\""
      ]
     },
     "execution_count": 31,
     "metadata": {},
     "output_type": "execute_result"
    }
   ],
   "source": [
    "all['production_countries'][125]"
   ]
  },
  {
   "cell_type": "code",
   "execution_count": 32,
   "metadata": {},
   "outputs": [
    {
     "data": {
      "text/plain": [
       "0    [{'iso_3166_1': 'US', 'name': 'United States o...\n",
       "1    [{'iso_3166_1': 'US', 'name': 'United States o...\n",
       "2    [{'iso_3166_1': 'US', 'name': 'United States o...\n",
       "3              [{'iso_3166_1': 'IN', 'name': 'India'}]\n",
       "4        [{'iso_3166_1': 'KR', 'name': 'South Korea'}]\n",
       "5    [{'iso_3166_1': 'UC', 'name': 'Unknown_Contrie...\n",
       "6    [{'iso_3166_1': 'US', 'name': 'United States o...\n",
       "7    [{'iso_3166_1': 'UC', 'name': 'Unknown_Contrie...\n",
       "8    [{'iso_3166_1': 'US', 'name': 'United States o...\n",
       "9    [{'iso_3166_1': 'US', 'name': 'United States o...\n",
       "Name: production_countries, dtype: object"
      ]
     },
     "execution_count": 32,
     "metadata": {},
     "output_type": "execute_result"
    }
   ],
   "source": [
    "unknown = str([{'iso_3166_1': 'UC', 'name' : 'Unknown_Contries'}])\n",
    "# https://www.x2chi.com/366 에서 나라별 약어에 'UC(Unknown Contries)'가 없는 것을 확인함\n",
    "\n",
    "all['production_countries'] = all['production_countries'].fillna(unknown)\n",
    "all['production_countries'][0:10] "
   ]
  },
  {
   "cell_type": "markdown",
   "metadata": {},
   "source": [
    "#### 3) spoken_languages"
   ]
  },
  {
   "cell_type": "code",
   "execution_count": 33,
   "metadata": {},
   "outputs": [
    {
     "data": {
      "text/plain": [
       "0             [{'iso_639_1': 'en', 'name': 'English'}]\n",
       "1             [{'iso_639_1': 'en', 'name': 'English'}]\n",
       "2             [{'iso_639_1': 'en', 'name': 'English'}]\n",
       "3    [{'iso_639_1': 'en', 'name': 'English'}, {'iso...\n",
       "4             [{'iso_639_1': 'ko', 'name': '한국어/조선말'}]\n",
       "5             [{'iso_639_1': 'en', 'name': 'English'}]\n",
       "6             [{'iso_639_1': 'en', 'name': 'English'}]\n",
       "7    [{'iso_639_1': 'ar', 'name': 'العربية'}, {'iso...\n",
       "8             [{'iso_639_1': 'en', 'name': 'English'}]\n",
       "9             [{'iso_639_1': 'en', 'name': 'English'}]\n",
       "Name: spoken_languages, dtype: object"
      ]
     },
     "execution_count": 33,
     "metadata": {},
     "output_type": "execute_result"
    }
   ],
   "source": [
    "all['spoken_languages'][0:10]"
   ]
  },
  {
   "cell_type": "code",
   "execution_count": 42,
   "metadata": {},
   "outputs": [
    {
     "data": {
      "text/plain": [
       "1500    False\n",
       "1501    False\n",
       "1502    False\n",
       "1503     True\n",
       "1504    False\n",
       "1505    False\n",
       "1506    False\n",
       "1507    False\n",
       "1508    False\n",
       "1509    False\n",
       "1510    False\n",
       "1511    False\n",
       "1512    False\n",
       "1513    False\n",
       "1514    False\n",
       "1515    False\n",
       "1516    False\n",
       "1517    False\n",
       "1518    False\n",
       "1519    False\n",
       "Name: spoken_languages, dtype: bool"
      ]
     },
     "execution_count": 42,
     "metadata": {},
     "output_type": "execute_result"
    }
   ],
   "source": [
    "pd.isnull(all['spoken_languages'][1500:1520])  "
   ]
  },
  {
   "cell_type": "code",
   "execution_count": 43,
   "metadata": {},
   "outputs": [
    {
     "data": {
      "text/plain": [
       "1501             [{'iso_639_1': 'en', 'name': 'English'}]\n",
       "1502    [{'iso_639_1': 'en', 'name': 'English'}, {'iso...\n",
       "1503                                                  NaN\n",
       "1504             [{'iso_639_1': 'en', 'name': 'English'}]\n",
       "Name: spoken_languages, dtype: object"
      ]
     },
     "execution_count": 43,
     "metadata": {},
     "output_type": "execute_result"
    }
   ],
   "source": [
    "all['spoken_languages'][1501:1505]"
   ]
  },
  {
   "cell_type": "code",
   "execution_count": 44,
   "metadata": {},
   "outputs": [
    {
     "data": {
      "text/plain": [
       "1501             [{'iso_639_1': 'en', 'name': 'English'}]\n",
       "1502    [{'iso_639_1': 'en', 'name': 'English'}, {'iso...\n",
       "1503    [{'iso_639_1': 'UL', 'name': 'Unknown_Language'}]\n",
       "1504             [{'iso_639_1': 'en', 'name': 'English'}]\n",
       "1505             [{'iso_639_1': 'en', 'name': 'English'}]\n",
       "1506             [{'iso_639_1': 'en', 'name': 'English'}]\n",
       "1507    [{'iso_639_1': 'en', 'name': 'English'}, {'iso...\n",
       "1508             [{'iso_639_1': 'en', 'name': 'English'}]\n",
       "1509             [{'iso_639_1': 'en', 'name': 'English'}]\n",
       "Name: spoken_languages, dtype: object"
      ]
     },
     "execution_count": 44,
     "metadata": {},
     "output_type": "execute_result"
    }
   ],
   "source": [
    "unknown = str([{'iso_639_1': 'UL', 'name' : 'Unknown_Language'}])\n",
    "# https://m.blog.naver.com/PostView.nhn?blogId=rahayu&logNo=220691374831&proxyReferer=https%3A%2F%2Fwww.google.com%2F\n",
    "# 국가별 언어코드 참고, 'UL(Unknown language)'\n",
    "\n",
    "all['spoken_languages'] = all['spoken_languages'].fillna(unknown)\n",
    "all['spoken_languages'][1501:1510]"
   ]
  },
  {
   "cell_type": "markdown",
   "metadata": {},
   "source": [
    "#### 결측치 처리 확인"
   ]
  },
  {
   "cell_type": "code",
   "execution_count": 45,
   "metadata": {},
   "outputs": [
    {
     "name": "stdout",
     "output_type": "stream",
     "text": [
      "결측치 처리 후\n",
      "production_companies :  0\n",
      "production_countries :  0\n",
      "spoken_languages     :  0\n"
     ]
    }
   ],
   "source": [
    "print('결측치 처리 후')\n",
    "print('production_companies : ' , all['production_companies'].isnull().sum())\n",
    "print('production_countries : ' , all['production_countries'].isnull().sum())\n",
    "print('spoken_languages     : ' , all['spoken_languages'].isnull().sum())"
   ]
  },
  {
   "cell_type": "markdown",
   "metadata": {},
   "source": [
    "####   \n",
    "####   \n",
    "####   \n",
    "### 다시 production_companies 전처리"
   ]
  },
  {
   "cell_type": "markdown",
   "metadata": {},
   "source": [
    "#### 규칙은 제작사 1개당 ,(컴마)는 하나이다. 이는 이름과 id를 구분하기 위해서 쓰인다.\n",
    "#### 제작사가 2개일 경우는 제작사들끼리 구분하는 ,(컴마)가 하나 더 들어간다.\n",
    "#### 즉, 제작사의 개수가 1 - 2 - 3 - 4일 경우 ,(컴마)는 1 - 3 - 5 - 7 씩 늘어난다.(제작사 구분 ,(컴마) 하나와 id구분 ,(컴마) 하나 해서 둘씩 증가)"
   ]
  },
  {
   "cell_type": "code",
   "execution_count": null,
   "metadata": {},
   "outputs": [],
   "source": [
    "# ,(컴마)가 두 개부터는 아래 코드가 통하지만 하나일 경우 -1이 되어서 쓸 수 없고,  for문을 사용해야 한다. \n",
    "\n",
    "all['Num_of_pcom'] = all['production_companies'].count(',') - 2 "
   ]
  },
  {
   "cell_type": "code",
   "execution_count": 47,
   "metadata": {},
   "outputs": [
    {
     "name": "stdout",
     "output_type": "stream",
     "text": [
      "[{'name': 'Paramount Pictures', 'id': 4}, {'name': 'United Artists', 'id': 60}, {'name': 'Metro-Goldwyn-Mayer (MGM)', 'id': 8411}]\n",
      "\n",
      "5\n",
      "[{'name': 'Walt Disney Pictures', 'id': 2}]\n",
      "\n",
      "1\n",
      "[{'name': 'Bold Films', 'id': 2266}, {'name': 'Blumhouse Productions', 'id': 3172}, {'name': 'Right of Way Films', 'id': 32157}]\n",
      "\n",
      "5\n",
      "[{'name': 'Unkwon', 'id': 99999}]\n",
      "\n",
      "1\n",
      "[{'name': 'Unkwon', 'id': 99999}]\n",
      "\n",
      "1\n",
      "[{'name': 'Unkwon', 'id': 99999}]\n",
      "\n",
      "1\n",
      "[{'name': 'Ghost House Pictures', 'id': 768}, {'name': 'North Box Productions', 'id': 22637}]\n",
      "\n",
      "3\n",
      "[{'name': 'Unkwon', 'id': 99999}]\n",
      "\n",
      "1\n",
      "[{'name': 'Walt Disney Pictures', 'id': 2}, {'name': 'Jim Henson Productions', 'id': 2504}, {'name': 'Jim Henson Company, The', 'id': 6254}]\n",
      "\n",
      "6\n",
      "[{'name': 'Castle Rock Entertainment', 'id': 97}]\n",
      "\n",
      "1\n"
     ]
    }
   ],
   "source": [
    "apc = list(all['production_companies'])\n",
    "for i in apc[0:10]:\n",
    "    print(i)\n",
    "    print(\"\")\n",
    "    print(i.count(','))"
   ]
  },
  {
   "cell_type": "markdown",
   "metadata": {},
   "source": [
    "#### [{'name': 'Walt Disney Pictures', 'id': 2}, {'name': 'Jim Henson Productions', 'id': 2504}, {'name': 'Jim Henson Company, The', 'id': 6254}]\n",
    "#### 6\n",
    "#### 제목에 ,(컴마)가 있어서 다른 방법을 생각해야 한다."
   ]
  },
  {
   "cell_type": "code",
   "execution_count": null,
   "metadata": {},
   "outputs": [],
   "source": []
  }
 ],
 "metadata": {
  "kernelspec": {
   "display_name": "Python 3",
   "language": "python",
   "name": "python3"
  },
  "language_info": {
   "codemirror_mode": {
    "name": "ipython",
    "version": 3
   },
   "file_extension": ".py",
   "mimetype": "text/x-python",
   "name": "python",
   "nbconvert_exporter": "python",
   "pygments_lexer": "ipython3",
   "version": "3.6.5"
  }
 },
 "nbformat": 4,
 "nbformat_minor": 2
}
